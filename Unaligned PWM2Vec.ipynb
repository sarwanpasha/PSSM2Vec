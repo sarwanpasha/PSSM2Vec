{
 "cells": [
  {
   "cell_type": "code",
   "execution_count": 36,
   "metadata": {},
   "outputs": [
    {
     "name": "stdout",
     "output_type": "stream",
     "text": [
      "done\n"
     ]
    }
   ],
   "source": [
    "import numpy as np # linear algebra\n",
    "import pandas as pd # data processing, CSV file I/O (e.g. pd.read_csv)\n",
    "from sklearn.decomposition import TruncatedSVD\n",
    "import random\n",
    "# import seaborn as sns\n",
    "import os.path as path\n",
    "import os\n",
    "# import matplotlib\n",
    "# import matplotlib.font_manager\n",
    "# import matplotlib.pyplot as plt # graphs plotting\n",
    "# import Bio\n",
    "from Bio import SeqIO # some BioPython that will come in handy\n",
    "#matplotlib inline\n",
    "\n",
    "from itertools import cycle\n",
    "\n",
    "from sklearn import svm, datasets\n",
    "from sklearn.metrics import roc_curve, auc\n",
    "from sklearn.model_selection import train_test_split\n",
    "from sklearn.preprocessing import label_binarize\n",
    "from sklearn.multiclass import OneVsRestClassifier\n",
    "from scipy import interp\n",
    "from sklearn.metrics import roc_auc_score\n",
    "\n",
    "\n",
    "# from matplotlib import rc\n",
    "# # for Arial typefont\n",
    "# matplotlib.rcParams['font.family'] = 'Arial'\n",
    "\n",
    "from sklearn.model_selection import train_test_split\n",
    "from sklearn.linear_model import Lasso, LogisticRegression\n",
    "from sklearn.feature_selection import SelectFromModel\n",
    "from sklearn.preprocessing import StandardScaler\n",
    "\n",
    "from sklearn.datasets import load_iris\n",
    "from sklearn.model_selection import train_test_split\n",
    "from sklearn.naive_bayes import GaussianNB\n",
    "from sklearn import metrics\n",
    "from sklearn import svm\n",
    "\n",
    "from sklearn.datasets import load_iris\n",
    "from sklearn.model_selection import train_test_split\n",
    "from sklearn.naive_bayes import GaussianNB\n",
    "from sklearn import metrics\n",
    "\n",
    "import pandas as pd\n",
    "import sklearn\n",
    "from sklearn import preprocessing\n",
    "from sklearn.model_selection import train_test_split \n",
    "from sklearn.preprocessing import StandardScaler  \n",
    "from sklearn.neural_network import MLPClassifier \n",
    "from sklearn.metrics import classification_report, confusion_matrix \n",
    "\n",
    "from sklearn.neighbors import KNeighborsClassifier\n",
    "\n",
    "from sklearn.linear_model import LogisticRegression\n",
    "from sklearn.metrics import classification_report, confusion_matrix\n",
    "\n",
    "from pandas import DataFrame\n",
    "\n",
    "from sklearn.model_selection import KFold \n",
    "from sklearn.model_selection import RepeatedKFold\n",
    "\n",
    "from sklearn.metrics import confusion_matrix\n",
    "\n",
    "from numpy import mean\n",
    "\n",
    "import seaborn as sns\n",
    "\n",
    "import itertools\n",
    "from itertools import product\n",
    "\n",
    "import timeit\n",
    "\n",
    "import math\n",
    "\n",
    "print(\"done\")"
   ]
  },
  {
   "cell_type": "code",
   "execution_count": 37,
   "metadata": {},
   "outputs": [],
   "source": [
    "# seq_data = np.load(\"E:/RA/Host Classification/Dataset/ALIGNED_sequences.npy\",allow_pickle=True)\n",
    "seq_data = np.load(\"E:/RA/Host Classification/Dataset/unaligned_sequences.npy\",allow_pickle=True)\n",
    "attribute_data = np.load(\"E:/RA/Host Classification/Dataset/attributes.npy\",allow_pickle=True)"
   ]
  },
  {
   "cell_type": "code",
   "execution_count": 53,
   "metadata": {},
   "outputs": [
    {
     "data": {
      "text/plain": [
       "1271"
      ]
     },
     "execution_count": 53,
     "metadata": {},
     "output_type": "execute_result"
    }
   ],
   "source": [
    "len(seq_data[100])"
   ]
  },
  {
   "cell_type": "code",
   "execution_count": 38,
   "metadata": {},
   "outputs": [
    {
     "name": "stdout",
     "output_type": "stream",
     "text": [
      "A : 0.06557377049180328\n",
      "B : 0.0\n",
      "C : 0.03278688524590164\n",
      "D : 0.03278688524590164\n",
      "E : 0.03278688524590164\n",
      "F : 0.03278688524590164\n",
      "G : 0.06557377049180328\n",
      "H : 0.03278688524590164\n",
      "I : 0.04918032786885246\n",
      "J : 0.0\n",
      "K : 0.03278688524590164\n",
      "L : 0.09836065573770492\n",
      "M : 0.01639344262295082\n",
      "N : 0.03278688524590164\n",
      "O : 0.0\n",
      "P : 0.06557377049180328\n",
      "Q : 0.03278688524590164\n",
      "R : 0.09836065573770492\n",
      "S : 0.09836065573770492\n",
      "T : 0.06557377049180328\n",
      "U : 0.0\n",
      "V : 0.06557377049180328\n",
      "W : 0.01639344262295082\n",
      "X : 0.0\n",
      "Y : 0.03278688524590164\n",
      "Z : 0.0\n"
     ]
    }
   ],
   "source": [
    "def n(c) :\n",
    "\n",
    "    if c in 'MW' : return 1\n",
    "    if c in 'CFYHQNKDE' : return 2\n",
    "    if c == 'I' : return 3\n",
    "    if c in 'VPTAG' : return 4\n",
    "    if c in 'RLS' : return 6\n",
    "    else : return 0\n",
    "\n",
    "def p(c) :\n",
    "    return n(c) / 61\n",
    "\n",
    "# Test\n",
    "\n",
    "for c in 'ABCDEFGHIJKLMNOPQRSTUVWXYZ' :\n",
    "\n",
    "    print(c,':',p(c))"
   ]
  },
  {
   "cell_type": "markdown",
   "metadata": {},
   "source": [
    "# Unaligned PWM2Vec Logic"
   ]
  },
  {
   "cell_type": "code",
   "execution_count": 39,
   "metadata": {},
   "outputs": [
    {
     "name": "stdout",
     "output_type": "stream",
     "text": [
      "PWM Time :  908.1274658000002\n"
     ]
    }
   ],
   "source": [
    "# seq=\"ATGCGATATCGTAGGCGTCGATGGAGAGCTAGATCGATCGATCTAAATCCCGATCGATTCCGAGCGCGATCAAAGCGCGATAGGCTAGCTAAAGCTAGCAA\"\n",
    "\n",
    "start = timeit.default_timer()\n",
    "\n",
    "unique_seq_kmers_final_list = [''.join(c) for c in product('ACDEFGHIKLMNPQRSTVWY-', repeat=3)]  \n",
    "Kmer = 3\n",
    "\n",
    "final_feature_vector = []\n",
    "for ind_loop in range(len(seq_data)):\n",
    "#     print(\"Index :\",ind_loop,\"/\",len(seq_data))\n",
    "    seq = seq_data[ind_loop]\n",
    "    ################ Generate k-mers (Start) #########################\n",
    "    L = len(seq)\n",
    "    \n",
    "    k_mers_final = []\n",
    "    for i in range(0, L-Kmer+1):\n",
    "        sub_f=seq[i:i+Kmer]\n",
    "        k_mers_final.append(sub_f)\n",
    "    #     print(sub_f)\n",
    "\n",
    "    ################ Generate k-mers (end) #########################\n",
    "\n",
    "\n",
    "    ################ Generate PWM (Start) #########################\n",
    "    # To create a new txt file for writing \"EI_nine_pwm.txt\"\n",
    "    # Initialize the PWM with four rows and nine columns [i.e., 4 lists of zeros]\n",
    "    # a = [0]*9\n",
    "    # c = [0]*9\n",
    "    # g = [0]*9\n",
    "    # t = [0]*9\n",
    "\n",
    "    a_val = [0]*Kmer\n",
    "#     b_val = [0]*Kmer\n",
    "    c_val = [0]*Kmer\n",
    "    d_val = [0]*Kmer\n",
    "    e_val = [0]*Kmer\n",
    "    f_val = [0]*Kmer\n",
    "    g_val = [0]*Kmer\n",
    "    h_val = [0]*Kmer\n",
    "    i_val = [0]*Kmer\n",
    "#     j_val = [0]*Kmer\n",
    "    k_val = [0]*Kmer\n",
    "    l_val = [0]*Kmer\n",
    "    m_val = [0]*Kmer\n",
    "    n_val = [0]*Kmer\n",
    "    p_val = [0]*Kmer\n",
    "    q_val = [0]*Kmer\n",
    "    r_val = [0]*Kmer\n",
    "    s_val = [0]*Kmer\n",
    "    t_val = [0]*Kmer\n",
    "    v_val = [0]*Kmer\n",
    "    w_val = [0]*Kmer\n",
    "#     x_val = [0]*Kmer\n",
    "    y_val = [0]*Kmer\n",
    "#     z_val = [0]*Kmer\n",
    "\n",
    "\n",
    "    # input_file = open(\"E:/RA/Position Weight Matrix/Code/EI_nine.txt\",\"r\")   \n",
    "    count_lines = 0 # Initialize the total number of sequences to 0\n",
    "    # Read line by line, stripping the end of line character and\n",
    "    # updating the PWM with the frequencies of each base at the 9 positions\n",
    "    for ii in range(len(k_mers_final)):\n",
    "        line = k_mers_final[ii]\n",
    "        count_lines += 1 # Keep counting the sequences\n",
    "        for i in range(len(line)):\n",
    "            if line[i] == 'A':\n",
    "                a_val[i] = a_val[i]+1\n",
    "#             elif line[i] == 'B':\n",
    "#                 b_val[i] = b_val[i]+1\n",
    "            elif line[i] == 'C':\n",
    "                c_val[i] = c_val[i]+1\n",
    "            elif line[i] == 'D':\n",
    "                d_val[i] = d_val[i]+1\n",
    "            elif line[i] == 'E':\n",
    "                e_val[i] = e_val[i]+1\n",
    "            elif line[i] == 'F':\n",
    "                f_val[i] = f_val[i]+1\n",
    "            elif line[i] == 'G':\n",
    "                g_val[i] = g_val[i]+1       \n",
    "            elif line[i] == 'H':\n",
    "                h_val[i] = h_val[i]+1\n",
    "            elif line[i] == 'I':\n",
    "                i_val[i] = i_val[i]+1\n",
    "#             elif line[i] == 'J':\n",
    "#                 j_val[i] = j_val[i]+1\n",
    "            elif line[i] == 'K':\n",
    "                k_val[i] = k_val[i]+1\n",
    "            elif line[i] == 'L':\n",
    "                l_val[i] = l_val[i]+1\n",
    "            elif line[i] == 'M':\n",
    "                m_val[i] = m_val[i]+1\n",
    "            elif line[i] == 'N':\n",
    "                n_val[i] = n_val[i]+1\n",
    "            elif line[i] == 'P':\n",
    "                p_val[i] = p_val[i]+1\n",
    "            elif line[i] == 'Q':\n",
    "                q_val[i] = q_val[i]+1\n",
    "            elif line[i] == 'R':\n",
    "                r_val[i] = r_val[i]+1\n",
    "            elif line[i] == 'S':\n",
    "                s_val[i] = s_val[i]+1\n",
    "            elif line[i] == 'T':\n",
    "                t_val[i] = t_val[i]+1\n",
    "            elif line[i] == 'V':\n",
    "                v_val[i] = v_val[i]+1            \n",
    "            elif line[i] == 'W':\n",
    "                w_val[i] = w_val[i]+1\n",
    "#             elif line[i] == 'X':\n",
    "#                 x_val[i] = x_val[i]+1\n",
    "            elif line[i] == 'Y':\n",
    "                y_val[i] = y_val[i]+1\n",
    "#             elif line[i] == 'Z':\n",
    "#                 z_val[i] = z_val[i]+1\n",
    "    # Close the file\n",
    "    # input_file.close()\n",
    "\n",
    "    LaPlace_pseudocount = 0.1\n",
    "    equal_prob_nucleotide = 0.04\n",
    "    \n",
    "# A : 0.06557377049180328\n",
    "# B : 0.0\n",
    "# C : 0.03278688524590164\n",
    "# D : 0.03278688524590164\n",
    "# E : 0.03278688524590164\n",
    "# F : 0.03278688524590164\n",
    "# G : 0.06557377049180328\n",
    "# H : 0.03278688524590164\n",
    "# I : 0.04918032786885246\n",
    "# J : 0.0\n",
    "# K : 0.03278688524590164\n",
    "# L : 0.09836065573770492\n",
    "# M : 0.01639344262295082\n",
    "# N : 0.03278688524590164\n",
    "# # O : 0.0\n",
    "# P : 0.06557377049180328\n",
    "# Q : 0.03278688524590164\n",
    "# R : 0.09836065573770492\n",
    "# S : 0.09836065573770492\n",
    "# T : 0.06557377049180328\n",
    "# # U : 0.0\n",
    "# V : 0.06557377049180328\n",
    "# W : 0.01639344262295082\n",
    "# X : 0.0\n",
    "# # Y : 0.03278688524590164\n",
    "# # Z : 0.0\n",
    "\n",
    "    for i in range(len(k_mers_final[0])):\n",
    "\n",
    "        a_val[i] = round(math.log((a_val[i] + LaPlace_pseudocount)/(count_lines + 0.4)/0.06557377049180328,2),3)\n",
    "#         b_val[i] = round(math.log((b_val[i] + LaPlace_pseudocount)/(count_lines + 0.4)/0.0,2),3)\n",
    "        c_val[i] = round(math.log((c_val[i] + LaPlace_pseudocount)/(count_lines + 0.4)/0.03278688524590164,2),3)\n",
    "        d_val[i] = round(math.log((d_val[i] + LaPlace_pseudocount)/(count_lines + 0.4)/0.03278688524590164,2),3)\n",
    "        e_val[i] = round(math.log((e_val[i] + LaPlace_pseudocount)/(count_lines + 0.4)/0.03278688524590164,2),3)\n",
    "        f_val[i] = round(math.log((f_val[i] + LaPlace_pseudocount)/(count_lines + 0.4)/0.03278688524590164,2),3)\n",
    "        g_val[i] = round(math.log((g_val[i] + LaPlace_pseudocount)/(count_lines + 0.4)/0.06557377049180328,2),3)\n",
    "        h_val[i] = round(math.log((h_val[i] + LaPlace_pseudocount)/(count_lines + 0.4)/0.03278688524590164,2),3)\n",
    "        i_val[i] = round(math.log((i_val[i] + LaPlace_pseudocount)/(count_lines + 0.4)/0.04918032786885246,2),3)\n",
    "#         j_val[i] = round(math.log((j_val[i] + LaPlace_pseudocount)/(count_lines + 0.4)/0.0,2),3)\n",
    "        k_val[i] = round(math.log((k_val[i] + LaPlace_pseudocount)/(count_lines + 0.4)/0.03278688524590164,2),3)\n",
    "        l_val[i] = round(math.log((l_val[i] + LaPlace_pseudocount)/(count_lines + 0.4)/0.09836065573770492,2),3)\n",
    "        m_val[i] = round(math.log((m_val[i] + LaPlace_pseudocount)/(count_lines + 0.4)/0.01639344262295082,2),3)\n",
    "        n_val[i] = round(math.log((n_val[i] + LaPlace_pseudocount)/(count_lines + 0.4)/0.03278688524590164,2),3)\n",
    "        p_val[i] = round(math.log((p_val[i] + LaPlace_pseudocount)/(count_lines + 0.4)/0.06557377049180328,2),3)\n",
    "        q_val[i] = round(math.log((q_val[i] + LaPlace_pseudocount)/(count_lines + 0.4)/0.03278688524590164,2),3)\n",
    "        r_val[i] = round(math.log((r_val[i] + LaPlace_pseudocount)/(count_lines + 0.4)/0.09836065573770492,2),3)\n",
    "        s_val[i] = round(math.log((s_val[i] + LaPlace_pseudocount)/(count_lines + 0.4)/0.09836065573770492,2),3)\n",
    "        t_val[i] = round(math.log((t_val[i] + LaPlace_pseudocount)/(count_lines + 0.4)/0.06557377049180328,2),3)\n",
    "        v_val[i] = round(math.log((v_val[i] + LaPlace_pseudocount)/(count_lines + 0.4)/0.06557377049180328,2),3)\n",
    "        w_val[i] = round(math.log((w_val[i] + LaPlace_pseudocount)/(count_lines + 0.4)/0.01639344262295082,2),3)\n",
    "#         x_val[i] = round(math.log((x_val[i] + LaPlace_pseudocount)/(count_lines + 0.4)/0.0,2),3)\n",
    "        y_val[i] = round(math.log((y_val[i] + LaPlace_pseudocount)/(count_lines + 0.4)/0.03278688524590164,2),3)\n",
    "#         z_val[i] = round(math.log((z_val[i] + LaPlace_pseudocount)/(count_lines + 0.4)/0.0,2),3)\n",
    "\n",
    "    ################ Generate PWM (End) #########################\n",
    "\n",
    "    ################ Assign Individual k-mers Score (Start) #########################\n",
    "    each_k_mer_score = []\n",
    "    listofzeros = [0] * len(unique_seq_kmers_final_list)\n",
    "    for ii in range(len(k_mers_final)):\n",
    "        line = k_mers_final[ii]\n",
    "        score = 0\n",
    "        for i in range(len(line)):\n",
    "            if line[i] == 'A':\n",
    "                score += a_val[i]\n",
    "#             elif line[i] == 'B':\n",
    "#                 score +=  b_val[i]\n",
    "            elif line[i] == 'C':\n",
    "                score += c_val[i]\n",
    "            elif line[i] == 'D':\n",
    "                score += d_val[i]\n",
    "            elif line[i] == 'E':\n",
    "                score += e_val[i]\n",
    "            elif line[i] == 'F':\n",
    "                score += f_val[i]\n",
    "            elif line[i] == 'G':\n",
    "                score += g_val[i]       \n",
    "            elif line[i] == 'H':\n",
    "                score += h_val[i]\n",
    "            elif line[i] == 'I':\n",
    "                score += i_val[i]\n",
    "#             elif line[i] == 'J':\n",
    "#                 score += j_val[i]\n",
    "            elif line[i] == 'K':\n",
    "                score += k_val[i]\n",
    "            elif line[i] == 'L':\n",
    "                score += l_val[i]\n",
    "            elif line[i] == 'M':\n",
    "                score += m_val[i]\n",
    "            elif line[i] == 'N':\n",
    "                score += n_val[i]\n",
    "            elif line[i] == 'P':\n",
    "                score += p_val[i]\n",
    "            elif line[i] == 'Q':\n",
    "                score += q_val[i]\n",
    "            elif line[i] == 'R':\n",
    "                score += r_val[i]\n",
    "            elif line[i] == 'S':\n",
    "                score += s_val[i]\n",
    "            elif line[i] == 'T':\n",
    "                score += t_val[i]\n",
    "            elif line[i] == 'V':\n",
    "                score += v_val[i]            \n",
    "            elif line[i] == 'W':\n",
    "                score += w_val[i]\n",
    "#             elif line[i] == 'X':\n",
    "#                 score += x_val[i]\n",
    "            elif line[i] == 'Y':\n",
    "                score += y_val[i]\n",
    "#             elif line[i] == 'Z':\n",
    "#                 score += z_val[i]\n",
    "        # Write each input sequence followed by its score into the file\n",
    "        # \"EI_nine_output.txt\"\n",
    "        final_score_tmp = round(score, 3)\n",
    "        each_k_mer_score.append(final_score_tmp)\n",
    "        \n",
    "        ###################### assign weughted k-mers frequency score ###############\n",
    "        kmer_val_check = str(line)\n",
    "        aa_lst_1 = kmer_val_check.replace(\",\",\"\")\n",
    "        aa_lst_2 = aa_lst_1.replace(\"[\",\"\")\n",
    "        aa_lst_3 = aa_lst_2.replace(\"\\\"\",\"\")\n",
    "        aa_lst_4 = aa_lst_3.replace(\"]\",\"\")\n",
    "        aa_lst_5 = aa_lst_4.replace(\"'\",\"\")\n",
    "        aa_lst_6 = aa_lst_5.replace(\" \",\"\")\n",
    "    \n",
    "        if \"B\" in aa_lst_6 or \"J\" in aa_lst_6 or \"X\" in aa_lst_6 or \"Z\" in aa_lst_6:\n",
    "            aa_1 = aa_lst_6.replace(\"B\",\"-\")\n",
    "            aa_2 = aa_1.replace(\"J\",\"-\")\n",
    "            aa_3 = aa_2.replace(\"X\",\"-\")\n",
    "            aa_4 = aa_3.replace(\"Z\",\"-\")\n",
    "            ind_tmp = unique_seq_kmers_final_list.index(aa_4)\n",
    "        else:\n",
    "            ind_tmp = unique_seq_kmers_final_list.index(aa_lst_6)\n",
    "        listofzeros[ind_tmp] = listofzeros[ind_tmp] + (1 * final_score_tmp)\n",
    "        \n",
    "#     final_feature_vector.append(each_k_mer_score)\n",
    "    final_feature_vector.append(listofzeros)\n",
    "    ################ Assign Individual k-mers Score (end) #########################\n",
    "    \n",
    "stop = timeit.default_timer()\n",
    "print(\"PWM Time : \", stop - start)"
   ]
  },
  {
   "cell_type": "code",
   "execution_count": 40,
   "metadata": {},
   "outputs": [
    {
     "data": {
      "text/plain": [
       "23"
      ]
     },
     "execution_count": 40,
     "metadata": {},
     "output_type": "execute_result"
    }
   ],
   "source": [
    "host_names = attribute_data\n",
    "unique_hst = list(np.unique(host_names))\n",
    "len(unique_hst)"
   ]
  },
  {
   "cell_type": "code",
   "execution_count": 41,
   "metadata": {},
   "outputs": [
    {
     "name": "stdout",
     "output_type": "stream",
     "text": [
      "Attribute data preprocessing Done\n"
     ]
    }
   ],
   "source": [
    "int_hosts = []\n",
    "for ind_unique in range(len(host_names)):\n",
    "    variant_tmp = host_names[ind_unique]\n",
    "    ind_tmp = unique_hst.index(variant_tmp)\n",
    "    int_hosts.append(ind_tmp)\n",
    "    \n",
    "print(\"Attribute data preprocessing Done\")"
   ]
  },
  {
   "cell_type": "markdown",
   "metadata": {},
   "source": [
    "# Classification Functions"
   ]
  },
  {
   "cell_type": "code",
   "execution_count": 42,
   "metadata": {},
   "outputs": [],
   "source": [
    "# In[4]\n",
    "def roc_auc_score_multiclass(actual_class, pred_class, average = \"macro\"):\n",
    "\n",
    "    unique_class = set(actual_class)\n",
    "    roc_auc_dict = {}\n",
    "    for per_class in unique_class:\n",
    "        #creating a list of all the classes except the current class \n",
    "        other_class = [x for x in unique_class if x != per_class]\n",
    "\n",
    "        #marking the current class as 1 and all other classes as 0\n",
    "        new_actual_class = [0 if x in other_class else 1 for x in actual_class]\n",
    "        new_pred_class = [0 if x in other_class else 1 for x in pred_class]\n",
    "\n",
    "        #using the sklearn metrics method to calculate the roc_auc_score\n",
    "        roc_auc = roc_auc_score(new_actual_class, new_pred_class, average = average)\n",
    "        roc_auc_dict[per_class] = roc_auc\n",
    "    \n",
    "    \n",
    "    check = pd.DataFrame(roc_auc_dict.items())\n",
    "    return mean(check)\n",
    "\n",
    "def svm_fun_kernel(X_train,y_train,X_test,y_test,kernel_mat):\n",
    "\n",
    "#     clf = svm.SVC()\n",
    "    clf = svm.SVC(kernel=kernel_mat)\n",
    "    \n",
    "    #Train the model using the training sets\n",
    "    clf.fit(kernel_mat, y_train)\n",
    "\n",
    "    #Predict the response for test dataset\n",
    "    y_pred = clf.predict(X_test)\n",
    "    \n",
    "    svm_acc = metrics.accuracy_score(y_test, y_pred)\n",
    "#     print(\"SVM Accuracy:\",svm_acc)\n",
    "    \n",
    "    svm_prec = metrics.precision_score(y_test, y_pred,average='weighted')\n",
    "#     print(\"SVM Precision:\",svm_prec)\n",
    "    \n",
    "    svm_recall = metrics.recall_score(y_test, y_pred,average='weighted')\n",
    "#     print(\"SVM Recall:\",svm_recall)\n",
    "\n",
    "    svm_f1_weighted = metrics.f1_score(y_test, y_pred,average='weighted')\n",
    "#     print(\"SVM F1 Weighted:\",svm_f1_weighted)\n",
    "    \n",
    "    svm_f1_macro = metrics.f1_score(y_test, y_pred,average='macro')\n",
    "#     print(\"SVM F1 macro:\",svm_f1_macro)\n",
    "    \n",
    "    svm_f1_micro = metrics.f1_score(y_test, y_pred,average='micro')\n",
    "#     print(\"SVM F1 micro:\",svm_f1_micro)\n",
    "    \n",
    "    confuse = confusion_matrix(y_test, y_pred)\n",
    "#     print(\"Confusion Matrix SVM : \\n\", confuse)\n",
    "    print(\"SVM Kernel Class Wise Accuracy : \",confuse.diagonal()/confuse.sum(axis=1))\n",
    "    ######################## Compute ROC curve and ROC area for each class ################\n",
    "    y_prob = y_pred\n",
    "    macro_roc_auc_ovo = roc_auc_score_multiclass(y_test, y_prob, average='macro')\n",
    "#    print(macro_roc_auc_ovo[1])\n",
    "    check = [svm_acc,svm_prec,svm_recall,svm_f1_weighted,svm_f1_macro,svm_f1_micro,macro_roc_auc_ovo[1]]\n",
    "    return(check)\n",
    "    \n",
    "# In[5]\n",
    "##########################  SVM Classifier  ################################\n",
    "def svm_fun(X_train,y_train,X_test,y_test):\n",
    "    #Create a svm Classifier\n",
    "    clf = svm.SVC(kernel='linear') # Linear Kernel\n",
    "\n",
    "    #Train the model using the training sets\n",
    "    clf.fit(X_train, y_train)\n",
    "\n",
    "    #Predict the response for test dataset\n",
    "    y_pred = clf.predict(X_test)\n",
    "    \n",
    "    svm_acc = metrics.accuracy_score(y_test, y_pred)\n",
    "#     print(\"SVM Accuracy:\",svm_acc)\n",
    "    \n",
    "    svm_prec = metrics.precision_score(y_test, y_pred,average='weighted')\n",
    "#     print(\"SVM Precision:\",svm_prec)\n",
    "    \n",
    "    svm_recall = metrics.recall_score(y_test, y_pred,average='weighted')\n",
    "#     print(\"SVM Recall:\",svm_recall)\n",
    "\n",
    "    svm_f1_weighted = metrics.f1_score(y_test, y_pred,average='weighted')\n",
    "#     print(\"SVM F1 Weighted:\",svm_f1_weighted)\n",
    "    \n",
    "    svm_f1_macro = metrics.f1_score(y_test, y_pred,average='macro')\n",
    "#     print(\"SVM F1 macro:\",svm_f1_macro)\n",
    "    \n",
    "    svm_f1_micro = metrics.f1_score(y_test, y_pred,average='micro')\n",
    "#     print(\"SVM F1 micro:\",svm_f1_micro)\n",
    "    \n",
    "    confuse = confusion_matrix(y_test, y_pred)\n",
    "#     print(\"Confusion Matrix SVM : \\n\", confuse)\n",
    "    print(\"SVM Class Wise Accuracy : \",confuse.diagonal()/confuse.sum(axis=1))\n",
    "    ######################## Compute ROC curve and ROC area for each class ################\n",
    "    y_prob = y_pred\n",
    "    macro_roc_auc_ovo = roc_auc_score_multiclass(y_test, y_prob, average='macro')\n",
    "#    print(macro_roc_auc_ovo[1])\n",
    "    check = [svm_acc,svm_prec,svm_recall,svm_f1_weighted,svm_f1_macro,svm_f1_micro,macro_roc_auc_ovo[1]]\n",
    "    return(check)\n",
    "    \n",
    "\n",
    "\n",
    "# In[5]\n",
    "##########################  NB Classifier  ################################\n",
    "def gaus_nb_fun(X_train,y_train,X_test,y_test):\n",
    "    gnb = GaussianNB()\n",
    "    y_pred = gnb.fit(X_train, y_train).predict(X_test)\n",
    "\n",
    "\n",
    "    NB_acc = metrics.accuracy_score(y_test, y_pred)\n",
    "#     print(\"Gaussian NB Accuracy:\",NB_acc)\n",
    "\n",
    "    NB_prec = metrics.precision_score(y_test, y_pred,average='weighted')\n",
    "#     print(\"Gaussian NB Precision:\",NB_prec)\n",
    "    \n",
    "    NB_recall = metrics.recall_score(y_test, y_pred,average='weighted')\n",
    "#     print(\"Gaussian NB Recall:\",NB_recall)\n",
    "    \n",
    "    NB_f1_weighted = metrics.f1_score(y_test, y_pred,average='weighted')\n",
    "#     print(\"Gaussian NB F1 weighted:\",NB_f1_weighted)\n",
    "    \n",
    "    NB_f1_macro = metrics.f1_score(y_test, y_pred,average='macro')\n",
    "#     print(\"Gaussian NB F1 macro:\",NB_f1_macro)\n",
    "    \n",
    "    NB_f1_micro = metrics.f1_score(y_test, y_pred,average='micro')\n",
    "#     print(\"Gaussian NB F1 micro:\",NB_f1_micro)\n",
    "    \n",
    "    confuse = confusion_matrix(y_test, y_pred)\n",
    "#     print(\"Confusion Matrix NB : \\n\", confuse)\n",
    "    print(\"NB Class Wise Accuracy : \",confuse.diagonal()/confuse.sum(axis=1))\n",
    "    ######################## Compute ROC curve and ROC area for each class ################\n",
    "    y_prob = y_pred\n",
    "    macro_roc_auc_ovo = roc_auc_score_multiclass(y_test, y_prob, average='macro')\n",
    "    check = [NB_acc,NB_prec,NB_recall,NB_f1_weighted,NB_f1_macro,NB_f1_micro,macro_roc_auc_ovo[1]]\n",
    "    return(check)\n",
    "\n",
    "# In[5]\n",
    "##########################  MLP Classifier  ################################\n",
    "def mlp_fun(X_train,y_train,X_test,y_test):\n",
    "    # Feature scaling\n",
    "    scaler = StandardScaler()  \n",
    "    scaler.fit(X_train)\n",
    "    X_train = scaler.transform(X_train)  \n",
    "    X_test_2 = scaler.transform(X_test)\n",
    "\n",
    "\n",
    "    # Finally for the MLP- Multilayer Perceptron\n",
    "    mlp = MLPClassifier(hidden_layer_sizes=(10, 10, 10), max_iter=1000)  \n",
    "    mlp.fit(X_train, y_train)\n",
    "\n",
    "\n",
    "    y_pred = mlp.predict(X_test_2)\n",
    "    \n",
    "    MLP_acc = metrics.accuracy_score(y_test, y_pred)\n",
    "#     print(\"MLP Accuracy:\",MLP_acc)\n",
    "    \n",
    "    MLP_prec = metrics.precision_score(y_test, y_pred,average='weighted')\n",
    "#     print(\"MLP Precision:\",MLP_prec)\n",
    "    \n",
    "    MLP_recall = metrics.recall_score(y_test, y_pred,average='weighted')\n",
    "#     print(\"MLP Recall:\",MLP_recall)\n",
    "    \n",
    "    MLP_f1_weighted = metrics.f1_score(y_test, y_pred,average='weighted')\n",
    "#     print(\"MLP F1:\",MLP_f1_weighted)\n",
    "    \n",
    "    MLP_f1_macro = metrics.f1_score(y_test, y_pred,average='macro')\n",
    "#     print(\"MLP F1:\",MLP_f1_macro)\n",
    "    \n",
    "    MLP_f1_micro = metrics.f1_score(y_test, y_pred,average='micro')\n",
    "#     print(\"MLP F1:\",MLP_f1_micro)\n",
    "    \n",
    "    confuse = confusion_matrix(y_test, y_pred)\n",
    "#     print(\"Confusion Matrix MLP : \\n\", confuse)\n",
    "    print(\"MLP Class Wise Accuracy : \",confuse.diagonal()/confuse.sum(axis=1))\n",
    "    ######################## Compute ROC curve and ROC area for each class ################\n",
    "    y_prob = y_pred\n",
    "    macro_roc_auc_ovo = roc_auc_score_multiclass(y_test, y_prob, average='macro')\n",
    "    \n",
    "    check = [MLP_acc,MLP_prec,MLP_recall,MLP_f1_weighted,MLP_f1_macro,MLP_f1_micro,macro_roc_auc_ovo[1]]\n",
    "    return(check)\n",
    "\n",
    "# In[5]\n",
    "##########################  knn Classifier  ################################\n",
    "def knn_fun(X_train,y_train,X_test,y_test):\n",
    "    classifier = KNeighborsClassifier(n_neighbors=5)\n",
    "    classifier.fit(X_train, y_train)\n",
    "\n",
    "    y_pred = classifier.predict(X_test)\n",
    "\n",
    "    knn_acc = metrics.accuracy_score(y_test, y_pred)\n",
    "#     print(\"Knn Accuracy:\",knn_acc)\n",
    "    \n",
    "    knn_prec = metrics.precision_score(y_test, y_pred,average='weighted')\n",
    "#     print(\"Knn Precision:\",knn_prec)\n",
    "    \n",
    "    knn_recall = metrics.recall_score(y_test, y_pred,average='weighted')\n",
    "#     print(\"Knn Recall:\",knn_recall)\n",
    "    \n",
    "    knn_f1_weighted = metrics.f1_score(y_test, y_pred,average='weighted')\n",
    "#     print(\"Knn F1 weighted:\",knn_f1_weighted)\n",
    "    \n",
    "    knn_f1_macro = metrics.f1_score(y_test, y_pred,average='macro')\n",
    "#     print(\"Knn F1 macro:\",knn_f1_macro)\n",
    "    \n",
    "    knn_f1_micro = metrics.f1_score(y_test, y_pred,average='micro')\n",
    "#     print(\"Knn F1 micro:\",knn_f1_micro)\n",
    "    \n",
    "    confuse = confusion_matrix(y_test, y_pred)\n",
    "#     print(\"Confusion Matrix KNN : \\n\", confuse)\n",
    "    print(\"KNN Class Wise Accuracy : \",confuse.diagonal()/confuse.sum(axis=1))\n",
    "    ######################## Compute ROC curve and ROC area for each class ################\n",
    "    y_prob = y_pred\n",
    "    macro_roc_auc_ovo = roc_auc_score_multiclass(y_test, y_prob, average='macro')\n",
    "    \n",
    "    check = [knn_acc,knn_prec,knn_recall,knn_f1_weighted,knn_f1_macro,knn_f1_micro,macro_roc_auc_ovo[1]]\n",
    "    return(check)\n",
    "\n",
    "# In[5]\n",
    "##########################  Random Forest Classifier  ################################\n",
    "def rf_fun(X_train,y_train,X_test,y_test):\n",
    "    # Import the model we are using\n",
    "    from sklearn.ensemble import RandomForestClassifier\n",
    "    # Instantiate model with 1000 decision trees\n",
    "    rf = RandomForestClassifier(n_estimators = 100)\n",
    "    # Train the model on training data\n",
    "    rf.fit(X_train, y_train)\n",
    "    y_pred = rf.predict(X_test)\n",
    "\n",
    "    fr_acc = metrics.accuracy_score(y_test, y_pred)\n",
    "#     print(\"Random Forest Accuracy:\",fr_acc)\n",
    "    \n",
    "    fr_prec = metrics.precision_score(y_test, y_pred,average='weighted')\n",
    "#     print(\"Random Forest Precision:\",fr_prec)\n",
    "    \n",
    "    fr_recall = metrics.recall_score(y_test, y_pred,average='weighted')\n",
    "#     print(\"Random Forest Recall:\",fr_recall)\n",
    "    \n",
    "    fr_f1_weighted = metrics.f1_score(y_test, y_pred,average='weighted')\n",
    "#     print(\"Random Forest F1 weighted:\",fr_f1_weighted)\n",
    "    \n",
    "    fr_f1_macro = metrics.f1_score(y_test, y_pred,average='macro')\n",
    "#     print(\"Random Forest F1 macro:\",fr_f1_macro)\n",
    "    \n",
    "    fr_f1_micro = metrics.f1_score(y_test, y_pred,average='micro')\n",
    "#     print(\"Random Forest F1 micro:\",fr_f1_micro)\n",
    "    \n",
    "    confuse = confusion_matrix(y_test, y_pred)\n",
    "#     print(\"Confusion Matrix RF : \\n\", confuse)\n",
    "    print(\"RF Class Wise Accuracy : \",confuse.diagonal()/confuse.sum(axis=1))\n",
    "    ######################## Compute ROC curve and ROC area for each class ################\n",
    "    y_prob = y_pred\n",
    "    macro_roc_auc_ovo = roc_auc_score_multiclass(y_test, y_prob, average='macro')\n",
    "    \n",
    "    check = [fr_acc,fr_prec,fr_recall,fr_f1_weighted,fr_f1_macro,fr_f1_micro,macro_roc_auc_ovo[1]]\n",
    "    return(check)\n",
    "\n",
    "# In[5]\n",
    "    ##########################  Logistic Regression Classifier  ################################\n",
    "def lr_fun(X_train,y_train,X_test,y_test):\n",
    "\n",
    "    model = LogisticRegression(solver='liblinear', random_state=0)\n",
    "    model.fit(X_train, y_train)\n",
    "    y_pred = model.predict(X_test)\n",
    "\n",
    "    LR_acc = metrics.accuracy_score(y_test, y_pred)\n",
    "#     print(\"Logistic Regression Accuracy:\",LR_acc)\n",
    "    \n",
    "    LR_prec = metrics.precision_score(y_test, y_pred,average='weighted')\n",
    "#     print(\"Logistic Regression Precision:\",LR_prec)\n",
    "    \n",
    "    LR_recall = metrics.recall_score(y_test, y_pred,average='weighted')\n",
    "#     print(\"Logistic Regression Recall:\",LR_recall)\n",
    "    \n",
    "    LR_f1_weighted = metrics.f1_score(y_test, y_pred,average='weighted')\n",
    "#     print(\"Logistic Regression F1 weighted:\",LR_f1_weighted)\n",
    "    \n",
    "    LR_f1_macro = metrics.f1_score(y_test, y_pred,average='macro')\n",
    "#     print(\"Logistic Regression F1 macro:\",LR_f1_macro)\n",
    "    \n",
    "    LR_f1_micro = metrics.f1_score(y_test, y_pred,average='micro')\n",
    "#     print(\"Logistic Regression F1 micro:\",LR_f1_micro)\n",
    "    \n",
    "    confuse = confusion_matrix(y_test, y_pred)\n",
    "#     print(\"Confusion Matrix LR : \\n\", confuse)\n",
    "    print(\"LR Class Wise Accuracy : \",confuse.diagonal()/confuse.sum(axis=1))\n",
    "    ######################## Compute ROC curve and ROC area for each class ################\n",
    "    y_prob = y_pred\n",
    "    macro_roc_auc_ovo = roc_auc_score_multiclass(y_test, y_prob, average='macro')\n",
    "    \n",
    "    check = [LR_acc,LR_prec,LR_recall,LR_f1_weighted,LR_f1_macro,LR_f1_micro,macro_roc_auc_ovo[1]]\n",
    "    return(check)\n",
    "\n",
    "\n",
    "def fun_decision_tree(X_train,y_train,X_test,y_test):\n",
    "    from sklearn import tree\n",
    "    \n",
    "    clf = tree.DecisionTreeClassifier()    \n",
    "    clf = clf.fit(X_train, y_train)\n",
    "    y_pred = clf.predict(X_test)\n",
    "    \n",
    "    dt_acc = metrics.accuracy_score(y_test, y_pred)\n",
    "#     print(\"Logistic Regression Accuracy:\",LR_acc)\n",
    "    \n",
    "    dt_prec = metrics.precision_score(y_test, y_pred,average='weighted')\n",
    "#     print(\"Logistic Regression Precision:\",LR_prec)\n",
    "    \n",
    "    dt_recall = metrics.recall_score(y_test, y_pred,average='weighted')\n",
    "#     print(\"Logistic Regression Recall:\",LR_recall)\n",
    "    \n",
    "    dt_f1_weighted = metrics.f1_score(y_test, y_pred,average='weighted')\n",
    "#     print(\"Logistic Regression F1 weighted:\",LR_f1_weighted)\n",
    "    \n",
    "    dt_f1_macro = metrics.f1_score(y_test, y_pred,average='macro')\n",
    "#     print(\"Logistic Regression F1 macro:\",LR_f1_macro)\n",
    "    \n",
    "    dt_f1_micro = metrics.f1_score(y_test, y_pred,average='micro')\n",
    "#     print(\"Logistic Regression F1 micro:\",LR_f1_micro)\n",
    "    \n",
    "    confuse = confusion_matrix(y_test, y_pred)\n",
    "#     print(\"Confusion Matrix DT : \\n\", confuse)\n",
    "    print(\"DT Class Wise Accuracy : \",confuse.diagonal()/confuse.sum(axis=1))\n",
    "    ######################## Compute ROC curve and ROC area for each class ################\n",
    "    y_prob = y_pred\n",
    "    macro_roc_auc_ovo = roc_auc_score_multiclass(y_test, y_prob, average='macro')\n",
    "    \n",
    "    check = [dt_acc,dt_prec,dt_recall,dt_f1_weighted,dt_f1_macro,dt_f1_micro,macro_roc_auc_ovo[1]]\n",
    "    return(check)\n"
   ]
  },
  {
   "cell_type": "code",
   "execution_count": 43,
   "metadata": {},
   "outputs": [],
   "source": [
    "np.save(\"E:/RA/Position_Wright_Matrix/Dataset/PWM_unaligned_version_vector_unaligned_for_Host_Classification_Data_5558_seq.npy\",np.array(final_feature_vector))\n"
   ]
  },
  {
   "cell_type": "code",
   "execution_count": 46,
   "metadata": {},
   "outputs": [],
   "source": [
    "final_feature_vector = np.load(\"E:/RA/Position_Wright_Matrix/Dataset/PWM_unaligned_version_vector_unaligned_for_Host_Classification_Data_5558_seq.npy\")\n"
   ]
  },
  {
   "cell_type": "code",
   "execution_count": 47,
   "metadata": {},
   "outputs": [],
   "source": [
    "X = np.array(final_feature_vector)\n",
    "y = np.array(int_hosts)"
   ]
  },
  {
   "cell_type": "code",
   "execution_count": 48,
   "metadata": {},
   "outputs": [],
   "source": [
    "# print(\"Accuracy   Precision   Recall   F1 (weighted)   F1 (Macro)   F1 (Micro)   ROC AUC\")\n",
    "svm_table = []\n",
    "gauu_nb_table = []\n",
    "mlp_table = []\n",
    "knn_table = []\n",
    "rf_table = []\n",
    "lr_table = []\n",
    "dt_table = []\n",
    "\n",
    "\n",
    "from sklearn.model_selection import ShuffleSplit # or StratifiedShuffleSplit\n",
    "sss = ShuffleSplit(n_splits=1, test_size=0.3)\n",
    "sss.get_n_splits(X, y)\n",
    "train_index, test_index = next(sss.split(X, y)) \n",
    "\n",
    "X_train, X_test = X[train_index], X[test_index]\n",
    "y_train, y_test = y[train_index], y[test_index]"
   ]
  },
  {
   "cell_type": "code",
   "execution_count": 49,
   "metadata": {},
   "outputs": [
    {
     "name": "stderr",
     "output_type": "stream",
     "text": [
      "C:\\Users\\sali85\\Anaconda3\\lib\\site-packages\\sklearn\\metrics\\_classification.py:1221: UndefinedMetricWarning: Precision is ill-defined and being set to 0.0 in labels with no predicted samples. Use `zero_division` parameter to control this behavior.\n",
      "  _warn_prf(average, modifier, msg_start, len(result))\n"
     ]
    },
    {
     "name": "stdout",
     "output_type": "stream",
     "text": [
      "NB Class Wise Accuracy :  [1.         0.95       0.33333333 0.96296296 0.95744681 0.11111111\n",
      " 0.13333333 1.         0.89164087 0.         0.57142857 0.24304267\n",
      " 0.         0.53846154 0.85714286 0.96045198 0.         0.84697509]\n",
      "NB Time :  6.193123500001093\n"
     ]
    },
    {
     "name": "stderr",
     "output_type": "stream",
     "text": [
      "C:\\Users\\sali85\\Anaconda3\\lib\\site-packages\\sklearn\\metrics\\_classification.py:1221: UndefinedMetricWarning: Precision is ill-defined and being set to 0.0 in labels with no predicted samples. Use `zero_division` parameter to control this behavior.\n",
      "  _warn_prf(average, modifier, msg_start, len(result))\n",
      "C:\\Users\\sali85\\Anaconda3\\lib\\site-packages\\sklearn\\metrics\\_classification.py:1221: UndefinedMetricWarning: Recall is ill-defined and being set to 0.0 in labels with no true samples. Use `zero_division` parameter to control this behavior.\n",
      "  _warn_prf(average, modifier, msg_start, len(result))\n",
      "<ipython-input-42-273c3866d82e>:174: RuntimeWarning: invalid value encountered in true_divide\n",
      "  print(\"MLP Class Wise Accuracy : \",confuse.diagonal()/confuse.sum(axis=1))\n"
     ]
    },
    {
     "name": "stdout",
     "output_type": "stream",
     "text": [
      "MLP Class Wise Accuracy :  [0.96       0.96       0.33333333 1.                nan 0.94680851\n",
      " 0.11111111 0.23333333        nan 1.         0.59442724 0.\n",
      " 0.71428571 0.90723562 0.         1.         0.85714286 0.99435028\n",
      " 0.         0.77580071]\n",
      "MLP Time :  32.8280296999983\n"
     ]
    },
    {
     "name": "stderr",
     "output_type": "stream",
     "text": [
      "C:\\Users\\sali85\\Anaconda3\\lib\\site-packages\\sklearn\\metrics\\_classification.py:1221: UndefinedMetricWarning: Precision is ill-defined and being set to 0.0 in labels with no predicted samples. Use `zero_division` parameter to control this behavior.\n",
      "  _warn_prf(average, modifier, msg_start, len(result))\n"
     ]
    },
    {
     "name": "stdout",
     "output_type": "stream",
     "text": [
      "KNN Class Wise Accuracy :  [0.92       0.96       0.33333333 1.         0.95744681 0.\n",
      " 0.2        1.         0.6996904  0.         0.71428571 0.79777365\n",
      " 0.         0.15384615 0.85714286 0.99435028 0.         0.76156584]\n",
      "KNN Time :  46.85695230000056\n"
     ]
    },
    {
     "name": "stderr",
     "output_type": "stream",
     "text": [
      "C:\\Users\\sali85\\Anaconda3\\lib\\site-packages\\sklearn\\metrics\\_classification.py:1221: UndefinedMetricWarning: Precision is ill-defined and being set to 0.0 in labels with no predicted samples. Use `zero_division` parameter to control this behavior.\n",
      "  _warn_prf(average, modifier, msg_start, len(result))\n"
     ]
    },
    {
     "name": "stdout",
     "output_type": "stream",
     "text": [
      "RF Class Wise Accuracy :  [0.98       0.98       0.33333333 1.         0.95744681 0.11111111\n",
      " 0.2        1.         0.62848297 1.         0.71428571 0.89239332\n",
      " 0.         0.92307692 1.         0.99435028 0.         0.76868327]\n",
      "RF Time :  11.708734499999991\n"
     ]
    },
    {
     "name": "stderr",
     "output_type": "stream",
     "text": [
      "C:\\Users\\sali85\\Anaconda3\\lib\\site-packages\\sklearn\\metrics\\_classification.py:1221: UndefinedMetricWarning: Precision is ill-defined and being set to 0.0 in labels with no predicted samples. Use `zero_division` parameter to control this behavior.\n",
      "  _warn_prf(average, modifier, msg_start, len(result))\n"
     ]
    },
    {
     "name": "stdout",
     "output_type": "stream",
     "text": [
      "LR Class Wise Accuracy :  [0.98       1.         0.33333333 1.         0.95744681 0.11111111\n",
      " 0.26666667 1.         0.61919505 1.         0.71428571 0.88311688\n",
      " 0.         0.92307692 1.         0.99435028 0.         0.84341637]\n",
      "LR Time :  33.09803610000017\n"
     ]
    },
    {
     "name": "stderr",
     "output_type": "stream",
     "text": [
      "C:\\Users\\sali85\\Anaconda3\\lib\\site-packages\\sklearn\\metrics\\_classification.py:1221: UndefinedMetricWarning: Precision is ill-defined and being set to 0.0 in labels with no predicted samples. Use `zero_division` parameter to control this behavior.\n",
      "  _warn_prf(average, modifier, msg_start, len(result))\n",
      "C:\\Users\\sali85\\Anaconda3\\lib\\site-packages\\sklearn\\metrics\\_classification.py:1221: UndefinedMetricWarning: Recall is ill-defined and being set to 0.0 in labels with no true samples. Use `zero_division` parameter to control this behavior.\n",
      "  _warn_prf(average, modifier, msg_start, len(result))\n",
      "<ipython-input-42-273c3866d82e>:321: RuntimeWarning: invalid value encountered in true_divide\n",
      "  print(\"DT Class Wise Accuracy : \",confuse.diagonal()/confuse.sum(axis=1))\n"
     ]
    },
    {
     "name": "stdout",
     "output_type": "stream",
     "text": [
      "DT Class Wise Accuracy :  [0.88       0.92       0.33333333 1.         0.94680851 0.11111111\n",
      " 0.2        1.         0.64396285 0.75       0.57142857 0.86827458\n",
      " 0.         0.76923077        nan 0.71428571 0.98870056 0.\n",
      " 0.75800712]\n",
      "DT Time :  5.791666400000395\n",
      "SVM Class Wise Accuracy :  [0.98       1.         0.33333333 1.         0.95744681 0.11111111\n",
      " 0.26666667 1.         0.53869969 1.         0.71428571 0.87569573\n",
      " 0.         0.92307692 1.         0.99435028 0.         0.82562278]\n",
      "SVM Time :  129.32434510000166\n"
     ]
    },
    {
     "name": "stderr",
     "output_type": "stream",
     "text": [
      "C:\\Users\\sali85\\Anaconda3\\lib\\site-packages\\sklearn\\metrics\\_classification.py:1221: UndefinedMetricWarning: Precision is ill-defined and being set to 0.0 in labels with no predicted samples. Use `zero_division` parameter to control this behavior.\n",
      "  _warn_prf(average, modifier, msg_start, len(result))\n"
     ]
    }
   ],
   "source": [
    "import timeit\n",
    "\n",
    "start = timeit.default_timer()\n",
    "gauu_nb_return = gaus_nb_fun(X_train,y_train,X_test,y_test)\n",
    "stop = timeit.default_timer()\n",
    "print(\"NB Time : \", stop - start) \n",
    "\n",
    "start = timeit.default_timer()\n",
    "mlp_return = mlp_fun(X_train,y_train,X_test,y_test)\n",
    "stop = timeit.default_timer()\n",
    "print(\"MLP Time : \", stop - start) \n",
    "\n",
    "start = timeit.default_timer()\n",
    "knn_return = knn_fun(X_train,y_train,X_test,y_test)\n",
    "stop = timeit.default_timer()\n",
    "print(\"KNN Time : \", stop - start) \n",
    "\n",
    "start = timeit.default_timer()\n",
    "rf_return = rf_fun(X_train,y_train,X_test,y_test)\n",
    "stop = timeit.default_timer()\n",
    "print(\"RF Time : \", stop - start) \n",
    "\n",
    "start = timeit.default_timer()\n",
    "lr_return = lr_fun(X_train,y_train,X_test,y_test)\n",
    "stop = timeit.default_timer()\n",
    "print(\"LR Time : \", stop - start) \n",
    "\n",
    "start = timeit.default_timer()\n",
    "dt_return = fun_decision_tree(X_train,y_train,X_test,y_test)\n",
    "stop = timeit.default_timer()\n",
    "print(\"DT Time : \", stop - start) \n",
    "\n",
    "start = timeit.default_timer()\n",
    "svm_return = svm_fun(X_train,y_train,X_test,y_test)\n",
    "stop = timeit.default_timer()\n",
    "print(\"SVM Time : \", stop - start) \n",
    "\n",
    "gauu_nb_table.append(gauu_nb_return)\n",
    "mlp_table.append(mlp_return)\n",
    "knn_table.append(knn_return)\n",
    "rf_table.append(rf_return)\n",
    "lr_table.append(lr_return)\n",
    "dt_table.append(dt_return)\n",
    "svm_table.append(svm_return)\n",
    "     \n",
    "svm_table_final = DataFrame(svm_table, columns=[\"Accuracy\",\"Precision\",\"Recall\",\n",
    "                                                \"F1 (weighted)\",\"F1 (Macro)\",\"F1 (Micro)\",\"ROC AUC\"])\n",
    "gauu_nb_table_final = DataFrame(gauu_nb_table, columns=[\"Accuracy\",\"Precision\",\"Recall\",\n",
    "                                                \"F1 (weighted)\",\"F1 (Macro)\",\"F1 (Micro)\",\"ROC AUC\"])\n",
    "mlp_table_final = DataFrame(mlp_table, columns=[\"Accuracy\",\"Precision\",\"Recall\",\n",
    "                                                \"F1 (weighted)\",\"F1 (Macro)\",\"F1 (Micro)\",\"ROC AUC\"])\n",
    "knn_table_final = DataFrame(knn_table, columns=[\"Accuracy\",\"Precision\",\"Recall\",\n",
    "                                                \"F1 (weighted)\",\"F1 (Macro)\",\"F1 (Micro)\",\"ROC AUC\"])\n",
    "rf_table_final = DataFrame(rf_table, columns=[\"Accuracy\",\"Precision\",\"Recall\",\n",
    "                                                \"F1 (weighted)\",\"F1 (Macro)\",\"F1 (Micro)\",\"ROC AUC\"])\n",
    "lr_table_final = DataFrame(lr_table, columns=[\"Accuracy\",\"Precision\",\"Recall\",\n",
    "                                                \"F1 (weighted)\",\"F1 (Macro)\",\"F1 (Micro)\",\"ROC AUC\"])\n",
    "\n",
    "dt_table_final = DataFrame(dt_table, columns=[\"Accuracy\",\"Precision\",\"Recall\",\n",
    "                                                \"F1 (weighted)\",\"F1 (Macro)\",\"F1 (Micro)\",\"ROC AUC\"])\n"
   ]
  },
  {
   "cell_type": "code",
   "execution_count": 50,
   "metadata": {},
   "outputs": [
    {
     "data": {
      "text/html": [
       "<div>\n",
       "<style scoped>\n",
       "    .dataframe tbody tr th:only-of-type {\n",
       "        vertical-align: middle;\n",
       "    }\n",
       "\n",
       "    .dataframe tbody tr th {\n",
       "        vertical-align: top;\n",
       "    }\n",
       "\n",
       "    .dataframe thead th {\n",
       "        text-align: right;\n",
       "    }\n",
       "</style>\n",
       "<table border=\"1\" class=\"dataframe\">\n",
       "  <thead>\n",
       "    <tr style=\"text-align: right;\">\n",
       "      <th></th>\n",
       "      <th>Accuracy</th>\n",
       "      <th>Precision</th>\n",
       "      <th>Recall</th>\n",
       "      <th>F1 (weighted)</th>\n",
       "      <th>F1 (Macro)</th>\n",
       "      <th>F1 (Micro)</th>\n",
       "      <th>ROC AUC</th>\n",
       "    </tr>\n",
       "  </thead>\n",
       "  <tbody>\n",
       "    <tr>\n",
       "      <th>SVM</th>\n",
       "      <td>0.815348</td>\n",
       "      <td>0.823322</td>\n",
       "      <td>0.815348</td>\n",
       "      <td>0.809932</td>\n",
       "      <td>0.712728</td>\n",
       "      <td>0.815348</td>\n",
       "      <td>0.840807</td>\n",
       "    </tr>\n",
       "    <tr>\n",
       "      <th>NB</th>\n",
       "      <td>0.667266</td>\n",
       "      <td>0.740105</td>\n",
       "      <td>0.667266</td>\n",
       "      <td>0.643147</td>\n",
       "      <td>0.575957</td>\n",
       "      <td>0.667266</td>\n",
       "      <td>0.776515</td>\n",
       "    </tr>\n",
       "    <tr>\n",
       "      <th>MLP</th>\n",
       "      <td>0.821343</td>\n",
       "      <td>0.835879</td>\n",
       "      <td>0.821343</td>\n",
       "      <td>0.815144</td>\n",
       "      <td>0.568324</td>\n",
       "      <td>0.821343</td>\n",
       "      <td>0.809215</td>\n",
       "    </tr>\n",
       "    <tr>\n",
       "      <th>KNN</th>\n",
       "      <td>0.795564</td>\n",
       "      <td>0.802061</td>\n",
       "      <td>0.795564</td>\n",
       "      <td>0.793836</td>\n",
       "      <td>0.585948</td>\n",
       "      <td>0.795564</td>\n",
       "      <td>0.780025</td>\n",
       "    </tr>\n",
       "    <tr>\n",
       "      <th>RF</th>\n",
       "      <td>0.826139</td>\n",
       "      <td>0.833190</td>\n",
       "      <td>0.826139</td>\n",
       "      <td>0.820280</td>\n",
       "      <td>0.717540</td>\n",
       "      <td>0.826139</td>\n",
       "      <td>0.840049</td>\n",
       "    </tr>\n",
       "    <tr>\n",
       "      <th>LR</th>\n",
       "      <td>0.836331</td>\n",
       "      <td>0.842051</td>\n",
       "      <td>0.836331</td>\n",
       "      <td>0.830602</td>\n",
       "      <td>0.724999</td>\n",
       "      <td>0.836331</td>\n",
       "      <td>0.844439</td>\n",
       "    </tr>\n",
       "    <tr>\n",
       "      <th>DT</th>\n",
       "      <td>0.808153</td>\n",
       "      <td>0.815440</td>\n",
       "      <td>0.808153</td>\n",
       "      <td>0.806248</td>\n",
       "      <td>0.614201</td>\n",
       "      <td>0.808153</td>\n",
       "      <td>0.811326</td>\n",
       "    </tr>\n",
       "  </tbody>\n",
       "</table>\n",
       "</div>"
      ],
      "text/plain": [
       "     Accuracy  Precision    Recall  F1 (weighted)  F1 (Macro)  F1 (Micro)  \\\n",
       "SVM  0.815348   0.823322  0.815348       0.809932    0.712728    0.815348   \n",
       "NB   0.667266   0.740105  0.667266       0.643147    0.575957    0.667266   \n",
       "MLP  0.821343   0.835879  0.821343       0.815144    0.568324    0.821343   \n",
       "KNN  0.795564   0.802061  0.795564       0.793836    0.585948    0.795564   \n",
       "RF   0.826139   0.833190  0.826139       0.820280    0.717540    0.826139   \n",
       "LR   0.836331   0.842051  0.836331       0.830602    0.724999    0.836331   \n",
       "DT   0.808153   0.815440  0.808153       0.806248    0.614201    0.808153   \n",
       "\n",
       "      ROC AUC  \n",
       "SVM  0.840807  \n",
       "NB   0.776515  \n",
       "MLP  0.809215  \n",
       "KNN  0.780025  \n",
       "RF   0.840049  \n",
       "LR   0.844439  \n",
       "DT   0.811326  "
      ]
     },
     "execution_count": 50,
     "metadata": {},
     "output_type": "execute_result"
    }
   ],
   "source": [
    "#taking average of all k-fold performance values\n",
    "final_mean_mat = []\n",
    "\n",
    "final_mean_mat.append(np.transpose((list(svm_table_final.mean()))))\n",
    "final_mean_mat.append(np.transpose((list(gauu_nb_table_final.mean()))))\n",
    "final_mean_mat.append(np.transpose((list(mlp_table_final.mean()))))\n",
    "final_mean_mat.append(np.transpose((list(knn_table_final.mean()))))\n",
    "final_mean_mat.append(np.transpose((list(rf_table_final.mean()))))\n",
    "final_mean_mat.append(np.transpose((list(lr_table_final.mean()))))\n",
    "final_mean_mat.append(np.transpose((list(dt_table_final.mean()))))\n",
    "\n",
    "final_avg_mat = DataFrame(final_mean_mat,columns=[\"Accuracy\",\"Precision\",\"Recall\",\n",
    "                                                \"F1 (weighted)\",\"F1 (Macro)\",\"F1 (Micro)\",\"ROC AUC\"], \n",
    "                          index=[\"SVM\",\"NB\",\"MLP\",\"KNN\",\"RF\",\"LR\",\"DT\"])\n",
    "\n",
    "final_avg_mat"
   ]
  },
  {
   "cell_type": "code",
   "execution_count": null,
   "metadata": {},
   "outputs": [],
   "source": []
  },
  {
   "cell_type": "code",
   "execution_count": null,
   "metadata": {},
   "outputs": [
    {
     "name": "stderr",
     "output_type": "stream",
     "text": [
      "C:\\Users\\sali85\\Anaconda3\\lib\\site-packages\\sklearn\\metrics\\_classification.py:1221: UndefinedMetricWarning: Precision is ill-defined and being set to 0.0 in labels with no predicted samples. Use `zero_division` parameter to control this behavior.\n",
      "  _warn_prf(average, modifier, msg_start, len(result))\n",
      "C:\\Users\\sali85\\Anaconda3\\lib\\site-packages\\sklearn\\metrics\\_classification.py:1221: UndefinedMetricWarning: Recall is ill-defined and being set to 0.0 in labels with no true samples. Use `zero_division` parameter to control this behavior.\n",
      "  _warn_prf(average, modifier, msg_start, len(result))\n",
      "<ipython-input-42-273c3866d82e>:130: RuntimeWarning: invalid value encountered in true_divide\n",
      "  print(\"NB Class Wise Accuracy : \",confuse.diagonal()/confuse.sum(axis=1))\n"
     ]
    },
    {
     "name": "stdout",
     "output_type": "stream",
     "text": [
      "NB Class Wise Accuracy :  [1.         0.99019608 0.         1.         0.         0.96103896\n",
      " 0.1        0.14583333 0.         1.         0.78637771 1.\n",
      " 0.         0.4        0.26497278        nan 1.         0.625\n",
      " 0.97633136        nan 0.8277027 ]\n",
      "NB Time :  5.463613800002349\n"
     ]
    },
    {
     "name": "stderr",
     "output_type": "stream",
     "text": [
      "C:\\Users\\sali85\\Anaconda3\\lib\\site-packages\\sklearn\\metrics\\_classification.py:1221: UndefinedMetricWarning: Precision is ill-defined and being set to 0.0 in labels with no predicted samples. Use `zero_division` parameter to control this behavior.\n",
      "  _warn_prf(average, modifier, msg_start, len(result))\n"
     ]
    },
    {
     "name": "stdout",
     "output_type": "stream",
     "text": [
      "MLP Class Wise Accuracy :  [0.91836735 0.97058824 0.         0.94117647 0.         0.97402597\n",
      " 0.         0.1875     0.         1.         0.6006192  0.\n",
      " 0.         0.6        0.94010889 1.         0.75       0.99408284\n",
      " 0.79391892]\n",
      "MLP Time :  25.634810900002776\n"
     ]
    },
    {
     "name": "stderr",
     "output_type": "stream",
     "text": [
      "C:\\Users\\sali85\\Anaconda3\\lib\\site-packages\\sklearn\\metrics\\_classification.py:1221: UndefinedMetricWarning: Precision is ill-defined and being set to 0.0 in labels with no predicted samples. Use `zero_division` parameter to control this behavior.\n",
      "  _warn_prf(average, modifier, msg_start, len(result))\n"
     ]
    },
    {
     "name": "stdout",
     "output_type": "stream",
     "text": [
      "KNN Class Wise Accuracy :  [0.69387755 0.97058824 1.         1.         0.         0.98701299\n",
      " 0.         0.1875     0.         1.         0.69659443 1.\n",
      " 0.         0.6        0.80399274 1.         0.75       0.99408284\n",
      " 0.84459459]\n",
      "KNN Time :  46.37270290000015\n"
     ]
    },
    {
     "name": "stderr",
     "output_type": "stream",
     "text": [
      "C:\\Users\\sali85\\Anaconda3\\lib\\site-packages\\sklearn\\metrics\\_classification.py:1221: UndefinedMetricWarning: Precision is ill-defined and being set to 0.0 in labels with no predicted samples. Use `zero_division` parameter to control this behavior.\n",
      "  _warn_prf(average, modifier, msg_start, len(result))\n"
     ]
    },
    {
     "name": "stdout",
     "output_type": "stream",
     "text": [
      "RF Class Wise Accuracy :  [0.95918367 1.         0.         1.         0.         0.97402597\n",
      " 0.1        0.16666667 0.         1.         0.64086687 1.\n",
      " 0.         0.6        0.88021779 1.         0.875      0.99408284\n",
      " 0.85472973]\n",
      "RF Time :  11.801105099999404\n"
     ]
    },
    {
     "name": "stderr",
     "output_type": "stream",
     "text": [
      "C:\\Users\\sali85\\Anaconda3\\lib\\site-packages\\sklearn\\metrics\\_classification.py:1221: UndefinedMetricWarning: Precision is ill-defined and being set to 0.0 in labels with no predicted samples. Use `zero_division` parameter to control this behavior.\n",
      "  _warn_prf(average, modifier, msg_start, len(result))\n"
     ]
    },
    {
     "name": "stdout",
     "output_type": "stream",
     "text": [
      "LR Class Wise Accuracy :  [0.97959184 1.         1.         1.         0.         0.98701299\n",
      " 0.1        0.1875     0.         1.         0.6501548  1.\n",
      " 0.         0.6        0.88021779 1.         1.         0.99408284\n",
      " 0.88851351]\n",
      "LR Time :  35.81640040000275\n"
     ]
    },
    {
     "name": "stderr",
     "output_type": "stream",
     "text": [
      "C:\\Users\\sali85\\Anaconda3\\lib\\site-packages\\sklearn\\metrics\\_classification.py:1221: UndefinedMetricWarning: Precision is ill-defined and being set to 0.0 in labels with no predicted samples. Use `zero_division` parameter to control this behavior.\n",
      "  _warn_prf(average, modifier, msg_start, len(result))\n",
      "C:\\Users\\sali85\\Anaconda3\\lib\\site-packages\\sklearn\\metrics\\_classification.py:1221: UndefinedMetricWarning: Recall is ill-defined and being set to 0.0 in labels with no true samples. Use `zero_division` parameter to control this behavior.\n",
      "  _warn_prf(average, modifier, msg_start, len(result))\n",
      "<ipython-input-42-273c3866d82e>:321: RuntimeWarning: invalid value encountered in true_divide\n",
      "  print(\"DT Class Wise Accuracy : \",confuse.diagonal()/confuse.sum(axis=1))\n"
     ]
    },
    {
     "name": "stdout",
     "output_type": "stream",
     "text": [
      "DT Class Wise Accuracy :  [0.87755102 1.         0.         1.         0.         0.97402597\n",
      " 0.1        0.3125     0.         1.         0.62229102 0.\n",
      " 0.         0.4        0.85480944        nan 1.         0.75\n",
      " 0.96449704 0.87162162]\n",
      "DT Time :  6.133200500000385\n"
     ]
    },
    {
     "name": "stderr",
     "output_type": "stream",
     "text": [
      "C:\\Users\\sali85\\Anaconda3\\lib\\site-packages\\sklearn\\metrics\\_classification.py:1221: UndefinedMetricWarning: Precision is ill-defined and being set to 0.0 in labels with no predicted samples. Use `zero_division` parameter to control this behavior.\n",
      "  _warn_prf(average, modifier, msg_start, len(result))\n",
      "C:\\Users\\sali85\\Anaconda3\\lib\\site-packages\\sklearn\\metrics\\_classification.py:1221: UndefinedMetricWarning: Recall is ill-defined and being set to 0.0 in labels with no true samples. Use `zero_division` parameter to control this behavior.\n",
      "  _warn_prf(average, modifier, msg_start, len(result))\n",
      "<ipython-input-42-273c3866d82e>:93: RuntimeWarning: invalid value encountered in true_divide\n",
      "  print(\"SVM Class Wise Accuracy : \",confuse.diagonal()/confuse.sum(axis=1))\n"
     ]
    },
    {
     "name": "stdout",
     "output_type": "stream",
     "text": [
      "SVM Class Wise Accuracy :  [0.95918367 1.         1.         1.         0.         0.97402597\n",
      " 0.1        0.16666667 0.         1.         0.65944272 1.\n",
      " 0.         0.6        0.86751361        nan 1.         1.\n",
      " 0.99408284 0.87837838]\n",
      "SVM Time :  127.89175930000056\n"
     ]
    },
    {
     "name": "stderr",
     "output_type": "stream",
     "text": [
      "C:\\Users\\sali85\\Anaconda3\\lib\\site-packages\\sklearn\\metrics\\_classification.py:1221: UndefinedMetricWarning: Precision is ill-defined and being set to 0.0 in labels with no predicted samples. Use `zero_division` parameter to control this behavior.\n",
      "  _warn_prf(average, modifier, msg_start, len(result))\n",
      "C:\\Users\\sali85\\Anaconda3\\lib\\site-packages\\sklearn\\metrics\\_classification.py:1221: UndefinedMetricWarning: Recall is ill-defined and being set to 0.0 in labels with no true samples. Use `zero_division` parameter to control this behavior.\n",
      "  _warn_prf(average, modifier, msg_start, len(result))\n",
      "<ipython-input-42-273c3866d82e>:130: RuntimeWarning: invalid value encountered in true_divide\n",
      "  print(\"NB Class Wise Accuracy : \",confuse.diagonal()/confuse.sum(axis=1))\n"
     ]
    },
    {
     "name": "stdout",
     "output_type": "stream",
     "text": [
      "NB Class Wise Accuracy :  [1.         0.99159664 0.33333333 0.87878788 0.95876289 0.08333333\n",
      " 0.12       0.         1.         0.89597315 1.         0.\n",
      " 0.16666667 0.27962963 0.         0.71428571 0.83333333 0.98795181\n",
      "        nan 0.7993311 ]\n",
      "NB Time :  5.7348390000006475\n"
     ]
    },
    {
     "name": "stderr",
     "output_type": "stream",
     "text": [
      "C:\\Users\\sali85\\Anaconda3\\lib\\site-packages\\sklearn\\metrics\\_classification.py:1221: UndefinedMetricWarning: Precision is ill-defined and being set to 0.0 in labels with no predicted samples. Use `zero_division` parameter to control this behavior.\n",
      "  _warn_prf(average, modifier, msg_start, len(result))\n",
      "C:\\Users\\sali85\\Anaconda3\\lib\\site-packages\\sklearn\\metrics\\_classification.py:1221: UndefinedMetricWarning: Recall is ill-defined and being set to 0.0 in labels with no true samples. Use `zero_division` parameter to control this behavior.\n",
      "  _warn_prf(average, modifier, msg_start, len(result))\n",
      "<ipython-input-42-273c3866d82e>:174: RuntimeWarning: invalid value encountered in true_divide\n",
      "  print(\"MLP Class Wise Accuracy : \",confuse.diagonal()/confuse.sum(axis=1))\n"
     ]
    },
    {
     "name": "stdout",
     "output_type": "stream",
     "text": [
      "MLP Class Wise Accuracy :  [0.8627451  0.99159664 0.33333333 0.96969697 0.98969072 0.\n",
      " 0.2        0.         1.         0.75503356 0.         0.\n",
      " 0.66666667 0.77407407 0.         0.85714286        nan 0.83333333\n",
      " 0.98795181 0.82274247]\n",
      "MLP Time :  58.51584770000045\n"
     ]
    },
    {
     "name": "stderr",
     "output_type": "stream",
     "text": [
      "C:\\Users\\sali85\\Anaconda3\\lib\\site-packages\\sklearn\\metrics\\_classification.py:1221: UndefinedMetricWarning: Precision is ill-defined and being set to 0.0 in labels with no predicted samples. Use `zero_division` parameter to control this behavior.\n",
      "  _warn_prf(average, modifier, msg_start, len(result))\n"
     ]
    },
    {
     "name": "stdout",
     "output_type": "stream",
     "text": [
      "KNN Class Wise Accuracy :  [0.88235294 0.97478992 0.         1.         1.         0.\n",
      " 0.16       0.         1.         0.62416107 1.         0.\n",
      " 0.83333333 0.84259259 0.         0.85714286 0.83333333 0.98795181\n",
      " 0.80602007]\n",
      "KNN Time :  42.53208689999883\n"
     ]
    },
    {
     "name": "stderr",
     "output_type": "stream",
     "text": [
      "C:\\Users\\sali85\\Anaconda3\\lib\\site-packages\\sklearn\\metrics\\_classification.py:1221: UndefinedMetricWarning: Precision is ill-defined and being set to 0.0 in labels with no predicted samples. Use `zero_division` parameter to control this behavior.\n",
      "  _warn_prf(average, modifier, msg_start, len(result))\n"
     ]
    },
    {
     "name": "stdout",
     "output_type": "stream",
     "text": [
      "RF Class Wise Accuracy :  [1.         1.         0.33333333 1.         1.         0.\n",
      " 0.16       0.         1.         0.66442953 1.         0.\n",
      " 0.83333333 0.88888889 0.         0.85714286 1.         1.\n",
      " 0.75919732]\n",
      "RF Time :  11.915035399997578\n"
     ]
    },
    {
     "name": "stderr",
     "output_type": "stream",
     "text": [
      "C:\\Users\\sali85\\Anaconda3\\lib\\site-packages\\sklearn\\metrics\\_classification.py:1221: UndefinedMetricWarning: Precision is ill-defined and being set to 0.0 in labels with no predicted samples. Use `zero_division` parameter to control this behavior.\n",
      "  _warn_prf(average, modifier, msg_start, len(result))\n"
     ]
    },
    {
     "name": "stdout",
     "output_type": "stream",
     "text": [
      "LR Class Wise Accuracy :  [0.94117647 1.         0.33333333 1.         1.         0.\n",
      " 0.12       0.         1.         0.63758389 1.         0.\n",
      " 1.         0.89259259 0.         0.71428571 1.         1.\n",
      " 0.77926421]\n",
      "LR Time :  31.968687299999146\n"
     ]
    },
    {
     "name": "stderr",
     "output_type": "stream",
     "text": [
      "C:\\Users\\sali85\\Anaconda3\\lib\\site-packages\\sklearn\\metrics\\_classification.py:1221: UndefinedMetricWarning: Precision is ill-defined and being set to 0.0 in labels with no predicted samples. Use `zero_division` parameter to control this behavior.\n",
      "  _warn_prf(average, modifier, msg_start, len(result))\n"
     ]
    },
    {
     "name": "stdout",
     "output_type": "stream",
     "text": [
      "DT Class Wise Accuracy :  [0.8627451  0.96638655 0.33333333 1.         1.         0.16666667\n",
      " 0.16       0.         1.         0.66107383 1.         0.\n",
      " 0.83333333 0.85740741 0.         0.71428571 1.         0.98192771\n",
      " 0.74916388]\n",
      "DT Time :  5.808903400000418\n"
     ]
    },
    {
     "name": "stderr",
     "output_type": "stream",
     "text": [
      "C:\\Users\\sali85\\Anaconda3\\lib\\site-packages\\sklearn\\metrics\\_classification.py:1221: UndefinedMetricWarning: Precision is ill-defined and being set to 0.0 in labels with no predicted samples. Use `zero_division` parameter to control this behavior.\n",
      "  _warn_prf(average, modifier, msg_start, len(result))\n"
     ]
    },
    {
     "name": "stdout",
     "output_type": "stream",
     "text": [
      "SVM Class Wise Accuracy :  [1.         1.         0.33333333 0.96969697 1.         0.\n",
      " 0.36       0.         1.         0.63422819 1.         0.\n",
      " 1.         0.89074074 0.         0.71428571 1.         1.\n",
      " 0.7826087 ]\n",
      "SVM Time :  130.76642830000128\n"
     ]
    },
    {
     "name": "stderr",
     "output_type": "stream",
     "text": [
      "C:\\Users\\sali85\\Anaconda3\\lib\\site-packages\\sklearn\\metrics\\_classification.py:1221: UndefinedMetricWarning: Precision is ill-defined and being set to 0.0 in labels with no predicted samples. Use `zero_division` parameter to control this behavior.\n",
      "  _warn_prf(average, modifier, msg_start, len(result))\n",
      "C:\\Users\\sali85\\Anaconda3\\lib\\site-packages\\sklearn\\metrics\\_classification.py:1221: UndefinedMetricWarning: Recall is ill-defined and being set to 0.0 in labels with no true samples. Use `zero_division` parameter to control this behavior.\n",
      "  _warn_prf(average, modifier, msg_start, len(result))\n",
      "<ipython-input-42-273c3866d82e>:130: RuntimeWarning: invalid value encountered in true_divide\n",
      "  print(\"NB Class Wise Accuracy : \",confuse.diagonal()/confuse.sum(axis=1))\n"
     ]
    },
    {
     "name": "stdout",
     "output_type": "stream",
     "text": [
      "NB Class Wise Accuracy :  [1.         0.99152542 1.         0.93333333 0.         0.97647059\n",
      " 0.14285714 0.08108108 1.         0.8031746  1.         0.6\n",
      " 0.24907063        nan 0.57142857 0.         0.8        0.95530726\n",
      " 0.                nan 0.87456446]\n",
      "NB Time :  5.609382700000424\n"
     ]
    },
    {
     "name": "stderr",
     "output_type": "stream",
     "text": [
      "C:\\Users\\sali85\\Anaconda3\\lib\\site-packages\\sklearn\\metrics\\_classification.py:1221: UndefinedMetricWarning: Precision is ill-defined and being set to 0.0 in labels with no predicted samples. Use `zero_division` parameter to control this behavior.\n",
      "  _warn_prf(average, modifier, msg_start, len(result))\n",
      "C:\\Users\\sali85\\Anaconda3\\lib\\site-packages\\sklearn\\metrics\\_classification.py:1221: UndefinedMetricWarning: Recall is ill-defined and being set to 0.0 in labels with no true samples. Use `zero_division` parameter to control this behavior.\n",
      "  _warn_prf(average, modifier, msg_start, len(result))\n",
      "<ipython-input-42-273c3866d82e>:174: RuntimeWarning: invalid value encountered in true_divide\n",
      "  print(\"MLP Class Wise Accuracy : \",confuse.diagonal()/confuse.sum(axis=1))\n"
     ]
    },
    {
     "name": "stdout",
     "output_type": "stream",
     "text": [
      "MLP Class Wise Accuracy :  [0.90243902 0.96610169 1.         1.         0.         1.\n",
      " 0.07142857 0.32432432        nan 1.         0.87936508 1.\n",
      " 0.4        0.63011152 0.71428571 0.         0.8        0.99441341\n",
      " 0.         0.88850174]\n",
      "MLP Time :  46.47569579999981\n"
     ]
    },
    {
     "name": "stderr",
     "output_type": "stream",
     "text": [
      "C:\\Users\\sali85\\Anaconda3\\lib\\site-packages\\sklearn\\metrics\\_classification.py:1221: UndefinedMetricWarning: Precision is ill-defined and being set to 0.0 in labels with no predicted samples. Use `zero_division` parameter to control this behavior.\n",
      "  _warn_prf(average, modifier, msg_start, len(result))\n"
     ]
    },
    {
     "name": "stdout",
     "output_type": "stream",
     "text": [
      "KNN Class Wise Accuracy :  [0.82926829 0.98305085 1.         1.         0.         0.98823529\n",
      " 0.         0.27027027 1.         0.63174603 1.         0.6\n",
      " 0.81040892 0.71428571 0.         0.8        0.97765363 0.\n",
      " 0.8815331 ]\n",
      "KNN Time :  49.865474000001996\n"
     ]
    },
    {
     "name": "stderr",
     "output_type": "stream",
     "text": [
      "C:\\Users\\sali85\\Anaconda3\\lib\\site-packages\\sklearn\\metrics\\_classification.py:1221: UndefinedMetricWarning: Precision is ill-defined and being set to 0.0 in labels with no predicted samples. Use `zero_division` parameter to control this behavior.\n",
      "  _warn_prf(average, modifier, msg_start, len(result))\n"
     ]
    },
    {
     "name": "stdout",
     "output_type": "stream",
     "text": [
      "RF Class Wise Accuracy :  [0.97560976 1.         1.         1.         0.         1.\n",
      " 0.07142857 0.21621622 1.         0.68888889 1.         0.6\n",
      " 0.88475836 0.85714286 1.         1.         0.99441341 0.\n",
      " 0.83623693]\n",
      "RF Time :  12.086902499999269\n"
     ]
    },
    {
     "name": "stderr",
     "output_type": "stream",
     "text": [
      "C:\\Users\\sali85\\Anaconda3\\lib\\site-packages\\sklearn\\metrics\\_classification.py:1221: UndefinedMetricWarning: Precision is ill-defined and being set to 0.0 in labels with no predicted samples. Use `zero_division` parameter to control this behavior.\n",
      "  _warn_prf(average, modifier, msg_start, len(result))\n"
     ]
    },
    {
     "name": "stdout",
     "output_type": "stream",
     "text": [
      "LR Class Wise Accuracy :  [0.95121951 1.         1.         1.         0.         1.\n",
      " 0.07142857 0.24324324 1.         0.64761905 1.         0.8\n",
      " 0.88847584 0.71428571 1.         1.         0.98882682 0.\n",
      " 0.85017422]\n",
      "LR Time :  36.74229010000272\n"
     ]
    },
    {
     "name": "stderr",
     "output_type": "stream",
     "text": [
      "C:\\Users\\sali85\\Anaconda3\\lib\\site-packages\\sklearn\\metrics\\_classification.py:1221: UndefinedMetricWarning: Precision is ill-defined and being set to 0.0 in labels with no predicted samples. Use `zero_division` parameter to control this behavior.\n",
      "  _warn_prf(average, modifier, msg_start, len(result))\n",
      "C:\\Users\\sali85\\Anaconda3\\lib\\site-packages\\sklearn\\metrics\\_classification.py:1221: UndefinedMetricWarning: Recall is ill-defined and being set to 0.0 in labels with no true samples. Use `zero_division` parameter to control this behavior.\n",
      "  _warn_prf(average, modifier, msg_start, len(result))\n",
      "<ipython-input-42-273c3866d82e>:321: RuntimeWarning: invalid value encountered in true_divide\n",
      "  print(\"DT Class Wise Accuracy : \",confuse.diagonal()/confuse.sum(axis=1))\n"
     ]
    },
    {
     "name": "stdout",
     "output_type": "stream",
     "text": [
      "DT Class Wise Accuracy :  [0.7804878  0.94915254 1.         0.93333333 0.         0.98823529\n",
      " 0.07142857 0.24324324 0.5        0.6952381  1.                nan\n",
      " 0.6        0.87546468 0.71428571 0.         1.         0.94972067\n",
      " 0.                nan 0.79442509]\n",
      "DT Time :  5.710421299998416\n"
     ]
    },
    {
     "name": "stderr",
     "output_type": "stream",
     "text": [
      "C:\\Users\\sali85\\Anaconda3\\lib\\site-packages\\sklearn\\metrics\\_classification.py:1221: UndefinedMetricWarning: Precision is ill-defined and being set to 0.0 in labels with no predicted samples. Use `zero_division` parameter to control this behavior.\n",
      "  _warn_prf(average, modifier, msg_start, len(result))\n"
     ]
    },
    {
     "name": "stdout",
     "output_type": "stream",
     "text": [
      "SVM Class Wise Accuracy :  [0.97560976 1.         1.         1.         0.         1.\n",
      " 0.07142857 0.2972973  1.         0.63809524 1.         0.8\n",
      " 0.90148699 0.71428571 1.         1.         0.98882682 0.\n",
      " 0.79790941]\n",
      "SVM Time :  130.58129560000089\n"
     ]
    },
    {
     "name": "stderr",
     "output_type": "stream",
     "text": [
      "C:\\Users\\sali85\\Anaconda3\\lib\\site-packages\\sklearn\\metrics\\_classification.py:1221: UndefinedMetricWarning: Precision is ill-defined and being set to 0.0 in labels with no predicted samples. Use `zero_division` parameter to control this behavior.\n",
      "  _warn_prf(average, modifier, msg_start, len(result))\n",
      "C:\\Users\\sali85\\Anaconda3\\lib\\site-packages\\sklearn\\metrics\\_classification.py:1221: UndefinedMetricWarning: Recall is ill-defined and being set to 0.0 in labels with no true samples. Use `zero_division` parameter to control this behavior.\n",
      "  _warn_prf(average, modifier, msg_start, len(result))\n",
      "<ipython-input-42-273c3866d82e>:130: RuntimeWarning: invalid value encountered in true_divide\n",
      "  print(\"NB Class Wise Accuracy : \",confuse.diagonal()/confuse.sum(axis=1))\n"
     ]
    },
    {
     "name": "stdout",
     "output_type": "stream",
     "text": [
      "NB Class Wise Accuracy :  [1.         0.96460177 0.5        0.95833333 0.         0.9382716\n",
      " 0.06666667 0.2        0.         1.         0.87461774 1.\n",
      " 1.         0.27943761 0.         0.4        0.         0.71428571\n",
      " 0.9602649  0.                nan 0.81318681]\n",
      "NB Time :  5.727903199996945\n"
     ]
    },
    {
     "name": "stderr",
     "output_type": "stream",
     "text": [
      "C:\\Users\\sali85\\Anaconda3\\lib\\site-packages\\sklearn\\metrics\\_classification.py:1221: UndefinedMetricWarning: Precision is ill-defined and being set to 0.0 in labels with no predicted samples. Use `zero_division` parameter to control this behavior.\n",
      "  _warn_prf(average, modifier, msg_start, len(result))\n"
     ]
    },
    {
     "name": "stdout",
     "output_type": "stream",
     "text": [
      "MLP Class Wise Accuracy :  [0.88372093 0.9380531  1.         0.95833333 0.         0.98765432\n",
      " 0.         0.175      0.         1.         0.66360856 1.\n",
      " 1.         0.89103691 0.         0.9        0.         0.85714286\n",
      " 0.98013245 0.         0.8021978 ]\n",
      "MLP Time :  49.445677499999874\n"
     ]
    },
    {
     "name": "stderr",
     "output_type": "stream",
     "text": [
      "C:\\Users\\sali85\\Anaconda3\\lib\\site-packages\\sklearn\\metrics\\_classification.py:1221: UndefinedMetricWarning: Precision is ill-defined and being set to 0.0 in labels with no predicted samples. Use `zero_division` parameter to control this behavior.\n",
      "  _warn_prf(average, modifier, msg_start, len(result))\n"
     ]
    },
    {
     "name": "stdout",
     "output_type": "stream",
     "text": [
      "KNN Class Wise Accuracy :  [0.79069767 0.97345133 0.5        1.         0.         1.\n",
      " 0.         0.175      0.         1.         0.78287462 1.\n",
      " 0.75       0.7258348  0.         0.4        0.         0.71428571\n",
      " 0.98675497 0.         0.75824176]\n",
      "KNN Time :  47.26486389999991\n"
     ]
    },
    {
     "name": "stderr",
     "output_type": "stream",
     "text": [
      "C:\\Users\\sali85\\Anaconda3\\lib\\site-packages\\sklearn\\metrics\\_classification.py:1221: UndefinedMetricWarning: Precision is ill-defined and being set to 0.0 in labels with no predicted samples. Use `zero_division` parameter to control this behavior.\n",
      "  _warn_prf(average, modifier, msg_start, len(result))\n"
     ]
    },
    {
     "name": "stdout",
     "output_type": "stream",
     "text": [
      "RF Class Wise Accuracy :  [0.95348837 1.         1.         1.         0.         0.96296296\n",
      " 0.         0.175      0.         1.         0.71865443 1.\n",
      " 0.75       0.86115993 0.         0.4        1.         1.\n",
      " 0.99337748 0.         0.84615385]\n",
      "RF Time :  12.220824100000755\n"
     ]
    },
    {
     "name": "stderr",
     "output_type": "stream",
     "text": [
      "C:\\Users\\sali85\\Anaconda3\\lib\\site-packages\\sklearn\\metrics\\_classification.py:1221: UndefinedMetricWarning: Precision is ill-defined and being set to 0.0 in labels with no predicted samples. Use `zero_division` parameter to control this behavior.\n",
      "  _warn_prf(average, modifier, msg_start, len(result))\n"
     ]
    },
    {
     "name": "stdout",
     "output_type": "stream",
     "text": [
      "LR Class Wise Accuracy :  [0.93023256 0.99115044 1.         1.         0.         1.\n",
      " 0.         0.2        0.         1.         0.6911315  1.\n",
      " 1.         0.89279438 0.         0.4        1.         1.\n",
      " 0.98675497 0.         0.86080586]\n",
      "LR Time :  31.238692700000684\n"
     ]
    },
    {
     "name": "stderr",
     "output_type": "stream",
     "text": [
      "C:\\Users\\sali85\\Anaconda3\\lib\\site-packages\\sklearn\\metrics\\_classification.py:1221: UndefinedMetricWarning: Precision is ill-defined and being set to 0.0 in labels with no predicted samples. Use `zero_division` parameter to control this behavior.\n",
      "  _warn_prf(average, modifier, msg_start, len(result))\n",
      "C:\\Users\\sali85\\Anaconda3\\lib\\site-packages\\sklearn\\metrics\\_classification.py:1221: UndefinedMetricWarning: Recall is ill-defined and being set to 0.0 in labels with no true samples. Use `zero_division` parameter to control this behavior.\n",
      "  _warn_prf(average, modifier, msg_start, len(result))\n",
      "<ipython-input-42-273c3866d82e>:321: RuntimeWarning: invalid value encountered in true_divide\n",
      "  print(\"DT Class Wise Accuracy : \",confuse.diagonal()/confuse.sum(axis=1))\n"
     ]
    },
    {
     "name": "stdout",
     "output_type": "stream",
     "text": [
      "DT Class Wise Accuracy :  [0.8372093  0.95575221 1.         1.         0.         0.98765432\n",
      " 0.         0.275      0.         0.66666667 0.68195719 1.\n",
      "        nan 1.         0.81370826 0.         0.4        0.\n",
      " 0.85714286 0.96688742 0.         0.84981685]\n",
      "DT Time :  5.714997099999891\n"
     ]
    },
    {
     "name": "stderr",
     "output_type": "stream",
     "text": [
      "C:\\Users\\sali85\\Anaconda3\\lib\\site-packages\\sklearn\\metrics\\_classification.py:1221: UndefinedMetricWarning: Precision is ill-defined and being set to 0.0 in labels with no predicted samples. Use `zero_division` parameter to control this behavior.\n",
      "  _warn_prf(average, modifier, msg_start, len(result))\n"
     ]
    },
    {
     "name": "stdout",
     "output_type": "stream",
     "text": [
      "SVM Class Wise Accuracy :  [0.95348837 0.98230088 1.         1.         0.         1.\n",
      " 0.         0.2        0.         1.         0.65749235 1.\n",
      " 1.         0.86643234 0.         0.4        1.         1.\n",
      " 0.98675497 0.         0.85714286]\n",
      "SVM Time :  126.18367189999844\n"
     ]
    },
    {
     "name": "stderr",
     "output_type": "stream",
     "text": [
      "C:\\Users\\sali85\\Anaconda3\\lib\\site-packages\\sklearn\\metrics\\_classification.py:1221: UndefinedMetricWarning: Precision is ill-defined and being set to 0.0 in labels with no predicted samples. Use `zero_division` parameter to control this behavior.\n",
      "  _warn_prf(average, modifier, msg_start, len(result))\n"
     ]
    },
    {
     "name": "stdout",
     "output_type": "stream",
     "text": [
      "NB Class Wise Accuracy :  [0.98039216 0.95604396 0.         1.         0.         0.96470588\n",
      " 0.07692308 0.175      0.8961039  1.         0.         0.75\n",
      " 0.26678766 0.         0.66666667 0.         0.63636364 0.97546012\n",
      " 0.         0.81518152]\n",
      "NB Time :  5.907520000000659\n"
     ]
    },
    {
     "name": "stderr",
     "output_type": "stream",
     "text": [
      "C:\\Users\\sali85\\Anaconda3\\lib\\site-packages\\sklearn\\metrics\\_classification.py:1221: UndefinedMetricWarning: Precision is ill-defined and being set to 0.0 in labels with no predicted samples. Use `zero_division` parameter to control this behavior.\n",
      "  _warn_prf(average, modifier, msg_start, len(result))\n"
     ]
    },
    {
     "name": "stdout",
     "output_type": "stream",
     "text": [
      "MLP Class Wise Accuracy :  [0.60784314 0.91208791 0.         0.93333333 0.         0.98823529\n",
      " 0.         0.2        0.60064935 0.         0.         0.75\n",
      " 0.92014519 0.         0.83333333 0.         0.45454545 1.\n",
      " 0.         0.77227723]\n",
      "MLP Time :  39.04734870000175\n"
     ]
    },
    {
     "name": "stderr",
     "output_type": "stream",
     "text": [
      "C:\\Users\\sali85\\Anaconda3\\lib\\site-packages\\sklearn\\metrics\\_classification.py:1221: UndefinedMetricWarning: Precision is ill-defined and being set to 0.0 in labels with no predicted samples. Use `zero_division` parameter to control this behavior.\n",
      "  _warn_prf(average, modifier, msg_start, len(result))\n"
     ]
    },
    {
     "name": "stdout",
     "output_type": "stream",
     "text": [
      "KNN Class Wise Accuracy :  [0.76470588 1.         0.         1.         0.         0.98823529\n",
      " 0.         0.175      0.61688312 0.         0.         0.75\n",
      " 0.88566243 0.         0.83333333 0.         0.72727273 0.99386503\n",
      " 0.         0.78217822]\n",
      "KNN Time :  51.88944320000155\n"
     ]
    },
    {
     "name": "stderr",
     "output_type": "stream",
     "text": [
      "C:\\Users\\sali85\\Anaconda3\\lib\\site-packages\\sklearn\\metrics\\_classification.py:1221: UndefinedMetricWarning: Precision is ill-defined and being set to 0.0 in labels with no predicted samples. Use `zero_division` parameter to control this behavior.\n",
      "  _warn_prf(average, modifier, msg_start, len(result))\n"
     ]
    },
    {
     "name": "stdout",
     "output_type": "stream",
     "text": [
      "RF Class Wise Accuracy :  [0.94117647 0.95604396 0.         1.         0.         0.97647059\n",
      " 0.         0.15       0.65584416 1.         0.         0.75\n",
      " 0.84573503 0.         0.83333333 1.         0.72727273 0.99386503\n",
      " 0.         0.83168317]\n",
      "RF Time :  11.82109390000187\n"
     ]
    },
    {
     "name": "stderr",
     "output_type": "stream",
     "text": [
      "C:\\Users\\sali85\\Anaconda3\\lib\\site-packages\\sklearn\\metrics\\_classification.py:1221: UndefinedMetricWarning: Precision is ill-defined and being set to 0.0 in labels with no predicted samples. Use `zero_division` parameter to control this behavior.\n",
      "  _warn_prf(average, modifier, msg_start, len(result))\n"
     ]
    },
    {
     "name": "stdout",
     "output_type": "stream",
     "text": [
      "LR Class Wise Accuracy :  [0.92156863 0.95604396 0.33333333 1.         0.         0.97647059\n",
      " 0.         0.275      0.66233766 1.         0.         1.\n",
      " 0.85480944 0.         0.83333333 1.         1.         0.99386503\n",
      " 0.         0.87458746]\n",
      "LR Time :  30.589050900001894\n"
     ]
    },
    {
     "name": "stderr",
     "output_type": "stream",
     "text": [
      "C:\\Users\\sali85\\Anaconda3\\lib\\site-packages\\sklearn\\metrics\\_classification.py:1221: UndefinedMetricWarning: Precision is ill-defined and being set to 0.0 in labels with no predicted samples. Use `zero_division` parameter to control this behavior.\n",
      "  _warn_prf(average, modifier, msg_start, len(result))\n"
     ]
    },
    {
     "name": "stdout",
     "output_type": "stream",
     "text": [
      "DT Class Wise Accuracy :  [0.80392157 0.95604396 0.66666667 0.93333333 0.         0.94117647\n",
      " 0.         0.3        0.63636364 1.         0.         0.75\n",
      " 0.8076225  0.         0.83333333 0.         0.81818182 0.96319018\n",
      " 0.         0.84488449]\n",
      "DT Time :  6.516075899999123\n"
     ]
    },
    {
     "name": "stderr",
     "output_type": "stream",
     "text": [
      "C:\\Users\\sali85\\Anaconda3\\lib\\site-packages\\sklearn\\metrics\\_classification.py:1221: UndefinedMetricWarning: Precision is ill-defined and being set to 0.0 in labels with no predicted samples. Use `zero_division` parameter to control this behavior.\n",
      "  _warn_prf(average, modifier, msg_start, len(result))\n"
     ]
    },
    {
     "name": "stdout",
     "output_type": "stream",
     "text": [
      "SVM Class Wise Accuracy :  [0.94117647 0.95604396 0.33333333 1.         0.         0.97647059\n",
      " 0.07692308 0.3        0.62337662 1.         0.         1.\n",
      " 0.84936479 0.         0.83333333 1.         1.         0.99386503\n",
      " 0.         0.86138614]\n",
      "SVM Time :  127.24747999999818\n"
     ]
    },
    {
     "name": "stderr",
     "output_type": "stream",
     "text": [
      "C:\\Users\\sali85\\Anaconda3\\lib\\site-packages\\sklearn\\metrics\\_classification.py:1221: UndefinedMetricWarning: Precision is ill-defined and being set to 0.0 in labels with no predicted samples. Use `zero_division` parameter to control this behavior.\n",
      "  _warn_prf(average, modifier, msg_start, len(result))\n",
      "C:\\Users\\sali85\\Anaconda3\\lib\\site-packages\\sklearn\\metrics\\_classification.py:1221: UndefinedMetricWarning: Recall is ill-defined and being set to 0.0 in labels with no true samples. Use `zero_division` parameter to control this behavior.\n",
      "  _warn_prf(average, modifier, msg_start, len(result))\n",
      "<ipython-input-42-273c3866d82e>:130: RuntimeWarning: invalid value encountered in true_divide\n",
      "  print(\"NB Class Wise Accuracy : \",confuse.diagonal()/confuse.sum(axis=1))\n"
     ]
    },
    {
     "name": "stdout",
     "output_type": "stream",
     "text": [
      "NB Class Wise Accuracy :  [1.         1.         1.         0.92592593 0.         0.9875\n",
      " 0.23076923 0.27906977 0.         1.         0.82866044 1.\n",
      " 0.         0.25       0.26078799        nan 1.         0.\n",
      " 0.8        0.98857143 0.         0.         0.82885906]\n",
      "NB Time :  5.453416799999104\n"
     ]
    },
    {
     "name": "stderr",
     "output_type": "stream",
     "text": [
      "C:\\Users\\sali85\\Anaconda3\\lib\\site-packages\\sklearn\\metrics\\_classification.py:1221: UndefinedMetricWarning: Precision is ill-defined and being set to 0.0 in labels with no predicted samples. Use `zero_division` parameter to control this behavior.\n",
      "  _warn_prf(average, modifier, msg_start, len(result))\n"
     ]
    },
    {
     "name": "stdout",
     "output_type": "stream",
     "text": [
      "MLP Class Wise Accuracy :  [0.85416667 1.         1.         1.         0.         0.975\n",
      " 0.15384615 0.3255814  0.         0.         0.80062305 1.\n",
      " 0.         0.625      0.75046904 1.         0.         0.9\n",
      " 1.         0.         0.         0.87583893]\n",
      "MLP Time :  56.845200300002034\n"
     ]
    },
    {
     "name": "stderr",
     "output_type": "stream",
     "text": [
      "C:\\Users\\sali85\\Anaconda3\\lib\\site-packages\\sklearn\\metrics\\_classification.py:1221: UndefinedMetricWarning: Precision is ill-defined and being set to 0.0 in labels with no predicted samples. Use `zero_division` parameter to control this behavior.\n",
      "  _warn_prf(average, modifier, msg_start, len(result))\n"
     ]
    },
    {
     "name": "stdout",
     "output_type": "stream",
     "text": [
      "KNN Class Wise Accuracy :  [0.77083333 0.95918367 0.5        1.         0.         1.\n",
      " 0.         0.23255814 0.         1.         0.61682243 1.\n",
      " 0.         0.75       0.85553471 1.         0.         0.6\n",
      " 1.         0.         0.         0.82885906]\n",
      "KNN Time :  50.82905310000206\n"
     ]
    },
    {
     "name": "stderr",
     "output_type": "stream",
     "text": [
      "C:\\Users\\sali85\\Anaconda3\\lib\\site-packages\\sklearn\\metrics\\_classification.py:1221: UndefinedMetricWarning: Precision is ill-defined and being set to 0.0 in labels with no predicted samples. Use `zero_division` parameter to control this behavior.\n",
      "  _warn_prf(average, modifier, msg_start, len(result))\n"
     ]
    },
    {
     "name": "stdout",
     "output_type": "stream",
     "text": [
      "RF Class Wise Accuracy :  [0.97916667 1.         1.         1.         0.         1.\n",
      " 0.07692308 0.18604651 0.         1.         0.67601246 1.\n",
      " 0.         0.625      0.86679174 1.         1.         1.\n",
      " 1.         0.         0.         0.82550336]\n",
      "RF Time :  11.838780300000508\n"
     ]
    },
    {
     "name": "stderr",
     "output_type": "stream",
     "text": [
      "C:\\Users\\sali85\\Anaconda3\\lib\\site-packages\\sklearn\\metrics\\_classification.py:1221: UndefinedMetricWarning: Precision is ill-defined and being set to 0.0 in labels with no predicted samples. Use `zero_division` parameter to control this behavior.\n",
      "  _warn_prf(average, modifier, msg_start, len(result))\n"
     ]
    },
    {
     "name": "stdout",
     "output_type": "stream",
     "text": [
      "LR Class Wise Accuracy :  [0.97916667 1.         1.         1.         0.         1.\n",
      " 0.07692308 0.34883721 0.         1.         0.65732087 1.\n",
      " 0.         0.75       0.86679174 1.         1.         1.\n",
      " 1.         0.         0.         0.87248322]\n",
      "LR Time :  59.72947840000052\n"
     ]
    },
    {
     "name": "stderr",
     "output_type": "stream",
     "text": [
      "C:\\Users\\sali85\\Anaconda3\\lib\\site-packages\\sklearn\\metrics\\_classification.py:1221: UndefinedMetricWarning: Precision is ill-defined and being set to 0.0 in labels with no predicted samples. Use `zero_division` parameter to control this behavior.\n",
      "  _warn_prf(average, modifier, msg_start, len(result))\n"
     ]
    },
    {
     "name": "stdout",
     "output_type": "stream",
     "text": [
      "DT Class Wise Accuracy :  [0.83333333 0.98979592 1.         0.96296296 0.         1.\n",
      " 0.07692308 0.30232558 0.         1.         0.66666667 1.\n",
      " 0.         0.75       0.85178236 1.         0.         1.\n",
      " 1.         0.         0.         0.82214765]\n",
      "DT Time :  6.502924599997641\n"
     ]
    },
    {
     "name": "stderr",
     "output_type": "stream",
     "text": [
      "C:\\Users\\sali85\\Anaconda3\\lib\\site-packages\\sklearn\\metrics\\_classification.py:1221: UndefinedMetricWarning: Precision is ill-defined and being set to 0.0 in labels with no predicted samples. Use `zero_division` parameter to control this behavior.\n",
      "  _warn_prf(average, modifier, msg_start, len(result))\n"
     ]
    },
    {
     "name": "stdout",
     "output_type": "stream",
     "text": [
      "SVM Class Wise Accuracy :  [0.95833333 1.         1.         1.         0.         1.\n",
      " 0.07692308 0.3255814  0.         1.         0.6635514  1.\n",
      " 0.         0.75       0.85365854 1.         1.         1.\n",
      " 1.         0.         0.         0.87248322]\n",
      "SVM Time :  179.2317551999986\n"
     ]
    },
    {
     "name": "stderr",
     "output_type": "stream",
     "text": [
      "C:\\Users\\sali85\\Anaconda3\\lib\\site-packages\\sklearn\\metrics\\_classification.py:1221: UndefinedMetricWarning: Precision is ill-defined and being set to 0.0 in labels with no predicted samples. Use `zero_division` parameter to control this behavior.\n",
      "  _warn_prf(average, modifier, msg_start, len(result))\n",
      "C:\\Users\\sali85\\Anaconda3\\lib\\site-packages\\sklearn\\metrics\\_classification.py:1221: UndefinedMetricWarning: Recall is ill-defined and being set to 0.0 in labels with no true samples. Use `zero_division` parameter to control this behavior.\n",
      "  _warn_prf(average, modifier, msg_start, len(result))\n",
      "<ipython-input-42-273c3866d82e>:130: RuntimeWarning: invalid value encountered in true_divide\n",
      "  print(\"NB Class Wise Accuracy : \",confuse.diagonal()/confuse.sum(axis=1))\n"
     ]
    },
    {
     "name": "stdout",
     "output_type": "stream",
     "text": [
      "NB Class Wise Accuracy :  [0.97777778 0.97321429 0.66666667 1.         0.         0.925\n",
      " 0.23076923 0.17647059 0.         1.         0.83934426 1.\n",
      " 0.         1.         0.26678766        nan 0.6        0.\n",
      " 1.         0.97714286 0.                nan 0.79522184]\n",
      "NB Time :  6.639248999999836\n"
     ]
    },
    {
     "name": "stderr",
     "output_type": "stream",
     "text": [
      "C:\\Users\\sali85\\Anaconda3\\lib\\site-packages\\sklearn\\metrics\\_classification.py:1221: UndefinedMetricWarning: Precision is ill-defined and being set to 0.0 in labels with no predicted samples. Use `zero_division` parameter to control this behavior.\n",
      "  _warn_prf(average, modifier, msg_start, len(result))\n",
      "C:\\Users\\sali85\\Anaconda3\\lib\\site-packages\\sklearn\\metrics\\_classification.py:1221: UndefinedMetricWarning: Recall is ill-defined and being set to 0.0 in labels with no true samples. Use `zero_division` parameter to control this behavior.\n",
      "  _warn_prf(average, modifier, msg_start, len(result))\n",
      "<ipython-input-42-273c3866d82e>:174: RuntimeWarning: invalid value encountered in true_divide\n",
      "  print(\"MLP Class Wise Accuracy : \",confuse.diagonal()/confuse.sum(axis=1))\n"
     ]
    },
    {
     "name": "stdout",
     "output_type": "stream",
     "text": [
      "MLP Class Wise Accuracy :  [0.73333333 0.96428571 0.66666667 1.         0.         0.9875\n",
      " 0.         0.20588235 0.         1.         0.64262295 1.\n",
      " 0.         0.66666667 0.86932849 0.6        0.         1.\n",
      " 0.99428571 0.                nan 0.85665529]\n"
     ]
    },
    {
     "name": "stderr",
     "output_type": "stream",
     "text": [
      "C:\\Users\\sali85\\Anaconda3\\lib\\site-packages\\sklearn\\metrics\\_classification.py:1221: UndefinedMetricWarning: Precision is ill-defined and being set to 0.0 in labels with no predicted samples. Use `zero_division` parameter to control this behavior.\n",
      "  _warn_prf(average, modifier, msg_start, len(result))\n"
     ]
    },
    {
     "name": "stdout",
     "output_type": "stream",
     "text": [
      "MLP Time :  61.78937239999868\n",
      "KNN Class Wise Accuracy :  [0.73333333 0.97321429 0.33333333 1.         0.         1.\n",
      " 0.         0.29411765 0.         1.         0.71147541 1.\n",
      " 0.         0.66666667 0.79491833 1.         0.         1.\n",
      " 0.98285714 0.         0.72354949]\n",
      "KNN Time :  57.94544830000086\n"
     ]
    },
    {
     "name": "stderr",
     "output_type": "stream",
     "text": [
      "C:\\Users\\sali85\\Anaconda3\\lib\\site-packages\\sklearn\\metrics\\_classification.py:1221: UndefinedMetricWarning: Precision is ill-defined and being set to 0.0 in labels with no predicted samples. Use `zero_division` parameter to control this behavior.\n",
      "  _warn_prf(average, modifier, msg_start, len(result))\n"
     ]
    },
    {
     "name": "stdout",
     "output_type": "stream",
     "text": [
      "RF Class Wise Accuracy :  [0.95555556 1.         0.66666667 1.         0.         1.\n",
      " 0.07692308 0.26470588 0.         1.         0.69508197 1.\n",
      " 0.         0.66666667 0.91833031 1.         1.         1.\n",
      " 0.99428571 0.         0.69624573]\n",
      "RF Time :  14.672123100001045\n"
     ]
    },
    {
     "name": "stderr",
     "output_type": "stream",
     "text": [
      "C:\\Users\\sali85\\Anaconda3\\lib\\site-packages\\sklearn\\metrics\\_classification.py:1221: UndefinedMetricWarning: Precision is ill-defined and being set to 0.0 in labels with no predicted samples. Use `zero_division` parameter to control this behavior.\n",
      "  _warn_prf(average, modifier, msg_start, len(result))\n"
     ]
    },
    {
     "name": "stdout",
     "output_type": "stream",
     "text": [
      "LR Class Wise Accuracy :  [0.93333333 1.         1.         1.         0.         1.\n",
      " 0.07692308 0.38235294 0.         1.         0.6852459  1.\n",
      " 0.         0.66666667 0.90562613 0.6        1.         1.\n",
      " 0.98857143 0.         0.81569966]\n",
      "LR Time :  68.61330860000089\n"
     ]
    },
    {
     "name": "stderr",
     "output_type": "stream",
     "text": [
      "C:\\Users\\sali85\\Anaconda3\\lib\\site-packages\\sklearn\\metrics\\_classification.py:1221: UndefinedMetricWarning: Precision is ill-defined and being set to 0.0 in labels with no predicted samples. Use `zero_division` parameter to control this behavior.\n",
      "  _warn_prf(average, modifier, msg_start, len(result))\n"
     ]
    },
    {
     "name": "stdout",
     "output_type": "stream",
     "text": [
      "DT Class Wise Accuracy :  [0.55555556 0.94642857 0.66666667 1.         0.         1.\n",
      " 0.15384615 0.35294118 0.         0.66666667 0.69508197 1.\n",
      " 0.         1.         0.88203267 0.6        0.         1.\n",
      " 0.96       0.         0.70307167]\n",
      "DT Time :  7.4344888999985415\n"
     ]
    },
    {
     "name": "stderr",
     "output_type": "stream",
     "text": [
      "C:\\Users\\sali85\\Anaconda3\\lib\\site-packages\\sklearn\\metrics\\_classification.py:1221: UndefinedMetricWarning: Precision is ill-defined and being set to 0.0 in labels with no predicted samples. Use `zero_division` parameter to control this behavior.\n",
      "  _warn_prf(average, modifier, msg_start, len(result))\n",
      "C:\\Users\\sali85\\Anaconda3\\lib\\site-packages\\sklearn\\metrics\\_classification.py:1221: UndefinedMetricWarning: Recall is ill-defined and being set to 0.0 in labels with no true samples. Use `zero_division` parameter to control this behavior.\n",
      "  _warn_prf(average, modifier, msg_start, len(result))\n",
      "<ipython-input-42-273c3866d82e>:93: RuntimeWarning: invalid value encountered in true_divide\n",
      "  print(\"SVM Class Wise Accuracy : \",confuse.diagonal()/confuse.sum(axis=1))\n"
     ]
    },
    {
     "name": "stdout",
     "output_type": "stream",
     "text": [
      "SVM Class Wise Accuracy :  [0.93333333 1.         1.         1.         0.         1.\n",
      " 0.15384615 0.41176471 0.         1.         0.68852459 1.\n",
      " 0.         1.         0.88747731        nan 0.6        1.\n",
      " 1.         0.98857143 0.         0.77474403]\n",
      "SVM Time :  167.9252708999993\n"
     ]
    },
    {
     "name": "stderr",
     "output_type": "stream",
     "text": [
      "C:\\Users\\sali85\\Anaconda3\\lib\\site-packages\\sklearn\\metrics\\_classification.py:1221: UndefinedMetricWarning: Precision is ill-defined and being set to 0.0 in labels with no predicted samples. Use `zero_division` parameter to control this behavior.\n",
      "  _warn_prf(average, modifier, msg_start, len(result))\n",
      "C:\\Users\\sali85\\Anaconda3\\lib\\site-packages\\sklearn\\metrics\\_classification.py:1221: UndefinedMetricWarning: Recall is ill-defined and being set to 0.0 in labels with no true samples. Use `zero_division` parameter to control this behavior.\n",
      "  _warn_prf(average, modifier, msg_start, len(result))\n",
      "<ipython-input-42-273c3866d82e>:130: RuntimeWarning: invalid value encountered in true_divide\n",
      "  print(\"NB Class Wise Accuracy : \",confuse.diagonal()/confuse.sum(axis=1))\n"
     ]
    },
    {
     "name": "stdout",
     "output_type": "stream",
     "text": [
      "NB Class Wise Accuracy :  [1.         0.93103448 0.         1.         0.         0.92207792\n",
      " 0.         0.15384615 1.         0.79552716 1.         0.75\n",
      " 0.27090909        nan 0.57142857 0.77777778 0.97350993 0.\n",
      " 0.84294872]\n",
      "NB Time :  8.491549700000178\n"
     ]
    },
    {
     "name": "stderr",
     "output_type": "stream",
     "text": [
      "C:\\Users\\sali85\\Anaconda3\\lib\\site-packages\\sklearn\\metrics\\_classification.py:1221: UndefinedMetricWarning: Precision is ill-defined and being set to 0.0 in labels with no predicted samples. Use `zero_division` parameter to control this behavior.\n",
      "  _warn_prf(average, modifier, msg_start, len(result))\n"
     ]
    },
    {
     "name": "stdout",
     "output_type": "stream",
     "text": [
      "MLP Class Wise Accuracy :  [0.9245283  0.9137931  0.         0.85714286 0.         0.98701299\n",
      " 0.         0.17948718 0.         0.88498403 1.         0.75\n",
      " 0.65454545 1.         0.66666667 0.98013245 0.         0.87820513]\n",
      "MLP Time :  61.409151799998654\n"
     ]
    },
    {
     "name": "stderr",
     "output_type": "stream",
     "text": [
      "C:\\Users\\sali85\\Anaconda3\\lib\\site-packages\\sklearn\\metrics\\_classification.py:1221: UndefinedMetricWarning: Precision is ill-defined and being set to 0.0 in labels with no predicted samples. Use `zero_division` parameter to control this behavior.\n",
      "  _warn_prf(average, modifier, msg_start, len(result))\n"
     ]
    },
    {
     "name": "stdout",
     "output_type": "stream",
     "text": [
      "KNN Class Wise Accuracy :  [0.83018868 0.93103448 1.         1.         0.         1.\n",
      " 0.         0.20512821 1.         0.6485623  1.         0.5\n",
      " 0.85636364 1.         0.77777778 0.98675497 0.         0.83653846]\n",
      "KNN Time :  49.6590443999994\n"
     ]
    },
    {
     "name": "stderr",
     "output_type": "stream",
     "text": [
      "C:\\Users\\sali85\\Anaconda3\\lib\\site-packages\\sklearn\\metrics\\_classification.py:1221: UndefinedMetricWarning: Precision is ill-defined and being set to 0.0 in labels with no predicted samples. Use `zero_division` parameter to control this behavior.\n",
      "  _warn_prf(average, modifier, msg_start, len(result))\n"
     ]
    },
    {
     "name": "stdout",
     "output_type": "stream",
     "text": [
      "RF Class Wise Accuracy :  [0.96226415 1.         0.         1.         0.         0.98701299\n",
      " 0.         0.17948718 1.         0.67731629 1.         0.5\n",
      " 0.86363636 1.         0.77777778 0.99337748 0.         0.87179487]\n",
      "RF Time :  12.348604499999055\n"
     ]
    },
    {
     "name": "stderr",
     "output_type": "stream",
     "text": [
      "C:\\Users\\sali85\\Anaconda3\\lib\\site-packages\\sklearn\\metrics\\_classification.py:1221: UndefinedMetricWarning: Precision is ill-defined and being set to 0.0 in labels with no predicted samples. Use `zero_division` parameter to control this behavior.\n",
      "  _warn_prf(average, modifier, msg_start, len(result))\n"
     ]
    },
    {
     "name": "stdout",
     "output_type": "stream",
     "text": [
      "LR Class Wise Accuracy :  [0.83018868 1.         1.         1.         0.         1.\n",
      " 0.         0.25641026 1.         0.67092652 1.         0.75\n",
      " 0.87090909 1.         0.88888889 0.99337748 0.         0.87820513]\n",
      "LR Time :  37.05726870000217\n"
     ]
    },
    {
     "name": "stderr",
     "output_type": "stream",
     "text": [
      "C:\\Users\\sali85\\Anaconda3\\lib\\site-packages\\sklearn\\metrics\\_classification.py:1221: UndefinedMetricWarning: Precision is ill-defined and being set to 0.0 in labels with no predicted samples. Use `zero_division` parameter to control this behavior.\n",
      "  _warn_prf(average, modifier, msg_start, len(result))\n",
      "C:\\Users\\sali85\\Anaconda3\\lib\\site-packages\\sklearn\\metrics\\_classification.py:1221: UndefinedMetricWarning: Recall is ill-defined and being set to 0.0 in labels with no true samples. Use `zero_division` parameter to control this behavior.\n",
      "  _warn_prf(average, modifier, msg_start, len(result))\n",
      "<ipython-input-42-273c3866d82e>:321: RuntimeWarning: invalid value encountered in true_divide\n",
      "  print(\"DT Class Wise Accuracy : \",confuse.diagonal()/confuse.sum(axis=1))\n"
     ]
    },
    {
     "name": "stdout",
     "output_type": "stream",
     "text": [
      "DT Class Wise Accuracy :  [0.77358491 0.96551724 0.         1.         0.         0.98701299\n",
      " 0.         0.25641026 0.5        0.66773163 1.         0.75\n",
      " 0.81272727        nan 1.         0.77777778 0.98013245 0.\n",
      " 0.86538462]\n",
      "DT Time :  6.112608699997509\n"
     ]
    },
    {
     "name": "stderr",
     "output_type": "stream",
     "text": [
      "C:\\Users\\sali85\\Anaconda3\\lib\\site-packages\\sklearn\\metrics\\_classification.py:1221: UndefinedMetricWarning: Precision is ill-defined and being set to 0.0 in labels with no predicted samples. Use `zero_division` parameter to control this behavior.\n",
      "  _warn_prf(average, modifier, msg_start, len(result))\n",
      "C:\\Users\\sali85\\Anaconda3\\lib\\site-packages\\sklearn\\metrics\\_classification.py:1221: UndefinedMetricWarning: Recall is ill-defined and being set to 0.0 in labels with no true samples. Use `zero_division` parameter to control this behavior.\n",
      "  _warn_prf(average, modifier, msg_start, len(result))\n",
      "<ipython-input-42-273c3866d82e>:93: RuntimeWarning: invalid value encountered in true_divide\n",
      "  print(\"SVM Class Wise Accuracy : \",confuse.diagonal()/confuse.sum(axis=1))\n"
     ]
    },
    {
     "name": "stdout",
     "output_type": "stream",
     "text": [
      "SVM Class Wise Accuracy :  [0.90566038 1.         1.         1.         0.         1.\n",
      " 0.         0.23076923 1.         0.69009585 1.         0.75\n",
      " 0.84181818        nan 1.         0.88888889 0.99337748 0.\n",
      " 0.88141026]\n",
      "SVM Time :  127.04378029999862\n"
     ]
    },
    {
     "name": "stderr",
     "output_type": "stream",
     "text": [
      "C:\\Users\\sali85\\Anaconda3\\lib\\site-packages\\sklearn\\metrics\\_classification.py:1221: UndefinedMetricWarning: Precision is ill-defined and being set to 0.0 in labels with no predicted samples. Use `zero_division` parameter to control this behavior.\n",
      "  _warn_prf(average, modifier, msg_start, len(result))\n",
      "C:\\Users\\sali85\\Anaconda3\\lib\\site-packages\\sklearn\\metrics\\_classification.py:1221: UndefinedMetricWarning: Recall is ill-defined and being set to 0.0 in labels with no true samples. Use `zero_division` parameter to control this behavior.\n",
      "  _warn_prf(average, modifier, msg_start, len(result))\n",
      "<ipython-input-42-273c3866d82e>:130: RuntimeWarning: invalid value encountered in true_divide\n",
      "  print(\"NB Class Wise Accuracy : \",confuse.diagonal()/confuse.sum(axis=1))\n"
     ]
    },
    {
     "name": "stdout",
     "output_type": "stream",
     "text": [
      "NB Class Wise Accuracy :  [1.         0.96907216 1.         0.93103448 1.         0.\n",
      " 0.28125    0.         1.         0.8913738  1.         0.66666667\n",
      " 0.25457875 0.         0.5        0.         0.83333333 0.97076023\n",
      "        nan 0.83227848]\n",
      "NB Time :  5.904043899998214\n"
     ]
    },
    {
     "name": "stderr",
     "output_type": "stream",
     "text": [
      "C:\\Users\\sali85\\Anaconda3\\lib\\site-packages\\sklearn\\metrics\\_classification.py:1221: UndefinedMetricWarning: Precision is ill-defined and being set to 0.0 in labels with no predicted samples. Use `zero_division` parameter to control this behavior.\n",
      "  _warn_prf(average, modifier, msg_start, len(result))\n",
      "C:\\Users\\sali85\\Anaconda3\\lib\\site-packages\\sklearn\\metrics\\_classification.py:1221: UndefinedMetricWarning: Recall is ill-defined and being set to 0.0 in labels with no true samples. Use `zero_division` parameter to control this behavior.\n",
      "  _warn_prf(average, modifier, msg_start, len(result))\n",
      "<ipython-input-42-273c3866d82e>:174: RuntimeWarning: invalid value encountered in true_divide\n",
      "  print(\"MLP Class Wise Accuracy : \",confuse.diagonal()/confuse.sum(axis=1))\n"
     ]
    },
    {
     "name": "stdout",
     "output_type": "stream",
     "text": [
      "MLP Class Wise Accuracy :  [0.8490566  0.95876289 1.         1.         1.         0.\n",
      " 0.25       0.         1.         0.77955272 0.                nan\n",
      " 0.66666667 0.74358974 0.         0.75       0.         0.66666667\n",
      " 0.98245614        nan 0.87025316]\n",
      "MLP Time :  62.34957399999985\n"
     ]
    },
    {
     "name": "stderr",
     "output_type": "stream",
     "text": [
      "C:\\Users\\sali85\\Anaconda3\\lib\\site-packages\\sklearn\\metrics\\_classification.py:1221: UndefinedMetricWarning: Precision is ill-defined and being set to 0.0 in labels with no predicted samples. Use `zero_division` parameter to control this behavior.\n",
      "  _warn_prf(average, modifier, msg_start, len(result))\n"
     ]
    },
    {
     "name": "stdout",
     "output_type": "stream",
     "text": [
      "KNN Class Wise Accuracy :  [0.75471698 0.94845361 1.         1.         1.         0.\n",
      " 0.28125    0.         1.         0.72523962 1.         1.\n",
      " 0.67216117 0.         0.75       0.         1.         0.98830409\n",
      " 0.93670886]\n",
      "KNN Time :  48.34719519999999\n"
     ]
    },
    {
     "name": "stderr",
     "output_type": "stream",
     "text": [
      "C:\\Users\\sali85\\Anaconda3\\lib\\site-packages\\sklearn\\metrics\\_classification.py:1221: UndefinedMetricWarning: Precision is ill-defined and being set to 0.0 in labels with no predicted samples. Use `zero_division` parameter to control this behavior.\n",
      "  _warn_prf(average, modifier, msg_start, len(result))\n"
     ]
    },
    {
     "name": "stdout",
     "output_type": "stream",
     "text": [
      "RF Class Wise Accuracy :  [1.         1.         1.         1.         1.         0.\n",
      " 0.3125     0.         1.         0.66773163 1.         1.\n",
      " 0.86263736 0.         0.75       0.         1.         0.99415205\n",
      " 0.83227848]\n",
      "RF Time :  12.181264800001372\n"
     ]
    },
    {
     "name": "stderr",
     "output_type": "stream",
     "text": [
      "C:\\Users\\sali85\\Anaconda3\\lib\\site-packages\\sklearn\\metrics\\_classification.py:1221: UndefinedMetricWarning: Precision is ill-defined and being set to 0.0 in labels with no predicted samples. Use `zero_division` parameter to control this behavior.\n",
      "  _warn_prf(average, modifier, msg_start, len(result))\n"
     ]
    },
    {
     "name": "stdout",
     "output_type": "stream",
     "text": [
      "LR Class Wise Accuracy :  [0.94339623 1.         1.         1.         1.         0.\n",
      " 0.375      0.         1.         0.66453674 1.         1.\n",
      " 0.89010989 0.         0.75       0.         1.         0.99415205\n",
      " 0.83227848]\n",
      "LR Time :  32.827960300000996\n"
     ]
    },
    {
     "name": "stderr",
     "output_type": "stream",
     "text": [
      "C:\\Users\\sali85\\Anaconda3\\lib\\site-packages\\sklearn\\metrics\\_classification.py:1221: UndefinedMetricWarning: Precision is ill-defined and being set to 0.0 in labels with no predicted samples. Use `zero_division` parameter to control this behavior.\n",
      "  _warn_prf(average, modifier, msg_start, len(result))\n"
     ]
    },
    {
     "name": "stdout",
     "output_type": "stream",
     "text": [
      "DT Class Wise Accuracy :  [0.79245283 0.94845361 1.         1.         1.         0.\n",
      " 0.375      0.         0.         0.68051118 1.         1.\n",
      " 0.82417582 0.         0.75       0.         0.66666667 0.97660819\n",
      " 0.84493671]\n",
      "DT Time :  5.947880400002759\n"
     ]
    },
    {
     "name": "stderr",
     "output_type": "stream",
     "text": [
      "C:\\Users\\sali85\\Anaconda3\\lib\\site-packages\\sklearn\\metrics\\_classification.py:1221: UndefinedMetricWarning: Precision is ill-defined and being set to 0.0 in labels with no predicted samples. Use `zero_division` parameter to control this behavior.\n",
      "  _warn_prf(average, modifier, msg_start, len(result))\n"
     ]
    },
    {
     "name": "stdout",
     "output_type": "stream",
     "text": [
      "SVM Class Wise Accuracy :  [1.         1.         1.         1.         1.         0.\n",
      " 0.3125     0.         1.         0.65175719 1.         1.\n",
      " 0.86080586 0.         0.75       0.         1.         0.99415205\n",
      " 0.86708861]\n",
      "SVM Time :  127.90767099999721\n"
     ]
    },
    {
     "name": "stderr",
     "output_type": "stream",
     "text": [
      "C:\\Users\\sali85\\Anaconda3\\lib\\site-packages\\sklearn\\metrics\\_classification.py:1221: UndefinedMetricWarning: Precision is ill-defined and being set to 0.0 in labels with no predicted samples. Use `zero_division` parameter to control this behavior.\n",
      "  _warn_prf(average, modifier, msg_start, len(result))\n"
     ]
    },
    {
     "name": "stdout",
     "output_type": "stream",
     "text": [
      "NB Class Wise Accuracy :  [1.         0.975      0.5        0.96153846 0.95604396 0.22222222\n",
      " 0.12820513 0.         1.         0.91156463 1.         0.\n",
      " 0.42857143 0.22550832 0.         1.         0.         0.7\n",
      " 0.99328859 0.         0.         0.80921053]\n",
      "NB Time :  5.703532200001064\n"
     ]
    },
    {
     "name": "stderr",
     "output_type": "stream",
     "text": [
      "C:\\Users\\sali85\\Anaconda3\\lib\\site-packages\\sklearn\\metrics\\_classification.py:1221: UndefinedMetricWarning: Precision is ill-defined and being set to 0.0 in labels with no predicted samples. Use `zero_division` parameter to control this behavior.\n",
      "  _warn_prf(average, modifier, msg_start, len(result))\n"
     ]
    },
    {
     "name": "stdout",
     "output_type": "stream",
     "text": [
      "MLP Class Wise Accuracy :  [0.85714286 0.96666667 1.         0.96153846 1.         0.\n",
      " 0.28205128 0.         0.         0.6292517  0.         0.\n",
      " 0.42857143 0.86691312 0.         1.         0.         0.9\n",
      " 1.         0.         0.         0.82894737]\n",
      "MLP Time :  43.326469200001156\n"
     ]
    },
    {
     "name": "stderr",
     "output_type": "stream",
     "text": [
      "C:\\Users\\sali85\\Anaconda3\\lib\\site-packages\\sklearn\\metrics\\_classification.py:1221: UndefinedMetricWarning: Precision is ill-defined and being set to 0.0 in labels with no predicted samples. Use `zero_division` parameter to control this behavior.\n",
      "  _warn_prf(average, modifier, msg_start, len(result))\n"
     ]
    },
    {
     "name": "stdout",
     "output_type": "stream",
     "text": [
      "KNN Class Wise Accuracy :  [0.69642857 0.94166667 0.5        1.         0.96703297 0.\n",
      " 0.20512821 0.         0.         0.73469388 1.         0.\n",
      " 0.57142857 0.81700555 0.         1.         0.         0.6\n",
      " 0.98657718 0.         0.         0.73355263]\n",
      "KNN Time :  53.60017799999696\n"
     ]
    },
    {
     "name": "stderr",
     "output_type": "stream",
     "text": [
      "C:\\Users\\sali85\\Anaconda3\\lib\\site-packages\\sklearn\\metrics\\_classification.py:1221: UndefinedMetricWarning: Precision is ill-defined and being set to 0.0 in labels with no predicted samples. Use `zero_division` parameter to control this behavior.\n",
      "  _warn_prf(average, modifier, msg_start, len(result))\n"
     ]
    },
    {
     "name": "stdout",
     "output_type": "stream",
     "text": [
      "RF Class Wise Accuracy :  [0.98214286 0.98333333 0.5        1.         1.         0.11111111\n",
      " 0.23076923 0.         1.         0.67006803 1.         0.\n",
      " 0.57142857 0.91127542 0.         1.         1.         0.8\n",
      " 1.         0.         0.         0.77960526]\n",
      "RF Time :  11.961320099999284\n"
     ]
    },
    {
     "name": "stderr",
     "output_type": "stream",
     "text": [
      "C:\\Users\\sali85\\Anaconda3\\lib\\site-packages\\sklearn\\metrics\\_classification.py:1221: UndefinedMetricWarning: Precision is ill-defined and being set to 0.0 in labels with no predicted samples. Use `zero_division` parameter to control this behavior.\n",
      "  _warn_prf(average, modifier, msg_start, len(result))\n"
     ]
    },
    {
     "name": "stdout",
     "output_type": "stream",
     "text": [
      "LR Class Wise Accuracy :  [0.96428571 0.98333333 1.         1.         1.         0.11111111\n",
      " 0.25641026 0.         1.         0.6462585  1.         0.\n",
      " 0.57142857 0.89648799 0.         1.         1.         0.9\n",
      " 1.         0.         0.         0.80592105]\n",
      "LR Time :  40.83018209999864\n"
     ]
    },
    {
     "name": "stderr",
     "output_type": "stream",
     "text": [
      "C:\\Users\\sali85\\Anaconda3\\lib\\site-packages\\sklearn\\metrics\\_classification.py:1221: UndefinedMetricWarning: Precision is ill-defined and being set to 0.0 in labels with no predicted samples. Use `zero_division` parameter to control this behavior.\n",
      "  _warn_prf(average, modifier, msg_start, len(result))\n"
     ]
    },
    {
     "name": "stdout",
     "output_type": "stream",
     "text": [
      "DT Class Wise Accuracy :  [0.85714286 0.88333333 0.5        0.96153846 0.97802198 0.11111111\n",
      " 0.20512821 0.         1.         0.63265306 1.         0.\n",
      " 0.42857143 0.88724584 0.         1.         1.         0.8\n",
      " 0.97986577 0.         0.         0.76973684]\n",
      "DT Time :  6.08260700000028\n"
     ]
    },
    {
     "name": "stderr",
     "output_type": "stream",
     "text": [
      "C:\\Users\\sali85\\Anaconda3\\lib\\site-packages\\sklearn\\metrics\\_classification.py:1221: UndefinedMetricWarning: Precision is ill-defined and being set to 0.0 in labels with no predicted samples. Use `zero_division` parameter to control this behavior.\n",
      "  _warn_prf(average, modifier, msg_start, len(result))\n"
     ]
    },
    {
     "name": "stdout",
     "output_type": "stream",
     "text": [
      "SVM Class Wise Accuracy :  [0.92857143 0.98333333 1.         1.         1.         0.22222222\n",
      " 0.23076923 0.         1.         0.6462585  1.         0.\n",
      " 0.57142857 0.86136784 0.         1.         1.         0.9\n",
      " 1.         0.         0.         0.83552632]\n",
      "SVM Time :  136.49542490000022\n"
     ]
    },
    {
     "name": "stderr",
     "output_type": "stream",
     "text": [
      "C:\\Users\\sali85\\Anaconda3\\lib\\site-packages\\sklearn\\metrics\\_classification.py:1221: UndefinedMetricWarning: Precision is ill-defined and being set to 0.0 in labels with no predicted samples. Use `zero_division` parameter to control this behavior.\n",
      "  _warn_prf(average, modifier, msg_start, len(result))\n",
      "C:\\Users\\sali85\\Anaconda3\\lib\\site-packages\\sklearn\\metrics\\_classification.py:1221: UndefinedMetricWarning: Recall is ill-defined and being set to 0.0 in labels with no true samples. Use `zero_division` parameter to control this behavior.\n",
      "  _warn_prf(average, modifier, msg_start, len(result))\n",
      "<ipython-input-42-273c3866d82e>:130: RuntimeWarning: invalid value encountered in true_divide\n",
      "  print(\"NB Class Wise Accuracy : \",confuse.diagonal()/confuse.sum(axis=1))\n"
     ]
    },
    {
     "name": "stdout",
     "output_type": "stream",
     "text": [
      "NB Class Wise Accuracy :  [0.97959184 0.97979798 0.90909091 0.         0.92222222 0.\n",
      " 0.35135135 1.         0.78481013 1.         0.5        0.26048951\n",
      "        nan 0.6        0.66666667 0.98013245 0.                nan\n",
      " 0.81727575]\n",
      "NB Time :  6.138421399999061\n"
     ]
    },
    {
     "name": "stderr",
     "output_type": "stream",
     "text": [
      "C:\\Users\\sali85\\Anaconda3\\lib\\site-packages\\sklearn\\metrics\\_classification.py:1221: UndefinedMetricWarning: Precision is ill-defined and being set to 0.0 in labels with no predicted samples. Use `zero_division` parameter to control this behavior.\n",
      "  _warn_prf(average, modifier, msg_start, len(result))\n"
     ]
    },
    {
     "name": "stdout",
     "output_type": "stream",
     "text": [
      "MLP Class Wise Accuracy :  [0.89795918 0.96969697 1.         0.         1.         0.\n",
      " 0.24324324 0.         0.81962025 0.         0.83333333 0.74475524\n",
      " 0.8        0.16666667 1.         0.         0.8538206 ]\n",
      "MLP Time :  49.75638529999924\n"
     ]
    },
    {
     "name": "stderr",
     "output_type": "stream",
     "text": [
      "C:\\Users\\sali85\\Anaconda3\\lib\\site-packages\\sklearn\\metrics\\_classification.py:1221: UndefinedMetricWarning: Precision is ill-defined and being set to 0.0 in labels with no predicted samples. Use `zero_division` parameter to control this behavior.\n",
      "  _warn_prf(average, modifier, msg_start, len(result))\n",
      "C:\\Users\\sali85\\Anaconda3\\lib\\site-packages\\sklearn\\metrics\\_classification.py:1221: UndefinedMetricWarning: Recall is ill-defined and being set to 0.0 in labels with no true samples. Use `zero_division` parameter to control this behavior.\n",
      "  _warn_prf(average, modifier, msg_start, len(result))\n",
      "<ipython-input-42-273c3866d82e>:210: RuntimeWarning: invalid value encountered in true_divide\n",
      "  print(\"KNN Class Wise Accuracy : \",confuse.diagonal()/confuse.sum(axis=1))\n"
     ]
    },
    {
     "name": "stdout",
     "output_type": "stream",
     "text": [
      "KNN Class Wise Accuracy :  [0.7755102  0.97979798        nan 1.         0.         1.\n",
      " 0.125      0.21621622 1.         0.63607595 0.         0.83333333\n",
      " 0.8986014  0.8        0.66666667 1.         0.         0.71760797]\n",
      "KNN Time :  48.481120100001135\n"
     ]
    },
    {
     "name": "stderr",
     "output_type": "stream",
     "text": [
      "C:\\Users\\sali85\\Anaconda3\\lib\\site-packages\\sklearn\\metrics\\_classification.py:1221: UndefinedMetricWarning: Precision is ill-defined and being set to 0.0 in labels with no predicted samples. Use `zero_division` parameter to control this behavior.\n",
      "  _warn_prf(average, modifier, msg_start, len(result))\n",
      "C:\\Users\\sali85\\Anaconda3\\lib\\site-packages\\sklearn\\metrics\\_classification.py:1221: UndefinedMetricWarning: Recall is ill-defined and being set to 0.0 in labels with no true samples. Use `zero_division` parameter to control this behavior.\n",
      "  _warn_prf(average, modifier, msg_start, len(result))\n",
      "<ipython-input-42-273c3866d82e>:249: RuntimeWarning: invalid value encountered in true_divide\n",
      "  print(\"RF Class Wise Accuracy : \",confuse.diagonal()/confuse.sum(axis=1))\n"
     ]
    },
    {
     "name": "stdout",
     "output_type": "stream",
     "text": [
      "RF Class Wise Accuracy :  [0.97959184 0.97979798        nan 1.         0.         0.98888889\n",
      " 0.         0.18918919 1.         0.68987342 1.         0.83333333\n",
      " 0.90734266 0.8        0.66666667 1.         0.         0.73089701]\n",
      "RF Time :  12.27754559999812\n"
     ]
    },
    {
     "name": "stderr",
     "output_type": "stream",
     "text": [
      "C:\\Users\\sali85\\Anaconda3\\lib\\site-packages\\sklearn\\metrics\\_classification.py:1221: UndefinedMetricWarning: Precision is ill-defined and being set to 0.0 in labels with no predicted samples. Use `zero_division` parameter to control this behavior.\n",
      "  _warn_prf(average, modifier, msg_start, len(result))\n",
      "C:\\Users\\sali85\\Anaconda3\\lib\\site-packages\\sklearn\\metrics\\_classification.py:1221: UndefinedMetricWarning: Recall is ill-defined and being set to 0.0 in labels with no true samples. Use `zero_division` parameter to control this behavior.\n",
      "  _warn_prf(average, modifier, msg_start, len(result))\n",
      "<ipython-input-42-273c3866d82e>:285: RuntimeWarning: invalid value encountered in true_divide\n",
      "  print(\"LR Class Wise Accuracy : \",confuse.diagonal()/confuse.sum(axis=1))\n"
     ]
    },
    {
     "name": "stdout",
     "output_type": "stream",
     "text": [
      "LR Class Wise Accuracy :  [0.97959184 0.97979798        nan 1.         0.         1.\n",
      " 0.         0.2972973  1.         0.63924051 1.         1.\n",
      " 0.91083916 0.8        0.83333333 1.         0.         0.78405316]\n",
      "LR Time :  46.824459899999056\n"
     ]
    },
    {
     "name": "stderr",
     "output_type": "stream",
     "text": [
      "C:\\Users\\sali85\\Anaconda3\\lib\\site-packages\\sklearn\\metrics\\_classification.py:1221: UndefinedMetricWarning: Precision is ill-defined and being set to 0.0 in labels with no predicted samples. Use `zero_division` parameter to control this behavior.\n",
      "  _warn_prf(average, modifier, msg_start, len(result))\n",
      "C:\\Users\\sali85\\Anaconda3\\lib\\site-packages\\sklearn\\metrics\\_classification.py:1221: UndefinedMetricWarning: Recall is ill-defined and being set to 0.0 in labels with no true samples. Use `zero_division` parameter to control this behavior.\n",
      "  _warn_prf(average, modifier, msg_start, len(result))\n",
      "<ipython-input-42-273c3866d82e>:321: RuntimeWarning: invalid value encountered in true_divide\n",
      "  print(\"DT Class Wise Accuracy : \",confuse.diagonal()/confuse.sum(axis=1))\n"
     ]
    },
    {
     "name": "stdout",
     "output_type": "stream",
     "text": [
      "DT Class Wise Accuracy :  [0.81632653 0.94949495        nan 1.         0.         0.98888889\n",
      " 0.         0.27027027 1.         0.67088608 1.         1.\n",
      " 0.87937063 0.8               nan 0.5        0.98675497 0.\n",
      " 0.69767442]\n",
      "DT Time :  7.07960169999933\n"
     ]
    },
    {
     "name": "stderr",
     "output_type": "stream",
     "text": [
      "C:\\Users\\sali85\\Anaconda3\\lib\\site-packages\\sklearn\\metrics\\_classification.py:1221: UndefinedMetricWarning: Precision is ill-defined and being set to 0.0 in labels with no predicted samples. Use `zero_division` parameter to control this behavior.\n",
      "  _warn_prf(average, modifier, msg_start, len(result))\n",
      "C:\\Users\\sali85\\Anaconda3\\lib\\site-packages\\sklearn\\metrics\\_classification.py:1221: UndefinedMetricWarning: Recall is ill-defined and being set to 0.0 in labels with no true samples. Use `zero_division` parameter to control this behavior.\n",
      "  _warn_prf(average, modifier, msg_start, len(result))\n",
      "<ipython-input-42-273c3866d82e>:93: RuntimeWarning: invalid value encountered in true_divide\n",
      "  print(\"SVM Class Wise Accuracy : \",confuse.diagonal()/confuse.sum(axis=1))\n"
     ]
    },
    {
     "name": "stdout",
     "output_type": "stream",
     "text": [
      "SVM Class Wise Accuracy :  [0.97959184 0.97979798        nan 1.         0.         1.\n",
      " 0.         0.35135135 1.         0.66139241 1.         1.\n",
      " 0.92307692        nan 0.8        0.83333333 1.         0.\n",
      " 0.71096346]\n",
      "SVM Time :  156.35345640000014\n"
     ]
    },
    {
     "name": "stderr",
     "output_type": "stream",
     "text": [
      "C:\\Users\\sali85\\Anaconda3\\lib\\site-packages\\sklearn\\metrics\\_classification.py:1221: UndefinedMetricWarning: Precision is ill-defined and being set to 0.0 in labels with no predicted samples. Use `zero_division` parameter to control this behavior.\n",
      "  _warn_prf(average, modifier, msg_start, len(result))\n",
      "C:\\Users\\sali85\\Anaconda3\\lib\\site-packages\\sklearn\\metrics\\_classification.py:1221: UndefinedMetricWarning: Recall is ill-defined and being set to 0.0 in labels with no true samples. Use `zero_division` parameter to control this behavior.\n",
      "  _warn_prf(average, modifier, msg_start, len(result))\n",
      "<ipython-input-42-273c3866d82e>:130: RuntimeWarning: invalid value encountered in true_divide\n",
      "  print(\"NB Class Wise Accuracy : \",confuse.diagonal()/confuse.sum(axis=1))\n"
     ]
    },
    {
     "name": "stdout",
     "output_type": "stream",
     "text": [
      "NB Class Wise Accuracy :  [0.97297297 1.         0.5        0.95454545 0.96153846 0.09090909\n",
      " 0.16666667 1.         0.87537994 1.         0.         0.5\n",
      " 0.25239006 0.         0.8        0.         0.8        0.98305085\n",
      "        nan 0.81469649]\n",
      "NB Time :  6.76869330000045\n"
     ]
    },
    {
     "name": "stderr",
     "output_type": "stream",
     "text": [
      "C:\\Users\\sali85\\Anaconda3\\lib\\site-packages\\sklearn\\metrics\\_classification.py:1221: UndefinedMetricWarning: Precision is ill-defined and being set to 0.0 in labels with no predicted samples. Use `zero_division` parameter to control this behavior.\n",
      "  _warn_prf(average, modifier, msg_start, len(result))\n"
     ]
    },
    {
     "name": "stdout",
     "output_type": "stream",
     "text": [
      "MLP Class Wise Accuracy :  [0.89189189 0.975      0.5        1.         1.         0.09090909\n",
      " 0.19444444 0.         0.65045593 0.         0.         0.5\n",
      " 0.8623327  0.         1.         1.         0.8        0.98870056\n",
      " 0.85303514]\n"
     ]
    },
    {
     "name": "stderr",
     "output_type": "stream",
     "text": [
      "C:\\Users\\sali85\\Anaconda3\\lib\\site-packages\\sklearn\\metrics\\_classification.py:1221: UndefinedMetricWarning: Precision is ill-defined and being set to 0.0 in labels with no predicted samples. Use `zero_division` parameter to control this behavior.\n",
      "  _warn_prf(average, modifier, msg_start, len(result))\n"
     ]
    },
    {
     "name": "stdout",
     "output_type": "stream",
     "text": [
      "MLP Time :  48.07052219999969\n",
      "KNN Class Wise Accuracy :  [0.81081081 0.98333333 0.         1.         1.         0.09090909\n",
      " 0.33333333 1.         0.71732523 1.         0.         0.75\n",
      " 0.75143403 0.         1.         0.         1.         0.99435028\n",
      " 0.79233227]\n",
      "KNN Time :  51.206642699999065\n"
     ]
    },
    {
     "name": "stderr",
     "output_type": "stream",
     "text": [
      "C:\\Users\\sali85\\Anaconda3\\lib\\site-packages\\sklearn\\metrics\\_classification.py:1221: UndefinedMetricWarning: Precision is ill-defined and being set to 0.0 in labels with no predicted samples. Use `zero_division` parameter to control this behavior.\n",
      "  _warn_prf(average, modifier, msg_start, len(result))\n"
     ]
    },
    {
     "name": "stdout",
     "output_type": "stream",
     "text": [
      "RF Class Wise Accuracy :  [0.94594595 1.         0.5        1.         1.         0.\n",
      " 0.30555556 1.         0.66261398 1.         0.         0.75\n",
      " 0.87762906 0.         1.         1.         1.         0.99435028\n",
      " 0.82747604]\n",
      "RF Time :  11.692345399998885\n"
     ]
    },
    {
     "name": "stderr",
     "output_type": "stream",
     "text": [
      "C:\\Users\\sali85\\Anaconda3\\lib\\site-packages\\sklearn\\metrics\\_classification.py:1221: UndefinedMetricWarning: Precision is ill-defined and being set to 0.0 in labels with no predicted samples. Use `zero_division` parameter to control this behavior.\n",
      "  _warn_prf(average, modifier, msg_start, len(result))\n"
     ]
    },
    {
     "name": "stdout",
     "output_type": "stream",
     "text": [
      "LR Class Wise Accuracy :  [0.89189189 1.         1.         1.         1.         0.09090909\n",
      " 0.25       1.         0.67173252 1.         0.         0.75\n",
      " 0.89674952 0.         1.         1.         1.         0.99435028\n",
      " 0.81469649]\n",
      "LR Time :  45.94870500000252\n"
     ]
    },
    {
     "name": "stderr",
     "output_type": "stream",
     "text": [
      "C:\\Users\\sali85\\Anaconda3\\lib\\site-packages\\sklearn\\metrics\\_classification.py:1221: UndefinedMetricWarning: Precision is ill-defined and being set to 0.0 in labels with no predicted samples. Use `zero_division` parameter to control this behavior.\n",
      "  _warn_prf(average, modifier, msg_start, len(result))\n",
      "C:\\Users\\sali85\\Anaconda3\\lib\\site-packages\\sklearn\\metrics\\_classification.py:1221: UndefinedMetricWarning: Recall is ill-defined and being set to 0.0 in labels with no true samples. Use `zero_division` parameter to control this behavior.\n",
      "  _warn_prf(average, modifier, msg_start, len(result))\n",
      "<ipython-input-42-273c3866d82e>:321: RuntimeWarning: invalid value encountered in true_divide\n",
      "  print(\"DT Class Wise Accuracy : \",confuse.diagonal()/confuse.sum(axis=1))\n"
     ]
    },
    {
     "name": "stdout",
     "output_type": "stream",
     "text": [
      "DT Class Wise Accuracy :  [0.83783784 0.95833333 0.5        0.95454545        nan 1.\n",
      " 0.09090909 0.33333333 1.         0.64133739 0.5        0.\n",
      " 0.5        0.85277247 0.         1.         0.         0.8\n",
      " 0.98305085 0.78913738]\n",
      "DT Time :  5.599127299999964\n"
     ]
    },
    {
     "name": "stderr",
     "output_type": "stream",
     "text": [
      "C:\\Users\\sali85\\Anaconda3\\lib\\site-packages\\sklearn\\metrics\\_classification.py:1221: UndefinedMetricWarning: Precision is ill-defined and being set to 0.0 in labels with no predicted samples. Use `zero_division` parameter to control this behavior.\n",
      "  _warn_prf(average, modifier, msg_start, len(result))\n"
     ]
    },
    {
     "name": "stdout",
     "output_type": "stream",
     "text": [
      "SVM Class Wise Accuracy :  [0.94594595 1.         1.         1.         1.         0.\n",
      " 0.36111111 1.         0.65349544 1.         0.         0.75\n",
      " 0.88718929 0.         1.         1.         1.         0.99435028\n",
      " 0.79552716]\n",
      "SVM Time :  136.63620569999694\n"
     ]
    },
    {
     "name": "stderr",
     "output_type": "stream",
     "text": [
      "C:\\Users\\sali85\\Anaconda3\\lib\\site-packages\\sklearn\\metrics\\_classification.py:1221: UndefinedMetricWarning: Precision is ill-defined and being set to 0.0 in labels with no predicted samples. Use `zero_division` parameter to control this behavior.\n",
      "  _warn_prf(average, modifier, msg_start, len(result))\n"
     ]
    },
    {
     "name": "stdout",
     "output_type": "stream",
     "text": [
      "NB Class Wise Accuracy :  [0.9787234  0.96124031 1.         0.93333333 0.         0.95833333\n",
      " 0.08333333 0.26470588 1.         0.90415335 0.66666667 0.5\n",
      " 0.25886525 0.         0.5        0.         0.77777778 0.99401198\n",
      " 0.         0.         0.8302583 ]\n",
      "NB Time :  5.641066000000137\n"
     ]
    },
    {
     "name": "stderr",
     "output_type": "stream",
     "text": [
      "C:\\Users\\sali85\\Anaconda3\\lib\\site-packages\\sklearn\\metrics\\_classification.py:1221: UndefinedMetricWarning: Precision is ill-defined and being set to 0.0 in labels with no predicted samples. Use `zero_division` parameter to control this behavior.\n",
      "  _warn_prf(average, modifier, msg_start, len(result))\n"
     ]
    },
    {
     "name": "stdout",
     "output_type": "stream",
     "text": [
      "MLP Class Wise Accuracy :  [0.80851064 0.9379845  1.         1.         0.         0.98611111\n",
      " 0.         0.20588235 0.         0.87220447 1.         0.75\n",
      " 0.62234043 0.         1.         0.         0.88888889 0.99401198\n",
      " 0.         0.         0.8597786 ]\n",
      "MLP Time :  62.45100459999958\n"
     ]
    },
    {
     "name": "stderr",
     "output_type": "stream",
     "text": [
      "C:\\Users\\sali85\\Anaconda3\\lib\\site-packages\\sklearn\\metrics\\_classification.py:1221: UndefinedMetricWarning: Precision is ill-defined and being set to 0.0 in labels with no predicted samples. Use `zero_division` parameter to control this behavior.\n",
      "  _warn_prf(average, modifier, msg_start, len(result))\n"
     ]
    },
    {
     "name": "stdout",
     "output_type": "stream",
     "text": [
      "KNN Class Wise Accuracy :  [0.72340426 0.89922481 0.5        1.         0.         0.98611111\n",
      " 0.         0.26470588 1.         0.64217252 0.         0.75\n",
      " 0.78546099 0.         0.75       0.         0.88888889 0.98203593\n",
      " 0.         0.         0.86346863]\n",
      "KNN Time :  52.26909389999855\n"
     ]
    },
    {
     "name": "stderr",
     "output_type": "stream",
     "text": [
      "C:\\Users\\sali85\\Anaconda3\\lib\\site-packages\\sklearn\\metrics\\_classification.py:1221: UndefinedMetricWarning: Precision is ill-defined and being set to 0.0 in labels with no predicted samples. Use `zero_division` parameter to control this behavior.\n",
      "  _warn_prf(average, modifier, msg_start, len(result))\n"
     ]
    },
    {
     "name": "stdout",
     "output_type": "stream",
     "text": [
      "RF Class Wise Accuracy :  [0.95744681 0.99224806 1.         1.         0.         1.\n",
      " 0.08333333 0.17647059 1.         0.66773163 1.         0.75\n",
      " 0.88652482 0.         0.75       1.         1.         1.\n",
      " 0.         0.         0.79335793]\n",
      "RF Time :  11.889421700001549\n"
     ]
    },
    {
     "name": "stderr",
     "output_type": "stream",
     "text": [
      "C:\\Users\\sali85\\Anaconda3\\lib\\site-packages\\sklearn\\metrics\\_classification.py:1221: UndefinedMetricWarning: Precision is ill-defined and being set to 0.0 in labels with no predicted samples. Use `zero_division` parameter to control this behavior.\n",
      "  _warn_prf(average, modifier, msg_start, len(result))\n"
     ]
    },
    {
     "name": "stdout",
     "output_type": "stream",
     "text": [
      "LR Class Wise Accuracy :  [0.95744681 1.         1.         1.         0.         1.\n",
      " 0.08333333 0.29411765 1.         0.67092652 1.         1.\n",
      " 0.89716312 0.         1.         1.         1.         1.\n",
      " 0.         0.         0.82287823]\n",
      "LR Time :  41.61989249999897\n"
     ]
    },
    {
     "name": "stderr",
     "output_type": "stream",
     "text": [
      "C:\\Users\\sali85\\Anaconda3\\lib\\site-packages\\sklearn\\metrics\\_classification.py:1221: UndefinedMetricWarning: Precision is ill-defined and being set to 0.0 in labels with no predicted samples. Use `zero_division` parameter to control this behavior.\n",
      "  _warn_prf(average, modifier, msg_start, len(result))\n"
     ]
    },
    {
     "name": "stdout",
     "output_type": "stream",
     "text": [
      "DT Class Wise Accuracy :  [0.80851064 0.99224806 1.         1.         0.         0.98611111\n",
      " 0.08333333 0.35294118 0.         0.62619808 0.         0.75\n",
      " 0.82446809 0.         0.5        1.         0.88888889 0.99401198\n",
      " 0.         0.         0.80073801]\n",
      "DT Time :  5.494668700001057\n"
     ]
    },
    {
     "name": "stderr",
     "output_type": "stream",
     "text": [
      "C:\\Users\\sali85\\Anaconda3\\lib\\site-packages\\sklearn\\metrics\\_classification.py:1221: UndefinedMetricWarning: Precision is ill-defined and being set to 0.0 in labels with no predicted samples. Use `zero_division` parameter to control this behavior.\n",
      "  _warn_prf(average, modifier, msg_start, len(result))\n"
     ]
    },
    {
     "name": "stdout",
     "output_type": "stream",
     "text": [
      "SVM Class Wise Accuracy :  [0.95744681 1.         1.         1.         0.         1.\n",
      " 0.08333333 0.20588235 1.         0.66134185 1.         1.\n",
      " 0.91489362 0.         0.75       1.         1.         1.\n",
      " 0.         0.         0.73800738]\n",
      "SVM Time :  134.96690820000003\n"
     ]
    },
    {
     "name": "stderr",
     "output_type": "stream",
     "text": [
      "C:\\Users\\sali85\\Anaconda3\\lib\\site-packages\\sklearn\\metrics\\_classification.py:1221: UndefinedMetricWarning: Precision is ill-defined and being set to 0.0 in labels with no predicted samples. Use `zero_division` parameter to control this behavior.\n",
      "  _warn_prf(average, modifier, msg_start, len(result))\n"
     ]
    },
    {
     "name": "stdout",
     "output_type": "stream",
     "text": [
      "NB Class Wise Accuracy :  [1.         0.96638655 0.2        1.         0.95876289 0.1\n",
      " 0.13888889 0.4        0.8975265  1.         0.         0.75\n",
      " 0.24394786 0.         0.71428571 0.875      0.98333333 0.\n",
      " 0.         0.84539474]\n",
      "NB Time :  6.039309400002821\n"
     ]
    },
    {
     "name": "stderr",
     "output_type": "stream",
     "text": [
      "C:\\Users\\sali85\\Anaconda3\\lib\\site-packages\\sklearn\\metrics\\_classification.py:1221: UndefinedMetricWarning: Precision is ill-defined and being set to 0.0 in labels with no predicted samples. Use `zero_division` parameter to control this behavior.\n",
      "  _warn_prf(average, modifier, msg_start, len(result))\n",
      "C:\\Users\\sali85\\Anaconda3\\lib\\site-packages\\sklearn\\metrics\\_classification.py:1221: UndefinedMetricWarning: Recall is ill-defined and being set to 0.0 in labels with no true samples. Use `zero_division` parameter to control this behavior.\n",
      "  _warn_prf(average, modifier, msg_start, len(result))\n",
      "<ipython-input-42-273c3866d82e>:174: RuntimeWarning: invalid value encountered in true_divide\n",
      "  print(\"MLP Class Wise Accuracy : \",confuse.diagonal()/confuse.sum(axis=1))\n"
     ]
    },
    {
     "name": "stdout",
     "output_type": "stream",
     "text": [
      "MLP Class Wise Accuracy :  [0.89361702 0.95798319 0.2        1.         0.98969072 0.1\n",
      " 0.13888889 1.         0.69611307 1.         0.         0.75\n",
      " 0.91061453 0.         0.57142857        nan 0.875      0.99444444\n",
      " 0.         0.         0.77302632]\n",
      "MLP Time :  51.730870100000175\n"
     ]
    },
    {
     "name": "stderr",
     "output_type": "stream",
     "text": [
      "C:\\Users\\sali85\\Anaconda3\\lib\\site-packages\\sklearn\\metrics\\_classification.py:1221: UndefinedMetricWarning: Precision is ill-defined and being set to 0.0 in labels with no predicted samples. Use `zero_division` parameter to control this behavior.\n",
      "  _warn_prf(average, modifier, msg_start, len(result))\n"
     ]
    },
    {
     "name": "stdout",
     "output_type": "stream",
     "text": [
      "KNN Class Wise Accuracy :  [0.85106383 0.99159664 0.         1.         1.         0.\n",
      " 0.11111111 1.         0.83745583 1.         0.         0.75\n",
      " 0.63500931 0.         0.85714286 1.         0.98888889 0.\n",
      " 0.         0.88486842]\n",
      "KNN Time :  46.97135640000124\n"
     ]
    },
    {
     "name": "stderr",
     "output_type": "stream",
     "text": [
      "C:\\Users\\sali85\\Anaconda3\\lib\\site-packages\\sklearn\\metrics\\_classification.py:1221: UndefinedMetricWarning: Precision is ill-defined and being set to 0.0 in labels with no predicted samples. Use `zero_division` parameter to control this behavior.\n",
      "  _warn_prf(average, modifier, msg_start, len(result))\n"
     ]
    },
    {
     "name": "stdout",
     "output_type": "stream",
     "text": [
      "RF Class Wise Accuracy :  [1.         1.         0.2        1.         0.98969072 0.1\n",
      " 0.13888889 1.         0.71024735 1.         0.         0.75\n",
      " 0.90502793 0.         0.85714286 1.         1.         0.\n",
      " 0.         0.83552632]\n",
      "RF Time :  12.447714699999779\n"
     ]
    },
    {
     "name": "stderr",
     "output_type": "stream",
     "text": [
      "C:\\Users\\sali85\\Anaconda3\\lib\\site-packages\\sklearn\\metrics\\_classification.py:1221: UndefinedMetricWarning: Precision is ill-defined and being set to 0.0 in labels with no predicted samples. Use `zero_division` parameter to control this behavior.\n",
      "  _warn_prf(average, modifier, msg_start, len(result))\n"
     ]
    },
    {
     "name": "stdout",
     "output_type": "stream",
     "text": [
      "LR Class Wise Accuracy :  [1.         0.99159664 0.2        1.         1.         0.1\n",
      " 0.13888889 1.         0.65371025 1.         0.         1.\n",
      " 0.86964618 0.         0.85714286 1.         0.98888889 0.\n",
      " 0.         0.89144737]\n",
      "LR Time :  49.081528999999136\n"
     ]
    },
    {
     "name": "stderr",
     "output_type": "stream",
     "text": [
      "C:\\Users\\sali85\\Anaconda3\\lib\\site-packages\\sklearn\\metrics\\_classification.py:1221: UndefinedMetricWarning: Precision is ill-defined and being set to 0.0 in labels with no predicted samples. Use `zero_division` parameter to control this behavior.\n",
      "  _warn_prf(average, modifier, msg_start, len(result))\n"
     ]
    },
    {
     "name": "stdout",
     "output_type": "stream",
     "text": [
      "DT Class Wise Accuracy :  [0.80851064 0.97478992 0.2        1.         0.96907216 0.1\n",
      " 0.11111111 0.6        0.66077739 1.         0.         1.\n",
      " 0.8566108  0.         0.85714286 0.875      0.97777778 0.\n",
      " 0.         0.84868421]\n",
      "DT Time :  6.694180700000288\n"
     ]
    },
    {
     "name": "stderr",
     "output_type": "stream",
     "text": [
      "C:\\Users\\sali85\\Anaconda3\\lib\\site-packages\\sklearn\\metrics\\_classification.py:1221: UndefinedMetricWarning: Precision is ill-defined and being set to 0.0 in labels with no predicted samples. Use `zero_division` parameter to control this behavior.\n",
      "  _warn_prf(average, modifier, msg_start, len(result))\n"
     ]
    },
    {
     "name": "stdout",
     "output_type": "stream",
     "text": [
      "SVM Class Wise Accuracy :  [1.         1.         0.2        1.         1.         0.2\n",
      " 0.13888889 1.         0.67491166 1.         0.         1.\n",
      " 0.86219739 0.         0.85714286 1.         0.98888889 0.\n",
      " 0.         0.89473684]\n",
      "SVM Time :  142.2815030999991\n"
     ]
    },
    {
     "name": "stderr",
     "output_type": "stream",
     "text": [
      "C:\\Users\\sali85\\Anaconda3\\lib\\site-packages\\sklearn\\metrics\\_classification.py:1221: UndefinedMetricWarning: Precision is ill-defined and being set to 0.0 in labels with no predicted samples. Use `zero_division` parameter to control this behavior.\n",
      "  _warn_prf(average, modifier, msg_start, len(result))\n",
      "C:\\Users\\sali85\\Anaconda3\\lib\\site-packages\\sklearn\\metrics\\_classification.py:1221: UndefinedMetricWarning: Recall is ill-defined and being set to 0.0 in labels with no true samples. Use `zero_division` parameter to control this behavior.\n",
      "  _warn_prf(average, modifier, msg_start, len(result))\n",
      "<ipython-input-42-273c3866d82e>:130: RuntimeWarning: invalid value encountered in true_divide\n",
      "  print(\"NB Class Wise Accuracy : \",confuse.diagonal()/confuse.sum(axis=1))\n"
     ]
    },
    {
     "name": "stdout",
     "output_type": "stream",
     "text": [
      "NB Class Wise Accuracy :  [1.         0.95959596 0.         1.         0.94382022 0.09090909\n",
      " 0.17948718 1.         0.82792208 1.         0.         0.25\n",
      " 0.25746269        nan 0.83333333 0.85714286 0.97619048 0.\n",
      " 0.82554517]\n",
      "NB Time :  6.28029830000014\n"
     ]
    },
    {
     "name": "stderr",
     "output_type": "stream",
     "text": [
      "C:\\Users\\sali85\\Anaconda3\\lib\\site-packages\\sklearn\\metrics\\_classification.py:1221: UndefinedMetricWarning: Precision is ill-defined and being set to 0.0 in labels with no predicted samples. Use `zero_division` parameter to control this behavior.\n",
      "  _warn_prf(average, modifier, msg_start, len(result))\n",
      "C:\\Users\\sali85\\Anaconda3\\lib\\site-packages\\sklearn\\metrics\\_classification.py:1221: UndefinedMetricWarning: Recall is ill-defined and being set to 0.0 in labels with no true samples. Use `zero_division` parameter to control this behavior.\n",
      "  _warn_prf(average, modifier, msg_start, len(result))\n",
      "<ipython-input-42-273c3866d82e>:174: RuntimeWarning: invalid value encountered in true_divide\n",
      "  print(\"MLP Class Wise Accuracy : \",confuse.diagonal()/confuse.sum(axis=1))\n"
     ]
    },
    {
     "name": "stdout",
     "output_type": "stream",
     "text": [
      "MLP Class Wise Accuracy :  [0.87804878 0.96969697 1.         1.         0.96629213 0.09090909\n",
      " 0.23076923        nan 1.         0.59090909 0.         0.\n",
      " 0.5        0.93843284 1.         1.         1.         0.\n",
      " 0.76012461]\n",
      "MLP Time :  30.769869600000675\n"
     ]
    },
    {
     "name": "stderr",
     "output_type": "stream",
     "text": [
      "C:\\Users\\sali85\\Anaconda3\\lib\\site-packages\\sklearn\\metrics\\_classification.py:1221: UndefinedMetricWarning: Precision is ill-defined and being set to 0.0 in labels with no predicted samples. Use `zero_division` parameter to control this behavior.\n",
      "  _warn_prf(average, modifier, msg_start, len(result))\n"
     ]
    },
    {
     "name": "stdout",
     "output_type": "stream",
     "text": [
      "KNN Class Wise Accuracy :  [0.70731707 0.93939394 0.         1.         0.98876404 0.\n",
      " 0.12820513 1.         0.75324675 1.         0.         0.625\n",
      " 0.75746269 1.         1.         0.99404762 0.         0.83800623]\n",
      "KNN Time :  48.58363399999871\n"
     ]
    },
    {
     "name": "stderr",
     "output_type": "stream",
     "text": [
      "C:\\Users\\sali85\\Anaconda3\\lib\\site-packages\\sklearn\\metrics\\_classification.py:1221: UndefinedMetricWarning: Precision is ill-defined and being set to 0.0 in labels with no predicted samples. Use `zero_division` parameter to control this behavior.\n",
      "  _warn_prf(average, modifier, msg_start, len(result))\n"
     ]
    },
    {
     "name": "stdout",
     "output_type": "stream",
     "text": [
      "RF Class Wise Accuracy :  [0.97560976 0.97979798 0.         1.         1.         0.09090909\n",
      " 0.17948718 1.         0.69155844 1.         0.         0.625\n",
      " 0.88246269 1.         0.85714286 1.         0.         0.79127726]\n",
      "RF Time :  12.126903799999127\n"
     ]
    },
    {
     "name": "stderr",
     "output_type": "stream",
     "text": [
      "C:\\Users\\sali85\\Anaconda3\\lib\\site-packages\\sklearn\\metrics\\_classification.py:1221: UndefinedMetricWarning: Precision is ill-defined and being set to 0.0 in labels with no predicted samples. Use `zero_division` parameter to control this behavior.\n",
      "  _warn_prf(average, modifier, msg_start, len(result))\n",
      "C:\\Users\\sali85\\Anaconda3\\lib\\site-packages\\sklearn\\metrics\\_classification.py:1221: UndefinedMetricWarning: Recall is ill-defined and being set to 0.0 in labels with no true samples. Use `zero_division` parameter to control this behavior.\n",
      "  _warn_prf(average, modifier, msg_start, len(result))\n",
      "<ipython-input-42-273c3866d82e>:285: RuntimeWarning: invalid value encountered in true_divide\n",
      "  print(\"LR Class Wise Accuracy : \",confuse.diagonal()/confuse.sum(axis=1))\n"
     ]
    },
    {
     "name": "stdout",
     "output_type": "stream",
     "text": [
      "LR Class Wise Accuracy :  [0.95121951 1.         0.33333333 1.         1.         0.09090909\n",
      " 0.20512821 1.         0.71103896 1.         0.         0.625\n",
      " 0.8880597         nan 1.         1.         0.99404762 0.\n",
      " 0.80685358]\n",
      "LR Time :  46.499195399999735\n"
     ]
    },
    {
     "name": "stderr",
     "output_type": "stream",
     "text": [
      "C:\\Users\\sali85\\Anaconda3\\lib\\site-packages\\sklearn\\metrics\\_classification.py:1221: UndefinedMetricWarning: Precision is ill-defined and being set to 0.0 in labels with no predicted samples. Use `zero_division` parameter to control this behavior.\n",
      "  _warn_prf(average, modifier, msg_start, len(result))\n",
      "C:\\Users\\sali85\\Anaconda3\\lib\\site-packages\\sklearn\\metrics\\_classification.py:1221: UndefinedMetricWarning: Recall is ill-defined and being set to 0.0 in labels with no true samples. Use `zero_division` parameter to control this behavior.\n",
      "  _warn_prf(average, modifier, msg_start, len(result))\n",
      "<ipython-input-42-273c3866d82e>:321: RuntimeWarning: invalid value encountered in true_divide\n",
      "  print(\"DT Class Wise Accuracy : \",confuse.diagonal()/confuse.sum(axis=1))\n"
     ]
    },
    {
     "name": "stdout",
     "output_type": "stream",
     "text": [
      "DT Class Wise Accuracy :  [0.90243902 0.94949495 0.         0.96              nan 0.98876404\n",
      " 0.09090909 0.12820513 1.         0.67207792 1.         0.\n",
      " 0.625      0.84701493 0.83333333 1.         0.98214286        nan\n",
      " 0.         0.78816199]\n",
      "DT Time :  5.811274100000446\n"
     ]
    },
    {
     "name": "stderr",
     "output_type": "stream",
     "text": [
      "C:\\Users\\sali85\\Anaconda3\\lib\\site-packages\\sklearn\\metrics\\_classification.py:1221: UndefinedMetricWarning: Precision is ill-defined and being set to 0.0 in labels with no predicted samples. Use `zero_division` parameter to control this behavior.\n",
      "  _warn_prf(average, modifier, msg_start, len(result))\n",
      "C:\\Users\\sali85\\Anaconda3\\lib\\site-packages\\sklearn\\metrics\\_classification.py:1221: UndefinedMetricWarning: Recall is ill-defined and being set to 0.0 in labels with no true samples. Use `zero_division` parameter to control this behavior.\n",
      "  _warn_prf(average, modifier, msg_start, len(result))\n",
      "<ipython-input-42-273c3866d82e>:93: RuntimeWarning: invalid value encountered in true_divide\n",
      "  print(\"SVM Class Wise Accuracy : \",confuse.diagonal()/confuse.sum(axis=1))\n"
     ]
    },
    {
     "name": "stdout",
     "output_type": "stream",
     "text": [
      "SVM Class Wise Accuracy :  [0.97560976 1.         0.33333333 1.         1.         0.09090909\n",
      " 0.23076923 1.         0.66883117 1.         0.         0.625\n",
      " 0.90858209        nan 1.         1.         0.99404762 0.\n",
      " 0.76635514]\n",
      "SVM Time :  138.5471080999996\n"
     ]
    },
    {
     "name": "stderr",
     "output_type": "stream",
     "text": [
      "C:\\Users\\sali85\\Anaconda3\\lib\\site-packages\\sklearn\\metrics\\_classification.py:1221: UndefinedMetricWarning: Precision is ill-defined and being set to 0.0 in labels with no predicted samples. Use `zero_division` parameter to control this behavior.\n",
      "  _warn_prf(average, modifier, msg_start, len(result))\n"
     ]
    },
    {
     "name": "stdout",
     "output_type": "stream",
     "text": [
      "NB Class Wise Accuracy :  [0.97826087 0.96666667 0.5        0.93103448 0.         0.95348837\n",
      " 0.08333333 0.26190476 0.         1.         0.91554054 0.4\n",
      " 0.2754159  0.         1.         0.         0.72727273 0.98726115\n",
      " 0.         0.         0.82679739]\n",
      "NB Time :  5.6345765000005485\n"
     ]
    },
    {
     "name": "stderr",
     "output_type": "stream",
     "text": [
      "C:\\Users\\sali85\\Anaconda3\\lib\\site-packages\\sklearn\\metrics\\_classification.py:1221: UndefinedMetricWarning: Precision is ill-defined and being set to 0.0 in labels with no predicted samples. Use `zero_division` parameter to control this behavior.\n",
      "  _warn_prf(average, modifier, msg_start, len(result))\n"
     ]
    },
    {
     "name": "stdout",
     "output_type": "stream",
     "text": [
      "MLP Class Wise Accuracy :  [0.91304348 0.975      0.5        1.         0.         0.98837209\n",
      " 0.08333333 0.33333333 0.         1.         0.67567568 0.4\n",
      " 0.88170055 0.         1.         0.         0.72727273 1.\n",
      " 0.         0.         0.79411765]\n",
      "MLP Time :  45.0256539999973\n"
     ]
    },
    {
     "name": "stderr",
     "output_type": "stream",
     "text": [
      "C:\\Users\\sali85\\Anaconda3\\lib\\site-packages\\sklearn\\metrics\\_classification.py:1221: UndefinedMetricWarning: Precision is ill-defined and being set to 0.0 in labels with no predicted samples. Use `zero_division` parameter to control this behavior.\n",
      "  _warn_prf(average, modifier, msg_start, len(result))\n",
      "C:\\Users\\sali85\\Anaconda3\\lib\\site-packages\\sklearn\\metrics\\_classification.py:1221: UndefinedMetricWarning: Recall is ill-defined and being set to 0.0 in labels with no true samples. Use `zero_division` parameter to control this behavior.\n",
      "  _warn_prf(average, modifier, msg_start, len(result))\n",
      "<ipython-input-42-273c3866d82e>:210: RuntimeWarning: invalid value encountered in true_divide\n",
      "  print(\"KNN Class Wise Accuracy : \",confuse.diagonal()/confuse.sum(axis=1))\n"
     ]
    },
    {
     "name": "stdout",
     "output_type": "stream",
     "text": [
      "KNN Class Wise Accuracy :  [0.7826087  0.99166667 0.         1.         0.         1.\n",
      " 0.08333333 0.26190476 0.         1.         0.72635135        nan\n",
      " 0.6        0.8077634  0.         1.         0.         0.45454545\n",
      " 0.99363057 0.         0.         0.7745098 ]\n",
      "KNN Time :  46.90564380000069\n"
     ]
    },
    {
     "name": "stderr",
     "output_type": "stream",
     "text": [
      "C:\\Users\\sali85\\Anaconda3\\lib\\site-packages\\sklearn\\metrics\\_classification.py:1221: UndefinedMetricWarning: Precision is ill-defined and being set to 0.0 in labels with no predicted samples. Use `zero_division` parameter to control this behavior.\n",
      "  _warn_prf(average, modifier, msg_start, len(result))\n"
     ]
    },
    {
     "name": "stdout",
     "output_type": "stream",
     "text": [
      "RF Class Wise Accuracy :  [0.95652174 0.98333333 0.5        1.         0.         1.\n",
      " 0.         0.28571429 0.         1.         0.68918919 0.4\n",
      " 0.88170055 0.         1.         1.         0.81818182 1.\n",
      " 0.         0.         0.76797386]\n",
      "RF Time :  12.008573099999921\n"
     ]
    },
    {
     "name": "stderr",
     "output_type": "stream",
     "text": [
      "C:\\Users\\sali85\\Anaconda3\\lib\\site-packages\\sklearn\\metrics\\_classification.py:1221: UndefinedMetricWarning: Precision is ill-defined and being set to 0.0 in labels with no predicted samples. Use `zero_division` parameter to control this behavior.\n",
      "  _warn_prf(average, modifier, msg_start, len(result))\n"
     ]
    },
    {
     "name": "stdout",
     "output_type": "stream",
     "text": [
      "LR Class Wise Accuracy :  [0.95652174 1.         0.5        1.         0.         1.\n",
      " 0.         0.38095238 0.         1.         0.6722973  0.6\n",
      " 0.88354898 0.         1.         1.         0.90909091 1.\n",
      " 0.         0.         0.80065359]\n",
      "LR Time :  44.33204560000013\n"
     ]
    },
    {
     "name": "stderr",
     "output_type": "stream",
     "text": [
      "C:\\Users\\sali85\\Anaconda3\\lib\\site-packages\\sklearn\\metrics\\_classification.py:1221: UndefinedMetricWarning: Precision is ill-defined and being set to 0.0 in labels with no predicted samples. Use `zero_division` parameter to control this behavior.\n",
      "  _warn_prf(average, modifier, msg_start, len(result))\n"
     ]
    },
    {
     "name": "stdout",
     "output_type": "stream",
     "text": [
      "DT Class Wise Accuracy :  [0.84782609 0.96666667 0.5        1.         0.         0.98837209\n",
      " 0.08333333 0.26190476 0.         1.         0.69256757 0.4\n",
      " 0.84288355 0.         1.         1.         0.72727273 0.98089172\n",
      " 0.         0.         0.77124183]\n",
      "DT Time :  5.96021219999966\n"
     ]
    },
    {
     "name": "stderr",
     "output_type": "stream",
     "text": [
      "C:\\Users\\sali85\\Anaconda3\\lib\\site-packages\\sklearn\\metrics\\_classification.py:1221: UndefinedMetricWarning: Precision is ill-defined and being set to 0.0 in labels with no predicted samples. Use `zero_division` parameter to control this behavior.\n",
      "  _warn_prf(average, modifier, msg_start, len(result))\n"
     ]
    },
    {
     "name": "stdout",
     "output_type": "stream",
     "text": [
      "SVM Class Wise Accuracy :  [0.97826087 1.         0.5        1.         0.         1.\n",
      " 0.         0.38095238 0.         1.         0.64189189 0.6\n",
      " 0.8650647  0.         1.         1.         0.90909091 1.\n",
      " 0.         0.         0.79084967]\n",
      "SVM Time :  132.93715359999987\n"
     ]
    },
    {
     "name": "stderr",
     "output_type": "stream",
     "text": [
      "C:\\Users\\sali85\\Anaconda3\\lib\\site-packages\\sklearn\\metrics\\_classification.py:1221: UndefinedMetricWarning: Precision is ill-defined and being set to 0.0 in labels with no predicted samples. Use `zero_division` parameter to control this behavior.\n",
      "  _warn_prf(average, modifier, msg_start, len(result))\n",
      "C:\\Users\\sali85\\Anaconda3\\lib\\site-packages\\sklearn\\metrics\\_classification.py:1221: UndefinedMetricWarning: Recall is ill-defined and being set to 0.0 in labels with no true samples. Use `zero_division` parameter to control this behavior.\n",
      "  _warn_prf(average, modifier, msg_start, len(result))\n",
      "<ipython-input-42-273c3866d82e>:130: RuntimeWarning: invalid value encountered in true_divide\n",
      "  print(\"NB Class Wise Accuracy : \",confuse.diagonal()/confuse.sum(axis=1))\n"
     ]
    },
    {
     "name": "stdout",
     "output_type": "stream",
     "text": [
      "NB Class Wise Accuracy :  [1.         0.97321429 0.         0.93103448 0.97826087 0.\n",
      " 0.27906977 0.         1.         0.83280757 1.         1.\n",
      " 0.24440299        nan 0.85714286 0.57142857 0.98089172 0.\n",
      " 0.8       ]\n",
      "NB Time :  5.866885499999626\n"
     ]
    },
    {
     "name": "stderr",
     "output_type": "stream",
     "text": [
      "C:\\Users\\sali85\\Anaconda3\\lib\\site-packages\\sklearn\\metrics\\_classification.py:1221: UndefinedMetricWarning: Precision is ill-defined and being set to 0.0 in labels with no predicted samples. Use `zero_division` parameter to control this behavior.\n",
      "  _warn_prf(average, modifier, msg_start, len(result))\n",
      "C:\\Users\\sali85\\Anaconda3\\lib\\site-packages\\sklearn\\metrics\\_classification.py:1221: UndefinedMetricWarning: Recall is ill-defined and being set to 0.0 in labels with no true samples. Use `zero_division` parameter to control this behavior.\n",
      "  _warn_prf(average, modifier, msg_start, len(result))\n",
      "<ipython-input-42-273c3866d82e>:174: RuntimeWarning: invalid value encountered in true_divide\n",
      "  print(\"MLP Class Wise Accuracy : \",confuse.diagonal()/confuse.sum(axis=1))\n"
     ]
    },
    {
     "name": "stdout",
     "output_type": "stream",
     "text": [
      "MLP Class Wise Accuracy :  [0.93181818 1.         0.         1.                nan 0.97826087\n",
      " 0.         0.25581395 0.         1.         0.6214511  1.\n",
      " 1.         0.90298507 0.85714286        nan 0.57142857 0.99363057\n",
      " 0.         0.78644068]\n",
      "MLP Time :  55.43614680000246\n"
     ]
    },
    {
     "name": "stderr",
     "output_type": "stream",
     "text": [
      "C:\\Users\\sali85\\Anaconda3\\lib\\site-packages\\sklearn\\metrics\\_classification.py:1221: UndefinedMetricWarning: Precision is ill-defined and being set to 0.0 in labels with no predicted samples. Use `zero_division` parameter to control this behavior.\n",
      "  _warn_prf(average, modifier, msg_start, len(result))\n"
     ]
    },
    {
     "name": "stdout",
     "output_type": "stream",
     "text": [
      "KNN Class Wise Accuracy :  [0.81818182 0.96428571 0.33333333 1.         0.95652174 0.\n",
      " 0.25581395 0.         1.         0.65930599 1.         0.66666667\n",
      " 0.81343284 0.85714286 0.71428571 1.         0.         0.85084746]\n",
      "KNN Time :  46.501579600000696\n"
     ]
    },
    {
     "name": "stderr",
     "output_type": "stream",
     "text": [
      "C:\\Users\\sali85\\Anaconda3\\lib\\site-packages\\sklearn\\metrics\\_classification.py:1221: UndefinedMetricWarning: Precision is ill-defined and being set to 0.0 in labels with no predicted samples. Use `zero_division` parameter to control this behavior.\n",
      "  _warn_prf(average, modifier, msg_start, len(result))\n"
     ]
    },
    {
     "name": "stdout",
     "output_type": "stream",
     "text": [
      "RF Class Wise Accuracy :  [0.97727273 0.98214286 0.         1.         1.         0.\n",
      " 0.27906977 0.         1.         0.66561514 1.         1.\n",
      " 0.8880597  0.85714286 0.71428571 0.99363057 0.         0.79322034]\n",
      "RF Time :  11.973950999999943\n"
     ]
    },
    {
     "name": "stderr",
     "output_type": "stream",
     "text": [
      "C:\\Users\\sali85\\Anaconda3\\lib\\site-packages\\sklearn\\metrics\\_classification.py:1221: UndefinedMetricWarning: Precision is ill-defined and being set to 0.0 in labels with no predicted samples. Use `zero_division` parameter to control this behavior.\n",
      "  _warn_prf(average, modifier, msg_start, len(result))\n"
     ]
    },
    {
     "name": "stdout",
     "output_type": "stream",
     "text": [
      "LR Class Wise Accuracy :  [0.97727273 0.98214286 0.33333333 1.         1.         0.\n",
      " 0.34883721 0.         1.         0.66561514 1.         1.\n",
      " 0.88992537 0.85714286 1.         0.99363057 0.         0.81694915]\n",
      "LR Time :  42.50708089999898\n"
     ]
    },
    {
     "name": "stderr",
     "output_type": "stream",
     "text": [
      "C:\\Users\\sali85\\Anaconda3\\lib\\site-packages\\sklearn\\metrics\\_classification.py:1221: UndefinedMetricWarning: Precision is ill-defined and being set to 0.0 in labels with no predicted samples. Use `zero_division` parameter to control this behavior.\n",
      "  _warn_prf(average, modifier, msg_start, len(result))\n",
      "C:\\Users\\sali85\\Anaconda3\\lib\\site-packages\\sklearn\\metrics\\_classification.py:1221: UndefinedMetricWarning: Recall is ill-defined and being set to 0.0 in labels with no true samples. Use `zero_division` parameter to control this behavior.\n",
      "  _warn_prf(average, modifier, msg_start, len(result))\n",
      "<ipython-input-42-273c3866d82e>:321: RuntimeWarning: invalid value encountered in true_divide\n",
      "  print(\"DT Class Wise Accuracy : \",confuse.diagonal()/confuse.sum(axis=1))\n"
     ]
    },
    {
     "name": "stdout",
     "output_type": "stream",
     "text": [
      "DT Class Wise Accuracy :  [0.86363636 0.92857143 0.         1.         1.         0.\n",
      " 0.37209302 0.         0.66666667 0.67192429 1.                nan\n",
      " 1.         0.83395522 0.85714286 0.71428571 0.99363057 0.\n",
      " 0.78305085]\n",
      "DT Time :  6.082244000001083\n"
     ]
    },
    {
     "name": "stderr",
     "output_type": "stream",
     "text": [
      "C:\\Users\\sali85\\Anaconda3\\lib\\site-packages\\sklearn\\metrics\\_classification.py:1221: UndefinedMetricWarning: Precision is ill-defined and being set to 0.0 in labels with no predicted samples. Use `zero_division` parameter to control this behavior.\n",
      "  _warn_prf(average, modifier, msg_start, len(result))\n",
      "C:\\Users\\sali85\\Anaconda3\\lib\\site-packages\\sklearn\\metrics\\_classification.py:1221: UndefinedMetricWarning: Recall is ill-defined and being set to 0.0 in labels with no true samples. Use `zero_division` parameter to control this behavior.\n",
      "  _warn_prf(average, modifier, msg_start, len(result))\n",
      "<ipython-input-42-273c3866d82e>:93: RuntimeWarning: invalid value encountered in true_divide\n",
      "  print(\"SVM Class Wise Accuracy : \",confuse.diagonal()/confuse.sum(axis=1))\n"
     ]
    },
    {
     "name": "stdout",
     "output_type": "stream",
     "text": [
      "SVM Class Wise Accuracy :  [0.95454545 0.98214286 0.33333333 1.         1.         0.\n",
      " 0.30232558 0.         1.         0.64037855 1.         1.\n",
      " 0.86753731        nan 0.85714286 0.71428571 0.99363057 0.\n",
      " 0.80677966]\n",
      "SVM Time :  138.3568594999997\n"
     ]
    },
    {
     "name": "stderr",
     "output_type": "stream",
     "text": [
      "C:\\Users\\sali85\\Anaconda3\\lib\\site-packages\\sklearn\\metrics\\_classification.py:1221: UndefinedMetricWarning: Precision is ill-defined and being set to 0.0 in labels with no predicted samples. Use `zero_division` parameter to control this behavior.\n",
      "  _warn_prf(average, modifier, msg_start, len(result))\n"
     ]
    },
    {
     "name": "stdout",
     "output_type": "stream",
     "text": [
      "NB Class Wise Accuracy :  [0.96551724 0.96261682 0.66666667 0.93333333 0.95098039 0.\n",
      " 0.27586207 0.         0.88498403 1.         0.33333333 0.27041742\n",
      " 0.         0.5        0.         0.75       0.99401198 0.\n",
      " 0.80201342]\n",
      "NB Time :  6.178806400002941\n"
     ]
    },
    {
     "name": "stderr",
     "output_type": "stream",
     "text": [
      "C:\\Users\\sali85\\Anaconda3\\lib\\site-packages\\sklearn\\metrics\\_classification.py:1221: UndefinedMetricWarning: Precision is ill-defined and being set to 0.0 in labels with no predicted samples. Use `zero_division` parameter to control this behavior.\n",
      "  _warn_prf(average, modifier, msg_start, len(result))\n",
      "C:\\Users\\sali85\\Anaconda3\\lib\\site-packages\\sklearn\\metrics\\_classification.py:1221: UndefinedMetricWarning: Recall is ill-defined and being set to 0.0 in labels with no true samples. Use `zero_division` parameter to control this behavior.\n",
      "  _warn_prf(average, modifier, msg_start, len(result))\n",
      "<ipython-input-42-273c3866d82e>:174: RuntimeWarning: invalid value encountered in true_divide\n",
      "  print(\"MLP Class Wise Accuracy : \",confuse.diagonal()/confuse.sum(axis=1))\n"
     ]
    },
    {
     "name": "stdout",
     "output_type": "stream",
     "text": [
      "MLP Class Wise Accuracy :  [0.89655172 0.97196262 1.         1.         0.99019608 0.\n",
      " 0.27586207 0.         0.62300319 1.                nan 0.66666667\n",
      " 0.88566243 0.         0.875      0.         0.75       1.\n",
      " 0.         0.83892617]\n",
      "MLP Time :  38.80548419999832\n"
     ]
    },
    {
     "name": "stderr",
     "output_type": "stream",
     "text": [
      "C:\\Users\\sali85\\Anaconda3\\lib\\site-packages\\sklearn\\metrics\\_classification.py:1221: UndefinedMetricWarning: Precision is ill-defined and being set to 0.0 in labels with no predicted samples. Use `zero_division` parameter to control this behavior.\n",
      "  _warn_prf(average, modifier, msg_start, len(result))\n"
     ]
    },
    {
     "name": "stdout",
     "output_type": "stream",
     "text": [
      "KNN Class Wise Accuracy :  [0.89655172 0.99065421 0.         0.9        1.         0.\n",
      " 0.31034483 1.         0.65175719 1.         1.         0.7477314\n",
      " 0.         0.875      0.         0.75       1.         0.\n",
      " 0.81879195]\n",
      "KNN Time :  50.46718449999753\n"
     ]
    },
    {
     "name": "stderr",
     "output_type": "stream",
     "text": [
      "C:\\Users\\sali85\\Anaconda3\\lib\\site-packages\\sklearn\\metrics\\_classification.py:1221: UndefinedMetricWarning: Precision is ill-defined and being set to 0.0 in labels with no predicted samples. Use `zero_division` parameter to control this behavior.\n",
      "  _warn_prf(average, modifier, msg_start, len(result))\n"
     ]
    },
    {
     "name": "stdout",
     "output_type": "stream",
     "text": [
      "RF Class Wise Accuracy :  [0.89655172 1.         1.         1.         0.98039216 0.\n",
      " 0.24137931 1.         0.65495208 1.         1.         0.89292196\n",
      " 0.         0.875      1.         0.75       1.         0.\n",
      " 0.77181208]\n",
      "RF Time :  11.569548200001009\n"
     ]
    },
    {
     "name": "stderr",
     "output_type": "stream",
     "text": [
      "C:\\Users\\sali85\\Anaconda3\\lib\\site-packages\\sklearn\\metrics\\_classification.py:1221: UndefinedMetricWarning: Precision is ill-defined and being set to 0.0 in labels with no predicted samples. Use `zero_division` parameter to control this behavior.\n",
      "  _warn_prf(average, modifier, msg_start, len(result))\n"
     ]
    },
    {
     "name": "stdout",
     "output_type": "stream",
     "text": [
      "LR Class Wise Accuracy :  [0.89655172 1.         1.         1.         1.         0.\n",
      " 0.37931034 1.         0.61980831 1.         1.         0.91470054\n",
      " 0.         0.875      1.         0.75       1.         0.\n",
      " 0.79865772]\n",
      "LR Time :  40.89438380000138\n"
     ]
    },
    {
     "name": "stderr",
     "output_type": "stream",
     "text": [
      "C:\\Users\\sali85\\Anaconda3\\lib\\site-packages\\sklearn\\metrics\\_classification.py:1221: UndefinedMetricWarning: Precision is ill-defined and being set to 0.0 in labels with no predicted samples. Use `zero_division` parameter to control this behavior.\n",
      "  _warn_prf(average, modifier, msg_start, len(result))\n"
     ]
    },
    {
     "name": "stdout",
     "output_type": "stream",
     "text": [
      "DT Class Wise Accuracy :  [0.82758621 0.95327103 0.66666667 1.         0.97058824 0.13333333\n",
      " 0.37931034 1.         0.64217252 0.5        1.         0.86932849\n",
      " 0.         0.875      1.         0.75       0.99401198 0.\n",
      " 0.77181208]\n",
      "DT Time :  5.774714400002267\n"
     ]
    },
    {
     "name": "stderr",
     "output_type": "stream",
     "text": [
      "C:\\Users\\sali85\\Anaconda3\\lib\\site-packages\\sklearn\\metrics\\_classification.py:1221: UndefinedMetricWarning: Precision is ill-defined and being set to 0.0 in labels with no predicted samples. Use `zero_division` parameter to control this behavior.\n",
      "  _warn_prf(average, modifier, msg_start, len(result))\n"
     ]
    },
    {
     "name": "stdout",
     "output_type": "stream",
     "text": [
      "SVM Class Wise Accuracy :  [0.96551724 0.99065421 1.         1.         1.         0.13333333\n",
      " 0.24137931 1.         0.60702875 1.         1.         0.8892922\n",
      " 0.         0.875      1.         0.75       1.         0.\n",
      " 0.77852349]\n",
      "SVM Time :  128.77296660000138\n"
     ]
    },
    {
     "name": "stderr",
     "output_type": "stream",
     "text": [
      "C:\\Users\\sali85\\Anaconda3\\lib\\site-packages\\sklearn\\metrics\\_classification.py:1221: UndefinedMetricWarning: Precision is ill-defined and being set to 0.0 in labels with no predicted samples. Use `zero_division` parameter to control this behavior.\n",
      "  _warn_prf(average, modifier, msg_start, len(result))\n"
     ]
    },
    {
     "name": "stdout",
     "output_type": "stream",
     "text": [
      "NB Class Wise Accuracy :  [0.98076923 0.98947368 0.5        1.         0.         0.93478261\n",
      " 0.         0.18918919 0.         1.         0.87106918 1.\n",
      " 0.         0.71428571 0.25858951 0.         0.5        1.\n",
      " 0.99350649 0.         0.80794702]\n",
      "NB Time :  5.510505700000067\n"
     ]
    },
    {
     "name": "stderr",
     "output_type": "stream",
     "text": [
      "C:\\Users\\sali85\\Anaconda3\\lib\\site-packages\\sklearn\\metrics\\_classification.py:1221: UndefinedMetricWarning: Precision is ill-defined and being set to 0.0 in labels with no predicted samples. Use `zero_division` parameter to control this behavior.\n",
      "  _warn_prf(average, modifier, msg_start, len(result))\n"
     ]
    },
    {
     "name": "stdout",
     "output_type": "stream",
     "text": [
      "MLP Class Wise Accuracy :  [0.88461538 0.97894737 0.5        0.95       0.         0.97826087\n",
      " 0.         0.13513514 0.         1.         0.6572327  0.\n",
      " 0.         0.         0.92585895 0.         0.75       1.\n",
      " 1.         0.         0.78145695]\n",
      "MLP Time :  38.27304699999877\n"
     ]
    },
    {
     "name": "stderr",
     "output_type": "stream",
     "text": [
      "C:\\Users\\sali85\\Anaconda3\\lib\\site-packages\\sklearn\\metrics\\_classification.py:1221: UndefinedMetricWarning: Precision is ill-defined and being set to 0.0 in labels with no predicted samples. Use `zero_division` parameter to control this behavior.\n",
      "  _warn_prf(average, modifier, msg_start, len(result))\n"
     ]
    },
    {
     "name": "stdout",
     "output_type": "stream",
     "text": [
      "KNN Class Wise Accuracy :  [0.76923077 0.97894737 0.5        1.         0.         1.\n",
      " 0.         0.21621622 0.         1.         0.67295597 1.\n",
      " 0.         1.         0.74864376 0.         0.375      1.\n",
      " 0.99350649 0.         0.85430464]\n",
      "KNN Time :  51.596331400000054\n"
     ]
    },
    {
     "name": "stderr",
     "output_type": "stream",
     "text": [
      "C:\\Users\\sali85\\Anaconda3\\lib\\site-packages\\sklearn\\metrics\\_classification.py:1221: UndefinedMetricWarning: Precision is ill-defined and being set to 0.0 in labels with no predicted samples. Use `zero_division` parameter to control this behavior.\n",
      "  _warn_prf(average, modifier, msg_start, len(result))\n"
     ]
    },
    {
     "name": "stdout",
     "output_type": "stream",
     "text": [
      "RF Class Wise Accuracy :  [0.96153846 1.         0.5        1.         0.         0.98913043\n",
      " 0.         0.24324324 0.         1.         0.64465409 1.\n",
      " 0.         1.         0.86256781 0.         0.75       1.\n",
      " 1.         0.         0.83774834]\n",
      "RF Time :  12.39206539999941\n"
     ]
    },
    {
     "name": "stderr",
     "output_type": "stream",
     "text": [
      "C:\\Users\\sali85\\Anaconda3\\lib\\site-packages\\sklearn\\metrics\\_classification.py:1221: UndefinedMetricWarning: Precision is ill-defined and being set to 0.0 in labels with no predicted samples. Use `zero_division` parameter to control this behavior.\n",
      "  _warn_prf(average, modifier, msg_start, len(result))\n"
     ]
    },
    {
     "name": "stdout",
     "output_type": "stream",
     "text": [
      "LR Class Wise Accuracy :  [0.94230769 1.         1.         1.         0.         1.\n",
      " 0.         0.45945946 0.         1.         0.64779874 1.\n",
      " 0.         1.         0.85714286 0.         0.75       1.\n",
      " 1.         0.         0.87417219]\n",
      "LR Time :  32.43902549999984\n"
     ]
    },
    {
     "name": "stderr",
     "output_type": "stream",
     "text": [
      "C:\\Users\\sali85\\Anaconda3\\lib\\site-packages\\sklearn\\metrics\\_classification.py:1221: UndefinedMetricWarning: Precision is ill-defined and being set to 0.0 in labels with no predicted samples. Use `zero_division` parameter to control this behavior.\n",
      "  _warn_prf(average, modifier, msg_start, len(result))\n"
     ]
    },
    {
     "name": "stdout",
     "output_type": "stream",
     "text": [
      "DT Class Wise Accuracy :  [0.82692308 0.97894737 1.         1.         0.         0.98913043\n",
      " 0.         0.40540541 0.         1.         0.62578616 0.\n",
      " 0.         0.85714286 0.83363472 0.         0.75       0.66666667\n",
      " 0.98701299 0.         0.83112583]\n",
      "DT Time :  5.35059739999997\n"
     ]
    },
    {
     "name": "stderr",
     "output_type": "stream",
     "text": [
      "C:\\Users\\sali85\\Anaconda3\\lib\\site-packages\\sklearn\\metrics\\_classification.py:1221: UndefinedMetricWarning: Precision is ill-defined and being set to 0.0 in labels with no predicted samples. Use `zero_division` parameter to control this behavior.\n",
      "  _warn_prf(average, modifier, msg_start, len(result))\n"
     ]
    },
    {
     "name": "stdout",
     "output_type": "stream",
     "text": [
      "SVM Class Wise Accuracy :  [0.96153846 1.         1.         1.         0.         1.\n",
      " 0.         0.45945946 0.         1.         0.64150943 1.\n",
      " 0.         1.         0.85352622 0.         0.75       1.\n",
      " 1.         0.         0.87748344]\n",
      "SVM Time :  125.57576920000065\n"
     ]
    },
    {
     "name": "stderr",
     "output_type": "stream",
     "text": [
      "C:\\Users\\sali85\\Anaconda3\\lib\\site-packages\\sklearn\\metrics\\_classification.py:1221: UndefinedMetricWarning: Precision is ill-defined and being set to 0.0 in labels with no predicted samples. Use `zero_division` parameter to control this behavior.\n",
      "  _warn_prf(average, modifier, msg_start, len(result))\n"
     ]
    },
    {
     "name": "stdout",
     "output_type": "stream",
     "text": [
      "NB Class Wise Accuracy :  [0.97959184 0.96551724 1.         1.         0.         0.96103896\n",
      " 0.         0.16666667 0.         1.         0.89538462 1.\n",
      " 0.83333333 0.2851711  0.         0.6        0.         0.85714286\n",
      " 0.9760479  0.         0.8       ]\n",
      "NB Time :  6.108311600000889\n"
     ]
    },
    {
     "name": "stderr",
     "output_type": "stream",
     "text": [
      "C:\\Users\\sali85\\Anaconda3\\lib\\site-packages\\sklearn\\metrics\\_classification.py:1221: UndefinedMetricWarning: Precision is ill-defined and being set to 0.0 in labels with no predicted samples. Use `zero_division` parameter to control this behavior.\n",
      "  _warn_prf(average, modifier, msg_start, len(result))\n"
     ]
    },
    {
     "name": "stdout",
     "output_type": "stream",
     "text": [
      "MLP Class Wise Accuracy :  [0.83673469 0.96551724 1.         1.         0.         0.97402597\n",
      " 0.11111111 0.27777778 0.         1.         0.81538462 1.\n",
      " 0.83333333 0.74904943 0.         1.         1.         1.\n",
      " 0.99401198 0.         0.83278689]\n",
      "MLP Time :  43.802725000001374\n"
     ]
    },
    {
     "name": "stderr",
     "output_type": "stream",
     "text": [
      "C:\\Users\\sali85\\Anaconda3\\lib\\site-packages\\sklearn\\metrics\\_classification.py:1221: UndefinedMetricWarning: Precision is ill-defined and being set to 0.0 in labels with no predicted samples. Use `zero_division` parameter to control this behavior.\n",
      "  _warn_prf(average, modifier, msg_start, len(result))\n"
     ]
    },
    {
     "name": "stdout",
     "output_type": "stream",
     "text": [
      "KNN Class Wise Accuracy :  [0.65306122 0.93965517 0.5        1.         0.         1.\n",
      " 0.11111111 0.30555556 0.         1.         0.73538462 1.\n",
      " 1.         0.69581749 0.         1.         0.         0.42857143\n",
      " 0.99401198 0.         0.86557377]\n",
      "KNN Time :  46.19820350000009\n"
     ]
    },
    {
     "name": "stderr",
     "output_type": "stream",
     "text": [
      "C:\\Users\\sali85\\Anaconda3\\lib\\site-packages\\sklearn\\metrics\\_classification.py:1221: UndefinedMetricWarning: Precision is ill-defined and being set to 0.0 in labels with no predicted samples. Use `zero_division` parameter to control this behavior.\n",
      "  _warn_prf(average, modifier, msg_start, len(result))\n"
     ]
    },
    {
     "name": "stdout",
     "output_type": "stream",
     "text": [
      "RF Class Wise Accuracy :  [0.97959184 0.99137931 1.         1.         0.         0.98701299\n",
      " 0.         0.22222222 0.         1.         0.70461538 1.\n",
      " 1.         0.87072243 0.         1.         1.         0.85714286\n",
      " 0.98802395 0.         0.82295082]\n",
      "RF Time :  11.914073300002201\n"
     ]
    },
    {
     "name": "stderr",
     "output_type": "stream",
     "text": [
      "C:\\Users\\sali85\\Anaconda3\\lib\\site-packages\\sklearn\\metrics\\_classification.py:1221: UndefinedMetricWarning: Precision is ill-defined and being set to 0.0 in labels with no predicted samples. Use `zero_division` parameter to control this behavior.\n",
      "  _warn_prf(average, modifier, msg_start, len(result))\n"
     ]
    },
    {
     "name": "stdout",
     "output_type": "stream",
     "text": [
      "LR Class Wise Accuracy :  [0.93877551 0.98275862 1.         1.         0.         1.\n",
      " 0.         0.36111111 0.         1.         0.70461538 1.\n",
      " 1.         0.88022814 0.         1.         1.         1.\n",
      " 0.98802395 0.         0.83278689]\n",
      "LR Time :  35.4071311000007\n"
     ]
    },
    {
     "name": "stderr",
     "output_type": "stream",
     "text": [
      "C:\\Users\\sali85\\Anaconda3\\lib\\site-packages\\sklearn\\metrics\\_classification.py:1221: UndefinedMetricWarning: Precision is ill-defined and being set to 0.0 in labels with no predicted samples. Use `zero_division` parameter to control this behavior.\n",
      "  _warn_prf(average, modifier, msg_start, len(result))\n",
      "C:\\Users\\sali85\\Anaconda3\\lib\\site-packages\\sklearn\\metrics\\_classification.py:1221: UndefinedMetricWarning: Recall is ill-defined and being set to 0.0 in labels with no true samples. Use `zero_division` parameter to control this behavior.\n",
      "  _warn_prf(average, modifier, msg_start, len(result))\n",
      "<ipython-input-42-273c3866d82e>:321: RuntimeWarning: invalid value encountered in true_divide\n",
      "  print(\"DT Class Wise Accuracy : \",confuse.diagonal()/confuse.sum(axis=1))\n"
     ]
    },
    {
     "name": "stdout",
     "output_type": "stream",
     "text": [
      "DT Class Wise Accuracy :  [0.83673469 0.96551724 1.         1.         0.         0.98701299\n",
      " 0.         0.27777778 0.         1.         0.69846154 1.\n",
      "        nan 0.66666667 0.8460076  0.         1.         0.\n",
      " 0.85714286 0.98203593 0.         0.8295082 ]\n",
      "DT Time :  6.068856200003211\n"
     ]
    },
    {
     "name": "stderr",
     "output_type": "stream",
     "text": [
      "C:\\Users\\sali85\\Anaconda3\\lib\\site-packages\\sklearn\\metrics\\_classification.py:1221: UndefinedMetricWarning: Precision is ill-defined and being set to 0.0 in labels with no predicted samples. Use `zero_division` parameter to control this behavior.\n",
      "  _warn_prf(average, modifier, msg_start, len(result))\n"
     ]
    },
    {
     "name": "stdout",
     "output_type": "stream",
     "text": [
      "SVM Class Wise Accuracy :  [0.93877551 0.98275862 1.         1.         0.         1.\n",
      " 0.         0.36111111 0.         1.         0.65538462 1.\n",
      " 1.         0.85931559 0.         1.         1.         1.\n",
      " 0.98802395 0.         0.83606557]\n",
      "SVM Time :  127.97814030000154\n"
     ]
    },
    {
     "name": "stderr",
     "output_type": "stream",
     "text": [
      "C:\\Users\\sali85\\Anaconda3\\lib\\site-packages\\sklearn\\metrics\\_classification.py:1221: UndefinedMetricWarning: Recall is ill-defined and being set to 0.0 in labels with no true samples. Use `zero_division` parameter to control this behavior.\n",
      "  _warn_prf(average, modifier, msg_start, len(result))\n",
      "<ipython-input-42-273c3866d82e>:130: RuntimeWarning: invalid value encountered in true_divide\n",
      "  print(\"NB Class Wise Accuracy : \",confuse.diagonal()/confuse.sum(axis=1))\n"
     ]
    },
    {
     "name": "stdout",
     "output_type": "stream",
     "text": [
      "NB Class Wise Accuracy :  [0.9787234  1.         1.         1.         0.98823529 0.\n",
      " 0.13636364 1.         0.82282282 1.         0.44444444 0.26185958\n",
      "        nan 1.         0.77777778 0.9704142         nan 0.80666667]\n",
      "NB Time :  6.377706400002353\n"
     ]
    },
    {
     "name": "stderr",
     "output_type": "stream",
     "text": [
      "C:\\Users\\sali85\\Anaconda3\\lib\\site-packages\\sklearn\\metrics\\_classification.py:1221: UndefinedMetricWarning: Precision is ill-defined and being set to 0.0 in labels with no predicted samples. Use `zero_division` parameter to control this behavior.\n",
      "  _warn_prf(average, modifier, msg_start, len(result))\n"
     ]
    },
    {
     "name": "stdout",
     "output_type": "stream",
     "text": [
      "MLP Class Wise Accuracy :  [0.85106383 1.         1.         0.875      1.         0.\n",
      " 0.09090909 0.         0.8048048  0.         0.66666667 0.78368121\n",
      " 1.         0.88888889 0.98816568 0.78666667]\n",
      "MLP Time :  44.06834399999934\n",
      "KNN Class Wise Accuracy :  [0.78723404 1.         0.33333333 1.         1.         0.\n",
      " 0.13636364 1.         0.74174174 1.         0.77777778 0.76091082\n",
      " 1.         0.55555556 0.98224852 0.78333333]\n",
      "KNN Time :  49.963594699998794\n",
      "RF Class Wise Accuracy :  [0.93617021 1.         1.         1.         1.         0.\n",
      " 0.11363636 1.         0.66666667 1.         0.66666667 0.86907021\n",
      " 1.         0.88888889 0.99408284 0.82333333]\n",
      "RF Time :  11.178822199999559\n",
      "LR Class Wise Accuracy :  [0.93617021 1.         1.         1.         1.         0.\n",
      " 0.18181818 1.         0.66066066 1.         0.77777778 0.86907021\n",
      " 1.         1.         0.99408284 0.85333333]\n",
      "LR Time :  32.385383299999376\n"
     ]
    },
    {
     "name": "stderr",
     "output_type": "stream",
     "text": [
      "C:\\Users\\sali85\\Anaconda3\\lib\\site-packages\\sklearn\\metrics\\_classification.py:1221: UndefinedMetricWarning: Recall is ill-defined and being set to 0.0 in labels with no true samples. Use `zero_division` parameter to control this behavior.\n",
      "  _warn_prf(average, modifier, msg_start, len(result))\n",
      "<ipython-input-42-273c3866d82e>:321: RuntimeWarning: invalid value encountered in true_divide\n",
      "  print(\"DT Class Wise Accuracy : \",confuse.diagonal()/confuse.sum(axis=1))\n"
     ]
    },
    {
     "name": "stdout",
     "output_type": "stream",
     "text": [
      "DT Class Wise Accuracy :  [0.85106383 0.92156863 1.         1.         1.         0.\n",
      " 0.15909091 1.         0.65465465 1.                nan 0.55555556\n",
      " 0.83301708        nan 1.         0.77777778 0.97633136        nan\n",
      " 0.82      ]\n",
      "DT Time :  5.94923949999793\n"
     ]
    },
    {
     "name": "stderr",
     "output_type": "stream",
     "text": [
      "C:\\Users\\sali85\\Anaconda3\\lib\\site-packages\\sklearn\\metrics\\_classification.py:1221: UndefinedMetricWarning: Recall is ill-defined and being set to 0.0 in labels with no true samples. Use `zero_division` parameter to control this behavior.\n",
      "  _warn_prf(average, modifier, msg_start, len(result))\n",
      "<ipython-input-42-273c3866d82e>:93: RuntimeWarning: invalid value encountered in true_divide\n",
      "  print(\"SVM Class Wise Accuracy : \",confuse.diagonal()/confuse.sum(axis=1))\n"
     ]
    },
    {
     "name": "stdout",
     "output_type": "stream",
     "text": [
      "SVM Class Wise Accuracy :  [0.95744681 1.         1.         1.         1.         0.\n",
      " 0.20454545 1.         0.66066066 1.         0.77777778 0.84060721\n",
      "        nan 1.         1.         0.98816568 0.83333333]\n",
      "SVM Time :  128.34549940000215\n"
     ]
    },
    {
     "name": "stderr",
     "output_type": "stream",
     "text": [
      "C:\\Users\\sali85\\Anaconda3\\lib\\site-packages\\sklearn\\metrics\\_classification.py:1221: UndefinedMetricWarning: Precision is ill-defined and being set to 0.0 in labels with no predicted samples. Use `zero_division` parameter to control this behavior.\n",
      "  _warn_prf(average, modifier, msg_start, len(result))\n",
      "C:\\Users\\sali85\\Anaconda3\\lib\\site-packages\\sklearn\\metrics\\_classification.py:1221: UndefinedMetricWarning: Recall is ill-defined and being set to 0.0 in labels with no true samples. Use `zero_division` parameter to control this behavior.\n",
      "  _warn_prf(average, modifier, msg_start, len(result))\n",
      "<ipython-input-42-273c3866d82e>:130: RuntimeWarning: invalid value encountered in true_divide\n",
      "  print(\"NB Class Wise Accuracy : \",confuse.diagonal()/confuse.sum(axis=1))\n"
     ]
    },
    {
     "name": "stdout",
     "output_type": "stream",
     "text": [
      "NB Class Wise Accuracy :  [0.96774194 0.92727273 0.25       0.92307692 0.         0.98130841\n",
      " 0.05882353 0.30555556 0.         1.         0.87581699 1.\n",
      " 0.5        0.25185185 0.         0.5        0.         0.71428571\n",
      " 0.98214286        nan 0.84175084]\n",
      "NB Time :  5.931493899999623\n"
     ]
    },
    {
     "name": "stderr",
     "output_type": "stream",
     "text": [
      "C:\\Users\\sali85\\Anaconda3\\lib\\site-packages\\sklearn\\metrics\\_classification.py:1221: UndefinedMetricWarning: Precision is ill-defined and being set to 0.0 in labels with no predicted samples. Use `zero_division` parameter to control this behavior.\n",
      "  _warn_prf(average, modifier, msg_start, len(result))\n",
      "C:\\Users\\sali85\\Anaconda3\\lib\\site-packages\\sklearn\\metrics\\_classification.py:1221: UndefinedMetricWarning: Recall is ill-defined and being set to 0.0 in labels with no true samples. Use `zero_division` parameter to control this behavior.\n",
      "  _warn_prf(average, modifier, msg_start, len(result))\n",
      "<ipython-input-42-273c3866d82e>:174: RuntimeWarning: invalid value encountered in true_divide\n",
      "  print(\"MLP Class Wise Accuracy : \",confuse.diagonal()/confuse.sum(axis=1))\n"
     ]
    },
    {
     "name": "stdout",
     "output_type": "stream",
     "text": [
      "MLP Class Wise Accuracy :  [0.70967742 0.95454545 0.25       1.         0.         0.99065421\n",
      " 0.         0.25       0.         1.         0.88562092 1.\n",
      "        nan 0.5        0.66851852 0.         1.         0.\n",
      " 0.71428571 1.         0.86531987]\n",
      "MLP Time :  36.11139550000007\n"
     ]
    },
    {
     "name": "stderr",
     "output_type": "stream",
     "text": [
      "C:\\Users\\sali85\\Anaconda3\\lib\\site-packages\\sklearn\\metrics\\_classification.py:1221: UndefinedMetricWarning: Precision is ill-defined and being set to 0.0 in labels with no predicted samples. Use `zero_division` parameter to control this behavior.\n",
      "  _warn_prf(average, modifier, msg_start, len(result))\n"
     ]
    },
    {
     "name": "stdout",
     "output_type": "stream",
     "text": [
      "KNN Class Wise Accuracy :  [0.74193548 0.95454545 0.         1.         0.         1.\n",
      " 0.         0.27777778 0.         1.         0.83986928 1.\n",
      " 0.75       0.67777778 0.         0.5        0.         0.71428571\n",
      " 0.99404762 0.87542088]\n",
      "KNN Time :  46.78373730000021\n"
     ]
    },
    {
     "name": "stderr",
     "output_type": "stream",
     "text": [
      "C:\\Users\\sali85\\Anaconda3\\lib\\site-packages\\sklearn\\metrics\\_classification.py:1221: UndefinedMetricWarning: Precision is ill-defined and being set to 0.0 in labels with no predicted samples. Use `zero_division` parameter to control this behavior.\n",
      "  _warn_prf(average, modifier, msg_start, len(result))\n"
     ]
    },
    {
     "name": "stdout",
     "output_type": "stream",
     "text": [
      "RF Class Wise Accuracy :  [0.96774194 0.99090909 0.25       1.         0.         1.\n",
      " 0.         0.25       0.         1.         0.71568627 1.\n",
      " 0.75       0.85740741 0.         1.         1.         0.85714286\n",
      " 1.         0.85185185]\n",
      "RF Time :  12.01008450000154\n"
     ]
    },
    {
     "name": "stderr",
     "output_type": "stream",
     "text": [
      "C:\\Users\\sali85\\Anaconda3\\lib\\site-packages\\sklearn\\metrics\\_classification.py:1221: UndefinedMetricWarning: Precision is ill-defined and being set to 0.0 in labels with no predicted samples. Use `zero_division` parameter to control this behavior.\n",
      "  _warn_prf(average, modifier, msg_start, len(result))\n"
     ]
    },
    {
     "name": "stdout",
     "output_type": "stream",
     "text": [
      "LR Class Wise Accuracy :  [0.93548387 1.         0.5        1.         0.         1.\n",
      " 0.         0.33333333 0.         1.         0.68627451 1.\n",
      " 0.75       0.86111111 0.         1.         1.         0.85714286\n",
      " 1.         0.87542088]\n",
      "LR Time :  32.259727399999974\n"
     ]
    },
    {
     "name": "stderr",
     "output_type": "stream",
     "text": [
      "C:\\Users\\sali85\\Anaconda3\\lib\\site-packages\\sklearn\\metrics\\_classification.py:1221: UndefinedMetricWarning: Precision is ill-defined and being set to 0.0 in labels with no predicted samples. Use `zero_division` parameter to control this behavior.\n",
      "  _warn_prf(average, modifier, msg_start, len(result))\n"
     ]
    },
    {
     "name": "stdout",
     "output_type": "stream",
     "text": [
      "DT Class Wise Accuracy :  [0.74193548 0.93636364 0.5        1.         0.         0.99065421\n",
      " 0.05882353 0.22222222 0.         1.         0.69281046 1.\n",
      " 0.75       0.8462963  0.         1.         0.         0.57142857\n",
      " 1.         0.86531987]\n",
      "DT Time :  5.848297799999273\n"
     ]
    },
    {
     "name": "stderr",
     "output_type": "stream",
     "text": [
      "C:\\Users\\sali85\\Anaconda3\\lib\\site-packages\\sklearn\\metrics\\_classification.py:1221: UndefinedMetricWarning: Precision is ill-defined and being set to 0.0 in labels with no predicted samples. Use `zero_division` parameter to control this behavior.\n",
      "  _warn_prf(average, modifier, msg_start, len(result))\n"
     ]
    },
    {
     "name": "stdout",
     "output_type": "stream",
     "text": [
      "SVM Class Wise Accuracy :  [0.96774194 1.         0.5        1.         0.         1.\n",
      " 0.05882353 0.38888889 0.         1.         0.66993464 1.\n",
      " 0.75       0.83518519 0.         1.         1.         0.85714286\n",
      " 1.         0.87205387]\n",
      "SVM Time :  128.75781859999915\n"
     ]
    },
    {
     "name": "stderr",
     "output_type": "stream",
     "text": [
      "C:\\Users\\sali85\\Anaconda3\\lib\\site-packages\\sklearn\\metrics\\_classification.py:1221: UndefinedMetricWarning: Precision is ill-defined and being set to 0.0 in labels with no predicted samples. Use `zero_division` parameter to control this behavior.\n",
      "  _warn_prf(average, modifier, msg_start, len(result))\n",
      "C:\\Users\\sali85\\Anaconda3\\lib\\site-packages\\sklearn\\metrics\\_classification.py:1221: UndefinedMetricWarning: Recall is ill-defined and being set to 0.0 in labels with no true samples. Use `zero_division` parameter to control this behavior.\n",
      "  _warn_prf(average, modifier, msg_start, len(result))\n",
      "<ipython-input-42-273c3866d82e>:130: RuntimeWarning: invalid value encountered in true_divide\n",
      "  print(\"NB Class Wise Accuracy : \",confuse.diagonal()/confuse.sum(axis=1))\n"
     ]
    },
    {
     "name": "stdout",
     "output_type": "stream",
     "text": [
      "NB Class Wise Accuracy :  [1.         0.98019802 1.         1.         0.97979798 0.1\n",
      " 0.12820513 0.84333333 0.5        0.5        0.23431734        nan\n",
      " 0.6        0.         1.         0.97175141 0.                nan\n",
      " 0.82295082]\n",
      "NB Time :  6.070324799999071\n"
     ]
    },
    {
     "name": "stderr",
     "output_type": "stream",
     "text": [
      "C:\\Users\\sali85\\Anaconda3\\lib\\site-packages\\sklearn\\metrics\\_classification.py:1221: UndefinedMetricWarning: Precision is ill-defined and being set to 0.0 in labels with no predicted samples. Use `zero_division` parameter to control this behavior.\n",
      "  _warn_prf(average, modifier, msg_start, len(result))\n",
      "C:\\Users\\sali85\\Anaconda3\\lib\\site-packages\\sklearn\\metrics\\_classification.py:1221: UndefinedMetricWarning: Recall is ill-defined and being set to 0.0 in labels with no true samples. Use `zero_division` parameter to control this behavior.\n",
      "  _warn_prf(average, modifier, msg_start, len(result))\n",
      "<ipython-input-42-273c3866d82e>:174: RuntimeWarning: invalid value encountered in true_divide\n",
      "  print(\"MLP Class Wise Accuracy : \",confuse.diagonal()/confuse.sum(axis=1))\n"
     ]
    },
    {
     "name": "stdout",
     "output_type": "stream",
     "text": [
      "MLP Class Wise Accuracy :  [0.95348837 0.96039604 0.5        1.                nan 0.97979798\n",
      " 0.         0.17948718 0.62       0.         0.75       0.90405904\n",
      " 0.8        1.         1.         0.98305085 0.         0.74098361]\n",
      "MLP Time :  43.94619310000053\n"
     ]
    },
    {
     "name": "stderr",
     "output_type": "stream",
     "text": [
      "C:\\Users\\sali85\\Anaconda3\\lib\\site-packages\\sklearn\\metrics\\_classification.py:1221: UndefinedMetricWarning: Precision is ill-defined and being set to 0.0 in labels with no predicted samples. Use `zero_division` parameter to control this behavior.\n",
      "  _warn_prf(average, modifier, msg_start, len(result))\n"
     ]
    },
    {
     "name": "stdout",
     "output_type": "stream",
     "text": [
      "KNN Class Wise Accuracy :  [0.81395349 0.95049505 0.         1.         1.         0.\n",
      " 0.1025641  0.58       0.         0.75       0.86346863 0.8\n",
      " 0.         1.         0.97740113 0.         0.77377049]\n",
      "KNN Time :  47.49364329999662\n"
     ]
    },
    {
     "name": "stderr",
     "output_type": "stream",
     "text": [
      "C:\\Users\\sali85\\Anaconda3\\lib\\site-packages\\sklearn\\metrics\\_classification.py:1221: UndefinedMetricWarning: Precision is ill-defined and being set to 0.0 in labels with no predicted samples. Use `zero_division` parameter to control this behavior.\n",
      "  _warn_prf(average, modifier, msg_start, len(result))\n"
     ]
    },
    {
     "name": "stdout",
     "output_type": "stream",
     "text": [
      "RF Class Wise Accuracy :  [1.         1.         1.         1.         1.         0.\n",
      " 0.15384615 0.66666667 1.         0.75       0.87822878 0.8\n",
      " 1.         1.         0.98870056 0.         0.78688525]\n",
      "RF Time :  12.086872799998673\n"
     ]
    },
    {
     "name": "stderr",
     "output_type": "stream",
     "text": [
      "C:\\Users\\sali85\\Anaconda3\\lib\\site-packages\\sklearn\\metrics\\_classification.py:1221: UndefinedMetricWarning: Precision is ill-defined and being set to 0.0 in labels with no predicted samples. Use `zero_division` parameter to control this behavior.\n",
      "  _warn_prf(average, modifier, msg_start, len(result))\n"
     ]
    },
    {
     "name": "stdout",
     "output_type": "stream",
     "text": [
      "LR Class Wise Accuracy :  [1.         1.         1.         1.         1.         0.\n",
      " 0.28205128 0.64333333 1.         0.75       0.84686347 0.8\n",
      " 1.         1.         0.98305085 0.         0.85245902]\n",
      "LR Time :  35.709301299997605\n"
     ]
    },
    {
     "name": "stderr",
     "output_type": "stream",
     "text": [
      "C:\\Users\\sali85\\Anaconda3\\lib\\site-packages\\sklearn\\metrics\\_classification.py:1221: UndefinedMetricWarning: Precision is ill-defined and being set to 0.0 in labels with no predicted samples. Use `zero_division` parameter to control this behavior.\n",
      "  _warn_prf(average, modifier, msg_start, len(result))\n",
      "C:\\Users\\sali85\\Anaconda3\\lib\\site-packages\\sklearn\\metrics\\_classification.py:1221: UndefinedMetricWarning: Recall is ill-defined and being set to 0.0 in labels with no true samples. Use `zero_division` parameter to control this behavior.\n",
      "  _warn_prf(average, modifier, msg_start, len(result))\n",
      "<ipython-input-42-273c3866d82e>:321: RuntimeWarning: invalid value encountered in true_divide\n",
      "  print(\"DT Class Wise Accuracy : \",confuse.diagonal()/confuse.sum(axis=1))\n"
     ]
    },
    {
     "name": "stdout",
     "output_type": "stream",
     "text": [
      "DT Class Wise Accuracy :  [0.95348837 0.98019802 1.         1.         1.         0.1\n",
      " 0.25641026        nan 0.63666667 0.5        1.         0.85793358\n",
      "        nan 0.8        0.         0.8        0.97740113 0.\n",
      " 0.72786885]\n",
      "DT Time :  5.899092100000416\n"
     ]
    },
    {
     "name": "stderr",
     "output_type": "stream",
     "text": [
      "C:\\Users\\sali85\\Anaconda3\\lib\\site-packages\\sklearn\\metrics\\_classification.py:1221: UndefinedMetricWarning: Precision is ill-defined and being set to 0.0 in labels with no predicted samples. Use `zero_division` parameter to control this behavior.\n",
      "  _warn_prf(average, modifier, msg_start, len(result))\n",
      "C:\\Users\\sali85\\Anaconda3\\lib\\site-packages\\sklearn\\metrics\\_classification.py:1221: UndefinedMetricWarning: Recall is ill-defined and being set to 0.0 in labels with no true samples. Use `zero_division` parameter to control this behavior.\n",
      "  _warn_prf(average, modifier, msg_start, len(result))\n",
      "<ipython-input-42-273c3866d82e>:93: RuntimeWarning: invalid value encountered in true_divide\n",
      "  print(\"SVM Class Wise Accuracy : \",confuse.diagonal()/confuse.sum(axis=1))\n"
     ]
    },
    {
     "name": "stdout",
     "output_type": "stream",
     "text": [
      "SVM Class Wise Accuracy :  [1.         1.         1.         1.         1.         0.\n",
      " 0.35897436 0.63666667 1.         1.         0.87822878        nan\n",
      " 0.8        1.         1.         0.98305085 0.         0.75409836]\n",
      "SVM Time :  124.65476350000245\n"
     ]
    },
    {
     "name": "stderr",
     "output_type": "stream",
     "text": [
      "C:\\Users\\sali85\\Anaconda3\\lib\\site-packages\\sklearn\\metrics\\_classification.py:1221: UndefinedMetricWarning: Precision is ill-defined and being set to 0.0 in labels with no predicted samples. Use `zero_division` parameter to control this behavior.\n",
      "  _warn_prf(average, modifier, msg_start, len(result))\n",
      "C:\\Users\\sali85\\Anaconda3\\lib\\site-packages\\sklearn\\metrics\\_classification.py:1221: UndefinedMetricWarning: Recall is ill-defined and being set to 0.0 in labels with no true samples. Use `zero_division` parameter to control this behavior.\n",
      "  _warn_prf(average, modifier, msg_start, len(result))\n",
      "<ipython-input-42-273c3866d82e>:130: RuntimeWarning: invalid value encountered in true_divide\n",
      "  print(\"NB Class Wise Accuracy : \",confuse.diagonal()/confuse.sum(axis=1))\n"
     ]
    },
    {
     "name": "stdout",
     "output_type": "stream",
     "text": [
      "NB Class Wise Accuracy :  [1.         0.92592593 0.25       1.         0.95402299 0.14285714\n",
      " 0.14285714 1.         0.82312925 1.         0.         0.66666667\n",
      " 0.28358209        nan 0.5        0.         0.7        0.97368421\n",
      " 0.         0.80511182]\n",
      "NB Time :  6.3556196999998065\n"
     ]
    },
    {
     "name": "stderr",
     "output_type": "stream",
     "text": [
      "C:\\Users\\sali85\\Anaconda3\\lib\\site-packages\\sklearn\\metrics\\_classification.py:1221: UndefinedMetricWarning: Precision is ill-defined and being set to 0.0 in labels with no predicted samples. Use `zero_division` parameter to control this behavior.\n",
      "  _warn_prf(average, modifier, msg_start, len(result))\n"
     ]
    },
    {
     "name": "stdout",
     "output_type": "stream",
     "text": [
      "MLP Class Wise Accuracy :  [0.83333333 0.98148148 0.         0.93333333 0.97701149 0.07142857\n",
      " 0.17142857 0.         0.81632653 1.         0.         1.\n",
      " 0.79664179 0.75       0.         0.7        0.98421053 0.\n",
      " 0.73801917]\n",
      "MLP Time :  38.35461910000595\n"
     ]
    },
    {
     "name": "stderr",
     "output_type": "stream",
     "text": [
      "C:\\Users\\sali85\\Anaconda3\\lib\\site-packages\\sklearn\\metrics\\_classification.py:1221: UndefinedMetricWarning: Precision is ill-defined and being set to 0.0 in labels with no predicted samples. Use `zero_division` parameter to control this behavior.\n",
      "  _warn_prf(average, modifier, msg_start, len(result))\n"
     ]
    },
    {
     "name": "stdout",
     "output_type": "stream",
     "text": [
      "KNN Class Wise Accuracy :  [0.76190476 0.91666667 0.         1.         1.         0.\n",
      " 0.2        1.         0.59863946 1.         0.         0.83333333\n",
      " 0.86007463 0.375      0.         0.6        0.97368421 0.\n",
      " 0.86900958]\n",
      "KNN Time :  48.17968809999729\n"
     ]
    },
    {
     "name": "stderr",
     "output_type": "stream",
     "text": [
      "C:\\Users\\sali85\\Anaconda3\\lib\\site-packages\\sklearn\\metrics\\_classification.py:1221: UndefinedMetricWarning: Precision is ill-defined and being set to 0.0 in labels with no predicted samples. Use `zero_division` parameter to control this behavior.\n",
      "  _warn_prf(average, modifier, msg_start, len(result))\n"
     ]
    },
    {
     "name": "stdout",
     "output_type": "stream",
     "text": [
      "RF Class Wise Accuracy :  [0.95238095 0.96296296 0.25       1.         0.96551724 0.07142857\n",
      " 0.17142857 1.         0.67346939 1.         0.         0.83333333\n",
      " 0.91977612 0.75       1.         0.9        0.99473684 0.\n",
      " 0.76038339]\n",
      "RF Time :  11.98071080000227\n"
     ]
    },
    {
     "name": "stderr",
     "output_type": "stream",
     "text": [
      "C:\\Users\\sali85\\Anaconda3\\lib\\site-packages\\sklearn\\metrics\\_classification.py:1221: UndefinedMetricWarning: Precision is ill-defined and being set to 0.0 in labels with no predicted samples. Use `zero_division` parameter to control this behavior.\n",
      "  _warn_prf(average, modifier, msg_start, len(result))\n",
      "C:\\Users\\sali85\\Anaconda3\\lib\\site-packages\\sklearn\\metrics\\_classification.py:1221: UndefinedMetricWarning: Recall is ill-defined and being set to 0.0 in labels with no true samples. Use `zero_division` parameter to control this behavior.\n",
      "  _warn_prf(average, modifier, msg_start, len(result))\n",
      "<ipython-input-42-273c3866d82e>:285: RuntimeWarning: invalid value encountered in true_divide\n",
      "  print(\"LR Class Wise Accuracy : \",confuse.diagonal()/confuse.sum(axis=1))\n"
     ]
    },
    {
     "name": "stdout",
     "output_type": "stream",
     "text": [
      "LR Class Wise Accuracy :  [0.92857143 1.         0.5        1.         0.97701149 0.07142857\n",
      " 0.31428571 1.         0.66326531 1.         0.         1.\n",
      " 0.9141791         nan 0.75       1.         0.9        0.98947368\n",
      " 0.         0.78913738]\n",
      "LR Time :  49.56356719999894\n"
     ]
    },
    {
     "name": "stderr",
     "output_type": "stream",
     "text": [
      "C:\\Users\\sali85\\Anaconda3\\lib\\site-packages\\sklearn\\metrics\\_classification.py:1221: UndefinedMetricWarning: Precision is ill-defined and being set to 0.0 in labels with no predicted samples. Use `zero_division` parameter to control this behavior.\n",
      "  _warn_prf(average, modifier, msg_start, len(result))\n",
      "C:\\Users\\sali85\\Anaconda3\\lib\\site-packages\\sklearn\\metrics\\_classification.py:1221: UndefinedMetricWarning: Recall is ill-defined and being set to 0.0 in labels with no true samples. Use `zero_division` parameter to control this behavior.\n",
      "  _warn_prf(average, modifier, msg_start, len(result))\n",
      "<ipython-input-42-273c3866d82e>:321: RuntimeWarning: invalid value encountered in true_divide\n",
      "  print(\"DT Class Wise Accuracy : \",confuse.diagonal()/confuse.sum(axis=1))\n"
     ]
    },
    {
     "name": "stdout",
     "output_type": "stream",
     "text": [
      "DT Class Wise Accuracy :  [0.78571429 0.94444444 0.25       0.86666667        nan 0.96551724\n",
      " 0.07142857 0.28571429 1.         0.65986395 1.         0.\n",
      " 0.83333333 0.88992537 0.75       1.         0.8        0.97368421\n",
      " 0.         0.75399361]\n",
      "DT Time :  5.8161006000009365\n"
     ]
    },
    {
     "name": "stderr",
     "output_type": "stream",
     "text": [
      "C:\\Users\\sali85\\Anaconda3\\lib\\site-packages\\sklearn\\metrics\\_classification.py:1221: UndefinedMetricWarning: Precision is ill-defined and being set to 0.0 in labels with no predicted samples. Use `zero_division` parameter to control this behavior.\n",
      "  _warn_prf(average, modifier, msg_start, len(result))\n",
      "C:\\Users\\sali85\\Anaconda3\\lib\\site-packages\\sklearn\\metrics\\_classification.py:1221: UndefinedMetricWarning: Recall is ill-defined and being set to 0.0 in labels with no true samples. Use `zero_division` parameter to control this behavior.\n",
      "  _warn_prf(average, modifier, msg_start, len(result))\n",
      "<ipython-input-42-273c3866d82e>:93: RuntimeWarning: invalid value encountered in true_divide\n",
      "  print(\"SVM Class Wise Accuracy : \",confuse.diagonal()/confuse.sum(axis=1))\n"
     ]
    },
    {
     "name": "stdout",
     "output_type": "stream",
     "text": [
      "SVM Class Wise Accuracy :  [0.95238095 0.99074074 0.5        1.         0.97701149 0.07142857\n",
      " 0.31428571 1.         0.66326531 1.         0.         1.\n",
      " 0.9011194         nan 0.75       1.         0.9        0.98947368\n",
      " 0.         0.76996805]\n",
      "SVM Time :  131.24889849999454\n"
     ]
    },
    {
     "name": "stderr",
     "output_type": "stream",
     "text": [
      "C:\\Users\\sali85\\Anaconda3\\lib\\site-packages\\sklearn\\metrics\\_classification.py:1221: UndefinedMetricWarning: Precision is ill-defined and being set to 0.0 in labels with no predicted samples. Use `zero_division` parameter to control this behavior.\n",
      "  _warn_prf(average, modifier, msg_start, len(result))\n",
      "C:\\Users\\sali85\\Anaconda3\\lib\\site-packages\\sklearn\\metrics\\_classification.py:1221: UndefinedMetricWarning: Recall is ill-defined and being set to 0.0 in labels with no true samples. Use `zero_division` parameter to control this behavior.\n",
      "  _warn_prf(average, modifier, msg_start, len(result))\n",
      "<ipython-input-42-273c3866d82e>:130: RuntimeWarning: invalid value encountered in true_divide\n",
      "  print(\"NB Class Wise Accuracy : \",confuse.diagonal()/confuse.sum(axis=1))\n"
     ]
    },
    {
     "name": "stdout",
     "output_type": "stream",
     "text": [
      "NB Class Wise Accuracy :  [0.97826087 0.97321429 0.5        1.         0.97752809 0.\n",
      " 0.19512195 1.         0.81454545 1.         0.         1.\n",
      " 0.23853211        nan 0.28571429 0.83333333 0.98265896 0.\n",
      "        nan 0.82822086]\n",
      "NB Time :  6.011797899998783\n"
     ]
    },
    {
     "name": "stderr",
     "output_type": "stream",
     "text": [
      "C:\\Users\\sali85\\Anaconda3\\lib\\site-packages\\sklearn\\metrics\\_classification.py:1221: UndefinedMetricWarning: Precision is ill-defined and being set to 0.0 in labels with no predicted samples. Use `zero_division` parameter to control this behavior.\n",
      "  _warn_prf(average, modifier, msg_start, len(result))\n"
     ]
    },
    {
     "name": "stdout",
     "output_type": "stream",
     "text": [
      "MLP Class Wise Accuracy :  [0.89130435 0.94642857 0.5        0.92857143 1.         0.\n",
      " 0.19512195 1.         0.83272727 1.         0.         0.66666667\n",
      " 0.73944954 0.71428571 1.         0.98265896 0.         0.85582822]\n",
      "MLP Time :  80.39845269999932\n"
     ]
    },
    {
     "name": "stderr",
     "output_type": "stream",
     "text": [
      "C:\\Users\\sali85\\Anaconda3\\lib\\site-packages\\sklearn\\metrics\\_classification.py:1221: UndefinedMetricWarning: Precision is ill-defined and being set to 0.0 in labels with no predicted samples. Use `zero_division` parameter to control this behavior.\n",
      "  _warn_prf(average, modifier, msg_start, len(result))\n"
     ]
    },
    {
     "name": "stdout",
     "output_type": "stream",
     "text": [
      "KNN Class Wise Accuracy :  [0.86956522 0.94642857 0.5        1.         1.         0.\n",
      " 0.19512195 1.         0.64       1.         0.         0.66666667\n",
      " 0.86605505 0.28571429 1.         0.98843931 0.         0.79754601]\n",
      "KNN Time :  46.33134799999971\n"
     ]
    },
    {
     "name": "stderr",
     "output_type": "stream",
     "text": [
      "C:\\Users\\sali85\\Anaconda3\\lib\\site-packages\\sklearn\\metrics\\_classification.py:1221: UndefinedMetricWarning: Precision is ill-defined and being set to 0.0 in labels with no predicted samples. Use `zero_division` parameter to control this behavior.\n",
      "  _warn_prf(average, modifier, msg_start, len(result))\n"
     ]
    },
    {
     "name": "stdout",
     "output_type": "stream",
     "text": [
      "RF Class Wise Accuracy :  [0.97826087 1.         0.5        1.         1.         0.\n",
      " 0.19512195 1.         0.68363636 1.         0.         0.66666667\n",
      " 0.91743119 0.71428571 1.         0.98843931 0.         0.77300613]\n",
      "RF Time :  12.081033800001023\n"
     ]
    },
    {
     "name": "stderr",
     "output_type": "stream",
     "text": [
      "C:\\Users\\sali85\\Anaconda3\\lib\\site-packages\\sklearn\\metrics\\_classification.py:1221: UndefinedMetricWarning: Precision is ill-defined and being set to 0.0 in labels with no predicted samples. Use `zero_division` parameter to control this behavior.\n",
      "  _warn_prf(average, modifier, msg_start, len(result))\n"
     ]
    },
    {
     "name": "stdout",
     "output_type": "stream",
     "text": [
      "LR Class Wise Accuracy :  [0.95652174 1.         1.         1.         1.         0.\n",
      " 0.26829268 1.         0.69818182 1.         0.         0.66666667\n",
      " 0.90091743 0.71428571 1.         0.98843931 0.         0.82208589]\n",
      "LR Time :  53.17414329999883\n"
     ]
    },
    {
     "name": "stderr",
     "output_type": "stream",
     "text": [
      "C:\\Users\\sali85\\Anaconda3\\lib\\site-packages\\sklearn\\metrics\\_classification.py:1221: UndefinedMetricWarning: Precision is ill-defined and being set to 0.0 in labels with no predicted samples. Use `zero_division` parameter to control this behavior.\n",
      "  _warn_prf(average, modifier, msg_start, len(result))\n",
      "C:\\Users\\sali85\\Anaconda3\\lib\\site-packages\\sklearn\\metrics\\_classification.py:1221: UndefinedMetricWarning: Recall is ill-defined and being set to 0.0 in labels with no true samples. Use `zero_division` parameter to control this behavior.\n",
      "  _warn_prf(average, modifier, msg_start, len(result))\n",
      "<ipython-input-42-273c3866d82e>:321: RuntimeWarning: invalid value encountered in true_divide\n",
      "  print(\"DT Class Wise Accuracy : \",confuse.diagonal()/confuse.sum(axis=1))\n"
     ]
    },
    {
     "name": "stdout",
     "output_type": "stream",
     "text": [
      "DT Class Wise Accuracy :  [0.80434783 0.98214286 0.5        1.         1.         0.\n",
      " 0.31707317 0.5        0.66181818 1.         0.         1.\n",
      " 0.87155963        nan 0.57142857 0.83333333 0.98265896 0.\n",
      " 0.7791411 ]\n",
      "DT Time :  6.399443299997074\n"
     ]
    },
    {
     "name": "stderr",
     "output_type": "stream",
     "text": [
      "C:\\Users\\sali85\\Anaconda3\\lib\\site-packages\\sklearn\\metrics\\_classification.py:1221: UndefinedMetricWarning: Precision is ill-defined and being set to 0.0 in labels with no predicted samples. Use `zero_division` parameter to control this behavior.\n",
      "  _warn_prf(average, modifier, msg_start, len(result))\n",
      "C:\\Users\\sali85\\Anaconda3\\lib\\site-packages\\sklearn\\metrics\\_classification.py:1221: UndefinedMetricWarning: Recall is ill-defined and being set to 0.0 in labels with no true samples. Use `zero_division` parameter to control this behavior.\n",
      "  _warn_prf(average, modifier, msg_start, len(result))\n",
      "<ipython-input-42-273c3866d82e>:93: RuntimeWarning: invalid value encountered in true_divide\n",
      "  print(\"SVM Class Wise Accuracy : \",confuse.diagonal()/confuse.sum(axis=1))\n"
     ]
    },
    {
     "name": "stdout",
     "output_type": "stream",
     "text": [
      "SVM Class Wise Accuracy :  [0.97826087 1.         1.         1.         1.         0.\n",
      " 0.29268293 1.         0.66181818 1.         0.         1.\n",
      " 0.88807339        nan 0.71428571 1.         0.98843931 0.\n",
      " 0.82515337]\n",
      "SVM Time :  137.62135280000075\n"
     ]
    },
    {
     "name": "stderr",
     "output_type": "stream",
     "text": [
      "C:\\Users\\sali85\\Anaconda3\\lib\\site-packages\\sklearn\\metrics\\_classification.py:1221: UndefinedMetricWarning: Precision is ill-defined and being set to 0.0 in labels with no predicted samples. Use `zero_division` parameter to control this behavior.\n",
      "  _warn_prf(average, modifier, msg_start, len(result))\n",
      "C:\\Users\\sali85\\Anaconda3\\lib\\site-packages\\sklearn\\metrics\\_classification.py:1221: UndefinedMetricWarning: Recall is ill-defined and being set to 0.0 in labels with no true samples. Use `zero_division` parameter to control this behavior.\n",
      "  _warn_prf(average, modifier, msg_start, len(result))\n",
      "<ipython-input-42-273c3866d82e>:130: RuntimeWarning: invalid value encountered in true_divide\n",
      "  print(\"NB Class Wise Accuracy : \",confuse.diagonal()/confuse.sum(axis=1))\n"
     ]
    },
    {
     "name": "stdout",
     "output_type": "stream",
     "text": [
      "NB Class Wise Accuracy :  [1.         0.99122807 1.         0.96875    0.96470588 0.18181818\n",
      " 0.16129032 0.         1.         0.8200692  1.         0.\n",
      " 0.66666667 0.23049645        nan 0.83333333 0.72727273 0.98843931\n",
      " 0.         0.         0.82      ]\n",
      "NB Time :  6.352412500003993\n"
     ]
    },
    {
     "name": "stderr",
     "output_type": "stream",
     "text": [
      "C:\\Users\\sali85\\Anaconda3\\lib\\site-packages\\sklearn\\metrics\\_classification.py:1221: UndefinedMetricWarning: Precision is ill-defined and being set to 0.0 in labels with no predicted samples. Use `zero_division` parameter to control this behavior.\n",
      "  _warn_prf(average, modifier, msg_start, len(result))\n"
     ]
    },
    {
     "name": "stdout",
     "output_type": "stream",
     "text": [
      "MLP Class Wise Accuracy :  [1.         0.98245614 1.         1.         1.         0.09090909\n",
      " 0.22580645 0.         1.         0.89965398 1.         0.\n",
      " 0.83333333 0.64361702 1.         0.63636364 0.98265896 0.\n",
      " 0.         0.85666667]\n"
     ]
    },
    {
     "name": "stderr",
     "output_type": "stream",
     "text": [
      "C:\\Users\\sali85\\Anaconda3\\lib\\site-packages\\sklearn\\metrics\\_classification.py:1221: UndefinedMetricWarning: Precision is ill-defined and being set to 0.0 in labels with no predicted samples. Use `zero_division` parameter to control this behavior.\n",
      "  _warn_prf(average, modifier, msg_start, len(result))\n"
     ]
    },
    {
     "name": "stdout",
     "output_type": "stream",
     "text": [
      "MLP Time :  57.85271179999836\n",
      "KNN Class Wise Accuracy :  [0.77142857 0.96491228 1.         1.         1.         0.\n",
      " 0.32258065 0.         1.         0.6366782  1.         0.\n",
      " 0.83333333 0.78191489 0.16666667 0.54545455 0.98843931 0.\n",
      " 0.         0.82      ]\n",
      "KNN Time :  51.14253579999786\n"
     ]
    },
    {
     "name": "stderr",
     "output_type": "stream",
     "text": [
      "C:\\Users\\sali85\\Anaconda3\\lib\\site-packages\\sklearn\\metrics\\_classification.py:1221: UndefinedMetricWarning: Precision is ill-defined and being set to 0.0 in labels with no predicted samples. Use `zero_division` parameter to control this behavior.\n",
      "  _warn_prf(average, modifier, msg_start, len(result))\n"
     ]
    },
    {
     "name": "stdout",
     "output_type": "stream",
     "text": [
      "RF Class Wise Accuracy :  [1.         1.         1.         1.         1.         0.09090909\n",
      " 0.25806452 0.         1.         0.67474048 1.         0.\n",
      " 0.83333333 0.86524823 0.83333333 0.90909091 0.99421965 0.\n",
      " 0.         0.83333333]\n",
      "RF Time :  12.126541099998576\n"
     ]
    },
    {
     "name": "stderr",
     "output_type": "stream",
     "text": [
      "C:\\Users\\sali85\\Anaconda3\\lib\\site-packages\\sklearn\\metrics\\_classification.py:1221: UndefinedMetricWarning: Precision is ill-defined and being set to 0.0 in labels with no predicted samples. Use `zero_division` parameter to control this behavior.\n",
      "  _warn_prf(average, modifier, msg_start, len(result))\n"
     ]
    },
    {
     "name": "stdout",
     "output_type": "stream",
     "text": [
      "LR Class Wise Accuracy :  [0.97142857 1.         1.         1.         1.         0.09090909\n",
      " 0.38709677 0.         1.         0.66782007 1.         0.\n",
      " 1.         0.87588652 1.         1.         0.99421965 0.\n",
      " 0.         0.86333333]\n",
      "LR Time :  56.32296850000421\n"
     ]
    },
    {
     "name": "stderr",
     "output_type": "stream",
     "text": [
      "C:\\Users\\sali85\\Anaconda3\\lib\\site-packages\\sklearn\\metrics\\_classification.py:1221: UndefinedMetricWarning: Precision is ill-defined and being set to 0.0 in labels with no predicted samples. Use `zero_division` parameter to control this behavior.\n",
      "  _warn_prf(average, modifier, msg_start, len(result))\n",
      "C:\\Users\\sali85\\Anaconda3\\lib\\site-packages\\sklearn\\metrics\\_classification.py:1221: UndefinedMetricWarning: Recall is ill-defined and being set to 0.0 in labels with no true samples. Use `zero_division` parameter to control this behavior.\n",
      "  _warn_prf(average, modifier, msg_start, len(result))\n",
      "<ipython-input-42-273c3866d82e>:321: RuntimeWarning: invalid value encountered in true_divide\n",
      "  print(\"DT Class Wise Accuracy : \",confuse.diagonal()/confuse.sum(axis=1))\n"
     ]
    },
    {
     "name": "stdout",
     "output_type": "stream",
     "text": [
      "DT Class Wise Accuracy :  [0.94285714 0.97368421 1.         1.         1.         0.18181818\n",
      " 0.22580645 0.         1.         0.62629758 0.         0.\n",
      " 0.66666667 0.81737589        nan 0.83333333        nan 0.72727273\n",
      " 0.98265896 0.         0.         0.83333333]\n",
      "DT Time :  6.209237900002336\n"
     ]
    },
    {
     "name": "stderr",
     "output_type": "stream",
     "text": [
      "C:\\Users\\sali85\\Anaconda3\\lib\\site-packages\\sklearn\\metrics\\_classification.py:1221: UndefinedMetricWarning: Precision is ill-defined and being set to 0.0 in labels with no predicted samples. Use `zero_division` parameter to control this behavior.\n",
      "  _warn_prf(average, modifier, msg_start, len(result))\n",
      "C:\\Users\\sali85\\Anaconda3\\lib\\site-packages\\sklearn\\metrics\\_classification.py:1221: UndefinedMetricWarning: Recall is ill-defined and being set to 0.0 in labels with no true samples. Use `zero_division` parameter to control this behavior.\n",
      "  _warn_prf(average, modifier, msg_start, len(result))\n",
      "<ipython-input-42-273c3866d82e>:93: RuntimeWarning: invalid value encountered in true_divide\n",
      "  print(\"SVM Class Wise Accuracy : \",confuse.diagonal()/confuse.sum(axis=1))\n"
     ]
    },
    {
     "name": "stdout",
     "output_type": "stream",
     "text": [
      "SVM Class Wise Accuracy :  [0.97142857 1.         1.         1.         1.         0.09090909\n",
      " 0.41935484 0.         1.         0.64359862 1.         0.\n",
      " 1.         0.84751773        nan 0.83333333 1.         0.99421965\n",
      " 0.         0.         0.85333333]\n",
      "SVM Time :  135.8286450999949\n"
     ]
    },
    {
     "name": "stderr",
     "output_type": "stream",
     "text": [
      "C:\\Users\\sali85\\Anaconda3\\lib\\site-packages\\sklearn\\metrics\\_classification.py:1221: UndefinedMetricWarning: Precision is ill-defined and being set to 0.0 in labels with no predicted samples. Use `zero_division` parameter to control this behavior.\n",
      "  _warn_prf(average, modifier, msg_start, len(result))\n",
      "C:\\Users\\sali85\\Anaconda3\\lib\\site-packages\\sklearn\\metrics\\_classification.py:1221: UndefinedMetricWarning: Recall is ill-defined and being set to 0.0 in labels with no true samples. Use `zero_division` parameter to control this behavior.\n",
      "  _warn_prf(average, modifier, msg_start, len(result))\n",
      "<ipython-input-42-273c3866d82e>:130: RuntimeWarning: invalid value encountered in true_divide\n",
      "  print(\"NB Class Wise Accuracy : \",confuse.diagonal()/confuse.sum(axis=1))\n"
     ]
    },
    {
     "name": "stdout",
     "output_type": "stream",
     "text": [
      "NB Class Wise Accuracy :  [0.97777778 1.         0.75       0.9375     0.98019802 0.11111111\n",
      " 0.22222222 1.         0.81415929 0.         0.66666667 0.27961165\n",
      "        nan 0.5        0.71428571 0.96363636 0.         0.8419244 ]\n",
      "NB Time :  7.160707099996216\n"
     ]
    },
    {
     "name": "stderr",
     "output_type": "stream",
     "text": [
      "C:\\Users\\sali85\\Anaconda3\\lib\\site-packages\\sklearn\\metrics\\_classification.py:1221: UndefinedMetricWarning: Precision is ill-defined and being set to 0.0 in labels with no predicted samples. Use `zero_division` parameter to control this behavior.\n",
      "  _warn_prf(average, modifier, msg_start, len(result))\n",
      "C:\\Users\\sali85\\Anaconda3\\lib\\site-packages\\sklearn\\metrics\\_classification.py:1221: UndefinedMetricWarning: Recall is ill-defined and being set to 0.0 in labels with no true samples. Use `zero_division` parameter to control this behavior.\n",
      "  _warn_prf(average, modifier, msg_start, len(result))\n",
      "<ipython-input-42-273c3866d82e>:174: RuntimeWarning: invalid value encountered in true_divide\n",
      "  print(\"MLP Class Wise Accuracy : \",confuse.diagonal()/confuse.sum(axis=1))\n"
     ]
    },
    {
     "name": "stdout",
     "output_type": "stream",
     "text": [
      "MLP Class Wise Accuracy :  [0.91111111 0.98230088 0.         0.9375            nan 0.98019802\n",
      " 0.         0.19444444 1.         0.81415929 0.         0.66666667\n",
      " 0.62912621 0.75       0.71428571 0.98787879 0.         0.94501718]\n"
     ]
    },
    {
     "name": "stderr",
     "output_type": "stream",
     "text": [
      "C:\\Users\\sali85\\Anaconda3\\lib\\site-packages\\sklearn\\metrics\\_classification.py:1221: UndefinedMetricWarning: Precision is ill-defined and being set to 0.0 in labels with no predicted samples. Use `zero_division` parameter to control this behavior.\n",
      "  _warn_prf(average, modifier, msg_start, len(result))\n"
     ]
    },
    {
     "name": "stdout",
     "output_type": "stream",
     "text": [
      "MLP Time :  49.7009470999983\n",
      "KNN Class Wise Accuracy :  [0.8        0.96460177 0.25       1.         0.99009901 0.\n",
      " 0.22222222 1.         0.74336283 0.         0.66666667 0.7592233\n",
      " 0.75       0.71428571 0.99393939 0.         0.74570447]\n",
      "KNN Time :  53.919364100001985\n"
     ]
    },
    {
     "name": "stderr",
     "output_type": "stream",
     "text": [
      "C:\\Users\\sali85\\Anaconda3\\lib\\site-packages\\sklearn\\metrics\\_classification.py:1221: UndefinedMetricWarning: Precision is ill-defined and being set to 0.0 in labels with no predicted samples. Use `zero_division` parameter to control this behavior.\n",
      "  _warn_prf(average, modifier, msg_start, len(result))\n"
     ]
    },
    {
     "name": "stdout",
     "output_type": "stream",
     "text": [
      "RF Class Wise Accuracy :  [0.97777778 1.         0.75       1.         0.99009901 0.11111111\n",
      " 0.19444444 1.         0.70501475 0.         0.66666667 0.88737864\n",
      " 0.75       0.71428571 0.99393939 0.         0.72508591]\n",
      "RF Time :  12.556784500004142\n"
     ]
    },
    {
     "name": "stderr",
     "output_type": "stream",
     "text": [
      "C:\\Users\\sali85\\Anaconda3\\lib\\site-packages\\sklearn\\metrics\\_classification.py:1221: UndefinedMetricWarning: Precision is ill-defined and being set to 0.0 in labels with no predicted samples. Use `zero_division` parameter to control this behavior.\n",
      "  _warn_prf(average, modifier, msg_start, len(result))\n"
     ]
    },
    {
     "name": "stdout",
     "output_type": "stream",
     "text": [
      "LR Class Wise Accuracy :  [0.97777778 1.         1.         1.         1.         0.11111111\n",
      " 0.22222222 1.         0.64306785 0.         1.         0.91262136\n",
      " 0.75       1.         0.98787879 0.         0.7628866 ]\n",
      "LR Time :  58.661009499999636\n"
     ]
    },
    {
     "name": "stderr",
     "output_type": "stream",
     "text": [
      "C:\\Users\\sali85\\Anaconda3\\lib\\site-packages\\sklearn\\metrics\\_classification.py:1221: UndefinedMetricWarning: Precision is ill-defined and being set to 0.0 in labels with no predicted samples. Use `zero_division` parameter to control this behavior.\n",
      "  _warn_prf(average, modifier, msg_start, len(result))\n",
      "C:\\Users\\sali85\\Anaconda3\\lib\\site-packages\\sklearn\\metrics\\_classification.py:1221: UndefinedMetricWarning: Recall is ill-defined and being set to 0.0 in labels with no true samples. Use `zero_division` parameter to control this behavior.\n",
      "  _warn_prf(average, modifier, msg_start, len(result))\n",
      "<ipython-input-42-273c3866d82e>:321: RuntimeWarning: invalid value encountered in true_divide\n",
      "  print(\"DT Class Wise Accuracy : \",confuse.diagonal()/confuse.sum(axis=1))\n"
     ]
    },
    {
     "name": "stdout",
     "output_type": "stream",
     "text": [
      "DT Class Wise Accuracy :  [0.82222222 0.99115044 0.75       0.90625           nan 1.\n",
      " 0.11111111 0.25       0.5        0.66961652        nan 0.\n",
      " 0.66666667 0.86796117        nan 0.75              nan 0.42857143\n",
      " 0.98787879 0.         0.73539519]\n",
      "DT Time :  6.392049099995347\n"
     ]
    },
    {
     "name": "stderr",
     "output_type": "stream",
     "text": [
      "C:\\Users\\sali85\\Anaconda3\\lib\\site-packages\\sklearn\\metrics\\_classification.py:1221: UndefinedMetricWarning: Precision is ill-defined and being set to 0.0 in labels with no predicted samples. Use `zero_division` parameter to control this behavior.\n",
      "  _warn_prf(average, modifier, msg_start, len(result))\n",
      "C:\\Users\\sali85\\Anaconda3\\lib\\site-packages\\sklearn\\metrics\\_classification.py:1221: UndefinedMetricWarning: Recall is ill-defined and being set to 0.0 in labels with no true samples. Use `zero_division` parameter to control this behavior.\n",
      "  _warn_prf(average, modifier, msg_start, len(result))\n",
      "<ipython-input-42-273c3866d82e>:93: RuntimeWarning: invalid value encountered in true_divide\n",
      "  print(\"SVM Class Wise Accuracy : \",confuse.diagonal()/confuse.sum(axis=1))\n"
     ]
    },
    {
     "name": "stdout",
     "output_type": "stream",
     "text": [
      "SVM Class Wise Accuracy :  [0.95555556 1.         1.         1.         1.         0.11111111\n",
      " 0.22222222 1.         0.65781711 0.         1.         0.90097087\n",
      "        nan 0.75       0.71428571 0.98787879 0.         0.75257732]\n",
      "SVM Time :  136.01063930000237\n"
     ]
    },
    {
     "name": "stderr",
     "output_type": "stream",
     "text": [
      "C:\\Users\\sali85\\Anaconda3\\lib\\site-packages\\sklearn\\metrics\\_classification.py:1221: UndefinedMetricWarning: Precision is ill-defined and being set to 0.0 in labels with no predicted samples. Use `zero_division` parameter to control this behavior.\n",
      "  _warn_prf(average, modifier, msg_start, len(result))\n",
      "C:\\Users\\sali85\\Anaconda3\\lib\\site-packages\\sklearn\\metrics\\_classification.py:1221: UndefinedMetricWarning: Recall is ill-defined and being set to 0.0 in labels with no true samples. Use `zero_division` parameter to control this behavior.\n",
      "  _warn_prf(average, modifier, msg_start, len(result))\n",
      "<ipython-input-42-273c3866d82e>:130: RuntimeWarning: invalid value encountered in true_divide\n",
      "  print(\"NB Class Wise Accuracy : \",confuse.diagonal()/confuse.sum(axis=1))\n"
     ]
    },
    {
     "name": "stdout",
     "output_type": "stream",
     "text": [
      "NB Class Wise Accuracy :  [1.         0.94067797 1.         1.         0.         0.92631579\n",
      " 0.06666667 0.24390244 1.         0.81790123 1.         1.\n",
      " 0.22789784        nan 0.66666667 0.7        0.97687861 0.\n",
      " 0.79931973]\n",
      "NB Time :  6.72983579999709\n"
     ]
    },
    {
     "name": "stderr",
     "output_type": "stream",
     "text": [
      "C:\\Users\\sali85\\Anaconda3\\lib\\site-packages\\sklearn\\metrics\\_classification.py:1221: UndefinedMetricWarning: Precision is ill-defined and being set to 0.0 in labels with no predicted samples. Use `zero_division` parameter to control this behavior.\n",
      "  _warn_prf(average, modifier, msg_start, len(result))\n",
      "C:\\Users\\sali85\\Anaconda3\\lib\\site-packages\\sklearn\\metrics\\_classification.py:1221: UndefinedMetricWarning: Recall is ill-defined and being set to 0.0 in labels with no true samples. Use `zero_division` parameter to control this behavior.\n",
      "  _warn_prf(average, modifier, msg_start, len(result))\n",
      "<ipython-input-42-273c3866d82e>:174: RuntimeWarning: invalid value encountered in true_divide\n",
      "  print(\"MLP Class Wise Accuracy : \",confuse.diagonal()/confuse.sum(axis=1))\n"
     ]
    },
    {
     "name": "stdout",
     "output_type": "stream",
     "text": [
      "MLP Class Wise Accuracy :  [0.73333333 0.91525424 1.         1.         0.         0.96842105\n",
      " 0.06666667 0.2195122         nan 1.         0.66666667 1.\n",
      " 0.         0.92927308 0.66666667 0.7        0.98843931 0.\n",
      " 0.77210884]\n",
      "MLP Time :  39.11047669999971\n"
     ]
    },
    {
     "name": "stderr",
     "output_type": "stream",
     "text": [
      "C:\\Users\\sali85\\Anaconda3\\lib\\site-packages\\sklearn\\metrics\\_classification.py:1221: UndefinedMetricWarning: Precision is ill-defined and being set to 0.0 in labels with no predicted samples. Use `zero_division` parameter to control this behavior.\n",
      "  _warn_prf(average, modifier, msg_start, len(result))\n"
     ]
    },
    {
     "name": "stdout",
     "output_type": "stream",
     "text": [
      "KNN Class Wise Accuracy :  [0.82222222 0.93220339 0.5        1.         0.         0.98947368\n",
      " 0.         0.29268293 1.         0.83641975 1.         1.\n",
      " 0.6935167  0.83333333 0.5        0.98843931 0.         0.79931973]\n",
      "KNN Time :  52.80347279999842\n"
     ]
    },
    {
     "name": "stderr",
     "output_type": "stream",
     "text": [
      "C:\\Users\\sali85\\Anaconda3\\lib\\site-packages\\sklearn\\metrics\\_classification.py:1221: UndefinedMetricWarning: Precision is ill-defined and being set to 0.0 in labels with no predicted samples. Use `zero_division` parameter to control this behavior.\n",
      "  _warn_prf(average, modifier, msg_start, len(result))\n"
     ]
    },
    {
     "name": "stdout",
     "output_type": "stream",
     "text": [
      "RF Class Wise Accuracy :  [1.         0.96610169 1.         1.         0.         0.97894737\n",
      " 0.06666667 0.24390244 1.         0.68209877 1.         1.\n",
      " 0.89390963 1.         0.8        1.         0.         0.84013605]\n",
      "RF Time :  12.496381500001007\n"
     ]
    },
    {
     "name": "stderr",
     "output_type": "stream",
     "text": [
      "C:\\Users\\sali85\\Anaconda3\\lib\\site-packages\\sklearn\\metrics\\_classification.py:1221: UndefinedMetricWarning: Precision is ill-defined and being set to 0.0 in labels with no predicted samples. Use `zero_division` parameter to control this behavior.\n",
      "  _warn_prf(average, modifier, msg_start, len(result))\n"
     ]
    },
    {
     "name": "stdout",
     "output_type": "stream",
     "text": [
      "LR Class Wise Accuracy :  [0.93333333 0.98305085 1.         1.         0.         1.\n",
      " 0.06666667 0.2195122  1.         0.66049383 1.         1.\n",
      " 0.91552063 0.83333333 0.9        1.         0.         0.82993197]\n",
      "LR Time :  55.56241489999957\n"
     ]
    },
    {
     "name": "stderr",
     "output_type": "stream",
     "text": [
      "C:\\Users\\sali85\\Anaconda3\\lib\\site-packages\\sklearn\\metrics\\_classification.py:1221: UndefinedMetricWarning: Precision is ill-defined and being set to 0.0 in labels with no predicted samples. Use `zero_division` parameter to control this behavior.\n",
      "  _warn_prf(average, modifier, msg_start, len(result))\n",
      "C:\\Users\\sali85\\Anaconda3\\lib\\site-packages\\sklearn\\metrics\\_classification.py:1221: UndefinedMetricWarning: Recall is ill-defined and being set to 0.0 in labels with no true samples. Use `zero_division` parameter to control this behavior.\n",
      "  _warn_prf(average, modifier, msg_start, len(result))\n",
      "<ipython-input-42-273c3866d82e>:321: RuntimeWarning: invalid value encountered in true_divide\n",
      "  print(\"DT Class Wise Accuracy : \",confuse.diagonal()/confuse.sum(axis=1))\n"
     ]
    },
    {
     "name": "stdout",
     "output_type": "stream",
     "text": [
      "DT Class Wise Accuracy :  [0.77777778 0.94915254 1.         0.93333333 0.         0.96842105\n",
      " 0.06666667 0.2195122  0.5        0.69444444 1.                nan\n",
      " 1.         0.86051081        nan 1.         0.6        0.97687861\n",
      " 0.         0.84353741]\n",
      "DT Time :  6.257311500005017\n"
     ]
    },
    {
     "name": "stderr",
     "output_type": "stream",
     "text": [
      "C:\\Users\\sali85\\Anaconda3\\lib\\site-packages\\sklearn\\metrics\\_classification.py:1221: UndefinedMetricWarning: Precision is ill-defined and being set to 0.0 in labels with no predicted samples. Use `zero_division` parameter to control this behavior.\n",
      "  _warn_prf(average, modifier, msg_start, len(result))\n",
      "C:\\Users\\sali85\\Anaconda3\\lib\\site-packages\\sklearn\\metrics\\_classification.py:1221: UndefinedMetricWarning: Recall is ill-defined and being set to 0.0 in labels with no true samples. Use `zero_division` parameter to control this behavior.\n",
      "  _warn_prf(average, modifier, msg_start, len(result))\n",
      "<ipython-input-42-273c3866d82e>:93: RuntimeWarning: invalid value encountered in true_divide\n",
      "  print(\"SVM Class Wise Accuracy : \",confuse.diagonal()/confuse.sum(axis=1))\n"
     ]
    },
    {
     "name": "stdout",
     "output_type": "stream",
     "text": [
      "SVM Class Wise Accuracy :  [1.         0.98305085 1.         1.         0.         1.\n",
      " 0.06666667 0.24390244 1.         0.64506173 1.         1.\n",
      " 0.88801572        nan 0.83333333 0.9        1.         0.\n",
      " 0.8537415 ]\n",
      "SVM Time :  139.13956610000605\n"
     ]
    },
    {
     "name": "stderr",
     "output_type": "stream",
     "text": [
      "C:\\Users\\sali85\\Anaconda3\\lib\\site-packages\\sklearn\\metrics\\_classification.py:1221: UndefinedMetricWarning: Precision is ill-defined and being set to 0.0 in labels with no predicted samples. Use `zero_division` parameter to control this behavior.\n",
      "  _warn_prf(average, modifier, msg_start, len(result))\n"
     ]
    },
    {
     "name": "stdout",
     "output_type": "stream",
     "text": [
      "NB Class Wise Accuracy :  [1.         0.95327103 0.95454545 0.         0.93877551 0.07692308\n",
      " 0.2        1.         0.89164087 1.         1.         0.24538745\n",
      " 0.         0.5        0.         0.75       0.95783133 0.\n",
      " 0.         0.87762238]\n",
      "NB Time :  6.436371799994959\n"
     ]
    },
    {
     "name": "stderr",
     "output_type": "stream",
     "text": [
      "C:\\Users\\sali85\\Anaconda3\\lib\\site-packages\\sklearn\\metrics\\_classification.py:1221: UndefinedMetricWarning: Precision is ill-defined and being set to 0.0 in labels with no predicted samples. Use `zero_division` parameter to control this behavior.\n",
      "  _warn_prf(average, modifier, msg_start, len(result))\n",
      "C:\\Users\\sali85\\Anaconda3\\lib\\site-packages\\sklearn\\metrics\\_classification.py:1221: UndefinedMetricWarning: Recall is ill-defined and being set to 0.0 in labels with no true samples. Use `zero_division` parameter to control this behavior.\n",
      "  _warn_prf(average, modifier, msg_start, len(result))\n",
      "<ipython-input-42-273c3866d82e>:174: RuntimeWarning: invalid value encountered in true_divide\n",
      "  print(\"MLP Class Wise Accuracy : \",confuse.diagonal()/confuse.sum(axis=1))\n"
     ]
    },
    {
     "name": "stdout",
     "output_type": "stream",
     "text": [
      "MLP Class Wise Accuracy :  [0.91666667 0.96261682 0.86363636 0.         0.98979592 0.\n",
      " 0.375             nan 0.         0.67801858 1.         0.75\n",
      " 0.900369   0.         0.83333333 0.         0.75       1.\n",
      " 0.         0.         0.77972028]\n"
     ]
    },
    {
     "name": "stderr",
     "output_type": "stream",
     "text": [
      "C:\\Users\\sali85\\Anaconda3\\lib\\site-packages\\sklearn\\metrics\\_classification.py:1221: UndefinedMetricWarning: Precision is ill-defined and being set to 0.0 in labels with no predicted samples. Use `zero_division` parameter to control this behavior.\n",
      "  _warn_prf(average, modifier, msg_start, len(result))\n",
      "C:\\Users\\sali85\\Anaconda3\\lib\\site-packages\\sklearn\\metrics\\_classification.py:1221: UndefinedMetricWarning: Recall is ill-defined and being set to 0.0 in labels with no true samples. Use `zero_division` parameter to control this behavior.\n",
      "  _warn_prf(average, modifier, msg_start, len(result))\n",
      "<ipython-input-42-273c3866d82e>:210: RuntimeWarning: invalid value encountered in true_divide\n",
      "  print(\"KNN Class Wise Accuracy : \",confuse.diagonal()/confuse.sum(axis=1))\n"
     ]
    },
    {
     "name": "stdout",
     "output_type": "stream",
     "text": [
      "MLP Time :  135.60534919999918\n",
      "KNN Class Wise Accuracy :  [0.79166667 0.99065421        nan 1.         0.         1.\n",
      " 0.         0.325      1.         0.81733746 1.         0.75\n",
      " 0.72878229 0.         0.83333333 0.         0.75       0.98795181\n",
      " 0.         0.         0.77272727]\n",
      "KNN Time :  52.3677555999966\n"
     ]
    },
    {
     "name": "stderr",
     "output_type": "stream",
     "text": [
      "C:\\Users\\sali85\\Anaconda3\\lib\\site-packages\\sklearn\\metrics\\_classification.py:1221: UndefinedMetricWarning: Precision is ill-defined and being set to 0.0 in labels with no predicted samples. Use `zero_division` parameter to control this behavior.\n",
      "  _warn_prf(average, modifier, msg_start, len(result))\n"
     ]
    },
    {
     "name": "stdout",
     "output_type": "stream",
     "text": [
      "RF Class Wise Accuracy :  [0.97916667 0.98130841 1.         0.         0.98979592 0.\n",
      " 0.325      1.         0.70588235 1.         0.75       0.86162362\n",
      " 0.         0.83333333 1.         1.         1.         0.\n",
      " 0.         0.81818182]\n",
      "RF Time :  12.681184900000517\n"
     ]
    },
    {
     "name": "stderr",
     "output_type": "stream",
     "text": [
      "C:\\Users\\sali85\\Anaconda3\\lib\\site-packages\\sklearn\\metrics\\_classification.py:1221: UndefinedMetricWarning: Precision is ill-defined and being set to 0.0 in labels with no predicted samples. Use `zero_division` parameter to control this behavior.\n",
      "  _warn_prf(average, modifier, msg_start, len(result))\n"
     ]
    },
    {
     "name": "stdout",
     "output_type": "stream",
     "text": [
      "LR Class Wise Accuracy :  [0.9375     0.98130841 1.         0.         1.         0.\n",
      " 0.4        1.         0.69349845 1.         1.         0.87269373\n",
      " 0.         0.83333333 1.         1.         1.         0.\n",
      " 0.         0.84265734]\n",
      "LR Time :  55.33840500000224\n"
     ]
    },
    {
     "name": "stderr",
     "output_type": "stream",
     "text": [
      "C:\\Users\\sali85\\Anaconda3\\lib\\site-packages\\sklearn\\metrics\\_classification.py:1221: UndefinedMetricWarning: Precision is ill-defined and being set to 0.0 in labels with no predicted samples. Use `zero_division` parameter to control this behavior.\n",
      "  _warn_prf(average, modifier, msg_start, len(result))\n",
      "C:\\Users\\sali85\\Anaconda3\\lib\\site-packages\\sklearn\\metrics\\_classification.py:1221: UndefinedMetricWarning: Recall is ill-defined and being set to 0.0 in labels with no true samples. Use `zero_division` parameter to control this behavior.\n",
      "  _warn_prf(average, modifier, msg_start, len(result))\n",
      "<ipython-input-42-273c3866d82e>:321: RuntimeWarning: invalid value encountered in true_divide\n",
      "  print(\"DT Class Wise Accuracy : \",confuse.diagonal()/confuse.sum(axis=1))\n"
     ]
    },
    {
     "name": "stdout",
     "output_type": "stream",
     "text": [
      "DT Class Wise Accuracy :  [0.75       0.94392523        nan 1.         0.         0.98979592\n",
      " 0.         0.425      1.         0.6501548  1.         1.\n",
      " 0.83579336 0.         0.66666667 1.         0.5        1.\n",
      " 0.         0.         0.81468531]\n",
      "DT Time :  6.444964299997082\n"
     ]
    },
    {
     "name": "stderr",
     "output_type": "stream",
     "text": [
      "C:\\Users\\sali85\\Anaconda3\\lib\\site-packages\\sklearn\\metrics\\_classification.py:1221: UndefinedMetricWarning: Precision is ill-defined and being set to 0.0 in labels with no predicted samples. Use `zero_division` parameter to control this behavior.\n",
      "  _warn_prf(average, modifier, msg_start, len(result))\n"
     ]
    },
    {
     "name": "stdout",
     "output_type": "stream",
     "text": [
      "SVM Class Wise Accuracy :  [0.9375     0.98130841 1.         0.         1.         0.\n",
      " 0.4        1.         0.68421053 1.         1.         0.88191882\n",
      " 0.         0.83333333 1.         1.         1.         0.\n",
      " 0.         0.77272727]\n",
      "SVM Time :  140.15675760000158\n"
     ]
    },
    {
     "name": "stderr",
     "output_type": "stream",
     "text": [
      "C:\\Users\\sali85\\Anaconda3\\lib\\site-packages\\sklearn\\metrics\\_classification.py:1221: UndefinedMetricWarning: Precision is ill-defined and being set to 0.0 in labels with no predicted samples. Use `zero_division` parameter to control this behavior.\n",
      "  _warn_prf(average, modifier, msg_start, len(result))\n",
      "C:\\Users\\sali85\\Anaconda3\\lib\\site-packages\\sklearn\\metrics\\_classification.py:1221: UndefinedMetricWarning: Recall is ill-defined and being set to 0.0 in labels with no true samples. Use `zero_division` parameter to control this behavior.\n",
      "  _warn_prf(average, modifier, msg_start, len(result))\n",
      "<ipython-input-42-273c3866d82e>:130: RuntimeWarning: invalid value encountered in true_divide\n",
      "  print(\"NB Class Wise Accuracy : \",confuse.diagonal()/confuse.sum(axis=1))\n"
     ]
    },
    {
     "name": "stdout",
     "output_type": "stream",
     "text": [
      "NB Class Wise Accuracy :  [0.97916667 0.94827586 0.66666667 0.91666667 0.         0.93478261\n",
      " 0.07692308 0.16666667 1.         0.88815789 1.         1.\n",
      " 0.25932836 0.         0.75       0.         0.66666667 0.98857143\n",
      " 0.                nan 0.81481481]\n",
      "NB Time :  6.982025099998282\n"
     ]
    },
    {
     "name": "stderr",
     "output_type": "stream",
     "text": [
      "C:\\Users\\sali85\\Anaconda3\\lib\\site-packages\\sklearn\\metrics\\_classification.py:1221: UndefinedMetricWarning: Precision is ill-defined and being set to 0.0 in labels with no predicted samples. Use `zero_division` parameter to control this behavior.\n",
      "  _warn_prf(average, modifier, msg_start, len(result))\n",
      "C:\\Users\\sali85\\Anaconda3\\lib\\site-packages\\sklearn\\metrics\\_classification.py:1221: UndefinedMetricWarning: Recall is ill-defined and being set to 0.0 in labels with no true samples. Use `zero_division` parameter to control this behavior.\n",
      "  _warn_prf(average, modifier, msg_start, len(result))\n",
      "<ipython-input-42-273c3866d82e>:174: RuntimeWarning: invalid value encountered in true_divide\n",
      "  print(\"MLP Class Wise Accuracy : \",confuse.diagonal()/confuse.sum(axis=1))\n"
     ]
    },
    {
     "name": "stdout",
     "output_type": "stream",
     "text": [
      "MLP Class Wise Accuracy :  [0.83333333 0.95689655 0.66666667 1.         0.         0.9673913\n",
      " 0.07692308 0.27777778        nan 1.         0.6875     1.\n",
      " 1.         0.91231343 0.         1.         0.         0.66666667\n",
      " 1.         0.         0.76767677]\n"
     ]
    },
    {
     "name": "stderr",
     "output_type": "stream",
     "text": [
      "C:\\Users\\sali85\\Anaconda3\\lib\\site-packages\\sklearn\\metrics\\_classification.py:1221: UndefinedMetricWarning: Precision is ill-defined and being set to 0.0 in labels with no predicted samples. Use `zero_division` parameter to control this behavior.\n",
      "  _warn_prf(average, modifier, msg_start, len(result))\n"
     ]
    },
    {
     "name": "stdout",
     "output_type": "stream",
     "text": [
      "MLP Time :  71.26810310000292\n",
      "KNN Class Wise Accuracy :  [0.72916667 0.95689655 0.33333333 1.         0.         1.\n",
      " 0.         0.33333333 1.         0.64802632 1.         0.66666667\n",
      " 0.86567164 0.         1.         0.         0.83333333 0.99428571\n",
      " 0.         0.82491582]\n",
      "KNN Time :  54.077294199996686\n"
     ]
    },
    {
     "name": "stderr",
     "output_type": "stream",
     "text": [
      "C:\\Users\\sali85\\Anaconda3\\lib\\site-packages\\sklearn\\metrics\\_classification.py:1221: UndefinedMetricWarning: Precision is ill-defined and being set to 0.0 in labels with no predicted samples. Use `zero_division` parameter to control this behavior.\n",
      "  _warn_prf(average, modifier, msg_start, len(result))\n"
     ]
    },
    {
     "name": "stdout",
     "output_type": "stream",
     "text": [
      "RF Class Wise Accuracy :  [0.95833333 0.98275862 1.         1.         0.         1.\n",
      " 0.07692308 0.38888889 1.         0.70065789 1.         0.66666667\n",
      " 0.84701493 0.         1.         0.         0.83333333 1.\n",
      " 0.         0.85858586]\n",
      "RF Time :  11.796699500002433\n"
     ]
    },
    {
     "name": "stderr",
     "output_type": "stream",
     "text": [
      "C:\\Users\\sali85\\Anaconda3\\lib\\site-packages\\sklearn\\metrics\\_classification.py:1221: UndefinedMetricWarning: Precision is ill-defined and being set to 0.0 in labels with no predicted samples. Use `zero_division` parameter to control this behavior.\n",
      "  _warn_prf(average, modifier, msg_start, len(result))\n"
     ]
    },
    {
     "name": "stdout",
     "output_type": "stream",
     "text": [
      "LR Class Wise Accuracy :  [0.95833333 1.         1.         1.         0.         1.\n",
      " 0.07692308 0.41666667 1.         0.67763158 1.         1.\n",
      " 0.86940299 0.         1.         0.         0.83333333 1.\n",
      " 0.         0.85858586]\n",
      "LR Time :  55.79696220000187\n"
     ]
    },
    {
     "name": "stderr",
     "output_type": "stream",
     "text": [
      "C:\\Users\\sali85\\Anaconda3\\lib\\site-packages\\sklearn\\metrics\\_classification.py:1221: UndefinedMetricWarning: Precision is ill-defined and being set to 0.0 in labels with no predicted samples. Use `zero_division` parameter to control this behavior.\n",
      "  _warn_prf(average, modifier, msg_start, len(result))\n",
      "C:\\Users\\sali85\\Anaconda3\\lib\\site-packages\\sklearn\\metrics\\_classification.py:1221: UndefinedMetricWarning: Recall is ill-defined and being set to 0.0 in labels with no true samples. Use `zero_division` parameter to control this behavior.\n",
      "  _warn_prf(average, modifier, msg_start, len(result))\n",
      "<ipython-input-42-273c3866d82e>:321: RuntimeWarning: invalid value encountered in true_divide\n",
      "  print(\"DT Class Wise Accuracy : \",confuse.diagonal()/confuse.sum(axis=1))\n"
     ]
    },
    {
     "name": "stdout",
     "output_type": "stream",
     "text": [
      "DT Class Wise Accuracy :  [0.85416667 0.9137931  0.66666667 1.         0.         1.\n",
      " 0.07692308 0.25       1.         0.68421053 1.         0.66666667\n",
      " 0.81529851 0.         1.         0.         0.66666667 0.99428571\n",
      " 0.                nan 0.84848485]\n",
      "DT Time :  6.536062600003788\n"
     ]
    },
    {
     "name": "stderr",
     "output_type": "stream",
     "text": [
      "C:\\Users\\sali85\\Anaconda3\\lib\\site-packages\\sklearn\\metrics\\_classification.py:1221: UndefinedMetricWarning: Precision is ill-defined and being set to 0.0 in labels with no predicted samples. Use `zero_division` parameter to control this behavior.\n",
      "  _warn_prf(average, modifier, msg_start, len(result))\n"
     ]
    },
    {
     "name": "stdout",
     "output_type": "stream",
     "text": [
      "SVM Class Wise Accuracy :  [0.97916667 1.         1.         1.         0.         1.\n",
      " 0.07692308 0.38888889 1.         0.66118421 1.         1.\n",
      " 0.8619403  0.         1.         0.         0.83333333 1.\n",
      " 0.         0.86195286]\n",
      "SVM Time :  144.04335210000136\n"
     ]
    },
    {
     "name": "stderr",
     "output_type": "stream",
     "text": [
      "C:\\Users\\sali85\\Anaconda3\\lib\\site-packages\\sklearn\\metrics\\_classification.py:1221: UndefinedMetricWarning: Recall is ill-defined and being set to 0.0 in labels with no true samples. Use `zero_division` parameter to control this behavior.\n",
      "  _warn_prf(average, modifier, msg_start, len(result))\n",
      "<ipython-input-42-273c3866d82e>:130: RuntimeWarning: invalid value encountered in true_divide\n",
      "  print(\"NB Class Wise Accuracy : \",confuse.diagonal()/confuse.sum(axis=1))\n"
     ]
    },
    {
     "name": "stdout",
     "output_type": "stream",
     "text": [
      "NB Class Wise Accuracy :  [0.98076923 0.95934959 0.88888889 1.         0.         0.24390244\n",
      " 1.         0.86101695 1.         0.2        0.22342342        nan\n",
      " 0.66666667 1.         0.98192771        nan 0.83629893]\n",
      "NB Time :  7.239887799994904\n"
     ]
    },
    {
     "name": "stderr",
     "output_type": "stream",
     "text": [
      "C:\\Users\\sali85\\Anaconda3\\lib\\site-packages\\sklearn\\metrics\\_classification.py:1221: UndefinedMetricWarning: Precision is ill-defined and being set to 0.0 in labels with no predicted samples. Use `zero_division` parameter to control this behavior.\n",
      "  _warn_prf(average, modifier, msg_start, len(result))\n",
      "C:\\Users\\sali85\\Anaconda3\\lib\\site-packages\\sklearn\\metrics\\_classification.py:1221: UndefinedMetricWarning: Recall is ill-defined and being set to 0.0 in labels with no true samples. Use `zero_division` parameter to control this behavior.\n",
      "  _warn_prf(average, modifier, msg_start, len(result))\n",
      "<ipython-input-42-273c3866d82e>:174: RuntimeWarning: invalid value encountered in true_divide\n",
      "  print(\"MLP Class Wise Accuracy : \",confuse.diagonal()/confuse.sum(axis=1))\n"
     ]
    },
    {
     "name": "stdout",
     "output_type": "stream",
     "text": [
      "MLP Class Wise Accuracy :  [0.90384615 0.96747967        nan 0.92592593        nan 1.\n",
      " 0.         0.19512195 0.         0.81016949 0.         0.6\n",
      " 0.8        1.         1.         0.9939759  0.81850534]\n"
     ]
    },
    {
     "name": "stderr",
     "output_type": "stream",
     "text": [
      "C:\\Users\\sali85\\Anaconda3\\lib\\site-packages\\sklearn\\metrics\\_classification.py:1221: UndefinedMetricWarning: Recall is ill-defined and being set to 0.0 in labels with no true samples. Use `zero_division` parameter to control this behavior.\n",
      "  _warn_prf(average, modifier, msg_start, len(result))\n",
      "<ipython-input-42-273c3866d82e>:210: RuntimeWarning: invalid value encountered in true_divide\n",
      "  print(\"KNN Class Wise Accuracy : \",confuse.diagonal()/confuse.sum(axis=1))\n"
     ]
    },
    {
     "name": "stdout",
     "output_type": "stream",
     "text": [
      "MLP Time :  65.54850420000002\n",
      "KNN Class Wise Accuracy :  [0.90384615 0.95121951        nan 1.         1.         0.05882353\n",
      " 0.2195122  1.         0.8440678  1.         1.         0.66306306\n",
      " 0.83333333 1.         0.98795181 0.90391459]\n",
      "KNN Time :  49.63172720000148\n"
     ]
    },
    {
     "name": "stderr",
     "output_type": "stream",
     "text": [
      "C:\\Users\\sali85\\Anaconda3\\lib\\site-packages\\sklearn\\metrics\\_classification.py:1221: UndefinedMetricWarning: Precision is ill-defined and being set to 0.0 in labels with no predicted samples. Use `zero_division` parameter to control this behavior.\n",
      "  _warn_prf(average, modifier, msg_start, len(result))\n",
      "C:\\Users\\sali85\\Anaconda3\\lib\\site-packages\\sklearn\\metrics\\_classification.py:1221: UndefinedMetricWarning: Recall is ill-defined and being set to 0.0 in labels with no true samples. Use `zero_division` parameter to control this behavior.\n",
      "  _warn_prf(average, modifier, msg_start, len(result))\n",
      "<ipython-input-42-273c3866d82e>:249: RuntimeWarning: invalid value encountered in true_divide\n",
      "  print(\"RF Class Wise Accuracy : \",confuse.diagonal()/confuse.sum(axis=1))\n"
     ]
    },
    {
     "name": "stdout",
     "output_type": "stream",
     "text": [
      "RF Class Wise Accuracy :  [0.98076923 0.98373984        nan 1.         1.         0.\n",
      " 0.19512195 1.         0.70508475 1.         1.         0.85765766\n",
      " 0.83333333 1.         1.         0.886121  ]\n",
      "RF Time :  13.731347500004631\n"
     ]
    },
    {
     "name": "stderr",
     "output_type": "stream",
     "text": [
      "C:\\Users\\sali85\\Anaconda3\\lib\\site-packages\\sklearn\\metrics\\_classification.py:1221: UndefinedMetricWarning: Recall is ill-defined and being set to 0.0 in labels with no true samples. Use `zero_division` parameter to control this behavior.\n",
      "  _warn_prf(average, modifier, msg_start, len(result))\n",
      "<ipython-input-42-273c3866d82e>:285: RuntimeWarning: invalid value encountered in true_divide\n",
      "  print(\"LR Class Wise Accuracy : \",confuse.diagonal()/confuse.sum(axis=1))\n"
     ]
    },
    {
     "name": "stdout",
     "output_type": "stream",
     "text": [
      "LR Class Wise Accuracy :  [0.98076923 0.98373984        nan 1.         1.         0.\n",
      " 0.26829268 1.         0.69491525 1.         1.         0.85945946\n",
      "        nan 1.         1.         0.9939759  0.90747331]\n",
      "LR Time :  58.72401069999614\n"
     ]
    },
    {
     "name": "stderr",
     "output_type": "stream",
     "text": [
      "C:\\Users\\sali85\\Anaconda3\\lib\\site-packages\\sklearn\\metrics\\_classification.py:1221: UndefinedMetricWarning: Recall is ill-defined and being set to 0.0 in labels with no true samples. Use `zero_division` parameter to control this behavior.\n",
      "  _warn_prf(average, modifier, msg_start, len(result))\n",
      "<ipython-input-42-273c3866d82e>:321: RuntimeWarning: invalid value encountered in true_divide\n",
      "  print(\"DT Class Wise Accuracy : \",confuse.diagonal()/confuse.sum(axis=1))\n"
     ]
    },
    {
     "name": "stdout",
     "output_type": "stream",
     "text": [
      "DT Class Wise Accuracy :  [0.92307692 0.95934959 1.         1.         0.         0.26829268\n",
      " 1.         0.68135593 1.         1.         0.80900901 0.83333333\n",
      " 0.75       0.98192771        nan 0.86120996]\n",
      "DT Time :  6.700657099994714\n"
     ]
    },
    {
     "name": "stderr",
     "output_type": "stream",
     "text": [
      "C:\\Users\\sali85\\Anaconda3\\lib\\site-packages\\sklearn\\metrics\\_classification.py:1221: UndefinedMetricWarning: Recall is ill-defined and being set to 0.0 in labels with no true samples. Use `zero_division` parameter to control this behavior.\n",
      "  _warn_prf(average, modifier, msg_start, len(result))\n",
      "<ipython-input-42-273c3866d82e>:93: RuntimeWarning: invalid value encountered in true_divide\n",
      "  print(\"SVM Class Wise Accuracy : \",confuse.diagonal()/confuse.sum(axis=1))\n"
     ]
    },
    {
     "name": "stdout",
     "output_type": "stream",
     "text": [
      "SVM Class Wise Accuracy :  [0.98076923 0.98373984        nan 1.         1.         0.\n",
      " 0.29268293 1.         0.6779661  1.         1.         0.86126126\n",
      "        nan 0.83333333 1.         0.9939759  0.88967972]\n",
      "SVM Time :  140.19493959999818\n"
     ]
    },
    {
     "name": "stderr",
     "output_type": "stream",
     "text": [
      "C:\\Users\\sali85\\Anaconda3\\lib\\site-packages\\sklearn\\metrics\\_classification.py:1221: UndefinedMetricWarning: Precision is ill-defined and being set to 0.0 in labels with no predicted samples. Use `zero_division` parameter to control this behavior.\n",
      "  _warn_prf(average, modifier, msg_start, len(result))\n",
      "C:\\Users\\sali85\\Anaconda3\\lib\\site-packages\\sklearn\\metrics\\_classification.py:1221: UndefinedMetricWarning: Recall is ill-defined and being set to 0.0 in labels with no true samples. Use `zero_division` parameter to control this behavior.\n",
      "  _warn_prf(average, modifier, msg_start, len(result))\n",
      "<ipython-input-42-273c3866d82e>:130: RuntimeWarning: invalid value encountered in true_divide\n",
      "  print(\"NB Class Wise Accuracy : \",confuse.diagonal()/confuse.sum(axis=1))\n"
     ]
    },
    {
     "name": "stdout",
     "output_type": "stream",
     "text": [
      "NB Class Wise Accuracy :  [0.98148148 0.95192308 0.5        1.         0.92391304 0.11111111\n",
      " 0.30769231 1.         0.81311475 1.         0.28957529        nan\n",
      " 0.66666667 0.54545455 0.98816568 0.         0.80063291]\n",
      "NB Time :  7.201650500006508\n"
     ]
    },
    {
     "name": "stderr",
     "output_type": "stream",
     "text": [
      "C:\\Users\\sali85\\Anaconda3\\lib\\site-packages\\sklearn\\metrics\\_classification.py:1221: UndefinedMetricWarning: Precision is ill-defined and being set to 0.0 in labels with no predicted samples. Use `zero_division` parameter to control this behavior.\n",
      "  _warn_prf(average, modifier, msg_start, len(result))\n",
      "C:\\Users\\sali85\\Anaconda3\\lib\\site-packages\\sklearn\\metrics\\_classification.py:1221: UndefinedMetricWarning: Recall is ill-defined and being set to 0.0 in labels with no true samples. Use `zero_division` parameter to control this behavior.\n",
      "  _warn_prf(average, modifier, msg_start, len(result))\n",
      "<ipython-input-42-273c3866d82e>:174: RuntimeWarning: invalid value encountered in true_divide\n",
      "  print(\"MLP Class Wise Accuracy : \",confuse.diagonal()/confuse.sum(axis=1))\n"
     ]
    },
    {
     "name": "stdout",
     "output_type": "stream",
     "text": [
      "MLP Class Wise Accuracy :  [0.87037037 0.96153846 0.5        1.                nan 0.95652174\n",
      " 0.05555556 0.28205128 1.         0.67540984        nan 0.8\n",
      " 0.8957529  1.         0.54545455 0.99408284 0.         0.74367089]\n",
      "MLP Time :  58.8026783000023\n"
     ]
    },
    {
     "name": "stderr",
     "output_type": "stream",
     "text": [
      "C:\\Users\\sali85\\Anaconda3\\lib\\site-packages\\sklearn\\metrics\\_classification.py:1221: UndefinedMetricWarning: Precision is ill-defined and being set to 0.0 in labels with no predicted samples. Use `zero_division` parameter to control this behavior.\n",
      "  _warn_prf(average, modifier, msg_start, len(result))\n"
     ]
    },
    {
     "name": "stdout",
     "output_type": "stream",
     "text": [
      "KNN Class Wise Accuracy :  [0.77777778 0.95192308 0.5        0.85714286 0.9673913  0.\n",
      " 0.28205128 1.         0.6        1.         0.84362934 0.66666667\n",
      " 0.63636364 0.99408284 0.         0.77848101]\n",
      "KNN Time :  56.01415840000118\n"
     ]
    },
    {
     "name": "stderr",
     "output_type": "stream",
     "text": [
      "C:\\Users\\sali85\\Anaconda3\\lib\\site-packages\\sklearn\\metrics\\_classification.py:1221: UndefinedMetricWarning: Precision is ill-defined and being set to 0.0 in labels with no predicted samples. Use `zero_division` parameter to control this behavior.\n",
      "  _warn_prf(average, modifier, msg_start, len(result))\n"
     ]
    },
    {
     "name": "stdout",
     "output_type": "stream",
     "text": [
      "RF Class Wise Accuracy :  [0.96296296 0.98076923 0.5        1.         0.9673913  0.05555556\n",
      " 0.35897436 1.         0.7147541  1.         0.86679537 0.66666667\n",
      " 0.72727273 0.99408284 0.         0.77848101]\n",
      "RF Time :  12.437314499999047\n"
     ]
    },
    {
     "name": "stderr",
     "output_type": "stream",
     "text": [
      "C:\\Users\\sali85\\Anaconda3\\lib\\site-packages\\sklearn\\metrics\\_classification.py:1221: UndefinedMetricWarning: Precision is ill-defined and being set to 0.0 in labels with no predicted samples. Use `zero_division` parameter to control this behavior.\n",
      "  _warn_prf(average, modifier, msg_start, len(result))\n",
      "C:\\Users\\sali85\\Anaconda3\\lib\\site-packages\\sklearn\\metrics\\_classification.py:1221: UndefinedMetricWarning: Recall is ill-defined and being set to 0.0 in labels with no true samples. Use `zero_division` parameter to control this behavior.\n",
      "  _warn_prf(average, modifier, msg_start, len(result))\n",
      "<ipython-input-42-273c3866d82e>:285: RuntimeWarning: invalid value encountered in true_divide\n",
      "  print(\"LR Class Wise Accuracy : \",confuse.diagonal()/confuse.sum(axis=1))\n"
     ]
    },
    {
     "name": "stdout",
     "output_type": "stream",
     "text": [
      "LR Class Wise Accuracy :  [0.96296296 1.         1.         1.         0.9673913  0.05555556\n",
      " 0.41025641 1.         0.66229508 1.         0.84942085        nan\n",
      " 1.         0.72727273 0.99408284 0.         0.83860759]\n",
      "LR Time :  57.56855519999954\n"
     ]
    },
    {
     "name": "stderr",
     "output_type": "stream",
     "text": [
      "C:\\Users\\sali85\\Anaconda3\\lib\\site-packages\\sklearn\\metrics\\_classification.py:1221: UndefinedMetricWarning: Precision is ill-defined and being set to 0.0 in labels with no predicted samples. Use `zero_division` parameter to control this behavior.\n",
      "  _warn_prf(average, modifier, msg_start, len(result))\n",
      "C:\\Users\\sali85\\Anaconda3\\lib\\site-packages\\sklearn\\metrics\\_classification.py:1221: UndefinedMetricWarning: Recall is ill-defined and being set to 0.0 in labels with no true samples. Use `zero_division` parameter to control this behavior.\n",
      "  _warn_prf(average, modifier, msg_start, len(result))\n",
      "<ipython-input-42-273c3866d82e>:321: RuntimeWarning: invalid value encountered in true_divide\n",
      "  print(\"DT Class Wise Accuracy : \",confuse.diagonal()/confuse.sum(axis=1))\n"
     ]
    },
    {
     "name": "stdout",
     "output_type": "stream",
     "text": [
      "DT Class Wise Accuracy :  [0.87037037 0.98076923 0.5        1.                nan 0.9673913\n",
      " 0.05555556 0.41025641 1.         0.69180328 1.         0.82046332\n",
      " 0.66666667 0.54545455 0.99408284 0.         0.78164557]\n",
      "DT Time :  8.798227999999654\n"
     ]
    },
    {
     "name": "stderr",
     "output_type": "stream",
     "text": [
      "C:\\Users\\sali85\\Anaconda3\\lib\\site-packages\\sklearn\\metrics\\_classification.py:1221: UndefinedMetricWarning: Precision is ill-defined and being set to 0.0 in labels with no predicted samples. Use `zero_division` parameter to control this behavior.\n",
      "  _warn_prf(average, modifier, msg_start, len(result))\n",
      "C:\\Users\\sali85\\Anaconda3\\lib\\site-packages\\sklearn\\metrics\\_classification.py:1221: UndefinedMetricWarning: Recall is ill-defined and being set to 0.0 in labels with no true samples. Use `zero_division` parameter to control this behavior.\n",
      "  _warn_prf(average, modifier, msg_start, len(result))\n",
      "<ipython-input-42-273c3866d82e>:93: RuntimeWarning: invalid value encountered in true_divide\n",
      "  print(\"SVM Class Wise Accuracy : \",confuse.diagonal()/confuse.sum(axis=1))\n"
     ]
    },
    {
     "name": "stdout",
     "output_type": "stream",
     "text": [
      "SVM Class Wise Accuracy :  [0.96296296 1.         1.         1.         0.97826087 0.11111111\n",
      " 0.41025641 1.         0.65901639 1.         0.83590734        nan\n",
      " 0.66666667 0.72727273 0.99408284 0.         0.83227848]\n",
      "SVM Time :  139.1342722000045\n"
     ]
    },
    {
     "name": "stderr",
     "output_type": "stream",
     "text": [
      "C:\\Users\\sali85\\Anaconda3\\lib\\site-packages\\sklearn\\metrics\\_classification.py:1221: UndefinedMetricWarning: Precision is ill-defined and being set to 0.0 in labels with no predicted samples. Use `zero_division` parameter to control this behavior.\n",
      "  _warn_prf(average, modifier, msg_start, len(result))\n",
      "C:\\Users\\sali85\\Anaconda3\\lib\\site-packages\\sklearn\\metrics\\_classification.py:1221: UndefinedMetricWarning: Recall is ill-defined and being set to 0.0 in labels with no true samples. Use `zero_division` parameter to control this behavior.\n",
      "  _warn_prf(average, modifier, msg_start, len(result))\n",
      "<ipython-input-42-273c3866d82e>:130: RuntimeWarning: invalid value encountered in true_divide\n",
      "  print(\"NB Class Wise Accuracy : \",confuse.diagonal()/confuse.sum(axis=1))\n"
     ]
    },
    {
     "name": "stdout",
     "output_type": "stream",
     "text": [
      "NB Class Wise Accuracy :  [1.         0.99082569 1.         1.         0.         0.96202532\n",
      " 0.06666667 0.09090909 1.         0.83112583 1.         0.\n",
      " 0.5        0.24264706        nan 0.5        0.77777778 0.99390244\n",
      "        nan 0.80511182]\n",
      "NB Time :  7.207420099999581\n"
     ]
    },
    {
     "name": "stderr",
     "output_type": "stream",
     "text": [
      "C:\\Users\\sali85\\Anaconda3\\lib\\site-packages\\sklearn\\metrics\\_classification.py:1221: UndefinedMetricWarning: Precision is ill-defined and being set to 0.0 in labels with no predicted samples. Use `zero_division` parameter to control this behavior.\n",
      "  _warn_prf(average, modifier, msg_start, len(result))\n",
      "C:\\Users\\sali85\\Anaconda3\\lib\\site-packages\\sklearn\\metrics\\_classification.py:1221: UndefinedMetricWarning: Recall is ill-defined and being set to 0.0 in labels with no true samples. Use `zero_division` parameter to control this behavior.\n",
      "  _warn_prf(average, modifier, msg_start, len(result))\n",
      "<ipython-input-42-273c3866d82e>:174: RuntimeWarning: invalid value encountered in true_divide\n",
      "  print(\"MLP Class Wise Accuracy : \",confuse.diagonal()/confuse.sum(axis=1))\n"
     ]
    },
    {
     "name": "stdout",
     "output_type": "stream",
     "text": [
      "MLP Class Wise Accuracy :  [0.88372093 0.95412844 0.5        1.         0.         0.98734177\n",
      " 0.06666667 0.20454545 0.         0.61589404 1.         0.\n",
      " 0.5        0.89522059 0.9               nan 0.66666667 1.\n",
      " 0.77955272]\n"
     ]
    },
    {
     "name": "stderr",
     "output_type": "stream",
     "text": [
      "C:\\Users\\sali85\\Anaconda3\\lib\\site-packages\\sklearn\\metrics\\_classification.py:1221: UndefinedMetricWarning: Precision is ill-defined and being set to 0.0 in labels with no predicted samples. Use `zero_division` parameter to control this behavior.\n",
      "  _warn_prf(average, modifier, msg_start, len(result))\n"
     ]
    },
    {
     "name": "stdout",
     "output_type": "stream",
     "text": [
      "MLP Time :  56.96873649999907\n",
      "KNN Class Wise Accuracy :  [0.79069767 0.94495413 0.5        1.         0.         1.\n",
      " 0.         0.18181818 1.         0.75827815 1.         0.\n",
      " 1.         0.77757353 0.9        0.77777778 1.         0.76996805]\n",
      "KNN Time :  53.56576089999726\n"
     ]
    },
    {
     "name": "stderr",
     "output_type": "stream",
     "text": [
      "C:\\Users\\sali85\\Anaconda3\\lib\\site-packages\\sklearn\\metrics\\_classification.py:1221: UndefinedMetricWarning: Precision is ill-defined and being set to 0.0 in labels with no predicted samples. Use `zero_division` parameter to control this behavior.\n",
      "  _warn_prf(average, modifier, msg_start, len(result))\n",
      "C:\\Users\\sali85\\Anaconda3\\lib\\site-packages\\sklearn\\metrics\\_classification.py:1221: UndefinedMetricWarning: Recall is ill-defined and being set to 0.0 in labels with no true samples. Use `zero_division` parameter to control this behavior.\n",
      "  _warn_prf(average, modifier, msg_start, len(result))\n",
      "<ipython-input-42-273c3866d82e>:249: RuntimeWarning: invalid value encountered in true_divide\n",
      "  print(\"RF Class Wise Accuracy : \",confuse.diagonal()/confuse.sum(axis=1))\n"
     ]
    },
    {
     "name": "stdout",
     "output_type": "stream",
     "text": [
      "RF Class Wise Accuracy :  [0.90697674 0.99082569 1.         1.         0.         1.\n",
      " 0.         0.18181818 1.         0.67549669 1.         0.\n",
      " 1.         0.88602941        nan 0.9        0.77777778 1.\n",
      " 0.76038339]\n",
      "RF Time :  11.975784499998554\n"
     ]
    },
    {
     "name": "stderr",
     "output_type": "stream",
     "text": [
      "C:\\Users\\sali85\\Anaconda3\\lib\\site-packages\\sklearn\\metrics\\_classification.py:1221: UndefinedMetricWarning: Precision is ill-defined and being set to 0.0 in labels with no predicted samples. Use `zero_division` parameter to control this behavior.\n",
      "  _warn_prf(average, modifier, msg_start, len(result))\n"
     ]
    },
    {
     "name": "stdout",
     "output_type": "stream",
     "text": [
      "LR Class Wise Accuracy :  [0.90697674 1.         1.         1.         0.         1.\n",
      " 0.         0.27272727 1.         0.67549669 1.         0.\n",
      " 1.         0.88786765 0.9        1.         0.99390244 0.79233227]\n",
      "LR Time :  55.821880199997395\n"
     ]
    },
    {
     "name": "stderr",
     "output_type": "stream",
     "text": [
      "C:\\Users\\sali85\\Anaconda3\\lib\\site-packages\\sklearn\\metrics\\_classification.py:1221: UndefinedMetricWarning: Precision is ill-defined and being set to 0.0 in labels with no predicted samples. Use `zero_division` parameter to control this behavior.\n",
      "  _warn_prf(average, modifier, msg_start, len(result))\n",
      "C:\\Users\\sali85\\Anaconda3\\lib\\site-packages\\sklearn\\metrics\\_classification.py:1221: UndefinedMetricWarning: Recall is ill-defined and being set to 0.0 in labels with no true samples. Use `zero_division` parameter to control this behavior.\n",
      "  _warn_prf(average, modifier, msg_start, len(result))\n",
      "<ipython-input-42-273c3866d82e>:321: RuntimeWarning: invalid value encountered in true_divide\n",
      "  print(\"DT Class Wise Accuracy : \",confuse.diagonal()/confuse.sum(axis=1))\n"
     ]
    },
    {
     "name": "stdout",
     "output_type": "stream",
     "text": [
      "DT Class Wise Accuracy :  [0.86046512 0.99082569 1.         1.         0.         1.\n",
      " 0.         0.27272727 1.         0.67880795 0.         0.\n",
      " 1.         0.85661765        nan 0.7        0.55555556 0.98170732\n",
      "        nan 0.76357827]\n",
      "DT Time :  6.12302649999765\n"
     ]
    },
    {
     "name": "stderr",
     "output_type": "stream",
     "text": [
      "C:\\Users\\sali85\\Anaconda3\\lib\\site-packages\\sklearn\\metrics\\_classification.py:1221: UndefinedMetricWarning: Precision is ill-defined and being set to 0.0 in labels with no predicted samples. Use `zero_division` parameter to control this behavior.\n",
      "  _warn_prf(average, modifier, msg_start, len(result))\n",
      "C:\\Users\\sali85\\Anaconda3\\lib\\site-packages\\sklearn\\metrics\\_classification.py:1221: UndefinedMetricWarning: Recall is ill-defined and being set to 0.0 in labels with no true samples. Use `zero_division` parameter to control this behavior.\n",
      "  _warn_prf(average, modifier, msg_start, len(result))\n",
      "<ipython-input-42-273c3866d82e>:93: RuntimeWarning: invalid value encountered in true_divide\n",
      "  print(\"SVM Class Wise Accuracy : \",confuse.diagonal()/confuse.sum(axis=1))\n"
     ]
    },
    {
     "name": "stdout",
     "output_type": "stream",
     "text": [
      "SVM Class Wise Accuracy :  [0.90697674 1.         1.         1.         0.         1.\n",
      " 0.         0.25       1.         0.65562914 1.         0.\n",
      " 1.         0.90073529        nan 0.9        1.         0.99390244\n",
      " 0.76996805]\n",
      "SVM Time :  133.92349140000442\n"
     ]
    },
    {
     "name": "stderr",
     "output_type": "stream",
     "text": [
      "C:\\Users\\sali85\\Anaconda3\\lib\\site-packages\\sklearn\\metrics\\_classification.py:1221: UndefinedMetricWarning: Precision is ill-defined and being set to 0.0 in labels with no predicted samples. Use `zero_division` parameter to control this behavior.\n",
      "  _warn_prf(average, modifier, msg_start, len(result))\n",
      "C:\\Users\\sali85\\Anaconda3\\lib\\site-packages\\sklearn\\metrics\\_classification.py:1221: UndefinedMetricWarning: Recall is ill-defined and being set to 0.0 in labels with no true samples. Use `zero_division` parameter to control this behavior.\n",
      "  _warn_prf(average, modifier, msg_start, len(result))\n",
      "<ipython-input-42-273c3866d82e>:130: RuntimeWarning: invalid value encountered in true_divide\n",
      "  print(\"NB Class Wise Accuracy : \",confuse.diagonal()/confuse.sum(axis=1))\n"
     ]
    },
    {
     "name": "stdout",
     "output_type": "stream",
     "text": [
      "NB Class Wise Accuracy :  [1.         1.         0.         1.         0.92682927 0.07142857\n",
      " 0.14705882 1.         0.79867987 1.         0.25       0.23454545\n",
      "        nan 0.75       0.7        0.99428571        nan 0.81228669]\n",
      "NB Time :  8.34872280000127\n"
     ]
    },
    {
     "name": "stderr",
     "output_type": "stream",
     "text": [
      "C:\\Users\\sali85\\Anaconda3\\lib\\site-packages\\sklearn\\metrics\\_classification.py:1221: UndefinedMetricWarning: Precision is ill-defined and being set to 0.0 in labels with no predicted samples. Use `zero_division` parameter to control this behavior.\n",
      "  _warn_prf(average, modifier, msg_start, len(result))\n"
     ]
    },
    {
     "name": "stdout",
     "output_type": "stream",
     "text": [
      "MLP Class Wise Accuracy :  [0.82692308 1.         0.33333333 0.92       1.         0.\n",
      " 0.08823529 1.         0.669967   0.         0.75       0.83090909\n",
      " 0.875      0.7        0.98857143 0.83959044]\n"
     ]
    },
    {
     "name": "stderr",
     "output_type": "stream",
     "text": [
      "C:\\Users\\sali85\\Anaconda3\\lib\\site-packages\\sklearn\\metrics\\_classification.py:1221: UndefinedMetricWarning: Precision is ill-defined and being set to 0.0 in labels with no predicted samples. Use `zero_division` parameter to control this behavior.\n",
      "  _warn_prf(average, modifier, msg_start, len(result))\n"
     ]
    },
    {
     "name": "stdout",
     "output_type": "stream",
     "text": [
      "MLP Time :  83.13395460000174\n",
      "KNN Class Wise Accuracy :  [0.78846154 0.97297297 0.33333333 1.         0.95121951 0.\n",
      " 0.23529412 1.         0.66006601 1.         1.         0.82363636\n",
      " 0.875      0.5        0.98857143 0.84300341]\n",
      "KNN Time :  55.31842609999876\n",
      "RF Class Wise Accuracy :  [0.94230769 1.         0.33333333 1.         0.98780488 0.07142857\n",
      " 0.23529412 1.         0.67326733 1.         1.         0.84\n",
      " 0.875      0.9        1.         0.84641638]\n",
      "RF Time :  12.745682300002954\n",
      "LR Class Wise Accuracy :  [0.90384615 1.         0.33333333 1.         1.         0.07142857\n",
      " 0.41176471 1.         0.66666667 1.         1.         0.86545455\n",
      " 0.875      0.9        1.         0.86006826]\n",
      "LR Time :  62.97841999999946\n"
     ]
    },
    {
     "name": "stderr",
     "output_type": "stream",
     "text": [
      "C:\\Users\\sali85\\Anaconda3\\lib\\site-packages\\sklearn\\metrics\\_classification.py:1221: UndefinedMetricWarning: Precision is ill-defined and being set to 0.0 in labels with no predicted samples. Use `zero_division` parameter to control this behavior.\n",
      "  _warn_prf(average, modifier, msg_start, len(result))\n",
      "C:\\Users\\sali85\\Anaconda3\\lib\\site-packages\\sklearn\\metrics\\_classification.py:1221: UndefinedMetricWarning: Recall is ill-defined and being set to 0.0 in labels with no true samples. Use `zero_division` parameter to control this behavior.\n",
      "  _warn_prf(average, modifier, msg_start, len(result))\n",
      "<ipython-input-42-273c3866d82e>:321: RuntimeWarning: invalid value encountered in true_divide\n",
      "  print(\"DT Class Wise Accuracy : \",confuse.diagonal()/confuse.sum(axis=1))\n"
     ]
    },
    {
     "name": "stdout",
     "output_type": "stream",
     "text": [
      "DT Class Wise Accuracy :  [0.86538462 0.98198198 0.         1.         1.         0.14285714\n",
      " 0.38235294 0.5        0.64026403 1.         1.         0.81454545\n",
      "        nan 0.75       0.6        0.97714286 0.83617747]\n",
      "DT Time :  6.350051599998551\n",
      "SVM Class Wise Accuracy :  [0.92307692 1.         0.33333333 1.         1.         0.07142857\n",
      " 0.35294118 1.         0.65016502 1.         1.         0.86181818\n",
      " 0.875      0.9        1.         0.84982935]\n",
      "SVM Time :  150.57358720000047\n"
     ]
    },
    {
     "name": "stderr",
     "output_type": "stream",
     "text": [
      "C:\\Users\\sali85\\Anaconda3\\lib\\site-packages\\sklearn\\metrics\\_classification.py:1221: UndefinedMetricWarning: Precision is ill-defined and being set to 0.0 in labels with no predicted samples. Use `zero_division` parameter to control this behavior.\n",
      "  _warn_prf(average, modifier, msg_start, len(result))\n",
      "C:\\Users\\sali85\\Anaconda3\\lib\\site-packages\\sklearn\\metrics\\_classification.py:1221: UndefinedMetricWarning: Recall is ill-defined and being set to 0.0 in labels with no true samples. Use `zero_division` parameter to control this behavior.\n",
      "  _warn_prf(average, modifier, msg_start, len(result))\n",
      "<ipython-input-42-273c3866d82e>:130: RuntimeWarning: invalid value encountered in true_divide\n",
      "  print(\"NB Class Wise Accuracy : \",confuse.diagonal()/confuse.sum(axis=1))\n"
     ]
    },
    {
     "name": "stdout",
     "output_type": "stream",
     "text": [
      "NB Class Wise Accuracy :  [1.         0.9296875  0.5        1.         0.         0.94505495\n",
      " 0.33333333 0.1        1.         0.86577181 1.         0.\n",
      " 0.6        0.22718808 0.         0.55555556 0.57142857 0.98780488\n",
      "        nan 0.81063123]\n",
      "NB Time :  7.212597100005951\n"
     ]
    },
    {
     "name": "stderr",
     "output_type": "stream",
     "text": [
      "C:\\Users\\sali85\\Anaconda3\\lib\\site-packages\\sklearn\\metrics\\_classification.py:1221: UndefinedMetricWarning: Precision is ill-defined and being set to 0.0 in labels with no predicted samples. Use `zero_division` parameter to control this behavior.\n",
      "  _warn_prf(average, modifier, msg_start, len(result))\n",
      "C:\\Users\\sali85\\Anaconda3\\lib\\site-packages\\sklearn\\metrics\\_classification.py:1221: UndefinedMetricWarning: Recall is ill-defined and being set to 0.0 in labels with no true samples. Use `zero_division` parameter to control this behavior.\n",
      "  _warn_prf(average, modifier, msg_start, len(result))\n",
      "<ipython-input-42-273c3866d82e>:174: RuntimeWarning: invalid value encountered in true_divide\n",
      "  print(\"MLP Class Wise Accuracy : \",confuse.diagonal()/confuse.sum(axis=1))\n"
     ]
    },
    {
     "name": "stdout",
     "output_type": "stream",
     "text": [
      "MLP Class Wise Accuracy :  [0.825      0.921875   1.         1.         0.         0.98901099\n",
      " 0.08333333 0.275             nan 1.         0.68791946 1.\n",
      " 0.         0.8        0.87709497 0.         1.         0.71428571\n",
      " 0.99390244 0.84717608]\n"
     ]
    },
    {
     "name": "stderr",
     "output_type": "stream",
     "text": [
      "C:\\Users\\sali85\\Anaconda3\\lib\\site-packages\\sklearn\\metrics\\_classification.py:1221: UndefinedMetricWarning: Precision is ill-defined and being set to 0.0 in labels with no predicted samples. Use `zero_division` parameter to control this behavior.\n",
      "  _warn_prf(average, modifier, msg_start, len(result))\n"
     ]
    },
    {
     "name": "stdout",
     "output_type": "stream",
     "text": [
      "MLP Time :  63.820051200003945\n",
      "KNN Class Wise Accuracy :  [0.775      0.984375   0.5        1.         0.         0.96703297\n",
      " 0.         0.225      1.         0.74832215 1.         0.\n",
      " 0.8        0.72998138 0.         0.88888889 0.71428571 0.98780488\n",
      " 0.8538206 ]\n",
      "KNN Time :  54.51027540000359\n"
     ]
    },
    {
     "name": "stderr",
     "output_type": "stream",
     "text": [
      "C:\\Users\\sali85\\Anaconda3\\lib\\site-packages\\sklearn\\metrics\\_classification.py:1221: UndefinedMetricWarning: Precision is ill-defined and being set to 0.0 in labels with no predicted samples. Use `zero_division` parameter to control this behavior.\n",
      "  _warn_prf(average, modifier, msg_start, len(result))\n"
     ]
    },
    {
     "name": "stdout",
     "output_type": "stream",
     "text": [
      "RF Class Wise Accuracy :  [0.95       0.96875    1.         1.         0.         0.98901099\n",
      " 0.08333333 0.2        1.         0.70469799 1.         0.\n",
      " 0.8        0.858473   0.         0.88888889 0.71428571 0.99390244\n",
      " 0.84053156]\n",
      "RF Time :  12.844715999999607\n"
     ]
    },
    {
     "name": "stderr",
     "output_type": "stream",
     "text": [
      "C:\\Users\\sali85\\Anaconda3\\lib\\site-packages\\sklearn\\metrics\\_classification.py:1221: UndefinedMetricWarning: Precision is ill-defined and being set to 0.0 in labels with no predicted samples. Use `zero_division` parameter to control this behavior.\n",
      "  _warn_prf(average, modifier, msg_start, len(result))\n"
     ]
    },
    {
     "name": "stdout",
     "output_type": "stream",
     "text": [
      "LR Class Wise Accuracy :  [0.925      0.96875    1.         1.         0.         1.\n",
      " 0.08333333 0.275      1.         0.68120805 1.         0.\n",
      " 0.8        0.90316574 0.         0.88888889 0.85714286 0.98780488\n",
      " 0.83388704]\n",
      "LR Time :  57.759191199998895\n"
     ]
    },
    {
     "name": "stderr",
     "output_type": "stream",
     "text": [
      "C:\\Users\\sali85\\Anaconda3\\lib\\site-packages\\sklearn\\metrics\\_classification.py:1221: UndefinedMetricWarning: Precision is ill-defined and being set to 0.0 in labels with no predicted samples. Use `zero_division` parameter to control this behavior.\n",
      "  _warn_prf(average, modifier, msg_start, len(result))\n",
      "C:\\Users\\sali85\\Anaconda3\\lib\\site-packages\\sklearn\\metrics\\_classification.py:1221: UndefinedMetricWarning: Recall is ill-defined and being set to 0.0 in labels with no true samples. Use `zero_division` parameter to control this behavior.\n",
      "  _warn_prf(average, modifier, msg_start, len(result))\n",
      "<ipython-input-42-273c3866d82e>:321: RuntimeWarning: invalid value encountered in true_divide\n",
      "  print(\"DT Class Wise Accuracy : \",confuse.diagonal()/confuse.sum(axis=1))\n"
     ]
    },
    {
     "name": "stdout",
     "output_type": "stream",
     "text": [
      "DT Class Wise Accuracy :  [0.775      0.9609375  0.5        0.96153846 0.         0.98901099\n",
      " 0.08333333 0.275      0.5        0.65436242 0.5        0.\n",
      " 0.8        0.83240223 0.         0.88888889        nan 0.71428571\n",
      " 0.97560976 0.85714286]\n",
      "DT Time :  6.617827100002614\n"
     ]
    },
    {
     "name": "stderr",
     "output_type": "stream",
     "text": [
      "C:\\Users\\sali85\\Anaconda3\\lib\\site-packages\\sklearn\\metrics\\_classification.py:1221: UndefinedMetricWarning: Precision is ill-defined and being set to 0.0 in labels with no predicted samples. Use `zero_division` parameter to control this behavior.\n",
      "  _warn_prf(average, modifier, msg_start, len(result))\n"
     ]
    },
    {
     "name": "stdout",
     "output_type": "stream",
     "text": [
      "SVM Class Wise Accuracy :  [0.925      0.96875    1.         1.         0.         1.\n",
      " 0.08333333 0.3        1.         0.67449664 1.         0.\n",
      " 0.8        0.88268156 0.         0.88888889 0.85714286 0.98780488\n",
      " 0.83388704]\n",
      "SVM Time :  139.14189700000134\n"
     ]
    },
    {
     "name": "stderr",
     "output_type": "stream",
     "text": [
      "C:\\Users\\sali85\\Anaconda3\\lib\\site-packages\\sklearn\\metrics\\_classification.py:1221: UndefinedMetricWarning: Precision is ill-defined and being set to 0.0 in labels with no predicted samples. Use `zero_division` parameter to control this behavior.\n",
      "  _warn_prf(average, modifier, msg_start, len(result))\n",
      "C:\\Users\\sali85\\Anaconda3\\lib\\site-packages\\sklearn\\metrics\\_classification.py:1221: UndefinedMetricWarning: Recall is ill-defined and being set to 0.0 in labels with no true samples. Use `zero_division` parameter to control this behavior.\n",
      "  _warn_prf(average, modifier, msg_start, len(result))\n",
      "<ipython-input-42-273c3866d82e>:130: RuntimeWarning: invalid value encountered in true_divide\n",
      "  print(\"NB Class Wise Accuracy : \",confuse.diagonal()/confuse.sum(axis=1))\n"
     ]
    },
    {
     "name": "stdout",
     "output_type": "stream",
     "text": [
      "NB Class Wise Accuracy :  [0.98039216 0.98245614 0.5        0.9047619  0.         0.94382022\n",
      " 0.11111111 0.18       1.         0.79154079 1.         0.\n",
      " 0.8        0.25976562        nan 1.         0.63636364 0.99363057\n",
      " 0.         0.85666667]\n",
      "NB Time :  7.604086200000893\n"
     ]
    },
    {
     "name": "stderr",
     "output_type": "stream",
     "text": [
      "C:\\Users\\sali85\\Anaconda3\\lib\\site-packages\\sklearn\\metrics\\_classification.py:1221: UndefinedMetricWarning: Precision is ill-defined and being set to 0.0 in labels with no predicted samples. Use `zero_division` parameter to control this behavior.\n",
      "  _warn_prf(average, modifier, msg_start, len(result))\n"
     ]
    },
    {
     "name": "stdout",
     "output_type": "stream",
     "text": [
      "MLP Class Wise Accuracy :  [0.8627451  0.96491228 1.         1.         0.         0.98876404\n",
      " 0.         0.14       1.         0.65558912 0.         0.\n",
      " 0.6        0.92773438 1.         0.81818182 0.99363057 0.\n",
      " 0.76666667]\n"
     ]
    },
    {
     "name": "stderr",
     "output_type": "stream",
     "text": [
      "C:\\Users\\sali85\\Anaconda3\\lib\\site-packages\\sklearn\\metrics\\_classification.py:1221: UndefinedMetricWarning: Precision is ill-defined and being set to 0.0 in labels with no predicted samples. Use `zero_division` parameter to control this behavior.\n",
      "  _warn_prf(average, modifier, msg_start, len(result))\n"
     ]
    },
    {
     "name": "stdout",
     "output_type": "stream",
     "text": [
      "MLP Time :  69.50227250000171\n",
      "KNN Class Wise Accuracy :  [0.84313725 0.96491228 0.5        1.         0.         0.95505618\n",
      " 0.         0.22       1.         0.80060423 1.         0.\n",
      " 0.8        0.703125   0.5        0.54545455 0.98726115 0.\n",
      " 0.84333333]\n",
      "KNN Time :  54.4426164999968\n"
     ]
    },
    {
     "name": "stderr",
     "output_type": "stream",
     "text": [
      "C:\\Users\\sali85\\Anaconda3\\lib\\site-packages\\sklearn\\metrics\\_classification.py:1221: UndefinedMetricWarning: Precision is ill-defined and being set to 0.0 in labels with no predicted samples. Use `zero_division` parameter to control this behavior.\n",
      "  _warn_prf(average, modifier, msg_start, len(result))\n"
     ]
    },
    {
     "name": "stdout",
     "output_type": "stream",
     "text": [
      "RF Class Wise Accuracy :  [0.94117647 0.98245614 0.5        1.         0.         1.\n",
      " 0.         0.22       1.         0.67069486 1.         0.\n",
      " 0.8        0.890625   1.         0.72727273 1.         0.\n",
      " 0.82666667]\n",
      "RF Time :  13.091491099999985\n"
     ]
    },
    {
     "name": "stderr",
     "output_type": "stream",
     "text": [
      "C:\\Users\\sali85\\Anaconda3\\lib\\site-packages\\sklearn\\metrics\\_classification.py:1221: UndefinedMetricWarning: Precision is ill-defined and being set to 0.0 in labels with no predicted samples. Use `zero_division` parameter to control this behavior.\n",
      "  _warn_prf(average, modifier, msg_start, len(result))\n"
     ]
    },
    {
     "name": "stdout",
     "output_type": "stream",
     "text": [
      "LR Class Wise Accuracy :  [0.90196078 0.98245614 1.         1.         0.         1.\n",
      " 0.         0.28       1.         0.64954683 1.         0.\n",
      " 1.         0.90234375 1.         1.         1.         0.\n",
      " 0.84666667]\n",
      "LR Time :  54.620575399996596\n"
     ]
    },
    {
     "name": "stderr",
     "output_type": "stream",
     "text": [
      "C:\\Users\\sali85\\Anaconda3\\lib\\site-packages\\sklearn\\metrics\\_classification.py:1221: UndefinedMetricWarning: Precision is ill-defined and being set to 0.0 in labels with no predicted samples. Use `zero_division` parameter to control this behavior.\n",
      "  _warn_prf(average, modifier, msg_start, len(result))\n",
      "C:\\Users\\sali85\\Anaconda3\\lib\\site-packages\\sklearn\\metrics\\_classification.py:1221: UndefinedMetricWarning: Recall is ill-defined and being set to 0.0 in labels with no true samples. Use `zero_division` parameter to control this behavior.\n",
      "  _warn_prf(average, modifier, msg_start, len(result))\n",
      "<ipython-input-42-273c3866d82e>:321: RuntimeWarning: invalid value encountered in true_divide\n",
      "  print(\"DT Class Wise Accuracy : \",confuse.diagonal()/confuse.sum(axis=1))\n"
     ]
    },
    {
     "name": "stdout",
     "output_type": "stream",
     "text": [
      "DT Class Wise Accuracy :  [0.70588235 0.95614035 0.5        1.         0.         0.97752809\n",
      " 0.11111111 0.28       1.         0.65256798 1.         0.\n",
      " 1.         0.86914062        nan 1.         0.81818182 0.98089172\n",
      " 0.         0.83      ]\n",
      "DT Time :  6.469098099994881\n"
     ]
    },
    {
     "name": "stderr",
     "output_type": "stream",
     "text": [
      "C:\\Users\\sali85\\Anaconda3\\lib\\site-packages\\sklearn\\metrics\\_classification.py:1221: UndefinedMetricWarning: Precision is ill-defined and being set to 0.0 in labels with no predicted samples. Use `zero_division` parameter to control this behavior.\n",
      "  _warn_prf(average, modifier, msg_start, len(result))\n",
      "C:\\Users\\sali85\\Anaconda3\\lib\\site-packages\\sklearn\\metrics\\_classification.py:1221: UndefinedMetricWarning: Recall is ill-defined and being set to 0.0 in labels with no true samples. Use `zero_division` parameter to control this behavior.\n",
      "  _warn_prf(average, modifier, msg_start, len(result))\n",
      "<ipython-input-42-273c3866d82e>:93: RuntimeWarning: invalid value encountered in true_divide\n",
      "  print(\"SVM Class Wise Accuracy : \",confuse.diagonal()/confuse.sum(axis=1))\n"
     ]
    },
    {
     "name": "stdout",
     "output_type": "stream",
     "text": [
      "SVM Class Wise Accuracy :  [0.96078431 0.98245614 1.         1.         0.         1.\n",
      " 0.         0.24       1.         0.61933535 1.         0.\n",
      " 1.         0.91015625        nan 1.         1.         1.\n",
      " 0.         0.84333333]\n",
      "SVM Time :  136.20868699999846\n"
     ]
    },
    {
     "name": "stderr",
     "output_type": "stream",
     "text": [
      "C:\\Users\\sali85\\Anaconda3\\lib\\site-packages\\sklearn\\metrics\\_classification.py:1221: UndefinedMetricWarning: Precision is ill-defined and being set to 0.0 in labels with no predicted samples. Use `zero_division` parameter to control this behavior.\n",
      "  _warn_prf(average, modifier, msg_start, len(result))\n",
      "C:\\Users\\sali85\\Anaconda3\\lib\\site-packages\\sklearn\\metrics\\_classification.py:1221: UndefinedMetricWarning: Recall is ill-defined and being set to 0.0 in labels with no true samples. Use `zero_division` parameter to control this behavior.\n",
      "  _warn_prf(average, modifier, msg_start, len(result))\n",
      "<ipython-input-42-273c3866d82e>:130: RuntimeWarning: invalid value encountered in true_divide\n",
      "  print(\"NB Class Wise Accuracy : \",confuse.diagonal()/confuse.sum(axis=1))\n"
     ]
    },
    {
     "name": "stdout",
     "output_type": "stream",
     "text": [
      "NB Class Wise Accuracy :  [1.         0.97297297 0.         1.         0.         0.96551724\n",
      " 0.11111111 0.13888889 1.         0.79411765 1.         0.4\n",
      " 0.2599278         nan 0.44444444 0.         0.77777778 0.98734177\n",
      " 0.         0.83986928]\n",
      "NB Time :  6.729095800001232\n"
     ]
    },
    {
     "name": "stderr",
     "output_type": "stream",
     "text": [
      "C:\\Users\\sali85\\Anaconda3\\lib\\site-packages\\sklearn\\metrics\\_classification.py:1221: UndefinedMetricWarning: Precision is ill-defined and being set to 0.0 in labels with no predicted samples. Use `zero_division` parameter to control this behavior.\n",
      "  _warn_prf(average, modifier, msg_start, len(result))\n",
      "C:\\Users\\sali85\\Anaconda3\\lib\\site-packages\\sklearn\\metrics\\_classification.py:1221: UndefinedMetricWarning: Recall is ill-defined and being set to 0.0 in labels with no true samples. Use `zero_division` parameter to control this behavior.\n",
      "  _warn_prf(average, modifier, msg_start, len(result))\n",
      "<ipython-input-42-273c3866d82e>:174: RuntimeWarning: invalid value encountered in true_divide\n",
      "  print(\"MLP Class Wise Accuracy : \",confuse.diagonal()/confuse.sum(axis=1))\n"
     ]
    },
    {
     "name": "stdout",
     "output_type": "stream",
     "text": [
      "MLP Class Wise Accuracy :  [0.90697674 0.99099099 0.         0.         0.         0.98850575\n",
      " 0.         0.22222222 0.         0.64052288 0.         0.4\n",
      " 0.84115523        nan 0.77777778 0.         0.         1.\n",
      " 0.         0.83006536]\n",
      "MLP Time :  82.1082455999931\n"
     ]
    },
    {
     "name": "stderr",
     "output_type": "stream",
     "text": [
      "C:\\Users\\sali85\\Anaconda3\\lib\\site-packages\\sklearn\\metrics\\_classification.py:1221: UndefinedMetricWarning: Precision is ill-defined and being set to 0.0 in labels with no predicted samples. Use `zero_division` parameter to control this behavior.\n",
      "  _warn_prf(average, modifier, msg_start, len(result))\n"
     ]
    },
    {
     "name": "stdout",
     "output_type": "stream",
     "text": [
      "KNN Class Wise Accuracy :  [0.88372093 0.98198198 0.         1.         0.         0.98850575\n",
      " 0.         0.27777778 1.         0.73856209 1.         0.8\n",
      " 0.68953069 0.77777778 0.         0.77777778 0.98101266 0.\n",
      " 0.88888889]\n",
      "KNN Time :  69.80440839999937\n"
     ]
    },
    {
     "name": "stderr",
     "output_type": "stream",
     "text": [
      "C:\\Users\\sali85\\Anaconda3\\lib\\site-packages\\sklearn\\metrics\\_classification.py:1221: UndefinedMetricWarning: Precision is ill-defined and being set to 0.0 in labels with no predicted samples. Use `zero_division` parameter to control this behavior.\n",
      "  _warn_prf(average, modifier, msg_start, len(result))\n"
     ]
    },
    {
     "name": "stdout",
     "output_type": "stream",
     "text": [
      "RF Class Wise Accuracy :  [1.         1.         0.         1.         0.         0.98850575\n",
      " 0.11111111 0.25       1.         0.66339869 1.         0.8\n",
      " 0.9133574  0.88888889 0.         0.88888889 0.99367089 0.\n",
      " 0.70588235]\n",
      "RF Time :  12.965737599995919\n"
     ]
    },
    {
     "name": "stderr",
     "output_type": "stream",
     "text": [
      "C:\\Users\\sali85\\Anaconda3\\lib\\site-packages\\sklearn\\metrics\\_classification.py:1221: UndefinedMetricWarning: Precision is ill-defined and being set to 0.0 in labels with no predicted samples. Use `zero_division` parameter to control this behavior.\n",
      "  _warn_prf(average, modifier, msg_start, len(result))\n",
      "C:\\Users\\sali85\\Anaconda3\\lib\\site-packages\\sklearn\\metrics\\_classification.py:1221: UndefinedMetricWarning: Recall is ill-defined and being set to 0.0 in labels with no true samples. Use `zero_division` parameter to control this behavior.\n",
      "  _warn_prf(average, modifier, msg_start, len(result))\n",
      "<ipython-input-42-273c3866d82e>:285: RuntimeWarning: invalid value encountered in true_divide\n",
      "  print(\"LR Class Wise Accuracy : \",confuse.diagonal()/confuse.sum(axis=1))\n"
     ]
    },
    {
     "name": "stdout",
     "output_type": "stream",
     "text": [
      "LR Class Wise Accuracy :  [1.         1.         0.         1.         0.         1.\n",
      " 0.11111111 0.44444444 1.         0.66666667 1.         0.8\n",
      " 0.90613718        nan 0.88888889 0.         0.88888889 0.99367089\n",
      " 0.         0.74836601]\n",
      "LR Time :  54.966590000003634\n"
     ]
    },
    {
     "name": "stderr",
     "output_type": "stream",
     "text": [
      "C:\\Users\\sali85\\Anaconda3\\lib\\site-packages\\sklearn\\metrics\\_classification.py:1221: UndefinedMetricWarning: Precision is ill-defined and being set to 0.0 in labels with no predicted samples. Use `zero_division` parameter to control this behavior.\n",
      "  _warn_prf(average, modifier, msg_start, len(result))\n",
      "C:\\Users\\sali85\\Anaconda3\\lib\\site-packages\\sklearn\\metrics\\_classification.py:1221: UndefinedMetricWarning: Recall is ill-defined and being set to 0.0 in labels with no true samples. Use `zero_division` parameter to control this behavior.\n",
      "  _warn_prf(average, modifier, msg_start, len(result))\n",
      "<ipython-input-42-273c3866d82e>:321: RuntimeWarning: invalid value encountered in true_divide\n",
      "  print(\"DT Class Wise Accuracy : \",confuse.diagonal()/confuse.sum(axis=1))\n"
     ]
    },
    {
     "name": "stdout",
     "output_type": "stream",
     "text": [
      "DT Class Wise Accuracy :  [0.93023256 0.97297297 0.         0.95454545 0.         0.98850575\n",
      " 0.11111111 0.27777778 1.         0.61437908 1.         0.4\n",
      " 0.89711191        nan 0.66666667 0.         0.66666667 0.98734177\n",
      " 0.         0.72875817]\n",
      "DT Time :  6.5986714999962715\n"
     ]
    },
    {
     "name": "stderr",
     "output_type": "stream",
     "text": [
      "C:\\Users\\sali85\\Anaconda3\\lib\\site-packages\\sklearn\\metrics\\_classification.py:1221: UndefinedMetricWarning: Precision is ill-defined and being set to 0.0 in labels with no predicted samples. Use `zero_division` parameter to control this behavior.\n",
      "  _warn_prf(average, modifier, msg_start, len(result))\n",
      "C:\\Users\\sali85\\Anaconda3\\lib\\site-packages\\sklearn\\metrics\\_classification.py:1221: UndefinedMetricWarning: Recall is ill-defined and being set to 0.0 in labels with no true samples. Use `zero_division` parameter to control this behavior.\n",
      "  _warn_prf(average, modifier, msg_start, len(result))\n",
      "<ipython-input-42-273c3866d82e>:93: RuntimeWarning: invalid value encountered in true_divide\n",
      "  print(\"SVM Class Wise Accuracy : \",confuse.diagonal()/confuse.sum(axis=1))\n"
     ]
    },
    {
     "name": "stdout",
     "output_type": "stream",
     "text": [
      "SVM Class Wise Accuracy :  [1.         1.         0.         1.         0.         1.\n",
      " 0.11111111 0.44444444 1.         0.66013072 1.         0.8\n",
      " 0.91877256        nan 0.77777778 0.         0.88888889 0.99367089\n",
      " 0.         0.73202614]\n",
      "SVM Time :  141.89649619999545\n"
     ]
    },
    {
     "name": "stderr",
     "output_type": "stream",
     "text": [
      "C:\\Users\\sali85\\Anaconda3\\lib\\site-packages\\sklearn\\metrics\\_classification.py:1221: UndefinedMetricWarning: Precision is ill-defined and being set to 0.0 in labels with no predicted samples. Use `zero_division` parameter to control this behavior.\n",
      "  _warn_prf(average, modifier, msg_start, len(result))\n",
      "C:\\Users\\sali85\\Anaconda3\\lib\\site-packages\\sklearn\\metrics\\_classification.py:1221: UndefinedMetricWarning: Recall is ill-defined and being set to 0.0 in labels with no true samples. Use `zero_division` parameter to control this behavior.\n",
      "  _warn_prf(average, modifier, msg_start, len(result))\n",
      "<ipython-input-42-273c3866d82e>:130: RuntimeWarning: invalid value encountered in true_divide\n",
      "  print(\"NB Class Wise Accuracy : \",confuse.diagonal()/confuse.sum(axis=1))\n"
     ]
    },
    {
     "name": "stdout",
     "output_type": "stream",
     "text": [
      "NB Class Wise Accuracy :  [1.         0.95959596 0.5        0.9375     0.         0.92207792\n",
      " 0.2        0.31578947 1.         0.78095238 1.         0.\n",
      " 1.         0.26047359        nan 0.66666667 0.8        0.96178344\n",
      "        nan 0.84735202]\n",
      "NB Time :  7.403741900001478\n"
     ]
    },
    {
     "name": "stderr",
     "output_type": "stream",
     "text": [
      "C:\\Users\\sali85\\Anaconda3\\lib\\site-packages\\sklearn\\metrics\\_classification.py:1221: UndefinedMetricWarning: Precision is ill-defined and being set to 0.0 in labels with no predicted samples. Use `zero_division` parameter to control this behavior.\n",
      "  _warn_prf(average, modifier, msg_start, len(result))\n",
      "C:\\Users\\sali85\\Anaconda3\\lib\\site-packages\\sklearn\\metrics\\_classification.py:1221: UndefinedMetricWarning: Recall is ill-defined and being set to 0.0 in labels with no true samples. Use `zero_division` parameter to control this behavior.\n",
      "  _warn_prf(average, modifier, msg_start, len(result))\n",
      "<ipython-input-42-273c3866d82e>:174: RuntimeWarning: invalid value encountered in true_divide\n",
      "  print(\"MLP Class Wise Accuracy : \",confuse.diagonal()/confuse.sum(axis=1))\n"
     ]
    },
    {
     "name": "stdout",
     "output_type": "stream",
     "text": [
      "MLP Class Wise Accuracy :  [0.92682927 0.93939394 0.5        0.90625    0.         0.97402597\n",
      " 0.2        0.21052632 1.         0.74285714 1.         0.\n",
      " 1.         0.82695811 1.                nan 1.         0.99363057\n",
      " 0.78504673]\n"
     ]
    },
    {
     "name": "stderr",
     "output_type": "stream",
     "text": [
      "C:\\Users\\sali85\\Anaconda3\\lib\\site-packages\\sklearn\\metrics\\_classification.py:1221: UndefinedMetricWarning: Precision is ill-defined and being set to 0.0 in labels with no predicted samples. Use `zero_division` parameter to control this behavior.\n",
      "  _warn_prf(average, modifier, msg_start, len(result))\n"
     ]
    },
    {
     "name": "stdout",
     "output_type": "stream",
     "text": [
      "MLP Time :  97.49992100000236\n",
      "KNN Class Wise Accuracy :  [0.7804878  0.96969697 0.5        1.         0.         0.96103896\n",
      " 0.         0.26315789 1.         0.7015873  1.         0.\n",
      " 1.         0.67395264 1.         0.6        0.99363057 0.91588785]\n",
      "KNN Time :  51.25106270000106\n"
     ]
    },
    {
     "name": "stderr",
     "output_type": "stream",
     "text": [
      "C:\\Users\\sali85\\Anaconda3\\lib\\site-packages\\sklearn\\metrics\\_classification.py:1221: UndefinedMetricWarning: Precision is ill-defined and being set to 0.0 in labels with no predicted samples. Use `zero_division` parameter to control this behavior.\n",
      "  _warn_prf(average, modifier, msg_start, len(result))\n"
     ]
    },
    {
     "name": "stdout",
     "output_type": "stream",
     "text": [
      "RF Class Wise Accuracy :  [0.97560976 1.         0.5        1.         0.         0.98701299\n",
      " 0.1        0.23684211 1.         0.65396825 1.         0.\n",
      " 1.         0.86520947 1.         1.         0.99363057 0.85981308]\n",
      "RF Time :  13.119821399995999\n"
     ]
    },
    {
     "name": "stderr",
     "output_type": "stream",
     "text": [
      "C:\\Users\\sali85\\Anaconda3\\lib\\site-packages\\sklearn\\metrics\\_classification.py:1221: UndefinedMetricWarning: Precision is ill-defined and being set to 0.0 in labels with no predicted samples. Use `zero_division` parameter to control this behavior.\n",
      "  _warn_prf(average, modifier, msg_start, len(result))\n"
     ]
    },
    {
     "name": "stdout",
     "output_type": "stream",
     "text": [
      "LR Class Wise Accuracy :  [0.97560976 0.97979798 1.         1.         0.         1.\n",
      " 0.2        0.31578947 1.         0.66349206 1.         0.\n",
      " 1.         0.89617486 1.         1.         0.99363057 0.85046729]\n",
      "LR Time :  61.601382799999556\n"
     ]
    },
    {
     "name": "stderr",
     "output_type": "stream",
     "text": [
      "C:\\Users\\sali85\\Anaconda3\\lib\\site-packages\\sklearn\\metrics\\_classification.py:1221: UndefinedMetricWarning: Precision is ill-defined and being set to 0.0 in labels with no predicted samples. Use `zero_division` parameter to control this behavior.\n",
      "  _warn_prf(average, modifier, msg_start, len(result))\n",
      "C:\\Users\\sali85\\Anaconda3\\lib\\site-packages\\sklearn\\metrics\\_classification.py:1221: UndefinedMetricWarning: Recall is ill-defined and being set to 0.0 in labels with no true samples. Use `zero_division` parameter to control this behavior.\n",
      "  _warn_prf(average, modifier, msg_start, len(result))\n",
      "<ipython-input-42-273c3866d82e>:321: RuntimeWarning: invalid value encountered in true_divide\n",
      "  print(\"DT Class Wise Accuracy : \",confuse.diagonal()/confuse.sum(axis=1))\n"
     ]
    },
    {
     "name": "stdout",
     "output_type": "stream",
     "text": [
      "DT Class Wise Accuracy :  [0.80487805 0.96969697 0.5        1.         0.         0.94805195\n",
      " 0.1        0.34210526 0.75       0.65079365 1.         0.\n",
      " 0.5        0.83606557        nan 1.         0.8        0.95541401\n",
      "        nan 0.83489097]\n",
      "DT Time :  6.318104500001937\n"
     ]
    },
    {
     "name": "stderr",
     "output_type": "stream",
     "text": [
      "C:\\Users\\sali85\\Anaconda3\\lib\\site-packages\\sklearn\\metrics\\_classification.py:1221: UndefinedMetricWarning: Precision is ill-defined and being set to 0.0 in labels with no predicted samples. Use `zero_division` parameter to control this behavior.\n",
      "  _warn_prf(average, modifier, msg_start, len(result))\n"
     ]
    },
    {
     "name": "stdout",
     "output_type": "stream",
     "text": [
      "SVM Class Wise Accuracy :  [0.97560976 0.97979798 1.         1.         0.         1.\n",
      " 0.2        0.31578947 1.         0.62857143 1.         0.\n",
      " 1.         0.88888889 1.         1.         0.99363057 0.8411215 ]\n",
      "SVM Time :  147.6261480999965\n"
     ]
    },
    {
     "name": "stderr",
     "output_type": "stream",
     "text": [
      "C:\\Users\\sali85\\Anaconda3\\lib\\site-packages\\sklearn\\metrics\\_classification.py:1221: UndefinedMetricWarning: Precision is ill-defined and being set to 0.0 in labels with no predicted samples. Use `zero_division` parameter to control this behavior.\n",
      "  _warn_prf(average, modifier, msg_start, len(result))\n",
      "C:\\Users\\sali85\\Anaconda3\\lib\\site-packages\\sklearn\\metrics\\_classification.py:1221: UndefinedMetricWarning: Recall is ill-defined and being set to 0.0 in labels with no true samples. Use `zero_division` parameter to control this behavior.\n",
      "  _warn_prf(average, modifier, msg_start, len(result))\n",
      "<ipython-input-42-273c3866d82e>:130: RuntimeWarning: invalid value encountered in true_divide\n",
      "  print(\"NB Class Wise Accuracy : \",confuse.diagonal()/confuse.sum(axis=1))\n"
     ]
    },
    {
     "name": "stdout",
     "output_type": "stream",
     "text": [
      "NB Class Wise Accuracy :  [1.         0.96491228 1.         0.96551724 0.94366197 0.\n",
      " 0.20512821 0.         1.         0.87381703 0.         0.33333333\n",
      " 0.2810219  0.         0.66666667 0.81818182 1.                nan\n",
      " 0.82450331]\n",
      "NB Time :  7.5768097000036505\n"
     ]
    },
    {
     "name": "stderr",
     "output_type": "stream",
     "text": [
      "C:\\Users\\sali85\\Anaconda3\\lib\\site-packages\\sklearn\\metrics\\_classification.py:1221: UndefinedMetricWarning: Precision is ill-defined and being set to 0.0 in labels with no predicted samples. Use `zero_division` parameter to control this behavior.\n",
      "  _warn_prf(average, modifier, msg_start, len(result))\n"
     ]
    },
    {
     "name": "stdout",
     "output_type": "stream",
     "text": [
      "MLP Class Wise Accuracy :  [0.68518519 0.96491228 1.         1.         0.97183099 0.\n",
      " 0.28205128 0.         0.         0.89589905 0.         0.5\n",
      " 0.70255474 0.         0.83333333 0.36363636 1.         0.87417219]\n",
      "MLP Time :  60.36133659999905\n"
     ]
    },
    {
     "name": "stderr",
     "output_type": "stream",
     "text": [
      "C:\\Users\\sali85\\Anaconda3\\lib\\site-packages\\sklearn\\metrics\\_classification.py:1221: UndefinedMetricWarning: Precision is ill-defined and being set to 0.0 in labels with no predicted samples. Use `zero_division` parameter to control this behavior.\n",
      "  _warn_prf(average, modifier, msg_start, len(result))\n"
     ]
    },
    {
     "name": "stdout",
     "output_type": "stream",
     "text": [
      "KNN Class Wise Accuracy :  [0.74074074 0.96491228 0.         1.         1.         0.\n",
      " 0.17948718 0.         1.         0.72870662 0.         0.66666667\n",
      " 0.77554745 0.         0.83333333 0.81818182 0.98701299 0.83112583]\n",
      "KNN Time :  54.12098729999707\n"
     ]
    },
    {
     "name": "stderr",
     "output_type": "stream",
     "text": [
      "C:\\Users\\sali85\\Anaconda3\\lib\\site-packages\\sklearn\\metrics\\_classification.py:1221: UndefinedMetricWarning: Precision is ill-defined and being set to 0.0 in labels with no predicted samples. Use `zero_division` parameter to control this behavior.\n",
      "  _warn_prf(average, modifier, msg_start, len(result))\n"
     ]
    },
    {
     "name": "stdout",
     "output_type": "stream",
     "text": [
      "RF Class Wise Accuracy :  [0.96296296 0.98245614 1.         1.         0.97183099 0.\n",
      " 0.25641026 0.         1.         0.69400631 0.         0.66666667\n",
      " 0.8850365  0.         0.83333333 1.         1.         0.85099338]\n",
      "RF Time :  12.676669199994649\n"
     ]
    },
    {
     "name": "stderr",
     "output_type": "stream",
     "text": [
      "C:\\Users\\sali85\\Anaconda3\\lib\\site-packages\\sklearn\\metrics\\_classification.py:1221: UndefinedMetricWarning: Precision is ill-defined and being set to 0.0 in labels with no predicted samples. Use `zero_division` parameter to control this behavior.\n",
      "  _warn_prf(average, modifier, msg_start, len(result))\n"
     ]
    },
    {
     "name": "stdout",
     "output_type": "stream",
     "text": [
      "LR Class Wise Accuracy :  [0.92592593 1.         1.         1.         1.         0.\n",
      " 0.30769231 0.         1.         0.66876972 0.         0.83333333\n",
      " 0.88868613 0.         0.83333333 1.         1.         0.85761589]\n",
      "LR Time :  59.98714209999889\n"
     ]
    },
    {
     "name": "stderr",
     "output_type": "stream",
     "text": [
      "C:\\Users\\sali85\\Anaconda3\\lib\\site-packages\\sklearn\\metrics\\_classification.py:1221: UndefinedMetricWarning: Precision is ill-defined and being set to 0.0 in labels with no predicted samples. Use `zero_division` parameter to control this behavior.\n",
      "  _warn_prf(average, modifier, msg_start, len(result))\n",
      "C:\\Users\\sali85\\Anaconda3\\lib\\site-packages\\sklearn\\metrics\\_classification.py:1221: UndefinedMetricWarning: Recall is ill-defined and being set to 0.0 in labels with no true samples. Use `zero_division` parameter to control this behavior.\n",
      "  _warn_prf(average, modifier, msg_start, len(result))\n",
      "<ipython-input-42-273c3866d82e>:321: RuntimeWarning: invalid value encountered in true_divide\n",
      "  print(\"DT Class Wise Accuracy : \",confuse.diagonal()/confuse.sum(axis=1))\n"
     ]
    },
    {
     "name": "stdout",
     "output_type": "stream",
     "text": [
      "DT Class Wise Accuracy :  [0.87037037 0.95614035 1.         0.96551724        nan 0.98591549\n",
      " 0.         0.33333333 0.         1.         0.69085174        nan\n",
      " 0.         0.33333333 0.88321168 0.         0.83333333        nan\n",
      " 0.63636364 0.98701299 0.79139073]\n",
      "DT Time :  6.442605399999593\n"
     ]
    },
    {
     "name": "stderr",
     "output_type": "stream",
     "text": [
      "C:\\Users\\sali85\\Anaconda3\\lib\\site-packages\\sklearn\\metrics\\_classification.py:1221: UndefinedMetricWarning: Precision is ill-defined and being set to 0.0 in labels with no predicted samples. Use `zero_division` parameter to control this behavior.\n",
      "  _warn_prf(average, modifier, msg_start, len(result))\n"
     ]
    },
    {
     "name": "stdout",
     "output_type": "stream",
     "text": [
      "SVM Class Wise Accuracy :  [0.94444444 1.         1.         1.         1.         0.\n",
      " 0.28205128 0.         1.         0.70031546 0.         0.83333333\n",
      " 0.87773723 0.         0.83333333 1.         1.         0.8410596 ]\n",
      "SVM Time :  142.6387709999981\n"
     ]
    },
    {
     "name": "stderr",
     "output_type": "stream",
     "text": [
      "C:\\Users\\sali85\\Anaconda3\\lib\\site-packages\\sklearn\\metrics\\_classification.py:1221: UndefinedMetricWarning: Precision is ill-defined and being set to 0.0 in labels with no predicted samples. Use `zero_division` parameter to control this behavior.\n",
      "  _warn_prf(average, modifier, msg_start, len(result))\n",
      "C:\\Users\\sali85\\Anaconda3\\lib\\site-packages\\sklearn\\metrics\\_classification.py:1221: UndefinedMetricWarning: Recall is ill-defined and being set to 0.0 in labels with no true samples. Use `zero_division` parameter to control this behavior.\n",
      "  _warn_prf(average, modifier, msg_start, len(result))\n",
      "<ipython-input-42-273c3866d82e>:130: RuntimeWarning: invalid value encountered in true_divide\n",
      "  print(\"NB Class Wise Accuracy : \",confuse.diagonal()/confuse.sum(axis=1))\n"
     ]
    },
    {
     "name": "stdout",
     "output_type": "stream",
     "text": [
      "NB Class Wise Accuracy :  [0.98       0.96031746 0.33333333 0.89285714 0.91566265 0.\n",
      " 0.15151515 0.         1.         0.83171521 0.         0.8\n",
      " 0.23357664        nan 0.4        0.83333333 0.99367089        nan\n",
      " 0.8225256 ]\n",
      "NB Time :  6.7393006999991485\n"
     ]
    },
    {
     "name": "stderr",
     "output_type": "stream",
     "text": [
      "C:\\Users\\sali85\\Anaconda3\\lib\\site-packages\\sklearn\\metrics\\_classification.py:1221: UndefinedMetricWarning: Precision is ill-defined and being set to 0.0 in labels with no predicted samples. Use `zero_division` parameter to control this behavior.\n",
      "  _warn_prf(average, modifier, msg_start, len(result))\n"
     ]
    },
    {
     "name": "stdout",
     "output_type": "stream",
     "text": [
      "MLP Class Wise Accuracy :  [0.8        0.98412698 0.33333333 1.         0.95180723 0.\n",
      " 0.15151515 0.         1.         0.66019417 0.         1.\n",
      " 0.87043796 0.6        1.         0.98101266 0.86006826]\n"
     ]
    },
    {
     "name": "stderr",
     "output_type": "stream",
     "text": [
      "C:\\Users\\sali85\\Anaconda3\\lib\\site-packages\\sklearn\\metrics\\_classification.py:1221: UndefinedMetricWarning: Precision is ill-defined and being set to 0.0 in labels with no predicted samples. Use `zero_division` parameter to control this behavior.\n",
      "  _warn_prf(average, modifier, msg_start, len(result))\n"
     ]
    },
    {
     "name": "stdout",
     "output_type": "stream",
     "text": [
      "MLP Time :  72.39662759999919\n",
      "KNN Class Wise Accuracy :  [0.76       0.98412698 0.         1.         0.98795181 0.\n",
      " 0.24242424 0.         1.         0.70873786 0.         1.\n",
      " 0.71350365 1.         0.83333333 0.97468354 0.83959044]\n",
      "KNN Time :  59.361903999997594\n"
     ]
    },
    {
     "name": "stderr",
     "output_type": "stream",
     "text": [
      "C:\\Users\\sali85\\Anaconda3\\lib\\site-packages\\sklearn\\metrics\\_classification.py:1221: UndefinedMetricWarning: Precision is ill-defined and being set to 0.0 in labels with no predicted samples. Use `zero_division` parameter to control this behavior.\n",
      "  _warn_prf(average, modifier, msg_start, len(result))\n"
     ]
    },
    {
     "name": "stdout",
     "output_type": "stream",
     "text": [
      "RF Class Wise Accuracy :  [0.98       0.99206349 0.33333333 1.         0.96385542 0.\n",
      " 0.12121212 0.         1.         0.68608414 0.         1.\n",
      " 0.85583942 0.6        1.         1.         0.83617747]\n",
      "RF Time :  12.241401999999653\n"
     ]
    },
    {
     "name": "stderr",
     "output_type": "stream",
     "text": [
      "C:\\Users\\sali85\\Anaconda3\\lib\\site-packages\\sklearn\\metrics\\_classification.py:1221: UndefinedMetricWarning: Precision is ill-defined and being set to 0.0 in labels with no predicted samples. Use `zero_division` parameter to control this behavior.\n",
      "  _warn_prf(average, modifier, msg_start, len(result))\n"
     ]
    },
    {
     "name": "stdout",
     "output_type": "stream",
     "text": [
      "LR Class Wise Accuracy :  [0.96       1.         0.33333333 1.         0.98795181 0.\n",
      " 0.21212121 0.         1.         0.70226537 0.         1.\n",
      " 0.85218978 0.6        1.         1.         0.86006826]\n",
      "LR Time :  62.00455669999792\n"
     ]
    },
    {
     "name": "stderr",
     "output_type": "stream",
     "text": [
      "C:\\Users\\sali85\\Anaconda3\\lib\\site-packages\\sklearn\\metrics\\_classification.py:1221: UndefinedMetricWarning: Precision is ill-defined and being set to 0.0 in labels with no predicted samples. Use `zero_division` parameter to control this behavior.\n",
      "  _warn_prf(average, modifier, msg_start, len(result))\n",
      "C:\\Users\\sali85\\Anaconda3\\lib\\site-packages\\sklearn\\metrics\\_classification.py:1221: UndefinedMetricWarning: Recall is ill-defined and being set to 0.0 in labels with no true samples. Use `zero_division` parameter to control this behavior.\n",
      "  _warn_prf(average, modifier, msg_start, len(result))\n",
      "<ipython-input-42-273c3866d82e>:321: RuntimeWarning: invalid value encountered in true_divide\n",
      "  print(\"DT Class Wise Accuracy : \",confuse.diagonal()/confuse.sum(axis=1))\n"
     ]
    },
    {
     "name": "stdout",
     "output_type": "stream",
     "text": [
      "DT Class Wise Accuracy :  [0.9        0.99206349 0.33333333 1.         0.96385542 0.11764706\n",
      " 0.12121212 0.         1.         0.65048544 0.         1.\n",
      " 0.82481752        nan 0.6        1.         0.96835443 0.84300341]\n",
      "DT Time :  6.617254999997385\n"
     ]
    },
    {
     "name": "stderr",
     "output_type": "stream",
     "text": [
      "C:\\Users\\sali85\\Anaconda3\\lib\\site-packages\\sklearn\\metrics\\_classification.py:1221: UndefinedMetricWarning: Precision is ill-defined and being set to 0.0 in labels with no predicted samples. Use `zero_division` parameter to control this behavior.\n",
      "  _warn_prf(average, modifier, msg_start, len(result))\n",
      "C:\\Users\\sali85\\Anaconda3\\lib\\site-packages\\sklearn\\metrics\\_classification.py:1221: UndefinedMetricWarning: Recall is ill-defined and being set to 0.0 in labels with no true samples. Use `zero_division` parameter to control this behavior.\n",
      "  _warn_prf(average, modifier, msg_start, len(result))\n",
      "<ipython-input-42-273c3866d82e>:93: RuntimeWarning: invalid value encountered in true_divide\n",
      "  print(\"SVM Class Wise Accuracy : \",confuse.diagonal()/confuse.sum(axis=1))\n"
     ]
    },
    {
     "name": "stdout",
     "output_type": "stream",
     "text": [
      "SVM Class Wise Accuracy :  [0.96       1.         0.33333333 1.         0.97590361 0.\n",
      " 0.24242424 0.         1.         0.66666667 0.         1.\n",
      " 0.85218978        nan 0.6        1.         1.         0.85324232]\n",
      "SVM Time :  147.7887639000037\n"
     ]
    },
    {
     "name": "stderr",
     "output_type": "stream",
     "text": [
      "C:\\Users\\sali85\\Anaconda3\\lib\\site-packages\\sklearn\\metrics\\_classification.py:1221: UndefinedMetricWarning: Precision is ill-defined and being set to 0.0 in labels with no predicted samples. Use `zero_division` parameter to control this behavior.\n",
      "  _warn_prf(average, modifier, msg_start, len(result))\n"
     ]
    },
    {
     "name": "stdout",
     "output_type": "stream",
     "text": [
      "NB Class Wise Accuracy :  [1.         0.9266055  0.5        0.96153846 0.98924731 0.2\n",
      " 0.18918919 0.         0.88679245 0.5        1.         0.27428571\n",
      " 0.         0.57142857 0.6        0.98224852 0.         0.83766234]\n",
      "NB Time :  8.058037200004037\n"
     ]
    },
    {
     "name": "stderr",
     "output_type": "stream",
     "text": [
      "C:\\Users\\sali85\\Anaconda3\\lib\\site-packages\\sklearn\\metrics\\_classification.py:1221: UndefinedMetricWarning: Precision is ill-defined and being set to 0.0 in labels with no predicted samples. Use `zero_division` parameter to control this behavior.\n",
      "  _warn_prf(average, modifier, msg_start, len(result))\n"
     ]
    },
    {
     "name": "stdout",
     "output_type": "stream",
     "text": [
      "MLP Class Wise Accuracy :  [0.93617021 0.9266055  0.5        1.         0.97849462 0.1\n",
      " 0.2972973  0.         0.62578616 0.         0.         0.89333333\n",
      " 0.         0.57142857 0.6        0.9704142  0.         0.77922078]\n",
      "MLP Time :  73.6371044999978\n"
     ]
    },
    {
     "name": "stderr",
     "output_type": "stream",
     "text": [
      "C:\\Users\\sali85\\Anaconda3\\lib\\site-packages\\sklearn\\metrics\\_classification.py:1221: UndefinedMetricWarning: Precision is ill-defined and being set to 0.0 in labels with no predicted samples. Use `zero_division` parameter to control this behavior.\n",
      "  _warn_prf(average, modifier, msg_start, len(result))\n"
     ]
    },
    {
     "name": "stdout",
     "output_type": "stream",
     "text": [
      "KNN Class Wise Accuracy :  [0.76595745 0.91743119 0.25       1.         0.98924731 0.\n",
      " 0.24324324 0.         0.67924528 0.         1.         0.73904762\n",
      " 0.         0.85714286 0.6        0.98224852 0.         0.81168831]\n",
      "KNN Time :  52.6121714999972\n"
     ]
    },
    {
     "name": "stderr",
     "output_type": "stream",
     "text": [
      "C:\\Users\\sali85\\Anaconda3\\lib\\site-packages\\sklearn\\metrics\\_classification.py:1221: UndefinedMetricWarning: Precision is ill-defined and being set to 0.0 in labels with no predicted samples. Use `zero_division` parameter to control this behavior.\n",
      "  _warn_prf(average, modifier, msg_start, len(result))\n"
     ]
    },
    {
     "name": "stdout",
     "output_type": "stream",
     "text": [
      "RF Class Wise Accuracy :  [0.9787234  0.97247706 0.5        1.         1.         0.1\n",
      " 0.13513514 0.         0.61949686 1.         1.         0.90666667\n",
      " 0.         0.85714286 0.8        1.         0.         0.75      ]\n",
      "RF Time :  12.091095900002983\n"
     ]
    },
    {
     "name": "stderr",
     "output_type": "stream",
     "text": [
      "C:\\Users\\sali85\\Anaconda3\\lib\\site-packages\\sklearn\\metrics\\_classification.py:1221: UndefinedMetricWarning: Precision is ill-defined and being set to 0.0 in labels with no predicted samples. Use `zero_division` parameter to control this behavior.\n",
      "  _warn_prf(average, modifier, msg_start, len(result))\n"
     ]
    },
    {
     "name": "stdout",
     "output_type": "stream",
     "text": [
      "LR Class Wise Accuracy :  [0.9787234  0.97247706 0.5        1.         1.         0.1\n",
      " 0.35135135 0.         0.61949686 1.         1.         0.9047619\n",
      " 0.         0.57142857 1.         0.99408284 0.         0.82142857]\n",
      "LR Time :  55.574920799997926\n"
     ]
    },
    {
     "name": "stderr",
     "output_type": "stream",
     "text": [
      "C:\\Users\\sali85\\Anaconda3\\lib\\site-packages\\sklearn\\metrics\\_classification.py:1221: UndefinedMetricWarning: Precision is ill-defined and being set to 0.0 in labels with no predicted samples. Use `zero_division` parameter to control this behavior.\n",
      "  _warn_prf(average, modifier, msg_start, len(result))\n",
      "C:\\Users\\sali85\\Anaconda3\\lib\\site-packages\\sklearn\\metrics\\_classification.py:1221: UndefinedMetricWarning: Recall is ill-defined and being set to 0.0 in labels with no true samples. Use `zero_division` parameter to control this behavior.\n",
      "  _warn_prf(average, modifier, msg_start, len(result))\n",
      "<ipython-input-42-273c3866d82e>:321: RuntimeWarning: invalid value encountered in true_divide\n",
      "  print(\"DT Class Wise Accuracy : \",confuse.diagonal()/confuse.sum(axis=1))\n"
     ]
    },
    {
     "name": "stdout",
     "output_type": "stream",
     "text": [
      "DT Class Wise Accuracy :  [0.87234043 0.89908257 0.5        0.88461538        nan 1.\n",
      " 0.1        0.35135135 0.         0.64465409 1.         1.\n",
      " 0.87238095 0.         0.57142857 0.6        0.98816568 0.\n",
      " 0.74350649]\n",
      "DT Time :  6.424175200001628\n"
     ]
    },
    {
     "name": "stderr",
     "output_type": "stream",
     "text": [
      "C:\\Users\\sali85\\Anaconda3\\lib\\site-packages\\sklearn\\metrics\\_classification.py:1221: UndefinedMetricWarning: Precision is ill-defined and being set to 0.0 in labels with no predicted samples. Use `zero_division` parameter to control this behavior.\n",
      "  _warn_prf(average, modifier, msg_start, len(result))\n"
     ]
    },
    {
     "name": "stdout",
     "output_type": "stream",
     "text": [
      "SVM Class Wise Accuracy :  [0.9787234  0.96330275 0.5        1.         1.         0.1\n",
      " 0.43243243 0.         0.62264151 1.         1.         0.91428571\n",
      " 0.         0.57142857 1.         0.99408284 0.         0.76948052]\n",
      "SVM Time :  138.1046501000019\n"
     ]
    },
    {
     "name": "stderr",
     "output_type": "stream",
     "text": [
      "C:\\Users\\sali85\\Anaconda3\\lib\\site-packages\\sklearn\\metrics\\_classification.py:1221: UndefinedMetricWarning: Precision is ill-defined and being set to 0.0 in labels with no predicted samples. Use `zero_division` parameter to control this behavior.\n",
      "  _warn_prf(average, modifier, msg_start, len(result))\n"
     ]
    },
    {
     "name": "stdout",
     "output_type": "stream",
     "text": [
      "NB Class Wise Accuracy :  [1.         0.97297297 0.5        1.         0.93939394 0.14285714\n",
      " 0.15625    0.         1.         0.91346154 1.         0.\n",
      " 0.75       0.2513181  0.         0.66666667 0.83333333 0.97385621\n",
      " 0.         0.84615385]\n",
      "NB Time :  6.8445827000032295\n"
     ]
    },
    {
     "name": "stderr",
     "output_type": "stream",
     "text": [
      "C:\\Users\\sali85\\Anaconda3\\lib\\site-packages\\sklearn\\metrics\\_classification.py:1221: UndefinedMetricWarning: Precision is ill-defined and being set to 0.0 in labels with no predicted samples. Use `zero_division` parameter to control this behavior.\n",
      "  _warn_prf(average, modifier, msg_start, len(result))\n"
     ]
    },
    {
     "name": "stdout",
     "output_type": "stream",
     "text": [
      "MLP Class Wise Accuracy :  [0.83333333 0.95495495 1.         0.9        0.97979798 0.\n",
      " 0.28125    0.         1.         0.62820513 0.         0.\n",
      " 0.75       0.85764499 0.         1.         0.66666667 0.9869281\n",
      " 0.         0.86287625]\n"
     ]
    },
    {
     "name": "stderr",
     "output_type": "stream",
     "text": [
      "C:\\Users\\sali85\\Anaconda3\\lib\\site-packages\\sklearn\\metrics\\_classification.py:1221: UndefinedMetricWarning: Precision is ill-defined and being set to 0.0 in labels with no predicted samples. Use `zero_division` parameter to control this behavior.\n",
      "  _warn_prf(average, modifier, msg_start, len(result))\n"
     ]
    },
    {
     "name": "stdout",
     "output_type": "stream",
     "text": [
      "MLP Time :  51.2461684000009\n",
      "KNN Class Wise Accuracy :  [0.80952381 0.99099099 0.         1.         1.         0.\n",
      " 0.21875    0.         1.         0.83974359 0.         0.\n",
      " 0.75       0.69068541 0.         1.         0.83333333 1.\n",
      " 0.         0.84949833]\n",
      "KNN Time :  56.26367979999486\n"
     ]
    },
    {
     "name": "stderr",
     "output_type": "stream",
     "text": [
      "C:\\Users\\sali85\\Anaconda3\\lib\\site-packages\\sklearn\\metrics\\_classification.py:1221: UndefinedMetricWarning: Precision is ill-defined and being set to 0.0 in labels with no predicted samples. Use `zero_division` parameter to control this behavior.\n",
      "  _warn_prf(average, modifier, msg_start, len(result))\n"
     ]
    },
    {
     "name": "stdout",
     "output_type": "stream",
     "text": [
      "RF Class Wise Accuracy :  [0.95238095 1.         0.5        1.         0.97979798 0.\n",
      " 0.1875     0.         1.         0.69230769 1.         0.\n",
      " 0.75       0.85940246 0.         1.         0.83333333 0.9869281\n",
      " 0.         0.86622074]\n",
      "RF Time :  12.43389659999957\n"
     ]
    },
    {
     "name": "stderr",
     "output_type": "stream",
     "text": [
      "C:\\Users\\sali85\\Anaconda3\\lib\\site-packages\\sklearn\\metrics\\_classification.py:1221: UndefinedMetricWarning: Precision is ill-defined and being set to 0.0 in labels with no predicted samples. Use `zero_division` parameter to control this behavior.\n",
      "  _warn_prf(average, modifier, msg_start, len(result))\n"
     ]
    },
    {
     "name": "stdout",
     "output_type": "stream",
     "text": [
      "LR Class Wise Accuracy :  [0.95238095 0.98198198 1.         1.         1.         0.\n",
      " 0.28125    0.         1.         0.70833333 1.         0.\n",
      " 1.         0.87873462 0.         0.66666667 0.83333333 0.9869281\n",
      " 0.         0.86956522]\n",
      "LR Time :  61.37694400000328\n"
     ]
    },
    {
     "name": "stderr",
     "output_type": "stream",
     "text": [
      "C:\\Users\\sali85\\Anaconda3\\lib\\site-packages\\sklearn\\metrics\\_classification.py:1221: UndefinedMetricWarning: Precision is ill-defined and being set to 0.0 in labels with no predicted samples. Use `zero_division` parameter to control this behavior.\n",
      "  _warn_prf(average, modifier, msg_start, len(result))\n",
      "C:\\Users\\sali85\\Anaconda3\\lib\\site-packages\\sklearn\\metrics\\_classification.py:1221: UndefinedMetricWarning: Recall is ill-defined and being set to 0.0 in labels with no true samples. Use `zero_division` parameter to control this behavior.\n",
      "  _warn_prf(average, modifier, msg_start, len(result))\n",
      "<ipython-input-42-273c3866d82e>:321: RuntimeWarning: invalid value encountered in true_divide\n",
      "  print(\"DT Class Wise Accuracy : \",confuse.diagonal()/confuse.sum(axis=1))\n"
     ]
    },
    {
     "name": "stdout",
     "output_type": "stream",
     "text": [
      "DT Class Wise Accuracy :  [0.76190476 0.94594595 1.         1.                nan 0.98989899\n",
      " 0.         0.15625    0.         1.         0.66666667 1.\n",
      " 0.         1.         0.84358524 0.         1.         0.83333333\n",
      " 0.98039216 0.         0.85953177]\n",
      "DT Time :  7.165857699998014\n"
     ]
    },
    {
     "name": "stderr",
     "output_type": "stream",
     "text": [
      "C:\\Users\\sali85\\Anaconda3\\lib\\site-packages\\sklearn\\metrics\\_classification.py:1221: UndefinedMetricWarning: Precision is ill-defined and being set to 0.0 in labels with no predicted samples. Use `zero_division` parameter to control this behavior.\n",
      "  _warn_prf(average, modifier, msg_start, len(result))\n"
     ]
    },
    {
     "name": "stdout",
     "output_type": "stream",
     "text": [
      "SVM Class Wise Accuracy :  [0.95238095 0.98198198 1.         1.         0.98989899 0.14285714\n",
      " 0.21875    0.         1.         0.69551282 1.         0.\n",
      " 1.         0.8629174  0.         0.66666667 0.83333333 0.9869281\n",
      " 0.         0.85618729]\n",
      "SVM Time :  149.11795029999485\n"
     ]
    },
    {
     "name": "stderr",
     "output_type": "stream",
     "text": [
      "C:\\Users\\sali85\\Anaconda3\\lib\\site-packages\\sklearn\\metrics\\_classification.py:1221: UndefinedMetricWarning: Precision is ill-defined and being set to 0.0 in labels with no predicted samples. Use `zero_division` parameter to control this behavior.\n",
      "  _warn_prf(average, modifier, msg_start, len(result))\n",
      "C:\\Users\\sali85\\Anaconda3\\lib\\site-packages\\sklearn\\metrics\\_classification.py:1221: UndefinedMetricWarning: Recall is ill-defined and being set to 0.0 in labels with no true samples. Use `zero_division` parameter to control this behavior.\n",
      "  _warn_prf(average, modifier, msg_start, len(result))\n",
      "<ipython-input-42-273c3866d82e>:130: RuntimeWarning: invalid value encountered in true_divide\n",
      "  print(\"NB Class Wise Accuracy : \",confuse.diagonal()/confuse.sum(axis=1))\n"
     ]
    },
    {
     "name": "stdout",
     "output_type": "stream",
     "text": [
      "NB Class Wise Accuracy :  [0.97619048 0.97413793 1.         1.         0.97701149 0.08333333\n",
      " 0.39130435 0.         1.         0.81107492 1.         0.\n",
      " 0.33333333 0.24901961        nan 0.6        0.         0.66666667\n",
      " 0.93650794        nan 0.79552716]\n",
      "NB Time :  7.023223100004543\n"
     ]
    },
    {
     "name": "stderr",
     "output_type": "stream",
     "text": [
      "C:\\Users\\sali85\\Anaconda3\\lib\\site-packages\\sklearn\\metrics\\_classification.py:1221: UndefinedMetricWarning: Precision is ill-defined and being set to 0.0 in labels with no predicted samples. Use `zero_division` parameter to control this behavior.\n",
      "  _warn_prf(average, modifier, msg_start, len(result))\n"
     ]
    },
    {
     "name": "stdout",
     "output_type": "stream",
     "text": [
      "MLP Class Wise Accuracy :  [0.80952381 0.94827586 1.         1.         1.         0.\n",
      " 0.2173913  0.         1.         0.78501629 1.         0.\n",
      " 1.         0.71568627 0.8        0.         0.77777778 0.96825397\n",
      " 0.8370607 ]\n",
      "MLP Time :  60.566137199995865\n"
     ]
    },
    {
     "name": "stderr",
     "output_type": "stream",
     "text": [
      "C:\\Users\\sali85\\Anaconda3\\lib\\site-packages\\sklearn\\metrics\\_classification.py:1221: UndefinedMetricWarning: Precision is ill-defined and being set to 0.0 in labels with no predicted samples. Use `zero_division` parameter to control this behavior.\n",
      "  _warn_prf(average, modifier, msg_start, len(result))\n"
     ]
    },
    {
     "name": "stdout",
     "output_type": "stream",
     "text": [
      "KNN Class Wise Accuracy :  [0.80952381 0.93965517 0.5        1.         0.98850575 0.\n",
      " 0.34782609 0.         1.         0.65798046 1.         0.\n",
      " 1.         0.86666667 0.8        0.         0.77777778 0.97883598\n",
      " 0.7284345 ]\n",
      "KNN Time :  55.78593379999802\n"
     ]
    },
    {
     "name": "stderr",
     "output_type": "stream",
     "text": [
      "C:\\Users\\sali85\\Anaconda3\\lib\\site-packages\\sklearn\\metrics\\_classification.py:1221: UndefinedMetricWarning: Precision is ill-defined and being set to 0.0 in labels with no predicted samples. Use `zero_division` parameter to control this behavior.\n",
      "  _warn_prf(average, modifier, msg_start, len(result))\n"
     ]
    },
    {
     "name": "stdout",
     "output_type": "stream",
     "text": [
      "RF Class Wise Accuracy :  [0.92857143 1.         1.         1.         0.98850575 0.\n",
      " 0.43478261 0.         1.         0.70358306 1.         0.\n",
      " 0.83333333 0.88039216 0.8        1.         0.88888889 0.97883598\n",
      " 0.76038339]\n",
      "RF Time :  13.264034799998626\n"
     ]
    },
    {
     "name": "stderr",
     "output_type": "stream",
     "text": [
      "C:\\Users\\sali85\\Anaconda3\\lib\\site-packages\\sklearn\\metrics\\_classification.py:1221: UndefinedMetricWarning: Precision is ill-defined and being set to 0.0 in labels with no predicted samples. Use `zero_division` parameter to control this behavior.\n",
      "  _warn_prf(average, modifier, msg_start, len(result))\n"
     ]
    },
    {
     "name": "stdout",
     "output_type": "stream",
     "text": [
      "LR Class Wise Accuracy :  [0.9047619  1.         1.         1.         1.         0.\n",
      " 0.43478261 0.         1.         0.69055375 1.         0.\n",
      " 1.         0.8745098  0.9        1.         0.88888889 0.96825397\n",
      " 0.79872204]\n",
      "LR Time : "
     ]
    },
    {
     "name": "stderr",
     "output_type": "stream",
     "text": [
      "C:\\Users\\sali85\\Anaconda3\\lib\\site-packages\\sklearn\\metrics\\_classification.py:1221: UndefinedMetricWarning: Precision is ill-defined and being set to 0.0 in labels with no predicted samples. Use `zero_division` parameter to control this behavior.\n",
      "  _warn_prf(average, modifier, msg_start, len(result))\n"
     ]
    },
    {
     "name": "stdout",
     "output_type": "stream",
     "text": [
      " 59.17772229999537\n",
      "DT Class Wise Accuracy :  [0.78571429 0.96551724 1.         0.97222222 1.         0.\n",
      " 0.34782609 0.         1.         0.64820847 1.         0.\n",
      " 1.         0.84901961 0.8        1.         0.66666667 0.95767196\n",
      " 0.76677316]\n",
      "DT Time :  6.8047815000027185\n"
     ]
    },
    {
     "name": "stderr",
     "output_type": "stream",
     "text": [
      "C:\\Users\\sali85\\Anaconda3\\lib\\site-packages\\sklearn\\metrics\\_classification.py:1221: UndefinedMetricWarning: Precision is ill-defined and being set to 0.0 in labels with no predicted samples. Use `zero_division` parameter to control this behavior.\n",
      "  _warn_prf(average, modifier, msg_start, len(result))\n",
      "C:\\Users\\sali85\\Anaconda3\\lib\\site-packages\\sklearn\\metrics\\_classification.py:1221: UndefinedMetricWarning: Recall is ill-defined and being set to 0.0 in labels with no true samples. Use `zero_division` parameter to control this behavior.\n",
      "  _warn_prf(average, modifier, msg_start, len(result))\n",
      "<ipython-input-42-273c3866d82e>:93: RuntimeWarning: invalid value encountered in true_divide\n",
      "  print(\"SVM Class Wise Accuracy : \",confuse.diagonal()/confuse.sum(axis=1))\n"
     ]
    },
    {
     "name": "stdout",
     "output_type": "stream",
     "text": [
      "SVM Class Wise Accuracy :  [0.92857143 1.         1.         1.         1.         0.\n",
      " 0.47826087 0.         1.         0.71009772 1.         0.\n",
      " 1.         0.86862745        nan 0.8        1.         1.\n",
      " 0.96825397 0.78594249]\n",
      "SVM Time :  139.2526973999993\n"
     ]
    },
    {
     "name": "stderr",
     "output_type": "stream",
     "text": [
      "C:\\Users\\sali85\\Anaconda3\\lib\\site-packages\\sklearn\\metrics\\_classification.py:1221: UndefinedMetricWarning: Precision is ill-defined and being set to 0.0 in labels with no predicted samples. Use `zero_division` parameter to control this behavior.\n",
      "  _warn_prf(average, modifier, msg_start, len(result))\n",
      "C:\\Users\\sali85\\Anaconda3\\lib\\site-packages\\sklearn\\metrics\\_classification.py:1221: UndefinedMetricWarning: Recall is ill-defined and being set to 0.0 in labels with no true samples. Use `zero_division` parameter to control this behavior.\n",
      "  _warn_prf(average, modifier, msg_start, len(result))\n",
      "<ipython-input-42-273c3866d82e>:130: RuntimeWarning: invalid value encountered in true_divide\n",
      "  print(\"NB Class Wise Accuracy : \",confuse.diagonal()/confuse.sum(axis=1))\n"
     ]
    },
    {
     "name": "stdout",
     "output_type": "stream",
     "text": [
      "NB Class Wise Accuracy :  [0.9787234  0.99145299 0.75       0.875      0.         0.9787234\n",
      " 0.0625     0.14814815 0.         1.         0.79461279 1.\n",
      " 0.4        0.30783582        nan 0.5        0.         0.85714286\n",
      " 0.98666667 0.                nan 0.80625   ]\n",
      "NB Time :  6.2259307999993325\n"
     ]
    },
    {
     "name": "stderr",
     "output_type": "stream",
     "text": [
      "C:\\Users\\sali85\\Anaconda3\\lib\\site-packages\\sklearn\\metrics\\_classification.py:1221: UndefinedMetricWarning: Precision is ill-defined and being set to 0.0 in labels with no predicted samples. Use `zero_division` parameter to control this behavior.\n",
      "  _warn_prf(average, modifier, msg_start, len(result))\n"
     ]
    },
    {
     "name": "stdout",
     "output_type": "stream",
     "text": [
      "MLP Class Wise Accuracy :  [0.80851064 0.99145299 0.5        1.         0.         0.9893617\n",
      " 0.0625     0.22222222 0.         0.         0.61616162 1.\n",
      " 0.6        0.76119403 0.83333333 1.         0.71428571 0.99333333\n",
      " 0.         0.909375  ]\n"
     ]
    },
    {
     "name": "stderr",
     "output_type": "stream",
     "text": [
      "C:\\Users\\sali85\\Anaconda3\\lib\\site-packages\\sklearn\\metrics\\_classification.py:1221: UndefinedMetricWarning: Precision is ill-defined and being set to 0.0 in labels with no predicted samples. Use `zero_division` parameter to control this behavior.\n",
      "  _warn_prf(average, modifier, msg_start, len(result))\n"
     ]
    },
    {
     "name": "stdout",
     "output_type": "stream",
     "text": [
      "MLP Time :  53.781110299998545\n",
      "KNN Class Wise Accuracy :  [0.68085106 0.98290598 0.         1.         0.         1.\n",
      " 0.         0.2962963  0.         1.         0.75757576 0.\n",
      " 0.8        0.63992537 0.33333333 0.         1.         1.\n",
      " 0.         0.84375   ]\n",
      "KNN Time :  50.28303210000013\n"
     ]
    },
    {
     "name": "stderr",
     "output_type": "stream",
     "text": [
      "C:\\Users\\sali85\\Anaconda3\\lib\\site-packages\\sklearn\\metrics\\_classification.py:1221: UndefinedMetricWarning: Precision is ill-defined and being set to 0.0 in labels with no predicted samples. Use `zero_division` parameter to control this behavior.\n",
      "  _warn_prf(average, modifier, msg_start, len(result))\n"
     ]
    },
    {
     "name": "stdout",
     "output_type": "stream",
     "text": [
      "RF Class Wise Accuracy :  [0.95744681 1.         0.75       1.         0.         1.\n",
      " 0.         0.22222222 0.         1.         0.65993266 1.\n",
      " 0.8        0.87126866 0.83333333 1.         1.         1.\n",
      " 0.         0.790625  ]\n",
      "RF Time :  12.214846199996828\n"
     ]
    },
    {
     "name": "stderr",
     "output_type": "stream",
     "text": [
      "C:\\Users\\sali85\\Anaconda3\\lib\\site-packages\\sklearn\\metrics\\_classification.py:1221: UndefinedMetricWarning: Precision is ill-defined and being set to 0.0 in labels with no predicted samples. Use `zero_division` parameter to control this behavior.\n",
      "  _warn_prf(average, modifier, msg_start, len(result))\n",
      "C:\\Users\\sali85\\Anaconda3\\lib\\site-packages\\sklearn\\metrics\\_classification.py:1221: UndefinedMetricWarning: Recall is ill-defined and being set to 0.0 in labels with no true samples. Use `zero_division` parameter to control this behavior.\n",
      "  _warn_prf(average, modifier, msg_start, len(result))\n",
      "<ipython-input-42-273c3866d82e>:285: RuntimeWarning: invalid value encountered in true_divide\n",
      "  print(\"LR Class Wise Accuracy : \",confuse.diagonal()/confuse.sum(axis=1))\n"
     ]
    },
    {
     "name": "stdout",
     "output_type": "stream",
     "text": [
      "LR Class Wise Accuracy :  [0.93617021 1.         1.         1.         0.         1.\n",
      " 0.         0.2962963  0.         1.         0.64646465 1.\n",
      " 0.8        0.89179104        nan 1.         1.         1.\n",
      " 1.         0.         0.79375   ]\n",
      "LR Time :  53.13554060000024\n"
     ]
    },
    {
     "name": "stderr",
     "output_type": "stream",
     "text": [
      "C:\\Users\\sali85\\Anaconda3\\lib\\site-packages\\sklearn\\metrics\\_classification.py:1221: UndefinedMetricWarning: Precision is ill-defined and being set to 0.0 in labels with no predicted samples. Use `zero_division` parameter to control this behavior.\n",
      "  _warn_prf(average, modifier, msg_start, len(result))\n",
      "C:\\Users\\sali85\\Anaconda3\\lib\\site-packages\\sklearn\\metrics\\_classification.py:1221: UndefinedMetricWarning: Recall is ill-defined and being set to 0.0 in labels with no true samples. Use `zero_division` parameter to control this behavior.\n",
      "  _warn_prf(average, modifier, msg_start, len(result))\n",
      "<ipython-input-42-273c3866d82e>:321: RuntimeWarning: invalid value encountered in true_divide\n",
      "  print(\"DT Class Wise Accuracy : \",confuse.diagonal()/confuse.sum(axis=1))\n"
     ]
    },
    {
     "name": "stdout",
     "output_type": "stream",
     "text": [
      "DT Class Wise Accuracy :  [0.76595745 0.94017094 0.75       0.96875    0.         1.\n",
      " 0.         0.33333333 0.         0.66666667 0.64309764 1.\n",
      "        nan 0.8        0.86567164        nan 0.83333333 0.\n",
      " 1.         0.98       0.         0.784375  ]\n",
      "DT Time :  6.514111699994828\n"
     ]
    },
    {
     "name": "stderr",
     "output_type": "stream",
     "text": [
      "C:\\Users\\sali85\\Anaconda3\\lib\\site-packages\\sklearn\\metrics\\_classification.py:1221: UndefinedMetricWarning: Precision is ill-defined and being set to 0.0 in labels with no predicted samples. Use `zero_division` parameter to control this behavior.\n",
      "  _warn_prf(average, modifier, msg_start, len(result))\n",
      "C:\\Users\\sali85\\Anaconda3\\lib\\site-packages\\sklearn\\metrics\\_classification.py:1221: UndefinedMetricWarning: Recall is ill-defined and being set to 0.0 in labels with no true samples. Use `zero_division` parameter to control this behavior.\n",
      "  _warn_prf(average, modifier, msg_start, len(result))\n",
      "<ipython-input-42-273c3866d82e>:93: RuntimeWarning: invalid value encountered in true_divide\n",
      "  print(\"SVM Class Wise Accuracy : \",confuse.diagonal()/confuse.sum(axis=1))\n"
     ]
    },
    {
     "name": "stdout",
     "output_type": "stream",
     "text": [
      "SVM Class Wise Accuracy :  [0.93617021 1.         1.         0.96875    0.         1.\n",
      " 0.         0.33333333 0.         1.         0.61952862 1.\n",
      " 0.8        0.87686567        nan 0.83333333 1.         1.\n",
      " 1.         0.         0.79375   ]\n",
      "SVM Time :  136.23128290000022\n"
     ]
    },
    {
     "name": "stderr",
     "output_type": "stream",
     "text": [
      "C:\\Users\\sali85\\Anaconda3\\lib\\site-packages\\sklearn\\metrics\\_classification.py:1221: UndefinedMetricWarning: Precision is ill-defined and being set to 0.0 in labels with no predicted samples. Use `zero_division` parameter to control this behavior.\n",
      "  _warn_prf(average, modifier, msg_start, len(result))\n"
     ]
    },
    {
     "name": "stdout",
     "output_type": "stream",
     "text": [
      "NB Class Wise Accuracy :  [1.         0.97142857 1.         1.         0.88172043 0.\n",
      " 0.125      0.         1.         0.89655172 1.         0.\n",
      " 0.8        0.2477396  0.         0.66666667 0.         0.7\n",
      " 0.9702381  0.         0.82653061]\n",
      "NB Time :  6.767485500000475\n"
     ]
    },
    {
     "name": "stderr",
     "output_type": "stream",
     "text": [
      "C:\\Users\\sali85\\Anaconda3\\lib\\site-packages\\sklearn\\metrics\\_classification.py:1221: UndefinedMetricWarning: Precision is ill-defined and being set to 0.0 in labels with no predicted samples. Use `zero_division` parameter to control this behavior.\n",
      "  _warn_prf(average, modifier, msg_start, len(result))\n"
     ]
    },
    {
     "name": "stdout",
     "output_type": "stream",
     "text": [
      "MLP Class Wise Accuracy :  [0.94444444 0.97142857 0.         0.96153846 0.93548387 0.\n",
      " 0.28125    0.         1.         0.68965517 1.         0.\n",
      " 0.8        0.89873418 0.         0.88888889 0.         0.7\n",
      " 0.98214286 0.         0.73809524]\n",
      "MLP Time :  52.28722689999995\n"
     ]
    },
    {
     "name": "stderr",
     "output_type": "stream",
     "text": [
      "C:\\Users\\sali85\\Anaconda3\\lib\\site-packages\\sklearn\\metrics\\_classification.py:1221: UndefinedMetricWarning: Precision is ill-defined and being set to 0.0 in labels with no predicted samples. Use `zero_division` parameter to control this behavior.\n",
      "  _warn_prf(average, modifier, msg_start, len(result))\n"
     ]
    },
    {
     "name": "stdout",
     "output_type": "stream",
     "text": [
      "KNN Class Wise Accuracy :  [0.88888889 0.97142857 0.         1.         0.94623656 0.\n",
      " 0.25       0.         1.         0.64576803 1.         0.\n",
      " 0.8        0.83544304 0.         0.88888889 0.         0.8\n",
      " 0.99404762 0.         0.80272109]\n",
      "KNN Time :  58.829014100003405\n"
     ]
    },
    {
     "name": "stderr",
     "output_type": "stream",
     "text": [
      "C:\\Users\\sali85\\Anaconda3\\lib\\site-packages\\sklearn\\metrics\\_classification.py:1221: UndefinedMetricWarning: Precision is ill-defined and being set to 0.0 in labels with no predicted samples. Use `zero_division` parameter to control this behavior.\n",
      "  _warn_prf(average, modifier, msg_start, len(result))\n"
     ]
    },
    {
     "name": "stdout",
     "output_type": "stream",
     "text": [
      "RF Class Wise Accuracy :  [0.94444444 0.98095238 1.         1.         0.93548387 0.\n",
      " 0.15625    0.         1.         0.69592476 1.         0.\n",
      " 0.8        0.90596745 0.         1.         1.         0.9\n",
      " 0.99404762 0.         0.76190476]\n",
      "RF Time :  14.175868600003014\n"
     ]
    },
    {
     "name": "stderr",
     "output_type": "stream",
     "text": [
      "C:\\Users\\sali85\\Anaconda3\\lib\\site-packages\\sklearn\\metrics\\_classification.py:1221: UndefinedMetricWarning: Precision is ill-defined and being set to 0.0 in labels with no predicted samples. Use `zero_division` parameter to control this behavior.\n",
      "  _warn_prf(average, modifier, msg_start, len(result))\n"
     ]
    },
    {
     "name": "stdout",
     "output_type": "stream",
     "text": [
      "LR Class Wise Accuracy :  [0.94444444 1.         1.         1.         0.93548387 0.\n",
      " 0.21875    0.         1.         0.69905956 1.         0.\n",
      " 1.         0.89330922 0.         0.88888889 1.         1.\n",
      " 0.99404762 0.         0.81632653]\n",
      "LR Time :  59.407911199996306\n"
     ]
    },
    {
     "name": "stderr",
     "output_type": "stream",
     "text": [
      "C:\\Users\\sali85\\Anaconda3\\lib\\site-packages\\sklearn\\metrics\\_classification.py:1221: UndefinedMetricWarning: Precision is ill-defined and being set to 0.0 in labels with no predicted samples. Use `zero_division` parameter to control this behavior.\n",
      "  _warn_prf(average, modifier, msg_start, len(result))\n"
     ]
    },
    {
     "name": "stdout",
     "output_type": "stream",
     "text": [
      "DT Class Wise Accuracy :  [0.83333333 0.95238095 1.         1.         0.93548387 0.2\n",
      " 0.25       0.         0.75       0.68025078 0.         0.\n",
      " 1.         0.84810127 0.         0.88888889 0.         0.6\n",
      " 0.97619048 0.         0.80952381]\n",
      "DT Time :  6.121406300000672\n"
     ]
    },
    {
     "name": "stderr",
     "output_type": "stream",
     "text": [
      "C:\\Users\\sali85\\Anaconda3\\lib\\site-packages\\sklearn\\metrics\\_classification.py:1221: UndefinedMetricWarning: Precision is ill-defined and being set to 0.0 in labels with no predicted samples. Use `zero_division` parameter to control this behavior.\n",
      "  _warn_prf(average, modifier, msg_start, len(result))\n"
     ]
    },
    {
     "name": "stdout",
     "output_type": "stream",
     "text": [
      "SVM Class Wise Accuracy :  [1.         1.         1.         1.         0.93548387 0.\n",
      " 0.25       0.         1.         0.67711599 1.         0.\n",
      " 1.         0.89692586 0.         0.88888889 1.         1.\n",
      " 0.99404762 0.         0.81632653]\n",
      "SVM Time :  142.0319645999989\n"
     ]
    },
    {
     "name": "stderr",
     "output_type": "stream",
     "text": [
      "C:\\Users\\sali85\\Anaconda3\\lib\\site-packages\\sklearn\\metrics\\_classification.py:1221: UndefinedMetricWarning: Precision is ill-defined and being set to 0.0 in labels with no predicted samples. Use `zero_division` parameter to control this behavior.\n",
      "  _warn_prf(average, modifier, msg_start, len(result))\n",
      "C:\\Users\\sali85\\Anaconda3\\lib\\site-packages\\sklearn\\metrics\\_classification.py:1221: UndefinedMetricWarning: Recall is ill-defined and being set to 0.0 in labels with no true samples. Use `zero_division` parameter to control this behavior.\n",
      "  _warn_prf(average, modifier, msg_start, len(result))\n",
      "<ipython-input-42-273c3866d82e>:130: RuntimeWarning: invalid value encountered in true_divide\n",
      "  print(\"NB Class Wise Accuracy : \",confuse.diagonal()/confuse.sum(axis=1))\n"
     ]
    },
    {
     "name": "stdout",
     "output_type": "stream",
     "text": [
      "NB Class Wise Accuracy :  [1.         0.94117647 0.5        0.94871795 0.96629213 0.\n",
      " 0.16666667 0.25       0.86687307 1.         0.         0.66666667\n",
      " 0.27425373 0.         0.6        0.875      0.98089172 0.\n",
      "        nan 0.84053156]\n",
      "NB Time :  10.818207199998142\n"
     ]
    },
    {
     "name": "stderr",
     "output_type": "stream",
     "text": [
      "C:\\Users\\sali85\\Anaconda3\\lib\\site-packages\\sklearn\\metrics\\_classification.py:1221: UndefinedMetricWarning: Precision is ill-defined and being set to 0.0 in labels with no predicted samples. Use `zero_division` parameter to control this behavior.\n",
      "  _warn_prf(average, modifier, msg_start, len(result))\n",
      "C:\\Users\\sali85\\Anaconda3\\lib\\site-packages\\sklearn\\metrics\\_classification.py:1221: UndefinedMetricWarning: Recall is ill-defined and being set to 0.0 in labels with no true samples. Use `zero_division` parameter to control this behavior.\n",
      "  _warn_prf(average, modifier, msg_start, len(result))\n",
      "<ipython-input-42-273c3866d82e>:174: RuntimeWarning: invalid value encountered in true_divide\n",
      "  print(\"MLP Class Wise Accuracy : \",confuse.diagonal()/confuse.sum(axis=1))\n"
     ]
    },
    {
     "name": "stdout",
     "output_type": "stream",
     "text": [
      "MLP Class Wise Accuracy :  [0.93181818 0.96078431 0.5        1.         0.95505618 0.1\n",
      " 0.36111111 1.         0.625387   1.         0.         0.66666667\n",
      " 0.88992537 0.         0.8        0.875      1.         0.\n",
      "        nan 0.85714286]\n",
      "MLP Time :  61.67462030000024\n"
     ]
    },
    {
     "name": "stderr",
     "output_type": "stream",
     "text": [
      "C:\\Users\\sali85\\Anaconda3\\lib\\site-packages\\sklearn\\metrics\\_classification.py:1221: UndefinedMetricWarning: Precision is ill-defined and being set to 0.0 in labels with no predicted samples. Use `zero_division` parameter to control this behavior.\n",
      "  _warn_prf(average, modifier, msg_start, len(result))\n"
     ]
    },
    {
     "name": "stdout",
     "output_type": "stream",
     "text": [
      "KNN Class Wise Accuracy :  [0.75       0.91176471 0.5        1.         0.95505618 0.1\n",
      " 0.25       1.         0.55108359 0.         0.         0.66666667\n",
      " 0.78731343 0.         1.         0.875      0.99363057 0.\n",
      " 0.87707641]\n",
      "KNN Time :  51.995745799998986\n"
     ]
    },
    {
     "name": "stderr",
     "output_type": "stream",
     "text": [
      "C:\\Users\\sali85\\Anaconda3\\lib\\site-packages\\sklearn\\metrics\\_classification.py:1221: UndefinedMetricWarning: Precision is ill-defined and being set to 0.0 in labels with no predicted samples. Use `zero_division` parameter to control this behavior.\n",
      "  _warn_prf(average, modifier, msg_start, len(result))\n"
     ]
    },
    {
     "name": "stdout",
     "output_type": "stream",
     "text": [
      "RF Class Wise Accuracy :  [1.         0.98039216 1.         1.         0.96629213 0.\n",
      " 0.33333333 1.         0.64396285 1.         0.         0.66666667\n",
      " 0.90671642 0.         0.8        1.         1.         0.\n",
      " 0.75747508]\n",
      "RF Time :  12.785965899995063\n"
     ]
    },
    {
     "name": "stderr",
     "output_type": "stream",
     "text": [
      "C:\\Users\\sali85\\Anaconda3\\lib\\site-packages\\sklearn\\metrics\\_classification.py:1221: UndefinedMetricWarning: Precision is ill-defined and being set to 0.0 in labels with no predicted samples. Use `zero_division` parameter to control this behavior.\n",
      "  _warn_prf(average, modifier, msg_start, len(result))\n"
     ]
    },
    {
     "name": "stdout",
     "output_type": "stream",
     "text": [
      "LR Class Wise Accuracy :  [1.         1.         1.         1.         0.97752809 0.\n",
      " 0.41666667 1.         0.6377709  1.         0.         0.66666667\n",
      " 0.92164179 0.         0.8        1.         1.         0.\n",
      " 0.77408638]\n",
      "LR Time :  58.721564000006765\n"
     ]
    },
    {
     "name": "stderr",
     "output_type": "stream",
     "text": [
      "C:\\Users\\sali85\\Anaconda3\\lib\\site-packages\\sklearn\\metrics\\_classification.py:1221: UndefinedMetricWarning: Precision is ill-defined and being set to 0.0 in labels with no predicted samples. Use `zero_division` parameter to control this behavior.\n",
      "  _warn_prf(average, modifier, msg_start, len(result))\n",
      "C:\\Users\\sali85\\Anaconda3\\lib\\site-packages\\sklearn\\metrics\\_classification.py:1221: UndefinedMetricWarning: Recall is ill-defined and being set to 0.0 in labels with no true samples. Use `zero_division` parameter to control this behavior.\n",
      "  _warn_prf(average, modifier, msg_start, len(result))\n",
      "<ipython-input-42-273c3866d82e>:321: RuntimeWarning: invalid value encountered in true_divide\n",
      "  print(\"DT Class Wise Accuracy : \",confuse.diagonal()/confuse.sum(axis=1))\n"
     ]
    },
    {
     "name": "stdout",
     "output_type": "stream",
     "text": [
      "DT Class Wise Accuracy :  [0.81818182 0.94117647 0.5        0.94871795 0.96629213 0.\n",
      " 0.16666667 0.75       0.625387   1.         0.         0.66666667\n",
      " 0.88059701 0.         0.8        0.75       1.         0.\n",
      "        nan 0.75415282]\n",
      "DT Time :  6.715443100001721\n"
     ]
    },
    {
     "name": "stderr",
     "output_type": "stream",
     "text": [
      "C:\\Users\\sali85\\Anaconda3\\lib\\site-packages\\sklearn\\metrics\\_classification.py:1221: UndefinedMetricWarning: Precision is ill-defined and being set to 0.0 in labels with no predicted samples. Use `zero_division` parameter to control this behavior.\n",
      "  _warn_prf(average, modifier, msg_start, len(result))\n"
     ]
    },
    {
     "name": "stdout",
     "output_type": "stream",
     "text": [
      "SVM Class Wise Accuracy :  [0.97727273 1.         1.         1.         0.97752809 0.1\n",
      " 0.38888889 1.         0.6377709  1.         0.         0.66666667\n",
      " 0.92350746 0.         0.8        1.         1.         0.\n",
      " 0.75415282]\n",
      "SVM Time :  146.55527380000422\n"
     ]
    },
    {
     "name": "stderr",
     "output_type": "stream",
     "text": [
      "C:\\Users\\sali85\\Anaconda3\\lib\\site-packages\\sklearn\\metrics\\_classification.py:1221: UndefinedMetricWarning: Precision is ill-defined and being set to 0.0 in labels with no predicted samples. Use `zero_division` parameter to control this behavior.\n",
      "  _warn_prf(average, modifier, msg_start, len(result))\n",
      "C:\\Users\\sali85\\Anaconda3\\lib\\site-packages\\sklearn\\metrics\\_classification.py:1221: UndefinedMetricWarning: Recall is ill-defined and being set to 0.0 in labels with no true samples. Use `zero_division` parameter to control this behavior.\n",
      "  _warn_prf(average, modifier, msg_start, len(result))\n",
      "<ipython-input-42-273c3866d82e>:130: RuntimeWarning: invalid value encountered in true_divide\n",
      "  print(\"NB Class Wise Accuracy : \",confuse.diagonal()/confuse.sum(axis=1))\n"
     ]
    },
    {
     "name": "stdout",
     "output_type": "stream",
     "text": [
      "NB Class Wise Accuracy :  [1.         1.         1.         0.89285714 0.         0.97560976\n",
      " 0.         0.23076923 1.         0.83050847 1.         0.75\n",
      " 0.26432532        nan 0.66666667 0.88888889 0.97175141 0.\n",
      " 0.80194805]\n",
      "NB Time :  7.692503199999919\n"
     ]
    },
    {
     "name": "stderr",
     "output_type": "stream",
     "text": [
      "C:\\Users\\sali85\\Anaconda3\\lib\\site-packages\\sklearn\\metrics\\_classification.py:1221: UndefinedMetricWarning: Precision is ill-defined and being set to 0.0 in labels with no predicted samples. Use `zero_division` parameter to control this behavior.\n",
      "  _warn_prf(average, modifier, msg_start, len(result))\n"
     ]
    },
    {
     "name": "stdout",
     "output_type": "stream",
     "text": [
      "MLP Class Wise Accuracy :  [0.8627451  0.98039216 0.         0.92857143 0.         1.\n",
      " 0.         0.20512821 0.         0.68813559 1.         0.75\n",
      " 0.86876155 1.         0.88888889 0.99435028 0.         0.84090909]\n"
     ]
    },
    {
     "name": "stderr",
     "output_type": "stream",
     "text": [
      "C:\\Users\\sali85\\Anaconda3\\lib\\site-packages\\sklearn\\metrics\\_classification.py:1221: UndefinedMetricWarning: Precision is ill-defined and being set to 0.0 in labels with no predicted samples. Use `zero_division` parameter to control this behavior.\n",
      "  _warn_prf(average, modifier, msg_start, len(result))\n"
     ]
    },
    {
     "name": "stdout",
     "output_type": "stream",
     "text": [
      "MLP Time :  61.12942979999934\n",
      "KNN Class Wise Accuracy :  [0.76470588 0.97058824 1.         1.         0.         1.\n",
      " 0.0625     0.17948718 1.         0.75254237 1.         0.75\n",
      " 0.7689464  0.33333333 0.55555556 0.99435028 0.         0.83441558]\n",
      "KNN Time :  54.433590799999365\n"
     ]
    },
    {
     "name": "stderr",
     "output_type": "stream",
     "text": [
      "C:\\Users\\sali85\\Anaconda3\\lib\\site-packages\\sklearn\\metrics\\_classification.py:1221: UndefinedMetricWarning: Precision is ill-defined and being set to 0.0 in labels with no predicted samples. Use `zero_division` parameter to control this behavior.\n",
      "  _warn_prf(average, modifier, msg_start, len(result))\n"
     ]
    },
    {
     "name": "stdout",
     "output_type": "stream",
     "text": [
      "RF Class Wise Accuracy :  [0.98039216 1.         1.         1.         0.         0.98780488\n",
      " 0.         0.20512821 1.         0.68474576 1.         0.75\n",
      " 0.87060998 0.88888889 0.88888889 1.         0.         0.82792208]\n",
      "RF Time :  12.708581799997773\n"
     ]
    },
    {
     "name": "stderr",
     "output_type": "stream",
     "text": [
      "C:\\Users\\sali85\\Anaconda3\\lib\\site-packages\\sklearn\\metrics\\_classification.py:1221: UndefinedMetricWarning: Precision is ill-defined and being set to 0.0 in labels with no predicted samples. Use `zero_division` parameter to control this behavior.\n",
      "  _warn_prf(average, modifier, msg_start, len(result))\n"
     ]
    },
    {
     "name": "stdout",
     "output_type": "stream",
     "text": [
      "LR Class Wise Accuracy :  [0.96078431 1.         1.         1.         0.         1.\n",
      " 0.         0.23076923 1.         0.6779661  1.         1.\n",
      " 0.8650647  1.         0.88888889 0.99435028 0.         0.84090909]\n",
      "LR Time :  65.16483909999806\n"
     ]
    },
    {
     "name": "stderr",
     "output_type": "stream",
     "text": [
      "C:\\Users\\sali85\\Anaconda3\\lib\\site-packages\\sklearn\\metrics\\_classification.py:1221: UndefinedMetricWarning: Precision is ill-defined and being set to 0.0 in labels with no predicted samples. Use `zero_division` parameter to control this behavior.\n",
      "  _warn_prf(average, modifier, msg_start, len(result))\n",
      "C:\\Users\\sali85\\Anaconda3\\lib\\site-packages\\sklearn\\metrics\\_classification.py:1221: UndefinedMetricWarning: Recall is ill-defined and being set to 0.0 in labels with no true samples. Use `zero_division` parameter to control this behavior.\n",
      "  _warn_prf(average, modifier, msg_start, len(result))\n",
      "<ipython-input-42-273c3866d82e>:321: RuntimeWarning: invalid value encountered in true_divide\n",
      "  print(\"DT Class Wise Accuracy : \",confuse.diagonal()/confuse.sum(axis=1))\n"
     ]
    },
    {
     "name": "stdout",
     "output_type": "stream",
     "text": [
      "DT Class Wise Accuracy :  [0.78431373 0.98039216 1.         1.         0.         0.97560976\n",
      " 0.0625     0.20512821 1.         0.68474576 1.                nan\n",
      " 1.         0.86321627        nan 0.77777778 0.77777778 0.97740113\n",
      " 0.         0.77272727]\n",
      "DT Time :  6.6353098999970825\n"
     ]
    },
    {
     "name": "stderr",
     "output_type": "stream",
     "text": [
      "C:\\Users\\sali85\\Anaconda3\\lib\\site-packages\\sklearn\\metrics\\_classification.py:1221: UndefinedMetricWarning: Precision is ill-defined and being set to 0.0 in labels with no predicted samples. Use `zero_division` parameter to control this behavior.\n",
      "  _warn_prf(average, modifier, msg_start, len(result))\n",
      "C:\\Users\\sali85\\Anaconda3\\lib\\site-packages\\sklearn\\metrics\\_classification.py:1221: UndefinedMetricWarning: Recall is ill-defined and being set to 0.0 in labels with no true samples. Use `zero_division` parameter to control this behavior.\n",
      "  _warn_prf(average, modifier, msg_start, len(result))\n",
      "<ipython-input-42-273c3866d82e>:93: RuntimeWarning: invalid value encountered in true_divide\n",
      "  print(\"SVM Class Wise Accuracy : \",confuse.diagonal()/confuse.sum(axis=1))\n"
     ]
    },
    {
     "name": "stdout",
     "output_type": "stream",
     "text": [
      "SVM Class Wise Accuracy :  [0.96078431 1.         1.         1.         0.         1.\n",
      " 0.125      0.25641026 1.         0.68813559 1.         1.\n",
      " 0.84842884        nan 1.         0.88888889 0.99435028 0.\n",
      " 0.84090909]\n",
      "SVM Time :  145.68023350000294\n"
     ]
    },
    {
     "name": "stderr",
     "output_type": "stream",
     "text": [
      "C:\\Users\\sali85\\Anaconda3\\lib\\site-packages\\sklearn\\metrics\\_classification.py:1221: UndefinedMetricWarning: Precision is ill-defined and being set to 0.0 in labels with no predicted samples. Use `zero_division` parameter to control this behavior.\n",
      "  _warn_prf(average, modifier, msg_start, len(result))\n",
      "C:\\Users\\sali85\\Anaconda3\\lib\\site-packages\\sklearn\\metrics\\_classification.py:1221: UndefinedMetricWarning: Recall is ill-defined and being set to 0.0 in labels with no true samples. Use `zero_division` parameter to control this behavior.\n",
      "  _warn_prf(average, modifier, msg_start, len(result))\n",
      "<ipython-input-42-273c3866d82e>:130: RuntimeWarning: invalid value encountered in true_divide\n",
      "  print(\"NB Class Wise Accuracy : \",confuse.diagonal()/confuse.sum(axis=1))\n"
     ]
    },
    {
     "name": "stdout",
     "output_type": "stream",
     "text": [
      "NB Class Wise Accuracy :  [1.         0.94166667 1.         1.         0.98863636 0.\n",
      " 0.25806452 1.         0.91275168 0.         0.6        0.24632353\n",
      " 0.         0.66666667 0.72727273 0.95375723        nan 0.79      ]\n",
      "NB Time :  7.1948592999979155\n"
     ]
    },
    {
     "name": "stderr",
     "output_type": "stream",
     "text": [
      "C:\\Users\\sali85\\Anaconda3\\lib\\site-packages\\sklearn\\metrics\\_classification.py:1221: UndefinedMetricWarning: Precision is ill-defined and being set to 0.0 in labels with no predicted samples. Use `zero_division` parameter to control this behavior.\n",
      "  _warn_prf(average, modifier, msg_start, len(result))\n",
      "C:\\Users\\sali85\\Anaconda3\\lib\\site-packages\\sklearn\\metrics\\_classification.py:1221: UndefinedMetricWarning: Recall is ill-defined and being set to 0.0 in labels with no true samples. Use `zero_division` parameter to control this behavior.\n",
      "  _warn_prf(average, modifier, msg_start, len(result))\n",
      "<ipython-input-42-273c3866d82e>:174: RuntimeWarning: invalid value encountered in true_divide\n",
      "  print(\"MLP Class Wise Accuracy : \",confuse.diagonal()/confuse.sum(axis=1))\n"
     ]
    },
    {
     "name": "stdout",
     "output_type": "stream",
     "text": [
      "MLP Class Wise Accuracy :  [0.93023256 0.95833333 1.         1.                nan 0.97727273\n",
      " 0.14285714 0.29032258 1.         0.70805369 0.         0.8\n",
      " 0.86213235 0.         0.83333333 0.72727273 0.98843931 0.81666667]\n"
     ]
    },
    {
     "name": "stderr",
     "output_type": "stream",
     "text": [
      "C:\\Users\\sali85\\Anaconda3\\lib\\site-packages\\sklearn\\metrics\\_classification.py:1221: UndefinedMetricWarning: Precision is ill-defined and being set to 0.0 in labels with no predicted samples. Use `zero_division` parameter to control this behavior.\n",
      "  _warn_prf(average, modifier, msg_start, len(result))\n",
      "C:\\Users\\sali85\\Anaconda3\\lib\\site-packages\\sklearn\\metrics\\_classification.py:1221: UndefinedMetricWarning: Recall is ill-defined and being set to 0.0 in labels with no true samples. Use `zero_division` parameter to control this behavior.\n",
      "  _warn_prf(average, modifier, msg_start, len(result))\n",
      "<ipython-input-42-273c3866d82e>:210: RuntimeWarning: invalid value encountered in true_divide\n",
      "  print(\"KNN Class Wise Accuracy : \",confuse.diagonal()/confuse.sum(axis=1))\n"
     ]
    },
    {
     "name": "stdout",
     "output_type": "stream",
     "text": [
      "MLP Time :  61.7340916999965\n",
      "KNN Class Wise Accuracy :  [0.8372093  0.91666667 0.5        1.         0.96590909 0.\n",
      " 0.29032258 1.         0.76174497        nan 0.         1.\n",
      " 0.78125    0.         0.83333333 0.63636364 0.99421965 0.80666667]\n",
      "KNN Time :  54.6495603000003\n"
     ]
    },
    {
     "name": "stderr",
     "output_type": "stream",
     "text": [
      "C:\\Users\\sali85\\Anaconda3\\lib\\site-packages\\sklearn\\metrics\\_classification.py:1221: UndefinedMetricWarning: Precision is ill-defined and being set to 0.0 in labels with no predicted samples. Use `zero_division` parameter to control this behavior.\n",
      "  _warn_prf(average, modifier, msg_start, len(result))\n"
     ]
    },
    {
     "name": "stdout",
     "output_type": "stream",
     "text": [
      "RF Class Wise Accuracy :  [0.93023256 0.98333333 1.         1.         1.         0.\n",
      " 0.25806452 1.         0.67449664 0.         0.8        0.88786765\n",
      " 0.         0.83333333 0.90909091 0.98843931 0.76666667]\n",
      "RF Time :  13.296910099998058\n"
     ]
    },
    {
     "name": "stderr",
     "output_type": "stream",
     "text": [
      "C:\\Users\\sali85\\Anaconda3\\lib\\site-packages\\sklearn\\metrics\\_classification.py:1221: UndefinedMetricWarning: Precision is ill-defined and being set to 0.0 in labels with no predicted samples. Use `zero_division` parameter to control this behavior.\n",
      "  _warn_prf(average, modifier, msg_start, len(result))\n"
     ]
    },
    {
     "name": "stdout",
     "output_type": "stream",
     "text": [
      "LR Class Wise Accuracy :  [0.93023256 0.98333333 1.         1.         1.         0.\n",
      " 0.38709677 1.         0.65436242 0.         1.         0.87867647\n",
      " 0.         0.83333333 0.90909091 0.98265896 0.83333333]\n",
      "LR Time :  61.81702610000502\n"
     ]
    },
    {
     "name": "stderr",
     "output_type": "stream",
     "text": [
      "C:\\Users\\sali85\\Anaconda3\\lib\\site-packages\\sklearn\\metrics\\_classification.py:1221: UndefinedMetricWarning: Precision is ill-defined and being set to 0.0 in labels with no predicted samples. Use `zero_division` parameter to control this behavior.\n",
      "  _warn_prf(average, modifier, msg_start, len(result))\n",
      "C:\\Users\\sali85\\Anaconda3\\lib\\site-packages\\sklearn\\metrics\\_classification.py:1221: UndefinedMetricWarning: Recall is ill-defined and being set to 0.0 in labels with no true samples. Use `zero_division` parameter to control this behavior.\n",
      "  _warn_prf(average, modifier, msg_start, len(result))\n",
      "<ipython-input-42-273c3866d82e>:321: RuntimeWarning: invalid value encountered in true_divide\n",
      "  print(\"DT Class Wise Accuracy : \",confuse.diagonal()/confuse.sum(axis=1))\n"
     ]
    },
    {
     "name": "stdout",
     "output_type": "stream",
     "text": [
      "DT Class Wise Accuracy :  [0.76744186 0.89166667 1.         0.93103448 0.96590909 0.\n",
      " 0.35483871        nan 1.         0.66442953 0.         1.\n",
      " 0.85110294 0.         0.83333333 0.72727273 0.96531792 0.76666667]\n",
      "DT Time :  6.437272600000142\n"
     ]
    },
    {
     "name": "stderr",
     "output_type": "stream",
     "text": [
      "C:\\Users\\sali85\\Anaconda3\\lib\\site-packages\\sklearn\\metrics\\_classification.py:1221: UndefinedMetricWarning: Precision is ill-defined and being set to 0.0 in labels with no predicted samples. Use `zero_division` parameter to control this behavior.\n",
      "  _warn_prf(average, modifier, msg_start, len(result))\n"
     ]
    },
    {
     "name": "stdout",
     "output_type": "stream",
     "text": [
      "SVM Class Wise Accuracy :  [0.93023256 0.98333333 1.         1.         1.         0.\n",
      " 0.32258065 1.         0.65436242 0.         1.         0.87132353\n",
      " 0.         0.83333333 0.90909091 0.98265896 0.82333333]\n",
      "SVM Time :  142.6528016000011\n"
     ]
    },
    {
     "name": "stderr",
     "output_type": "stream",
     "text": [
      "C:\\Users\\sali85\\Anaconda3\\lib\\site-packages\\sklearn\\metrics\\_classification.py:1221: UndefinedMetricWarning: Precision is ill-defined and being set to 0.0 in labels with no predicted samples. Use `zero_division` parameter to control this behavior.\n",
      "  _warn_prf(average, modifier, msg_start, len(result))\n",
      "C:\\Users\\sali85\\Anaconda3\\lib\\site-packages\\sklearn\\metrics\\_classification.py:1221: UndefinedMetricWarning: Recall is ill-defined and being set to 0.0 in labels with no true samples. Use `zero_division` parameter to control this behavior.\n",
      "  _warn_prf(average, modifier, msg_start, len(result))\n",
      "<ipython-input-42-273c3866d82e>:130: RuntimeWarning: invalid value encountered in true_divide\n",
      "  print(\"NB Class Wise Accuracy : \",confuse.diagonal()/confuse.sum(axis=1))\n"
     ]
    },
    {
     "name": "stdout",
     "output_type": "stream",
     "text": [
      "NB Class Wise Accuracy :  [1.         0.97321429 1.         1.         0.96551724 0.08333333\n",
      " 0.15384615 1.         0.78683386 1.         0.         0.\n",
      " 0.27205882        nan 0.6        0.         1.         0.98742138\n",
      "        nan 0.81034483]\n",
      "NB Time :  7.048356799998146\n"
     ]
    },
    {
     "name": "stderr",
     "output_type": "stream",
     "text": [
      "C:\\Users\\sali85\\Anaconda3\\lib\\site-packages\\sklearn\\metrics\\_classification.py:1221: UndefinedMetricWarning: Precision is ill-defined and being set to 0.0 in labels with no predicted samples. Use `zero_division` parameter to control this behavior.\n",
      "  _warn_prf(average, modifier, msg_start, len(result))\n",
      "C:\\Users\\sali85\\Anaconda3\\lib\\site-packages\\sklearn\\metrics\\_classification.py:1221: UndefinedMetricWarning: Recall is ill-defined and being set to 0.0 in labels with no true samples. Use `zero_division` parameter to control this behavior.\n",
      "  _warn_prf(average, modifier, msg_start, len(result))\n",
      "<ipython-input-42-273c3866d82e>:174: RuntimeWarning: invalid value encountered in true_divide\n",
      "  print(\"MLP Class Wise Accuracy : \",confuse.diagonal()/confuse.sum(axis=1))\n"
     ]
    },
    {
     "name": "stdout",
     "output_type": "stream",
     "text": [
      "MLP Class Wise Accuracy :  [0.9137931  0.9375     1.         1.                nan 1.\n",
      " 0.08333333 0.20512821 1.         0.6677116  1.         0.\n",
      " 0.33333333 0.90073529 0.6        0.         1.         0.98742138\n",
      "        nan 0.73103448]\n"
     ]
    },
    {
     "name": "stderr",
     "output_type": "stream",
     "text": [
      "C:\\Users\\sali85\\Anaconda3\\lib\\site-packages\\sklearn\\metrics\\_classification.py:1221: UndefinedMetricWarning: Precision is ill-defined and being set to 0.0 in labels with no predicted samples. Use `zero_division` parameter to control this behavior.\n",
      "  _warn_prf(average, modifier, msg_start, len(result))\n"
     ]
    },
    {
     "name": "stdout",
     "output_type": "stream",
     "text": [
      "MLP Time :  66.85305499999959\n",
      "KNN Class Wise Accuracy :  [0.84482759 0.94642857 0.5        0.86956522 0.96551724 0.\n",
      " 0.23076923 1.         0.75548589 1.         0.         0.66666667\n",
      " 0.70220588 0.8        0.         1.         0.98113208 0.93103448]\n",
      "KNN Time :  55.298236700000416\n"
     ]
    },
    {
     "name": "stderr",
     "output_type": "stream",
     "text": [
      "C:\\Users\\sali85\\Anaconda3\\lib\\site-packages\\sklearn\\metrics\\_classification.py:1221: UndefinedMetricWarning: Precision is ill-defined and being set to 0.0 in labels with no predicted samples. Use `zero_division` parameter to control this behavior.\n",
      "  _warn_prf(average, modifier, msg_start, len(result))\n"
     ]
    },
    {
     "name": "stdout",
     "output_type": "stream",
     "text": [
      "RF Class Wise Accuracy :  [0.98275862 0.98214286 1.         1.         1.         0.08333333\n",
      " 0.17948718 1.         0.66144201 1.         0.         0.66666667\n",
      " 0.90625    0.8        1.         1.         0.99371069 0.78275862]\n",
      "RF Time :  12.639598500005377\n"
     ]
    },
    {
     "name": "stderr",
     "output_type": "stream",
     "text": [
      "C:\\Users\\sali85\\Anaconda3\\lib\\site-packages\\sklearn\\metrics\\_classification.py:1221: UndefinedMetricWarning: Precision is ill-defined and being set to 0.0 in labels with no predicted samples. Use `zero_division` parameter to control this behavior.\n",
      "  _warn_prf(average, modifier, msg_start, len(result))\n"
     ]
    },
    {
     "name": "stdout",
     "output_type": "stream",
     "text": [
      "LR Class Wise Accuracy :  [0.96551724 0.98214286 1.         1.         1.         0.08333333\n",
      " 0.23076923 1.         0.64263323 1.         0.         0.66666667\n",
      " 0.91176471 0.6        1.         1.         0.99371069 0.81034483]\n",
      "LR Time :  60.80774780000502\n"
     ]
    },
    {
     "name": "stderr",
     "output_type": "stream",
     "text": [
      "C:\\Users\\sali85\\Anaconda3\\lib\\site-packages\\sklearn\\metrics\\_classification.py:1221: UndefinedMetricWarning: Precision is ill-defined and being set to 0.0 in labels with no predicted samples. Use `zero_division` parameter to control this behavior.\n",
      "  _warn_prf(average, modifier, msg_start, len(result))\n"
     ]
    },
    {
     "name": "stdout",
     "output_type": "stream",
     "text": [
      "DT Class Wise Accuracy :  [0.86206897 0.98214286 1.         0.95652174 1.         0.08333333\n",
      " 0.23076923 1.         0.65203762 1.         0.         0.\n",
      " 0.87132353 0.8        0.         1.         0.98742138 0.8       ]\n",
      "DT Time :  6.461003900003561\n"
     ]
    },
    {
     "name": "stderr",
     "output_type": "stream",
     "text": [
      "C:\\Users\\sali85\\Anaconda3\\lib\\site-packages\\sklearn\\metrics\\_classification.py:1221: UndefinedMetricWarning: Precision is ill-defined and being set to 0.0 in labels with no predicted samples. Use `zero_division` parameter to control this behavior.\n",
      "  _warn_prf(average, modifier, msg_start, len(result))\n",
      "C:\\Users\\sali85\\Anaconda3\\lib\\site-packages\\sklearn\\metrics\\_classification.py:1221: UndefinedMetricWarning: Recall is ill-defined and being set to 0.0 in labels with no true samples. Use `zero_division` parameter to control this behavior.\n",
      "  _warn_prf(average, modifier, msg_start, len(result))\n",
      "<ipython-input-42-273c3866d82e>:93: RuntimeWarning: invalid value encountered in true_divide\n",
      "  print(\"SVM Class Wise Accuracy : \",confuse.diagonal()/confuse.sum(axis=1))\n"
     ]
    },
    {
     "name": "stdout",
     "output_type": "stream",
     "text": [
      "SVM Class Wise Accuracy :  [0.98275862 0.97321429 1.         1.         1.         0.08333333\n",
      " 0.23076923 1.         0.64890282 1.         0.         0.66666667\n",
      " 0.89154412        nan 0.6        1.         1.         0.98742138\n",
      " 0.82068966]\n",
      "SVM Time :  143.557633000004\n"
     ]
    },
    {
     "name": "stderr",
     "output_type": "stream",
     "text": [
      "C:\\Users\\sali85\\Anaconda3\\lib\\site-packages\\sklearn\\metrics\\_classification.py:1221: UndefinedMetricWarning: Precision is ill-defined and being set to 0.0 in labels with no predicted samples. Use `zero_division` parameter to control this behavior.\n",
      "  _warn_prf(average, modifier, msg_start, len(result))\n"
     ]
    },
    {
     "name": "stdout",
     "output_type": "stream",
     "text": [
      "NB Class Wise Accuracy :  [0.97619048 0.95238095 0.66666667 0.82758621 0.95454545 0.11111111\n",
      " 0.15384615 0.         1.         0.90522876 1.         0.\n",
      " 0.71428571 0.26444834 0.         0.66666667 0.         0.66666667\n",
      " 0.95364238 0.         0.8557377 ]\n",
      "NB Time :  6.3302593000044\n"
     ]
    },
    {
     "name": "stderr",
     "output_type": "stream",
     "text": [
      "C:\\Users\\sali85\\Anaconda3\\lib\\site-packages\\sklearn\\metrics\\_classification.py:1221: UndefinedMetricWarning: Precision is ill-defined and being set to 0.0 in labels with no predicted samples. Use `zero_division` parameter to control this behavior.\n",
      "  _warn_prf(average, modifier, msg_start, len(result))\n"
     ]
    },
    {
     "name": "stdout",
     "output_type": "stream",
     "text": [
      "MLP Class Wise Accuracy :  [0.9047619  0.98095238 0.66666667 0.96551724 0.96590909 0.11111111\n",
      " 0.15384615 0.         1.         0.62745098 1.         0.\n",
      " 1.         0.92294221 0.         0.83333333 1.         0.88888889\n",
      " 0.98675497 0.         0.77377049]\n",
      "MLP Time :  61.66773069999908\n"
     ]
    },
    {
     "name": "stderr",
     "output_type": "stream",
     "text": [
      "C:\\Users\\sali85\\Anaconda3\\lib\\site-packages\\sklearn\\metrics\\_classification.py:1221: UndefinedMetricWarning: Precision is ill-defined and being set to 0.0 in labels with no predicted samples. Use `zero_division` parameter to control this behavior.\n",
      "  _warn_prf(average, modifier, msg_start, len(result))\n"
     ]
    },
    {
     "name": "stdout",
     "output_type": "stream",
     "text": [
      "KNN Class Wise Accuracy :  [0.76190476 0.97142857 0.         1.         0.96590909 0.\n",
      " 0.19230769 0.         1.         0.73529412 1.         0.\n",
      " 0.85714286 0.81436077 0.         0.83333333 0.         0.88888889\n",
      " 0.98013245 0.         0.77377049]\n",
      "KNN Time :  61.56348670000443\n"
     ]
    },
    {
     "name": "stderr",
     "output_type": "stream",
     "text": [
      "C:\\Users\\sali85\\Anaconda3\\lib\\site-packages\\sklearn\\metrics\\_classification.py:1221: UndefinedMetricWarning: Precision is ill-defined and being set to 0.0 in labels with no predicted samples. Use `zero_division` parameter to control this behavior.\n",
      "  _warn_prf(average, modifier, msg_start, len(result))\n"
     ]
    },
    {
     "name": "stdout",
     "output_type": "stream",
     "text": [
      "RF Class Wise Accuracy :  [0.95238095 1.         0.66666667 1.         0.96590909 0.\n",
      " 0.23076923 0.         1.         0.67320261 1.         0.\n",
      " 0.85714286 0.84938704 0.         0.83333333 1.         1.\n",
      " 0.99337748 0.         0.85901639]\n",
      "RF Time :  12.678788999997778\n"
     ]
    },
    {
     "name": "stderr",
     "output_type": "stream",
     "text": [
      "C:\\Users\\sali85\\Anaconda3\\lib\\site-packages\\sklearn\\metrics\\_classification.py:1221: UndefinedMetricWarning: Precision is ill-defined and being set to 0.0 in labels with no predicted samples. Use `zero_division` parameter to control this behavior.\n",
      "  _warn_prf(average, modifier, msg_start, len(result))\n"
     ]
    },
    {
     "name": "stdout",
     "output_type": "stream",
     "text": [
      "LR Class Wise Accuracy :  [0.9047619  0.99047619 1.         1.         1.         0.11111111\n",
      " 0.30769231 0.         1.         0.64052288 1.         0.\n",
      " 0.85714286 0.87215412 0.         1.         1.         0.88888889\n",
      " 0.99337748 0.         0.87868852]\n",
      "LR Time :  57.3189013999945\n"
     ]
    },
    {
     "name": "stderr",
     "output_type": "stream",
     "text": [
      "C:\\Users\\sali85\\Anaconda3\\lib\\site-packages\\sklearn\\metrics\\_classification.py:1221: UndefinedMetricWarning: Precision is ill-defined and being set to 0.0 in labels with no predicted samples. Use `zero_division` parameter to control this behavior.\n",
      "  _warn_prf(average, modifier, msg_start, len(result))\n"
     ]
    },
    {
     "name": "stdout",
     "output_type": "stream",
     "text": [
      "DT Class Wise Accuracy :  [0.83333333 0.94285714 0.66666667 1.         0.96590909 0.\n",
      " 0.26923077 0.         1.         0.6372549  1.         0.\n",
      " 0.85714286 0.83187391 0.         0.66666667 1.         0.66666667\n",
      " 0.98675497 0.         0.85245902]\n",
      "DT Time :  6.25316350000503\n"
     ]
    },
    {
     "name": "stderr",
     "output_type": "stream",
     "text": [
      "C:\\Users\\sali85\\Anaconda3\\lib\\site-packages\\sklearn\\metrics\\_classification.py:1221: UndefinedMetricWarning: Precision is ill-defined and being set to 0.0 in labels with no predicted samples. Use `zero_division` parameter to control this behavior.\n",
      "  _warn_prf(average, modifier, msg_start, len(result))\n"
     ]
    },
    {
     "name": "stdout",
     "output_type": "stream",
     "text": [
      "SVM Class Wise Accuracy :  [0.95238095 1.         1.         1.         1.         0.11111111\n",
      " 0.30769231 0.         1.         0.62745098 1.         0.\n",
      " 0.85714286 0.84588441 0.         0.83333333 1.         1.\n",
      " 0.99337748 0.         0.87540984]\n",
      "SVM Time :  142.54310840000107\n"
     ]
    },
    {
     "name": "stderr",
     "output_type": "stream",
     "text": [
      "C:\\Users\\sali85\\Anaconda3\\lib\\site-packages\\sklearn\\metrics\\_classification.py:1221: UndefinedMetricWarning: Precision is ill-defined and being set to 0.0 in labels with no predicted samples. Use `zero_division` parameter to control this behavior.\n",
      "  _warn_prf(average, modifier, msg_start, len(result))\n",
      "C:\\Users\\sali85\\Anaconda3\\lib\\site-packages\\sklearn\\metrics\\_classification.py:1221: UndefinedMetricWarning: Recall is ill-defined and being set to 0.0 in labels with no true samples. Use `zero_division` parameter to control this behavior.\n",
      "  _warn_prf(average, modifier, msg_start, len(result))\n",
      "<ipython-input-42-273c3866d82e>:130: RuntimeWarning: invalid value encountered in true_divide\n",
      "  print(\"NB Class Wise Accuracy : \",confuse.diagonal()/confuse.sum(axis=1))\n"
     ]
    },
    {
     "name": "stdout",
     "output_type": "stream",
     "text": [
      "NB Class Wise Accuracy :  [0.9787234  0.98979592 0.33333333 0.79166667 0.         0.97826087\n",
      " 0.06666667 0.23809524 1.         0.87702265 1.         0.\n",
      " 0.5        0.25       0.         0.85714286 0.8        0.97986577\n",
      "        nan 0.83280757]\n",
      "NB Time :  7.793747600000643\n"
     ]
    },
    {
     "name": "stderr",
     "output_type": "stream",
     "text": [
      "C:\\Users\\sali85\\Anaconda3\\lib\\site-packages\\sklearn\\metrics\\_classification.py:1221: UndefinedMetricWarning: Precision is ill-defined and being set to 0.0 in labels with no predicted samples. Use `zero_division` parameter to control this behavior.\n",
      "  _warn_prf(average, modifier, msg_start, len(result))\n"
     ]
    },
    {
     "name": "stdout",
     "output_type": "stream",
     "text": [
      "MLP Class Wise Accuracy :  [0.80851064 0.97959184 0.33333333 0.91666667 0.         0.98913043\n",
      " 0.         0.38095238 0.         0.66019417 1.         0.\n",
      " 1.         0.9270073  0.         0.85714286 0.4        1.\n",
      " 0.74763407]\n"
     ]
    },
    {
     "name": "stderr",
     "output_type": "stream",
     "text": [
      "C:\\Users\\sali85\\Anaconda3\\lib\\site-packages\\sklearn\\metrics\\_classification.py:1221: UndefinedMetricWarning: Precision is ill-defined and being set to 0.0 in labels with no predicted samples. Use `zero_division` parameter to control this behavior.\n",
      "  _warn_prf(average, modifier, msg_start, len(result))\n"
     ]
    },
    {
     "name": "stdout",
     "output_type": "stream",
     "text": [
      "MLP Time :  65.4071952000013\n",
      "KNN Class Wise Accuracy :  [0.57446809 0.97959184 0.         1.         0.         0.9673913\n",
      " 0.         0.28571429 1.         0.61165049 1.         0.\n",
      " 1.         0.8120438  0.         0.85714286 0.8        0.99328859\n",
      " 0.82018927]\n",
      "KNN Time :  61.1154658000014\n"
     ]
    },
    {
     "name": "stderr",
     "output_type": "stream",
     "text": [
      "C:\\Users\\sali85\\Anaconda3\\lib\\site-packages\\sklearn\\metrics\\_classification.py:1221: UndefinedMetricWarning: Precision is ill-defined and being set to 0.0 in labels with no predicted samples. Use `zero_division` parameter to control this behavior.\n",
      "  _warn_prf(average, modifier, msg_start, len(result))\n"
     ]
    },
    {
     "name": "stdout",
     "output_type": "stream",
     "text": [
      "RF Class Wise Accuracy :  [0.93617021 1.         0.33333333 1.         0.         1.\n",
      " 0.         0.33333333 1.         0.69902913 1.         0.\n",
      " 1.         0.88686131 0.         0.85714286 1.         1.\n",
      " 0.8170347 ]\n",
      "RF Time :  13.13049619999947\n"
     ]
    },
    {
     "name": "stderr",
     "output_type": "stream",
     "text": [
      "C:\\Users\\sali85\\Anaconda3\\lib\\site-packages\\sklearn\\metrics\\_classification.py:1221: UndefinedMetricWarning: Precision is ill-defined and being set to 0.0 in labels with no predicted samples. Use `zero_division` parameter to control this behavior.\n",
      "  _warn_prf(average, modifier, msg_start, len(result))\n"
     ]
    },
    {
     "name": "stdout",
     "output_type": "stream",
     "text": [
      "LR Class Wise Accuracy :  [0.89361702 1.         0.33333333 1.         0.         1.\n",
      " 0.         0.35714286 1.         0.6828479  1.         0.\n",
      " 1.         0.85583942 0.         0.85714286 1.         1.\n",
      " 0.87066246]\n",
      "LR Time :  60.85838849999709\n"
     ]
    },
    {
     "name": "stderr",
     "output_type": "stream",
     "text": [
      "C:\\Users\\sali85\\Anaconda3\\lib\\site-packages\\sklearn\\metrics\\_classification.py:1221: UndefinedMetricWarning: Precision is ill-defined and being set to 0.0 in labels with no predicted samples. Use `zero_division` parameter to control this behavior.\n",
      "  _warn_prf(average, modifier, msg_start, len(result))\n"
     ]
    },
    {
     "name": "stdout",
     "output_type": "stream",
     "text": [
      "DT Class Wise Accuracy :  [0.76595745 0.96938776 0.33333333 0.95833333 0.         1.\n",
      " 0.         0.35714286 0.66666667 0.69579288 1.         0.\n",
      " 0.75       0.85948905 0.         0.85714286 0.6        0.99328859\n",
      " 0.80757098]\n",
      "DT Time :  6.942687700000533\n"
     ]
    },
    {
     "name": "stderr",
     "output_type": "stream",
     "text": [
      "C:\\Users\\sali85\\Anaconda3\\lib\\site-packages\\sklearn\\metrics\\_classification.py:1221: UndefinedMetricWarning: Precision is ill-defined and being set to 0.0 in labels with no predicted samples. Use `zero_division` parameter to control this behavior.\n",
      "  _warn_prf(average, modifier, msg_start, len(result))\n"
     ]
    },
    {
     "name": "stdout",
     "output_type": "stream",
     "text": [
      "SVM Class Wise Accuracy :  [0.95744681 1.         0.33333333 1.         0.         1.\n",
      " 0.         0.28571429 1.         0.6763754  1.         0.\n",
      " 1.         0.87043796 0.         0.85714286 1.         1.\n",
      " 0.82334385]\n",
      "SVM Time :  143.59297559999686\n"
     ]
    },
    {
     "name": "stderr",
     "output_type": "stream",
     "text": [
      "C:\\Users\\sali85\\Anaconda3\\lib\\site-packages\\sklearn\\metrics\\_classification.py:1221: UndefinedMetricWarning: Precision is ill-defined and being set to 0.0 in labels with no predicted samples. Use `zero_division` parameter to control this behavior.\n",
      "  _warn_prf(average, modifier, msg_start, len(result))\n",
      "C:\\Users\\sali85\\Anaconda3\\lib\\site-packages\\sklearn\\metrics\\_classification.py:1221: UndefinedMetricWarning: Recall is ill-defined and being set to 0.0 in labels with no true samples. Use `zero_division` parameter to control this behavior.\n",
      "  _warn_prf(average, modifier, msg_start, len(result))\n",
      "<ipython-input-42-273c3866d82e>:130: RuntimeWarning: invalid value encountered in true_divide\n",
      "  print(\"NB Class Wise Accuracy : \",confuse.diagonal()/confuse.sum(axis=1))\n"
     ]
    },
    {
     "name": "stdout",
     "output_type": "stream",
     "text": [
      "NB Class Wise Accuracy :  [0.98333333 0.98039216 0.5        0.96153846 0.96629213 0.13333333\n",
      " 0.17857143 1.         0.82317073 1.         0.         1.\n",
      " 0.28355388        nan 1.         0.57142857 0.98064516        nan\n",
      " 0.83174603]\n",
      "NB Time :  8.916045699996175\n"
     ]
    },
    {
     "name": "stderr",
     "output_type": "stream",
     "text": [
      "C:\\Users\\sali85\\Anaconda3\\lib\\site-packages\\sklearn\\metrics\\_classification.py:1221: UndefinedMetricWarning: Precision is ill-defined and being set to 0.0 in labels with no predicted samples. Use `zero_division` parameter to control this behavior.\n",
      "  _warn_prf(average, modifier, msg_start, len(result))\n"
     ]
    },
    {
     "name": "stdout",
     "output_type": "stream",
     "text": [
      "MLP Class Wise Accuracy :  [0.8        0.97058824 0.         0.96153846 0.98876404 0.06666667\n",
      " 0.25       1.         0.70121951 1.         0.         0.75\n",
      " 0.87145558 1.         0.71428571 0.98709677 0.84126984]\n"
     ]
    },
    {
     "name": "stderr",
     "output_type": "stream",
     "text": [
      "C:\\Users\\sali85\\Anaconda3\\lib\\site-packages\\sklearn\\metrics\\_classification.py:1221: UndefinedMetricWarning: Precision is ill-defined and being set to 0.0 in labels with no predicted samples. Use `zero_division` parameter to control this behavior.\n",
      "  _warn_prf(average, modifier, msg_start, len(result))\n"
     ]
    },
    {
     "name": "stdout",
     "output_type": "stream",
     "text": [
      "MLP Time :  77.34637790000124\n",
      "KNN Class Wise Accuracy :  [0.76666667 0.96078431 0.         1.         0.96629213 0.\n",
      " 0.25       1.         0.7195122  1.         0.         0.75\n",
      " 0.75992439 1.         0.71428571 0.97419355 0.79365079]\n",
      "KNN Time :  54.46045630000299\n"
     ]
    },
    {
     "name": "stderr",
     "output_type": "stream",
     "text": [
      "C:\\Users\\sali85\\Anaconda3\\lib\\site-packages\\sklearn\\metrics\\_classification.py:1221: UndefinedMetricWarning: Precision is ill-defined and being set to 0.0 in labels with no predicted samples. Use `zero_division` parameter to control this behavior.\n",
      "  _warn_prf(average, modifier, msg_start, len(result))\n"
     ]
    },
    {
     "name": "stdout",
     "output_type": "stream",
     "text": [
      "RF Class Wise Accuracy :  [0.93333333 1.         0.5        1.         1.         0.06666667\n",
      " 0.25       1.         0.69512195 1.         0.         0.75\n",
      " 0.89224953 1.         0.71428571 0.98709677 0.78412698]\n",
      "RF Time :  14.775198499999533\n"
     ]
    },
    {
     "name": "stderr",
     "output_type": "stream",
     "text": [
      "C:\\Users\\sali85\\Anaconda3\\lib\\site-packages\\sklearn\\metrics\\_classification.py:1221: UndefinedMetricWarning: Precision is ill-defined and being set to 0.0 in labels with no predicted samples. Use `zero_division` parameter to control this behavior.\n",
      "  _warn_prf(average, modifier, msg_start, len(result))\n"
     ]
    },
    {
     "name": "stdout",
     "output_type": "stream",
     "text": [
      "LR Class Wise Accuracy :  [0.91666667 1.         0.5        1.         1.         0.06666667\n",
      " 0.32142857 1.         0.68292683 1.         0.         0.75\n",
      " 0.88846881 1.         0.85714286 0.98709677 0.81904762]\n",
      "LR Time :  57.53696520000085\n"
     ]
    },
    {
     "name": "stderr",
     "output_type": "stream",
     "text": [
      "C:\\Users\\sali85\\Anaconda3\\lib\\site-packages\\sklearn\\metrics\\_classification.py:1221: UndefinedMetricWarning: Precision is ill-defined and being set to 0.0 in labels with no predicted samples. Use `zero_division` parameter to control this behavior.\n",
      "  _warn_prf(average, modifier, msg_start, len(result))\n",
      "C:\\Users\\sali85\\Anaconda3\\lib\\site-packages\\sklearn\\metrics\\_classification.py:1221: UndefinedMetricWarning: Recall is ill-defined and being set to 0.0 in labels with no true samples. Use `zero_division` parameter to control this behavior.\n",
      "  _warn_prf(average, modifier, msg_start, len(result))\n",
      "<ipython-input-42-273c3866d82e>:321: RuntimeWarning: invalid value encountered in true_divide\n",
      "  print(\"DT Class Wise Accuracy : \",confuse.diagonal()/confuse.sum(axis=1))\n"
     ]
    },
    {
     "name": "stdout",
     "output_type": "stream",
     "text": [
      "DT Class Wise Accuracy :  [0.71666667 0.96078431 0.5        1.         0.96629213 0.13333333\n",
      " 0.28571429 0.         0.67682927 1.         0.         0.75\n",
      " 0.8657845         nan 1.         0.71428571 0.97419355 0.76507937]\n",
      "DT Time :  6.7789929999999\n"
     ]
    },
    {
     "name": "stderr",
     "output_type": "stream",
     "text": [
      "C:\\Users\\sali85\\Anaconda3\\lib\\site-packages\\sklearn\\metrics\\_classification.py:1221: UndefinedMetricWarning: Precision is ill-defined and being set to 0.0 in labels with no predicted samples. Use `zero_division` parameter to control this behavior.\n",
      "  _warn_prf(average, modifier, msg_start, len(result))\n",
      "C:\\Users\\sali85\\Anaconda3\\lib\\site-packages\\sklearn\\metrics\\_classification.py:1221: UndefinedMetricWarning: Recall is ill-defined and being set to 0.0 in labels with no true samples. Use `zero_division` parameter to control this behavior.\n",
      "  _warn_prf(average, modifier, msg_start, len(result))\n",
      "<ipython-input-42-273c3866d82e>:93: RuntimeWarning: invalid value encountered in true_divide\n",
      "  print(\"SVM Class Wise Accuracy : \",confuse.diagonal()/confuse.sum(axis=1))\n"
     ]
    },
    {
     "name": "stdout",
     "output_type": "stream",
     "text": [
      "SVM Class Wise Accuracy :  [0.96666667 1.         0.75       1.         1.         0.13333333\n",
      " 0.32142857 1.         0.67378049 1.         0.         1.\n",
      " 0.91115312        nan 1.         0.85714286 0.98709677 0.76507937]\n",
      "SVM Time :  141.72927289999643\n"
     ]
    },
    {
     "name": "stderr",
     "output_type": "stream",
     "text": [
      "C:\\Users\\sali85\\Anaconda3\\lib\\site-packages\\sklearn\\metrics\\_classification.py:1221: UndefinedMetricWarning: Precision is ill-defined and being set to 0.0 in labels with no predicted samples. Use `zero_division` parameter to control this behavior.\n",
      "  _warn_prf(average, modifier, msg_start, len(result))\n",
      "C:\\Users\\sali85\\Anaconda3\\lib\\site-packages\\sklearn\\metrics\\_classification.py:1221: UndefinedMetricWarning: Recall is ill-defined and being set to 0.0 in labels with no true samples. Use `zero_division` parameter to control this behavior.\n",
      "  _warn_prf(average, modifier, msg_start, len(result))\n",
      "<ipython-input-42-273c3866d82e>:130: RuntimeWarning: invalid value encountered in true_divide\n",
      "  print(\"NB Class Wise Accuracy : \",confuse.diagonal()/confuse.sum(axis=1))\n"
     ]
    },
    {
     "name": "stdout",
     "output_type": "stream",
     "text": [
      "NB Class Wise Accuracy :  [1.         0.97222222 0.33333333 0.95833333 0.91860465 0.21428571\n",
      " 0.24137931 0.         1.         0.79518072 1.         0.\n",
      " 0.33333333 0.23431734        nan 0.66666667 0.         0.75\n",
      " 0.98734177        nan 0.85855263]\n",
      "NB Time :  6.956111899999087\n"
     ]
    },
    {
     "name": "stderr",
     "output_type": "stream",
     "text": [
      "C:\\Users\\sali85\\Anaconda3\\lib\\site-packages\\sklearn\\metrics\\_classification.py:1221: UndefinedMetricWarning: Precision is ill-defined and being set to 0.0 in labels with no predicted samples. Use `zero_division` parameter to control this behavior.\n",
      "  _warn_prf(average, modifier, msg_start, len(result))\n"
     ]
    },
    {
     "name": "stdout",
     "output_type": "stream",
     "text": [
      "MLP Class Wise Accuracy :  [0.83673469 0.97222222 0.33333333 0.95833333 0.97674419 0.07142857\n",
      " 0.34482759 0.         1.         0.68674699 1.         0.\n",
      " 1.         0.900369   1.         1.         0.75       0.98734177\n",
      " 0.83552632]\n",
      "MLP Time :  71.02052160000312\n"
     ]
    },
    {
     "name": "stderr",
     "output_type": "stream",
     "text": [
      "C:\\Users\\sali85\\Anaconda3\\lib\\site-packages\\sklearn\\metrics\\_classification.py:1221: UndefinedMetricWarning: Precision is ill-defined and being set to 0.0 in labels with no predicted samples. Use `zero_division` parameter to control this behavior.\n",
      "  _warn_prf(average, modifier, msg_start, len(result))\n"
     ]
    },
    {
     "name": "stdout",
     "output_type": "stream",
     "text": [
      "KNN Class Wise Accuracy :  [0.79591837 0.97222222 0.33333333 1.         0.98837209 0.\n",
      " 0.27586207 0.         1.         0.75301205 1.         0.\n",
      " 1.         0.68450185 1.         0.         0.75       0.98101266\n",
      " 0.91118421]\n",
      "KNN Time :  60.711209499997494\n"
     ]
    },
    {
     "name": "stderr",
     "output_type": "stream",
     "text": [
      "C:\\Users\\sali85\\Anaconda3\\lib\\site-packages\\sklearn\\metrics\\_classification.py:1221: UndefinedMetricWarning: Precision is ill-defined and being set to 0.0 in labels with no predicted samples. Use `zero_division` parameter to control this behavior.\n",
      "  _warn_prf(average, modifier, msg_start, len(result))\n"
     ]
    },
    {
     "name": "stdout",
     "output_type": "stream",
     "text": [
      "RF Class Wise Accuracy :  [0.97959184 0.97222222 0.33333333 1.         0.97674419 0.07142857\n",
      " 0.34482759 0.         1.         0.71084337 1.         0.\n",
      " 1.         0.86162362 1.         1.         1.         1.\n",
      " 0.875     ]\n",
      "RF Time :  13.054829900000186\n"
     ]
    },
    {
     "name": "stderr",
     "output_type": "stream",
     "text": [
      "C:\\Users\\sali85\\Anaconda3\\lib\\site-packages\\sklearn\\metrics\\_classification.py:1221: UndefinedMetricWarning: Precision is ill-defined and being set to 0.0 in labels with no predicted samples. Use `zero_division` parameter to control this behavior.\n",
      "  _warn_prf(average, modifier, msg_start, len(result))\n"
     ]
    },
    {
     "name": "stdout",
     "output_type": "stream",
     "text": [
      "LR Class Wise Accuracy :  [0.97959184 1.         0.33333333 1.         1.         0.07142857\n",
      " 0.31034483 0.         1.         0.69578313 1.         0.\n",
      " 1.         0.86900369 1.         1.         1.         1.\n",
      " 0.90789474]\n",
      "LR Time :  64.18055319999985\n"
     ]
    },
    {
     "name": "stderr",
     "output_type": "stream",
     "text": [
      "C:\\Users\\sali85\\Anaconda3\\lib\\site-packages\\sklearn\\metrics\\_classification.py:1221: UndefinedMetricWarning: Precision is ill-defined and being set to 0.0 in labels with no predicted samples. Use `zero_division` parameter to control this behavior.\n",
      "  _warn_prf(average, modifier, msg_start, len(result))\n",
      "C:\\Users\\sali85\\Anaconda3\\lib\\site-packages\\sklearn\\metrics\\_classification.py:1221: UndefinedMetricWarning: Recall is ill-defined and being set to 0.0 in labels with no true samples. Use `zero_division` parameter to control this behavior.\n",
      "  _warn_prf(average, modifier, msg_start, len(result))\n",
      "<ipython-input-42-273c3866d82e>:321: RuntimeWarning: invalid value encountered in true_divide\n",
      "  print(\"DT Class Wise Accuracy : \",confuse.diagonal()/confuse.sum(axis=1))\n"
     ]
    },
    {
     "name": "stdout",
     "output_type": "stream",
     "text": [
      "DT Class Wise Accuracy :  [0.83673469 0.9537037  0.33333333 1.         0.97674419 0.07142857\n",
      " 0.31034483 0.         0.         0.70180723 1.         0.\n",
      " 1.         0.83579336 1.         0.         0.75       0.96835443\n",
      "        nan 0.87828947]\n",
      "DT Time :  6.636686000005284\n"
     ]
    },
    {
     "name": "stderr",
     "output_type": "stream",
     "text": [
      "C:\\Users\\sali85\\Anaconda3\\lib\\site-packages\\sklearn\\metrics\\_classification.py:1221: UndefinedMetricWarning: Precision is ill-defined and being set to 0.0 in labels with no predicted samples. Use `zero_division` parameter to control this behavior.\n",
      "  _warn_prf(average, modifier, msg_start, len(result))\n",
      "C:\\Users\\sali85\\Anaconda3\\lib\\site-packages\\sklearn\\metrics\\_classification.py:1221: UndefinedMetricWarning: Recall is ill-defined and being set to 0.0 in labels with no true samples. Use `zero_division` parameter to control this behavior.\n",
      "  _warn_prf(average, modifier, msg_start, len(result))\n",
      "<ipython-input-42-273c3866d82e>:93: RuntimeWarning: invalid value encountered in true_divide\n",
      "  print(\"SVM Class Wise Accuracy : \",confuse.diagonal()/confuse.sum(axis=1))\n"
     ]
    },
    {
     "name": "stdout",
     "output_type": "stream",
     "text": [
      "SVM Class Wise Accuracy :  [1.         1.         0.33333333 1.         1.         0.07142857\n",
      " 0.31034483 0.         1.         0.68674699 1.         0.\n",
      " 1.         0.85793358        nan 1.         1.         1.\n",
      " 1.         0.89473684]\n",
      "SVM Time :  151.56709850000334\n"
     ]
    },
    {
     "name": "stderr",
     "output_type": "stream",
     "text": [
      "C:\\Users\\sali85\\Anaconda3\\lib\\site-packages\\sklearn\\metrics\\_classification.py:1221: UndefinedMetricWarning: Precision is ill-defined and being set to 0.0 in labels with no predicted samples. Use `zero_division` parameter to control this behavior.\n",
      "  _warn_prf(average, modifier, msg_start, len(result))\n"
     ]
    },
    {
     "name": "stdout",
     "output_type": "stream",
     "text": [
      "NB Class Wise Accuracy :  [0.97959184 0.9826087  0.16666667 1.         0.95505618 0.\n",
      " 0.21212121 1.         0.87850467 1.         0.         0.5\n",
      " 0.25568182 0.         0.44444444 0.8        0.98285714 0.\n",
      " 0.         0.84837545]\n",
      "NB Time :  7.2902224999998\n"
     ]
    },
    {
     "name": "stderr",
     "output_type": "stream",
     "text": [
      "C:\\Users\\sali85\\Anaconda3\\lib\\site-packages\\sklearn\\metrics\\_classification.py:1221: UndefinedMetricWarning: Precision is ill-defined and being set to 0.0 in labels with no predicted samples. Use `zero_division` parameter to control this behavior.\n",
      "  _warn_prf(average, modifier, msg_start, len(result))\n"
     ]
    },
    {
     "name": "stdout",
     "output_type": "stream",
     "text": [
      "MLP Class Wise Accuracy :  [0.79591837 0.99130435 0.16666667 0.97142857 0.98876404 0.\n",
      " 0.15151515 1.         0.82866044 1.         0.         0.25\n",
      " 0.76515152 0.         0.77777778 0.6        0.99428571 0.\n",
      " 0.         0.80144404]\n",
      "MLP Time :  58.49791330000153\n"
     ]
    },
    {
     "name": "stderr",
     "output_type": "stream",
     "text": [
      "C:\\Users\\sali85\\Anaconda3\\lib\\site-packages\\sklearn\\metrics\\_classification.py:1221: UndefinedMetricWarning: Precision is ill-defined and being set to 0.0 in labels with no predicted samples. Use `zero_division` parameter to control this behavior.\n",
      "  _warn_prf(average, modifier, msg_start, len(result))\n"
     ]
    },
    {
     "name": "stdout",
     "output_type": "stream",
     "text": [
      "KNN Class Wise Accuracy :  [0.67346939 0.94782609 0.         1.         1.         0.\n",
      " 0.27272727 1.         0.66666667 1.         0.         0.75\n",
      " 0.85795455 0.         0.77777778 0.7        0.99428571 0.\n",
      " 0.         0.81949458]\n",
      "KNN Time :  58.03493100000196\n"
     ]
    },
    {
     "name": "stderr",
     "output_type": "stream",
     "text": [
      "C:\\Users\\sali85\\Anaconda3\\lib\\site-packages\\sklearn\\metrics\\_classification.py:1221: UndefinedMetricWarning: Precision is ill-defined and being set to 0.0 in labels with no predicted samples. Use `zero_division` parameter to control this behavior.\n",
      "  _warn_prf(average, modifier, msg_start, len(result))\n"
     ]
    },
    {
     "name": "stdout",
     "output_type": "stream",
     "text": [
      "RF Class Wise Accuracy :  [0.95918367 1.         0.16666667 1.         1.         0.\n",
      " 0.27272727 1.         0.71339564 1.         0.         0.75\n",
      " 0.85037879 0.         0.77777778 1.         0.99428571 0.\n",
      " 0.         0.84476534]\n",
      "RF Time :  13.603530899999896\n"
     ]
    },
    {
     "name": "stderr",
     "output_type": "stream",
     "text": [
      "C:\\Users\\sali85\\Anaconda3\\lib\\site-packages\\sklearn\\metrics\\_classification.py:1221: UndefinedMetricWarning: Precision is ill-defined and being set to 0.0 in labels with no predicted samples. Use `zero_division` parameter to control this behavior.\n",
      "  _warn_prf(average, modifier, msg_start, len(result))\n"
     ]
    },
    {
     "name": "stdout",
     "output_type": "stream",
     "text": [
      "LR Class Wise Accuracy :  [0.93877551 1.         0.33333333 1.         1.         0.\n",
      " 0.3030303  1.         0.70093458 1.         0.         1.\n",
      " 0.85984848 0.         0.88888889 1.         0.99428571 0.\n",
      " 0.         0.87725632]\n",
      "LR Time :  57.506335899997794\n"
     ]
    },
    {
     "name": "stderr",
     "output_type": "stream",
     "text": [
      "C:\\Users\\sali85\\Anaconda3\\lib\\site-packages\\sklearn\\metrics\\_classification.py:1221: UndefinedMetricWarning: Precision is ill-defined and being set to 0.0 in labels with no predicted samples. Use `zero_division` parameter to control this behavior.\n",
      "  _warn_prf(average, modifier, msg_start, len(result))\n"
     ]
    },
    {
     "name": "stdout",
     "output_type": "stream",
     "text": [
      "DT Class Wise Accuracy :  [0.83673469 0.95652174 0.16666667 0.97142857 1.         0.\n",
      " 0.21212121 1.         0.70093458 1.         0.         1.\n",
      " 0.81439394 0.         0.77777778 0.7        0.99428571 0.\n",
      " 0.         0.85920578]\n",
      "DT Time :  7.086686300004658\n"
     ]
    },
    {
     "name": "stderr",
     "output_type": "stream",
     "text": [
      "C:\\Users\\sali85\\Anaconda3\\lib\\site-packages\\sklearn\\metrics\\_classification.py:1221: UndefinedMetricWarning: Precision is ill-defined and being set to 0.0 in labels with no predicted samples. Use `zero_division` parameter to control this behavior.\n",
      "  _warn_prf(average, modifier, msg_start, len(result))\n"
     ]
    },
    {
     "name": "stdout",
     "output_type": "stream",
     "text": [
      "SVM Class Wise Accuracy :  [0.95918367 1.         0.33333333 1.         1.         0.\n",
      " 0.33333333 1.         0.67601246 1.         0.         1.\n",
      " 0.84280303 0.         0.77777778 1.         0.99428571 0.\n",
      " 0.         0.86642599]\n",
      "SVM Time :  148.10375499999645\n"
     ]
    },
    {
     "name": "stderr",
     "output_type": "stream",
     "text": [
      "C:\\Users\\sali85\\Anaconda3\\lib\\site-packages\\sklearn\\metrics\\_classification.py:1221: UndefinedMetricWarning: Precision is ill-defined and being set to 0.0 in labels with no predicted samples. Use `zero_division` parameter to control this behavior.\n",
      "  _warn_prf(average, modifier, msg_start, len(result))\n",
      "C:\\Users\\sali85\\Anaconda3\\lib\\site-packages\\sklearn\\metrics\\_classification.py:1221: UndefinedMetricWarning: Recall is ill-defined and being set to 0.0 in labels with no true samples. Use `zero_division` parameter to control this behavior.\n",
      "  _warn_prf(average, modifier, msg_start, len(result))\n",
      "<ipython-input-42-273c3866d82e>:130: RuntimeWarning: invalid value encountered in true_divide\n",
      "  print(\"NB Class Wise Accuracy : \",confuse.diagonal()/confuse.sum(axis=1))\n"
     ]
    },
    {
     "name": "stdout",
     "output_type": "stream",
     "text": [
      "NB Class Wise Accuracy :  [0.95918367 0.99107143 1.         0.88       0.94186047 0.18181818\n",
      " 0.12820513 1.         0.91909385 1.         1.         0.24729242\n",
      " 0.         0.55555556 0.         0.66666667 0.98170732        nan\n",
      " 0.83673469]\n",
      "NB Time :  7.633554300002288\n"
     ]
    },
    {
     "name": "stderr",
     "output_type": "stream",
     "text": [
      "C:\\Users\\sali85\\Anaconda3\\lib\\site-packages\\sklearn\\metrics\\_classification.py:1221: UndefinedMetricWarning: Precision is ill-defined and being set to 0.0 in labels with no predicted samples. Use `zero_division` parameter to control this behavior.\n",
      "  _warn_prf(average, modifier, msg_start, len(result))\n"
     ]
    },
    {
     "name": "stdout",
     "output_type": "stream",
     "text": [
      "MLP Class Wise Accuracy :  [0.89795918 1.         1.         1.         0.98837209 0.09090909\n",
      " 0.15384615 1.         0.66666667 0.         1.         0.86101083\n",
      " 0.         0.77777778 1.         0.83333333 0.98170732 0.81292517]\n"
     ]
    },
    {
     "name": "stderr",
     "output_type": "stream",
     "text": [
      "C:\\Users\\sali85\\Anaconda3\\lib\\site-packages\\sklearn\\metrics\\_classification.py:1221: UndefinedMetricWarning: Precision is ill-defined and being set to 0.0 in labels with no predicted samples. Use `zero_division` parameter to control this behavior.\n",
      "  _warn_prf(average, modifier, msg_start, len(result))\n"
     ]
    },
    {
     "name": "stdout",
     "output_type": "stream",
     "text": [
      "MLP Time :  83.10938420000457\n",
      "KNN Class Wise Accuracy :  [0.75510204 0.99107143 0.         1.         0.98837209 0.09090909\n",
      " 0.17948718 1.         0.58899676 1.         1.         0.86642599\n",
      " 0.         0.55555556 0.         0.83333333 1.         0.77891156]\n",
      "KNN Time :  62.05572509999911\n"
     ]
    },
    {
     "name": "stderr",
     "output_type": "stream",
     "text": [
      "C:\\Users\\sali85\\Anaconda3\\lib\\site-packages\\sklearn\\metrics\\_classification.py:1221: UndefinedMetricWarning: Precision is ill-defined and being set to 0.0 in labels with no predicted samples. Use `zero_division` parameter to control this behavior.\n",
      "  _warn_prf(average, modifier, msg_start, len(result))\n"
     ]
    },
    {
     "name": "stdout",
     "output_type": "stream",
     "text": [
      "RF Class Wise Accuracy :  [0.95918367 1.         1.         1.         0.98837209 0.09090909\n",
      " 0.15384615 1.         0.72168285 1.         1.         0.85198556\n",
      " 0.         0.88888889 1.         0.83333333 0.98780488 0.84353741]\n",
      "RF Time :  13.015569499999401\n"
     ]
    },
    {
     "name": "stderr",
     "output_type": "stream",
     "text": [
      "C:\\Users\\sali85\\Anaconda3\\lib\\site-packages\\sklearn\\metrics\\_classification.py:1221: UndefinedMetricWarning: Precision is ill-defined and being set to 0.0 in labels with no predicted samples. Use `zero_division` parameter to control this behavior.\n",
      "  _warn_prf(average, modifier, msg_start, len(result))\n"
     ]
    },
    {
     "name": "stdout",
     "output_type": "stream",
     "text": [
      "LR Class Wise Accuracy :  [0.91836735 1.         1.         1.         1.         0.09090909\n",
      " 0.20512821 1.         0.70226537 1.         1.         0.85198556\n",
      " 0.         0.88888889 1.         0.83333333 0.99390244 0.86054422]\n",
      "LR Time :  60.4437201000037\n"
     ]
    },
    {
     "name": "stderr",
     "output_type": "stream",
     "text": [
      "C:\\Users\\sali85\\Anaconda3\\lib\\site-packages\\sklearn\\metrics\\_classification.py:1221: UndefinedMetricWarning: Precision is ill-defined and being set to 0.0 in labels with no predicted samples. Use `zero_division` parameter to control this behavior.\n",
      "  _warn_prf(average, modifier, msg_start, len(result))\n"
     ]
    },
    {
     "name": "stdout",
     "output_type": "stream",
     "text": [
      "DT Class Wise Accuracy :  [0.79591837 0.96428571 1.         1.         0.98837209 0.09090909\n",
      " 0.23076923 1.         0.70550162 1.         1.         0.83574007\n",
      " 0.         0.88888889 1.         0.66666667 0.96341463 0.85034014]\n",
      "DT Time :  6.851085599999351\n"
     ]
    },
    {
     "name": "stderr",
     "output_type": "stream",
     "text": [
      "C:\\Users\\sali85\\Anaconda3\\lib\\site-packages\\sklearn\\metrics\\_classification.py:1221: UndefinedMetricWarning: Precision is ill-defined and being set to 0.0 in labels with no predicted samples. Use `zero_division` parameter to control this behavior.\n",
      "  _warn_prf(average, modifier, msg_start, len(result))\n"
     ]
    },
    {
     "name": "stdout",
     "output_type": "stream",
     "text": [
      "SVM Class Wise Accuracy :  [0.95918367 1.         1.         1.         1.         0.09090909\n",
      " 0.30769231 1.         0.65048544 1.         1.         0.85920578\n",
      " 0.         0.88888889 1.         0.83333333 0.98780488 0.86734694]\n",
      "SVM Time :  144.60330890000478\n"
     ]
    },
    {
     "name": "stderr",
     "output_type": "stream",
     "text": [
      "C:\\Users\\sali85\\Anaconda3\\lib\\site-packages\\sklearn\\metrics\\_classification.py:1221: UndefinedMetricWarning: Precision is ill-defined and being set to 0.0 in labels with no predicted samples. Use `zero_division` parameter to control this behavior.\n",
      "  _warn_prf(average, modifier, msg_start, len(result))\n"
     ]
    },
    {
     "name": "stdout",
     "output_type": "stream",
     "text": [
      "NB Class Wise Accuracy :  [0.97916667 0.95       0.4        0.91666667 0.95789474 0.14285714\n",
      " 0.17241379 1.         0.89261745 0.         0.66666667 0.23290203\n",
      " 0.         0.5        0.77777778 0.98802395 0.         0.83540373]\n",
      "NB Time :  7.590532599999278\n"
     ]
    },
    {
     "name": "stderr",
     "output_type": "stream",
     "text": [
      "C:\\Users\\sali85\\Anaconda3\\lib\\site-packages\\sklearn\\metrics\\_classification.py:1221: UndefinedMetricWarning: Precision is ill-defined and being set to 0.0 in labels with no predicted samples. Use `zero_division` parameter to control this behavior.\n",
      "  _warn_prf(average, modifier, msg_start, len(result))\n"
     ]
    },
    {
     "name": "stdout",
     "output_type": "stream",
     "text": [
      "MLP Class Wise Accuracy :  [0.91666667 0.92       0.         0.95833333 1.         0.\n",
      " 0.13793103 1.         0.67785235 0.         0.66666667 0.88354898\n",
      " 0.         0.875      0.88888889 0.98802395 0.         0.81987578]\n"
     ]
    },
    {
     "name": "stderr",
     "output_type": "stream",
     "text": [
      "C:\\Users\\sali85\\Anaconda3\\lib\\site-packages\\sklearn\\metrics\\_classification.py:1221: UndefinedMetricWarning: Precision is ill-defined and being set to 0.0 in labels with no predicted samples. Use `zero_division` parameter to control this behavior.\n",
      "  _warn_prf(average, modifier, msg_start, len(result))\n"
     ]
    },
    {
     "name": "stdout",
     "output_type": "stream",
     "text": [
      "MLP Time :  75.15429810000205\n",
      "KNN Class Wise Accuracy :  [0.60416667 0.95       0.         1.         0.95789474 0.\n",
      " 0.20689655 1.         0.75503356 0.         1.         0.79852126\n",
      " 0.         0.5        1.         0.99401198 0.         0.83850932]\n",
      "KNN Time :  60.652463800004625\n"
     ]
    },
    {
     "name": "stderr",
     "output_type": "stream",
     "text": [
      "C:\\Users\\sali85\\Anaconda3\\lib\\site-packages\\sklearn\\metrics\\_classification.py:1221: UndefinedMetricWarning: Precision is ill-defined and being set to 0.0 in labels with no predicted samples. Use `zero_division` parameter to control this behavior.\n",
      "  _warn_prf(average, modifier, msg_start, len(result))\n"
     ]
    },
    {
     "name": "stdout",
     "output_type": "stream",
     "text": [
      "RF Class Wise Accuracy :  [0.95833333 1.         0.6        1.         1.         0.07142857\n",
      " 0.20689655 1.         0.66778523 0.         1.         0.88354898\n",
      " 0.         0.875      1.         0.99401198 0.         0.8136646 ]\n",
      "RF Time :  12.99828819999675\n"
     ]
    },
    {
     "name": "stderr",
     "output_type": "stream",
     "text": [
      "C:\\Users\\sali85\\Anaconda3\\lib\\site-packages\\sklearn\\metrics\\_classification.py:1221: UndefinedMetricWarning: Precision is ill-defined and being set to 0.0 in labels with no predicted samples. Use `zero_division` parameter to control this behavior.\n",
      "  _warn_prf(average, modifier, msg_start, len(result))\n"
     ]
    },
    {
     "name": "stdout",
     "output_type": "stream",
     "text": [
      "LR Class Wise Accuracy :  [0.91666667 1.         0.6        1.         1.         0.07142857\n",
      " 0.34482759 1.         0.65436242 0.         1.         0.89463956\n",
      " 0.         0.875      1.         0.99401198 0.         0.88819876]\n",
      "LR Time :  60.85695300000225\n"
     ]
    },
    {
     "name": "stderr",
     "output_type": "stream",
     "text": [
      "C:\\Users\\sali85\\Anaconda3\\lib\\site-packages\\sklearn\\metrics\\_classification.py:1221: UndefinedMetricWarning: Precision is ill-defined and being set to 0.0 in labels with no predicted samples. Use `zero_division` parameter to control this behavior.\n",
      "  _warn_prf(average, modifier, msg_start, len(result))\n",
      "C:\\Users\\sali85\\Anaconda3\\lib\\site-packages\\sklearn\\metrics\\_classification.py:1221: UndefinedMetricWarning: Recall is ill-defined and being set to 0.0 in labels with no true samples. Use `zero_division` parameter to control this behavior.\n",
      "  _warn_prf(average, modifier, msg_start, len(result))\n",
      "<ipython-input-42-273c3866d82e>:321: RuntimeWarning: invalid value encountered in true_divide\n",
      "  print(\"DT Class Wise Accuracy : \",confuse.diagonal()/confuse.sum(axis=1))\n"
     ]
    },
    {
     "name": "stdout",
     "output_type": "stream",
     "text": [
      "DT Class Wise Accuracy :  [0.70833333 0.98       0.4        0.91666667        nan 0.97894737\n",
      " 0.07142857 0.27586207        nan 1.         0.63422819 0.\n",
      " 1.         0.8650647  0.         0.875      0.77777778 0.98203593\n",
      " 0.         0.81987578]\n",
      "DT Time :  6.9795519999970566\n"
     ]
    },
    {
     "name": "stderr",
     "output_type": "stream",
     "text": [
      "C:\\Users\\sali85\\Anaconda3\\lib\\site-packages\\sklearn\\metrics\\_classification.py:1221: UndefinedMetricWarning: Precision is ill-defined and being set to 0.0 in labels with no predicted samples. Use `zero_division` parameter to control this behavior.\n",
      "  _warn_prf(average, modifier, msg_start, len(result))\n"
     ]
    },
    {
     "name": "stdout",
     "output_type": "stream",
     "text": [
      "SVM Class Wise Accuracy :  [0.97916667 1.         0.6        1.         1.         0.07142857\n",
      " 0.31034483 1.         0.65771812 0.         1.         0.87615527\n",
      " 0.         0.875      1.         0.99401198 0.         0.88198758]\n",
      "SVM Time :  158.06423950000317\n"
     ]
    },
    {
     "name": "stderr",
     "output_type": "stream",
     "text": [
      "C:\\Users\\sali85\\Anaconda3\\lib\\site-packages\\sklearn\\metrics\\_classification.py:1221: UndefinedMetricWarning: Precision is ill-defined and being set to 0.0 in labels with no predicted samples. Use `zero_division` parameter to control this behavior.\n",
      "  _warn_prf(average, modifier, msg_start, len(result))\n"
     ]
    },
    {
     "name": "stdout",
     "output_type": "stream",
     "text": [
      "NB Class Wise Accuracy :  [0.95918367 0.98275862 1.         1.         0.94318182 0.\n",
      " 0.17142857 0.89527027 1.         0.33333333 0.2647585  0.\n",
      " 0.66666667 0.         0.83333333 0.97191011 0.         0.8137931 ]\n",
      "NB Time :  7.655952900000557\n"
     ]
    },
    {
     "name": "stderr",
     "output_type": "stream",
     "text": [
      "C:\\Users\\sali85\\Anaconda3\\lib\\site-packages\\sklearn\\metrics\\_classification.py:1221: UndefinedMetricWarning: Precision is ill-defined and being set to 0.0 in labels with no predicted samples. Use `zero_division` parameter to control this behavior.\n",
      "  _warn_prf(average, modifier, msg_start, len(result))\n"
     ]
    },
    {
     "name": "stdout",
     "output_type": "stream",
     "text": [
      "MLP Class Wise Accuracy :  [0.87755102 0.98275862 1.         1.         0.98863636 0.\n",
      " 0.28571429 0.70608108 0.33333333 0.16666667 0.92665474 0.\n",
      " 1.         0.         1.         0.97752809 0.         0.77241379]\n"
     ]
    },
    {
     "name": "stderr",
     "output_type": "stream",
     "text": [
      "C:\\Users\\sali85\\Anaconda3\\lib\\site-packages\\sklearn\\metrics\\_classification.py:1221: UndefinedMetricWarning: Precision is ill-defined and being set to 0.0 in labels with no predicted samples. Use `zero_division` parameter to control this behavior.\n",
      "  _warn_prf(average, modifier, msg_start, len(result))\n"
     ]
    },
    {
     "name": "stdout",
     "output_type": "stream",
     "text": [
      "MLP Time :  63.26056989999779\n",
      "KNN Class Wise Accuracy :  [0.81632653 1.         1.         1.         0.96590909 0.\n",
      " 0.17142857 0.76351351 0.         0.83333333 0.7352415  0.\n",
      " 1.         0.         0.83333333 0.98876404 0.         0.83793103]\n",
      "KNN Time :  53.243169900000794\n"
     ]
    },
    {
     "name": "stderr",
     "output_type": "stream",
     "text": [
      "C:\\Users\\sali85\\Anaconda3\\lib\\site-packages\\sklearn\\metrics\\_classification.py:1221: UndefinedMetricWarning: Precision is ill-defined and being set to 0.0 in labels with no predicted samples. Use `zero_division` parameter to control this behavior.\n",
      "  _warn_prf(average, modifier, msg_start, len(result))\n"
     ]
    },
    {
     "name": "stdout",
     "output_type": "stream",
     "text": [
      "RF Class Wise Accuracy :  [0.91836735 0.98275862 1.         1.         0.98863636 0.\n",
      " 0.22857143 0.70945946 1.         0.66666667 0.88014311 0.\n",
      " 1.         0.         1.         0.98314607 0.         0.81724138]\n",
      "RF Time :  12.68770829999994\n"
     ]
    },
    {
     "name": "stderr",
     "output_type": "stream",
     "text": [
      "C:\\Users\\sali85\\Anaconda3\\lib\\site-packages\\sklearn\\metrics\\_classification.py:1221: UndefinedMetricWarning: Precision is ill-defined and being set to 0.0 in labels with no predicted samples. Use `zero_division` parameter to control this behavior.\n",
      "  _warn_prf(average, modifier, msg_start, len(result))\n"
     ]
    },
    {
     "name": "stdout",
     "output_type": "stream",
     "text": [
      "LR Class Wise Accuracy :  [0.93877551 1.         1.         1.         1.         0.11111111\n",
      " 0.34285714 0.70608108 1.         0.83333333 0.88372093 0.\n",
      " 1.         0.         1.         0.98314607 0.         0.84137931]\n",
      "LR Time :  60.061470000000554\n"
     ]
    },
    {
     "name": "stderr",
     "output_type": "stream",
     "text": [
      "C:\\Users\\sali85\\Anaconda3\\lib\\site-packages\\sklearn\\metrics\\_classification.py:1221: UndefinedMetricWarning: Precision is ill-defined and being set to 0.0 in labels with no predicted samples. Use `zero_division` parameter to control this behavior.\n",
      "  _warn_prf(average, modifier, msg_start, len(result))\n",
      "C:\\Users\\sali85\\Anaconda3\\lib\\site-packages\\sklearn\\metrics\\_classification.py:1221: UndefinedMetricWarning: Recall is ill-defined and being set to 0.0 in labels with no true samples. Use `zero_division` parameter to control this behavior.\n",
      "  _warn_prf(average, modifier, msg_start, len(result))\n",
      "<ipython-input-42-273c3866d82e>:321: RuntimeWarning: invalid value encountered in true_divide\n",
      "  print(\"DT Class Wise Accuracy : \",confuse.diagonal()/confuse.sum(axis=1))\n"
     ]
    },
    {
     "name": "stdout",
     "output_type": "stream",
     "text": [
      "DT Class Wise Accuracy :  [0.83673469 0.94827586 1.         0.96              nan 0.97727273\n",
      " 0.         0.34285714 0.69594595 1.         1.         0.82468694\n",
      " 0.         1.         0.         1.         0.98876404 0.\n",
      " 0.82413793]\n",
      "DT Time :  7.038567099996726\n"
     ]
    },
    {
     "name": "stderr",
     "output_type": "stream",
     "text": [
      "C:\\Users\\sali85\\Anaconda3\\lib\\site-packages\\sklearn\\metrics\\_classification.py:1221: UndefinedMetricWarning: Precision is ill-defined and being set to 0.0 in labels with no predicted samples. Use `zero_division` parameter to control this behavior.\n",
      "  _warn_prf(average, modifier, msg_start, len(result))\n"
     ]
    },
    {
     "name": "stdout",
     "output_type": "stream",
     "text": [
      "SVM Class Wise Accuracy :  [0.95918367 1.         1.         1.         1.         0.11111111\n",
      " 0.34285714 0.71959459 1.         1.         0.86225403 0.\n",
      " 1.         0.         1.         0.98314607 0.         0.83793103]\n",
      "SVM Time :  154.20833590000257\n"
     ]
    },
    {
     "name": "stderr",
     "output_type": "stream",
     "text": [
      "C:\\Users\\sali85\\Anaconda3\\lib\\site-packages\\sklearn\\metrics\\_classification.py:1221: UndefinedMetricWarning: Precision is ill-defined and being set to 0.0 in labels with no predicted samples. Use `zero_division` parameter to control this behavior.\n",
      "  _warn_prf(average, modifier, msg_start, len(result))\n",
      "C:\\Users\\sali85\\Anaconda3\\lib\\site-packages\\sklearn\\metrics\\_classification.py:1221: UndefinedMetricWarning: Recall is ill-defined and being set to 0.0 in labels with no true samples. Use `zero_division` parameter to control this behavior.\n",
      "  _warn_prf(average, modifier, msg_start, len(result))\n",
      "<ipython-input-42-273c3866d82e>:130: RuntimeWarning: invalid value encountered in true_divide\n",
      "  print(\"NB Class Wise Accuracy : \",confuse.diagonal()/confuse.sum(axis=1))\n"
     ]
    },
    {
     "name": "stdout",
     "output_type": "stream",
     "text": [
      "NB Class Wise Accuracy :  [1.         0.94392523 1.         0.91666667 0.97777778 0.15384615\n",
      " 0.25714286 0.         1.         0.82295082 1.         0.8\n",
      " 0.23486239        nan 0.57142857 0.75       0.98064516 0.\n",
      " 0.         0.80582524]\n",
      "NB Time :  7.561748799998895\n"
     ]
    },
    {
     "name": "stderr",
     "output_type": "stream",
     "text": [
      "C:\\Users\\sali85\\Anaconda3\\lib\\site-packages\\sklearn\\metrics\\_classification.py:1221: UndefinedMetricWarning: Precision is ill-defined and being set to 0.0 in labels with no predicted samples. Use `zero_division` parameter to control this behavior.\n",
      "  _warn_prf(average, modifier, msg_start, len(result))\n",
      "C:\\Users\\sali85\\Anaconda3\\lib\\site-packages\\sklearn\\metrics\\_classification.py:1221: UndefinedMetricWarning: Recall is ill-defined and being set to 0.0 in labels with no true samples. Use `zero_division` parameter to control this behavior.\n",
      "  _warn_prf(average, modifier, msg_start, len(result))\n",
      "<ipython-input-42-273c3866d82e>:174: RuntimeWarning: invalid value encountered in true_divide\n",
      "  print(\"MLP Class Wise Accuracy : \",confuse.diagonal()/confuse.sum(axis=1))\n"
     ]
    },
    {
     "name": "stdout",
     "output_type": "stream",
     "text": [
      "MLP Class Wise Accuracy :  [0.81132075 0.95327103 0.66666667 1.         1.         0.07692308\n",
      " 0.37142857 0.         1.         0.79672131 1.         0.8\n",
      " 0.77614679        nan 0.85714286 0.875      0.99354839 0.\n",
      " 0.         0.81877023]\n",
      "MLP Time :  39.48083759999281\n"
     ]
    },
    {
     "name": "stderr",
     "output_type": "stream",
     "text": [
      "C:\\Users\\sali85\\Anaconda3\\lib\\site-packages\\sklearn\\metrics\\_classification.py:1221: UndefinedMetricWarning: Precision is ill-defined and being set to 0.0 in labels with no predicted samples. Use `zero_division` parameter to control this behavior.\n",
      "  _warn_prf(average, modifier, msg_start, len(result))\n"
     ]
    },
    {
     "name": "stdout",
     "output_type": "stream",
     "text": [
      "KNN Class Wise Accuracy :  [0.69811321 0.92523364 0.33333333 1.         1.         0.\n",
      " 0.25714286 0.         1.         0.63606557 1.         0.8\n",
      " 0.87155963 0.85714286 0.5        1.         0.         0.\n",
      " 0.8381877 ]\n",
      "KNN Time :  54.39117619999888\n"
     ]
    },
    {
     "name": "stderr",
     "output_type": "stream",
     "text": [
      "C:\\Users\\sali85\\Anaconda3\\lib\\site-packages\\sklearn\\metrics\\_classification.py:1221: UndefinedMetricWarning: Precision is ill-defined and being set to 0.0 in labels with no predicted samples. Use `zero_division` parameter to control this behavior.\n",
      "  _warn_prf(average, modifier, msg_start, len(result))\n"
     ]
    },
    {
     "name": "stdout",
     "output_type": "stream",
     "text": [
      "RF Class Wise Accuracy :  [0.96226415 1.         1.         1.         1.         0.07692308\n",
      " 0.25714286 0.         1.         0.64590164 1.         0.8\n",
      " 0.89357798 0.85714286 1.         0.99354839 0.         0.\n",
      " 0.78640777]\n",
      "RF Time :  12.553102699996089\n"
     ]
    },
    {
     "name": "stderr",
     "output_type": "stream",
     "text": [
      "C:\\Users\\sali85\\Anaconda3\\lib\\site-packages\\sklearn\\metrics\\_classification.py:1221: UndefinedMetricWarning: Precision is ill-defined and being set to 0.0 in labels with no predicted samples. Use `zero_division` parameter to control this behavior.\n",
      "  _warn_prf(average, modifier, msg_start, len(result))\n"
     ]
    },
    {
     "name": "stdout",
     "output_type": "stream",
     "text": [
      "LR Class Wise Accuracy :  [0.94339623 1.         1.         1.         1.         0.07692308\n",
      " 0.42857143 0.         1.         0.66557377 1.         1.\n",
      " 0.90091743 0.85714286 1.         0.99354839 0.         0.\n",
      " 0.802589  ]\n",
      "LR Time :  58.52595830000064\n"
     ]
    },
    {
     "name": "stderr",
     "output_type": "stream",
     "text": [
      "C:\\Users\\sali85\\Anaconda3\\lib\\site-packages\\sklearn\\metrics\\_classification.py:1221: UndefinedMetricWarning: Precision is ill-defined and being set to 0.0 in labels with no predicted samples. Use `zero_division` parameter to control this behavior.\n",
      "  _warn_prf(average, modifier, msg_start, len(result))\n",
      "C:\\Users\\sali85\\Anaconda3\\lib\\site-packages\\sklearn\\metrics\\_classification.py:1221: UndefinedMetricWarning: Recall is ill-defined and being set to 0.0 in labels with no true samples. Use `zero_division` parameter to control this behavior.\n",
      "  _warn_prf(average, modifier, msg_start, len(result))\n",
      "<ipython-input-42-273c3866d82e>:321: RuntimeWarning: invalid value encountered in true_divide\n",
      "  print(\"DT Class Wise Accuracy : \",confuse.diagonal()/confuse.sum(axis=1))\n"
     ]
    },
    {
     "name": "stdout",
     "output_type": "stream",
     "text": [
      "DT Class Wise Accuracy :  [0.79245283 0.97196262 1.         1.         1.         0.07692308\n",
      " 0.48571429 0.         0.75       0.62295082 1.         1.\n",
      " 0.85688073        nan 0.85714286 0.875      0.98064516 0.\n",
      " 0.         0.77669903]\n",
      "DT Time :  7.018745100001979\n"
     ]
    },
    {
     "name": "stderr",
     "output_type": "stream",
     "text": [
      "C:\\Users\\sali85\\Anaconda3\\lib\\site-packages\\sklearn\\metrics\\_classification.py:1221: UndefinedMetricWarning: Precision is ill-defined and being set to 0.0 in labels with no predicted samples. Use `zero_division` parameter to control this behavior.\n",
      "  _warn_prf(average, modifier, msg_start, len(result))\n",
      "C:\\Users\\sali85\\Anaconda3\\lib\\site-packages\\sklearn\\metrics\\_classification.py:1221: UndefinedMetricWarning: Recall is ill-defined and being set to 0.0 in labels with no true samples. Use `zero_division` parameter to control this behavior.\n",
      "  _warn_prf(average, modifier, msg_start, len(result))\n",
      "<ipython-input-42-273c3866d82e>:93: RuntimeWarning: invalid value encountered in true_divide\n",
      "  print(\"SVM Class Wise Accuracy : \",confuse.diagonal()/confuse.sum(axis=1))\n"
     ]
    },
    {
     "name": "stdout",
     "output_type": "stream",
     "text": [
      "SVM Class Wise Accuracy :  [0.98113208 1.         1.         1.         1.         0.07692308\n",
      " 0.48571429 0.         1.         0.6295082  1.         1.\n",
      " 0.89908257        nan 0.85714286 1.         0.99354839 0.\n",
      " 0.         0.78964401]\n",
      "SVM Time :  148.45586030000413\n"
     ]
    },
    {
     "name": "stderr",
     "output_type": "stream",
     "text": [
      "C:\\Users\\sali85\\Anaconda3\\lib\\site-packages\\sklearn\\metrics\\_classification.py:1221: UndefinedMetricWarning: Precision is ill-defined and being set to 0.0 in labels with no predicted samples. Use `zero_division` parameter to control this behavior.\n",
      "  _warn_prf(average, modifier, msg_start, len(result))\n"
     ]
    },
    {
     "name": "stdout",
     "output_type": "stream",
     "text": [
      "NB Class Wise Accuracy :  [1.         0.94871795 0.75       0.83333333 0.         0.94936709\n",
      " 0.2        0.15789474 1.         0.88666667 1.         0.85714286\n",
      " 0.28130672 0.         0.6        0.         0.6        0.97005988\n",
      " 0.         0.80528053]\n",
      "NB Time :  7.7988165999995545\n"
     ]
    },
    {
     "name": "stderr",
     "output_type": "stream",
     "text": [
      "C:\\Users\\sali85\\Anaconda3\\lib\\site-packages\\sklearn\\metrics\\_classification.py:1221: UndefinedMetricWarning: Precision is ill-defined and being set to 0.0 in labels with no predicted samples. Use `zero_division` parameter to control this behavior.\n",
      "  _warn_prf(average, modifier, msg_start, len(result))\n",
      "C:\\Users\\sali85\\Anaconda3\\lib\\site-packages\\sklearn\\metrics\\_classification.py:1221: UndefinedMetricWarning: Recall is ill-defined and being set to 0.0 in labels with no true samples. Use `zero_division` parameter to control this behavior.\n",
      "  _warn_prf(average, modifier, msg_start, len(result))\n",
      "<ipython-input-42-273c3866d82e>:174: RuntimeWarning: invalid value encountered in true_divide\n",
      "  print(\"MLP Class Wise Accuracy : \",confuse.diagonal()/confuse.sum(axis=1))\n"
     ]
    },
    {
     "name": "stdout",
     "output_type": "stream",
     "text": [
      "MLP Class Wise Accuracy :  [0.88636364 0.94017094 0.75       1.         0.         1.\n",
      " 0.06666667 0.23684211        nan 0.         0.71       1.\n",
      " 1.         0.91651543 0.         0.8        0.         1.\n",
      " 0.99401198 0.         0.74257426]\n"
     ]
    },
    {
     "name": "stderr",
     "output_type": "stream",
     "text": [
      "C:\\Users\\sali85\\Anaconda3\\lib\\site-packages\\sklearn\\metrics\\_classification.py:1221: UndefinedMetricWarning: Precision is ill-defined and being set to 0.0 in labels with no predicted samples. Use `zero_division` parameter to control this behavior.\n",
      "  _warn_prf(average, modifier, msg_start, len(result))\n"
     ]
    },
    {
     "name": "stdout",
     "output_type": "stream",
     "text": [
      "MLP Time :  64.79864059999818\n",
      "KNN Class Wise Accuracy :  [0.79545455 0.96581197 0.         1.         0.         1.\n",
      " 0.06666667 0.18421053 1.         0.78666667 1.         1.\n",
      " 0.71869328 0.         0.8        0.         0.6        0.9760479\n",
      " 0.         0.72607261]\n",
      "KNN Time :  51.94046959999832\n"
     ]
    },
    {
     "name": "stderr",
     "output_type": "stream",
     "text": [
      "C:\\Users\\sali85\\Anaconda3\\lib\\site-packages\\sklearn\\metrics\\_classification.py:1221: UndefinedMetricWarning: Precision is ill-defined and being set to 0.0 in labels with no predicted samples. Use `zero_division` parameter to control this behavior.\n",
      "  _warn_prf(average, modifier, msg_start, len(result))\n"
     ]
    },
    {
     "name": "stdout",
     "output_type": "stream",
     "text": [
      "RF Class Wise Accuracy :  [1.         0.98290598 0.75       1.         0.         1.\n",
      " 0.         0.21052632 1.         0.68       1.         1.\n",
      " 0.84573503 0.         0.8        1.         0.8        0.99401198\n",
      " 0.         0.81848185]\n",
      "RF Time :  14.318366800005606\n"
     ]
    },
    {
     "name": "stderr",
     "output_type": "stream",
     "text": [
      "C:\\Users\\sali85\\Anaconda3\\lib\\site-packages\\sklearn\\metrics\\_classification.py:1221: UndefinedMetricWarning: Precision is ill-defined and being set to 0.0 in labels with no predicted samples. Use `zero_division` parameter to control this behavior.\n",
      "  _warn_prf(average, modifier, msg_start, len(result))\n"
     ]
    },
    {
     "name": "stdout",
     "output_type": "stream",
     "text": [
      "LR Class Wise Accuracy :  [0.93181818 1.         1.         1.         0.         1.\n",
      " 0.         0.36842105 1.         0.68333333 1.         1.\n",
      " 0.88203267 0.         0.8        1.         1.         0.99401198\n",
      " 0.         0.85478548]\n",
      "LR Time :  61.717722599998524\n"
     ]
    },
    {
     "name": "stderr",
     "output_type": "stream",
     "text": [
      "C:\\Users\\sali85\\Anaconda3\\lib\\site-packages\\sklearn\\metrics\\_classification.py:1221: UndefinedMetricWarning: Precision is ill-defined and being set to 0.0 in labels with no predicted samples. Use `zero_division` parameter to control this behavior.\n",
      "  _warn_prf(average, modifier, msg_start, len(result))\n",
      "C:\\Users\\sali85\\Anaconda3\\lib\\site-packages\\sklearn\\metrics\\_classification.py:1221: UndefinedMetricWarning: Recall is ill-defined and being set to 0.0 in labels with no true samples. Use `zero_division` parameter to control this behavior.\n",
      "  _warn_prf(average, modifier, msg_start, len(result))\n",
      "<ipython-input-42-273c3866d82e>:321: RuntimeWarning: invalid value encountered in true_divide\n",
      "  print(\"DT Class Wise Accuracy : \",confuse.diagonal()/confuse.sum(axis=1))\n"
     ]
    },
    {
     "name": "stdout",
     "output_type": "stream",
     "text": [
      "DT Class Wise Accuracy :  [0.88636364 0.96581197 0.75       1.         0.         0.98734177\n",
      " 0.06666667 0.31578947        nan 0.5        0.65333333 1.\n",
      " 0.85714286 0.80399274 0.         0.8        1.         0.8\n",
      " 0.9760479  0.         0.83828383]\n",
      "DT Time :  7.124113000005309\n"
     ]
    },
    {
     "name": "stderr",
     "output_type": "stream",
     "text": [
      "C:\\Users\\sali85\\Anaconda3\\lib\\site-packages\\sklearn\\metrics\\_classification.py:1221: UndefinedMetricWarning: Precision is ill-defined and being set to 0.0 in labels with no predicted samples. Use `zero_division` parameter to control this behavior.\n",
      "  _warn_prf(average, modifier, msg_start, len(result))\n"
     ]
    },
    {
     "name": "stdout",
     "output_type": "stream",
     "text": [
      "SVM Class Wise Accuracy :  [0.97727273 1.         1.         1.         0.         1.\n",
      " 0.06666667 0.36842105 1.         0.67333333 1.         1.\n",
      " 0.86751361 0.         0.8        1.         1.         0.99401198\n",
      " 0.         0.84818482]\n",
      "SVM Time :  155.56121630000416\n"
     ]
    },
    {
     "name": "stderr",
     "output_type": "stream",
     "text": [
      "C:\\Users\\sali85\\Anaconda3\\lib\\site-packages\\sklearn\\metrics\\_classification.py:1221: UndefinedMetricWarning: Precision is ill-defined and being set to 0.0 in labels with no predicted samples. Use `zero_division` parameter to control this behavior.\n",
      "  _warn_prf(average, modifier, msg_start, len(result))\n",
      "C:\\Users\\sali85\\Anaconda3\\lib\\site-packages\\sklearn\\metrics\\_classification.py:1221: UndefinedMetricWarning: Recall is ill-defined and being set to 0.0 in labels with no true samples. Use `zero_division` parameter to control this behavior.\n",
      "  _warn_prf(average, modifier, msg_start, len(result))\n",
      "<ipython-input-42-273c3866d82e>:130: RuntimeWarning: invalid value encountered in true_divide\n",
      "  print(\"NB Class Wise Accuracy : \",confuse.diagonal()/confuse.sum(axis=1))\n"
     ]
    },
    {
     "name": "stdout",
     "output_type": "stream",
     "text": [
      "NB Class Wise Accuracy :  [1.         0.93684211 0.6        1.         0.97938144 0.05882353\n",
      " 0.02857143 0.         1.         0.82578397 1.         0.8\n",
      " 0.2375            nan 0.69230769 0.57142857 0.98314607 0.\n",
      " 0.83      ]\n",
      "NB Time :  8.018443000000843\n"
     ]
    },
    {
     "name": "stderr",
     "output_type": "stream",
     "text": [
      "C:\\Users\\sali85\\Anaconda3\\lib\\site-packages\\sklearn\\metrics\\_classification.py:1221: UndefinedMetricWarning: Precision is ill-defined and being set to 0.0 in labels with no predicted samples. Use `zero_division` parameter to control this behavior.\n",
      "  _warn_prf(average, modifier, msg_start, len(result))\n",
      "C:\\Users\\sali85\\Anaconda3\\lib\\site-packages\\sklearn\\metrics\\_classification.py:1221: UndefinedMetricWarning: Recall is ill-defined and being set to 0.0 in labels with no true samples. Use `zero_division` parameter to control this behavior.\n",
      "  _warn_prf(average, modifier, msg_start, len(result))\n",
      "<ipython-input-42-273c3866d82e>:174: RuntimeWarning: invalid value encountered in true_divide\n",
      "  print(\"MLP Class Wise Accuracy : \",confuse.diagonal()/confuse.sum(axis=1))\n"
     ]
    },
    {
     "name": "stdout",
     "output_type": "stream",
     "text": [
      "MLP Class Wise Accuracy :  [0.83333333 0.95789474 0.6        0.95652174        nan 0.97938144\n",
      " 0.05882353 0.14285714 0.         1.         0.75609756 1.\n",
      "        nan 1.         0.80892857 1.         0.42857143 0.99438202\n",
      " 0.         0.77      ]\n"
     ]
    },
    {
     "name": "stderr",
     "output_type": "stream",
     "text": [
      "C:\\Users\\sali85\\Anaconda3\\lib\\site-packages\\sklearn\\metrics\\_classification.py:1221: UndefinedMetricWarning: Precision is ill-defined and being set to 0.0 in labels with no predicted samples. Use `zero_division` parameter to control this behavior.\n",
      "  _warn_prf(average, modifier, msg_start, len(result))\n"
     ]
    },
    {
     "name": "stdout",
     "output_type": "stream",
     "text": [
      "MLP Time :  79.68417529999715\n",
      "KNN Class Wise Accuracy :  [0.78571429 0.94736842 0.         1.         0.98969072 0.\n",
      " 0.17142857 0.         1.         0.728223   1.         0.8\n",
      " 0.78214286 0.         0.57142857 0.98876404 0.         0.79333333]\n",
      "KNN Time :  55.727959299998474\n"
     ]
    },
    {
     "name": "stderr",
     "output_type": "stream",
     "text": [
      "C:\\Users\\sali85\\Anaconda3\\lib\\site-packages\\sklearn\\metrics\\_classification.py:1221: UndefinedMetricWarning: Precision is ill-defined and being set to 0.0 in labels with no predicted samples. Use `zero_division` parameter to control this behavior.\n",
      "  _warn_prf(average, modifier, msg_start, len(result))\n"
     ]
    },
    {
     "name": "stdout",
     "output_type": "stream",
     "text": [
      "RF Class Wise Accuracy :  [0.97619048 0.95789474 0.6        1.         1.         0.05882353\n",
      " 0.14285714 0.         1.         0.65853659 1.         0.8\n",
      " 0.89464286 1.         0.71428571 0.99438202 0.         0.81666667]\n",
      "RF Time :  13.276090499995917\n"
     ]
    },
    {
     "name": "stderr",
     "output_type": "stream",
     "text": [
      "C:\\Users\\sali85\\Anaconda3\\lib\\site-packages\\sklearn\\metrics\\_classification.py:1221: UndefinedMetricWarning: Precision is ill-defined and being set to 0.0 in labels with no predicted samples. Use `zero_division` parameter to control this behavior.\n",
      "  _warn_prf(average, modifier, msg_start, len(result))\n"
     ]
    },
    {
     "name": "stdout",
     "output_type": "stream",
     "text": [
      "LR Class Wise Accuracy :  [0.92857143 1.         0.6        1.         1.         0.05882353\n",
      " 0.08571429 0.         1.         0.63763066 1.         1.\n",
      " 0.90357143 1.         1.         0.99438202 0.         0.80666667]\n",
      "LR Time :  58.504016299993964\n"
     ]
    },
    {
     "name": "stderr",
     "output_type": "stream",
     "text": [
      "C:\\Users\\sali85\\Anaconda3\\lib\\site-packages\\sklearn\\metrics\\_classification.py:1221: UndefinedMetricWarning: Precision is ill-defined and being set to 0.0 in labels with no predicted samples. Use `zero_division` parameter to control this behavior.\n",
      "  _warn_prf(average, modifier, msg_start, len(result))\n"
     ]
    },
    {
     "name": "stdout",
     "output_type": "stream",
     "text": [
      "DT Class Wise Accuracy :  [0.80952381 0.97894737 0.6        1.         0.98969072 0.11764706\n",
      " 0.22857143 0.         1.         0.64808362 1.         1.\n",
      " 0.84821429 0.92307692 0.42857143 0.99438202 0.         0.79      ]\n",
      "DT Time :  6.685273199997027\n"
     ]
    },
    {
     "name": "stderr",
     "output_type": "stream",
     "text": [
      "C:\\Users\\sali85\\Anaconda3\\lib\\site-packages\\sklearn\\metrics\\_classification.py:1221: UndefinedMetricWarning: Precision is ill-defined and being set to 0.0 in labels with no predicted samples. Use `zero_division` parameter to control this behavior.\n",
      "  _warn_prf(average, modifier, msg_start, len(result))\n",
      "C:\\Users\\sali85\\Anaconda3\\lib\\site-packages\\sklearn\\metrics\\_classification.py:1221: UndefinedMetricWarning: Recall is ill-defined and being set to 0.0 in labels with no true samples. Use `zero_division` parameter to control this behavior.\n",
      "  _warn_prf(average, modifier, msg_start, len(result))\n",
      "<ipython-input-42-273c3866d82e>:93: RuntimeWarning: invalid value encountered in true_divide\n",
      "  print(\"SVM Class Wise Accuracy : \",confuse.diagonal()/confuse.sum(axis=1))\n"
     ]
    },
    {
     "name": "stdout",
     "output_type": "stream",
     "text": [
      "SVM Class Wise Accuracy :  [0.95238095 1.         0.8        1.         1.         0.05882353\n",
      " 0.11428571 0.         1.         0.61324042 1.         1.\n",
      " 0.89107143        nan 1.         0.71428571 0.99438202 0.\n",
      " 0.8       ]\n",
      "SVM Time :  146.5333157999994\n"
     ]
    },
    {
     "name": "stderr",
     "output_type": "stream",
     "text": [
      "C:\\Users\\sali85\\Anaconda3\\lib\\site-packages\\sklearn\\metrics\\_classification.py:1221: UndefinedMetricWarning: Precision is ill-defined and being set to 0.0 in labels with no predicted samples. Use `zero_division` parameter to control this behavior.\n",
      "  _warn_prf(average, modifier, msg_start, len(result))\n",
      "C:\\Users\\sali85\\Anaconda3\\lib\\site-packages\\sklearn\\metrics\\_classification.py:1221: UndefinedMetricWarning: Recall is ill-defined and being set to 0.0 in labels with no true samples. Use `zero_division` parameter to control this behavior.\n",
      "  _warn_prf(average, modifier, msg_start, len(result))\n",
      "<ipython-input-42-273c3866d82e>:130: RuntimeWarning: invalid value encountered in true_divide\n",
      "  print(\"NB Class Wise Accuracy : \",confuse.diagonal()/confuse.sum(axis=1))\n"
     ]
    },
    {
     "name": "stdout",
     "output_type": "stream",
     "text": [
      "NB Class Wise Accuracy :  [0.98113208 0.97029703 0.         0.91666667 0.95652174 0.\n",
      " 0.25806452 1.         0.8913738  1.         0.         0.5\n",
      " 0.23920863 0.         0.5        0.875      0.98445596 0.\n",
      "        nan 0.83985765]\n",
      "NB Time :  7.452626900005271\n"
     ]
    },
    {
     "name": "stderr",
     "output_type": "stream",
     "text": [
      "C:\\Users\\sali85\\Anaconda3\\lib\\site-packages\\sklearn\\metrics\\_classification.py:1221: UndefinedMetricWarning: Precision is ill-defined and being set to 0.0 in labels with no predicted samples. Use `zero_division` parameter to control this behavior.\n",
      "  _warn_prf(average, modifier, msg_start, len(result))\n"
     ]
    },
    {
     "name": "stdout",
     "output_type": "stream",
     "text": [
      "MLP Class Wise Accuracy :  [0.83018868 0.93069307 0.         1.         0.97826087 0.\n",
      " 0.25806452 1.         0.89456869 1.         0.         0.83333333\n",
      " 0.66007194 0.         0.83333333 0.875      0.98963731 0.\n",
      " 0.87188612]\n",
      "MLP Time :  50.80605370000558\n"
     ]
    },
    {
     "name": "stderr",
     "output_type": "stream",
     "text": [
      "C:\\Users\\sali85\\Anaconda3\\lib\\site-packages\\sklearn\\metrics\\_classification.py:1221: UndefinedMetricWarning: Precision is ill-defined and being set to 0.0 in labels with no predicted samples. Use `zero_division` parameter to control this behavior.\n",
      "  _warn_prf(average, modifier, msg_start, len(result))\n"
     ]
    },
    {
     "name": "stdout",
     "output_type": "stream",
     "text": [
      "KNN Class Wise Accuracy :  [0.69811321 0.96039604 1.         1.         0.98913043 0.\n",
      " 0.19354839 1.         0.71884984 1.         0.         1.\n",
      " 0.78776978 0.         0.83333333 1.         0.98963731 0.\n",
      " 0.81850534]\n",
      "KNN Time :  55.03435660000105\n"
     ]
    },
    {
     "name": "stderr",
     "output_type": "stream",
     "text": [
      "C:\\Users\\sali85\\Anaconda3\\lib\\site-packages\\sklearn\\metrics\\_classification.py:1221: UndefinedMetricWarning: Precision is ill-defined and being set to 0.0 in labels with no predicted samples. Use `zero_division` parameter to control this behavior.\n",
      "  _warn_prf(average, modifier, msg_start, len(result))\n"
     ]
    },
    {
     "name": "stdout",
     "output_type": "stream",
     "text": [
      "RF Class Wise Accuracy :  [0.96226415 1.         0.         1.         0.97826087 0.\n",
      " 0.16129032 1.         0.65175719 1.         0.         1.\n",
      " 0.86510791 0.         0.83333333 1.         0.99481865 0.\n",
      " 0.87544484]\n",
      "RF Time :  14.029309799996554\n"
     ]
    },
    {
     "name": "stderr",
     "output_type": "stream",
     "text": [
      "C:\\Users\\sali85\\Anaconda3\\lib\\site-packages\\sklearn\\metrics\\_classification.py:1221: UndefinedMetricWarning: Precision is ill-defined and being set to 0.0 in labels with no predicted samples. Use `zero_division` parameter to control this behavior.\n",
      "  _warn_prf(average, modifier, msg_start, len(result))\n"
     ]
    },
    {
     "name": "stdout",
     "output_type": "stream",
     "text": [
      "LR Class Wise Accuracy :  [0.94339623 1.         1.         1.         1.         0.\n",
      " 0.25806452 1.         0.66134185 1.         0.         1.\n",
      " 0.89028777 0.         1.         1.         0.99481865 0.\n",
      " 0.87900356]\n",
      "LR Time :  57.00175870000385\n"
     ]
    },
    {
     "name": "stderr",
     "output_type": "stream",
     "text": [
      "C:\\Users\\sali85\\Anaconda3\\lib\\site-packages\\sklearn\\metrics\\_classification.py:1221: UndefinedMetricWarning: Precision is ill-defined and being set to 0.0 in labels with no predicted samples. Use `zero_division` parameter to control this behavior.\n",
      "  _warn_prf(average, modifier, msg_start, len(result))\n",
      "C:\\Users\\sali85\\Anaconda3\\lib\\site-packages\\sklearn\\metrics\\_classification.py:1221: UndefinedMetricWarning: Recall is ill-defined and being set to 0.0 in labels with no true samples. Use `zero_division` parameter to control this behavior.\n",
      "  _warn_prf(average, modifier, msg_start, len(result))\n",
      "<ipython-input-42-273c3866d82e>:321: RuntimeWarning: invalid value encountered in true_divide\n",
      "  print(\"DT Class Wise Accuracy : \",confuse.diagonal()/confuse.sum(axis=1))\n"
     ]
    },
    {
     "name": "stdout",
     "output_type": "stream",
     "text": [
      "DT Class Wise Accuracy :  [0.83018868 0.97029703 0.         1.         0.9673913  0.\n",
      " 0.22580645 1.         0.62619808 1.         0.         1.\n",
      " 0.84352518 0.         0.5               nan 1.         0.98963731\n",
      " 0.                nan 0.8683274 ]\n",
      "DT Time :  6.374553299996478\n"
     ]
    },
    {
     "name": "stderr",
     "output_type": "stream",
     "text": [
      "C:\\Users\\sali85\\Anaconda3\\lib\\site-packages\\sklearn\\metrics\\_classification.py:1221: UndefinedMetricWarning: Precision is ill-defined and being set to 0.0 in labels with no predicted samples. Use `zero_division` parameter to control this behavior.\n",
      "  _warn_prf(average, modifier, msg_start, len(result))\n"
     ]
    },
    {
     "name": "stdout",
     "output_type": "stream",
     "text": [
      "SVM Class Wise Accuracy :  [0.96226415 1.         1.         1.         1.         0.\n",
      " 0.22580645 1.         0.63897764 1.         0.         1.\n",
      " 0.8705036  0.         0.83333333 1.         0.98963731 0.\n",
      " 0.87544484]\n",
      "SVM Time :  146.25968809999904\n"
     ]
    },
    {
     "name": "stderr",
     "output_type": "stream",
     "text": [
      "C:\\Users\\sali85\\Anaconda3\\lib\\site-packages\\sklearn\\metrics\\_classification.py:1221: UndefinedMetricWarning: Precision is ill-defined and being set to 0.0 in labels with no predicted samples. Use `zero_division` parameter to control this behavior.\n",
      "  _warn_prf(average, modifier, msg_start, len(result))\n",
      "C:\\Users\\sali85\\Anaconda3\\lib\\site-packages\\sklearn\\metrics\\_classification.py:1221: UndefinedMetricWarning: Recall is ill-defined and being set to 0.0 in labels with no true samples. Use `zero_division` parameter to control this behavior.\n",
      "  _warn_prf(average, modifier, msg_start, len(result))\n",
      "<ipython-input-42-273c3866d82e>:130: RuntimeWarning: invalid value encountered in true_divide\n",
      "  print(\"NB Class Wise Accuracy : \",confuse.diagonal()/confuse.sum(axis=1))\n"
     ]
    },
    {
     "name": "stdout",
     "output_type": "stream",
     "text": [
      "NB Class Wise Accuracy :  [0.95348837 0.95327103 1.         0.91666667 0.         0.97916667\n",
      " 0.11764706 0.28571429 1.         0.85294118 1.         0.\n",
      " 0.66666667 0.22021661 0.         0.625      0.         0.875\n",
      " 0.98780488        nan 0.83219178]\n",
      "NB Time :  7.302469299997028\n"
     ]
    },
    {
     "name": "stderr",
     "output_type": "stream",
     "text": [
      "C:\\Users\\sali85\\Anaconda3\\lib\\site-packages\\sklearn\\metrics\\_classification.py:1221: UndefinedMetricWarning: Precision is ill-defined and being set to 0.0 in labels with no predicted samples. Use `zero_division` parameter to control this behavior.\n",
      "  _warn_prf(average, modifier, msg_start, len(result))\n"
     ]
    },
    {
     "name": "stdout",
     "output_type": "stream",
     "text": [
      "MLP Class Wise Accuracy :  [0.8372093  0.95327103 1.         0.91666667 0.         1.\n",
      " 0.         0.28571429 1.         0.65359477 1.         0.\n",
      " 0.66666667 0.91877256 0.         0.875      1.         0.875\n",
      " 0.98780488 0.71917808]\n",
      "MLP Time :  74.42965340000228\n"
     ]
    },
    {
     "name": "stderr",
     "output_type": "stream",
     "text": [
      "C:\\Users\\sali85\\Anaconda3\\lib\\site-packages\\sklearn\\metrics\\_classification.py:1221: UndefinedMetricWarning: Precision is ill-defined and being set to 0.0 in labels with no predicted samples. Use `zero_division` parameter to control this behavior.\n",
      "  _warn_prf(average, modifier, msg_start, len(result))\n"
     ]
    },
    {
     "name": "stdout",
     "output_type": "stream",
     "text": [
      "KNN Class Wise Accuracy :  [0.69767442 0.93457944 0.         1.         0.         1.\n",
      " 0.         0.14285714 1.         0.67973856 1.         0.\n",
      " 0.66666667 0.80866426 0.         1.         0.         0.875\n",
      " 0.98780488 0.75684932]\n",
      "KNN Time :  52.182353699994565\n"
     ]
    },
    {
     "name": "stderr",
     "output_type": "stream",
     "text": [
      "C:\\Users\\sali85\\Anaconda3\\lib\\site-packages\\sklearn\\metrics\\_classification.py:1221: UndefinedMetricWarning: Precision is ill-defined and being set to 0.0 in labels with no predicted samples. Use `zero_division` parameter to control this behavior.\n",
      "  _warn_prf(average, modifier, msg_start, len(result))\n"
     ]
    },
    {
     "name": "stdout",
     "output_type": "stream",
     "text": [
      "RF Class Wise Accuracy :  [0.95348837 0.95327103 1.         1.         0.         1.\n",
      " 0.         0.2        1.         0.67973856 1.         0.\n",
      " 0.66666667 0.89530686 0.         1.         1.         0.875\n",
      " 0.99390244 0.74315068]\n",
      "RF Time :  13.231806199997663\n"
     ]
    },
    {
     "name": "stderr",
     "output_type": "stream",
     "text": [
      "C:\\Users\\sali85\\Anaconda3\\lib\\site-packages\\sklearn\\metrics\\_classification.py:1221: UndefinedMetricWarning: Precision is ill-defined and being set to 0.0 in labels with no predicted samples. Use `zero_division` parameter to control this behavior.\n",
      "  _warn_prf(average, modifier, msg_start, len(result))\n"
     ]
    },
    {
     "name": "stdout",
     "output_type": "stream",
     "text": [
      "LR Class Wise Accuracy :  [0.93023256 0.98130841 1.         1.         0.         1.\n",
      " 0.         0.25714286 1.         0.66993464 1.         0.\n",
      " 0.66666667 0.92238267 0.         0.875      1.         0.875\n",
      " 0.99390244 0.74315068]\n",
      "LR Time :  58.929849000000104\n"
     ]
    },
    {
     "name": "stderr",
     "output_type": "stream",
     "text": [
      "C:\\Users\\sali85\\Anaconda3\\lib\\site-packages\\sklearn\\metrics\\_classification.py:1221: UndefinedMetricWarning: Precision is ill-defined and being set to 0.0 in labels with no predicted samples. Use `zero_division` parameter to control this behavior.\n",
      "  _warn_prf(average, modifier, msg_start, len(result))\n"
     ]
    },
    {
     "name": "stdout",
     "output_type": "stream",
     "text": [
      "DT Class Wise Accuracy :  [0.81395349 0.93457944 1.         0.95833333 0.         1.\n",
      " 0.         0.22857143 0.33333333 0.64705882 1.         0.\n",
      " 0.66666667 0.86823105 0.         1.         1.         0.875\n",
      " 0.98170732 0.74315068]\n",
      "DT Time :  7.034763499999826\n"
     ]
    },
    {
     "name": "stderr",
     "output_type": "stream",
     "text": [
      "C:\\Users\\sali85\\Anaconda3\\lib\\site-packages\\sklearn\\metrics\\_classification.py:1221: UndefinedMetricWarning: Precision is ill-defined and being set to 0.0 in labels with no predicted samples. Use `zero_division` parameter to control this behavior.\n",
      "  _warn_prf(average, modifier, msg_start, len(result))\n"
     ]
    },
    {
     "name": "stdout",
     "output_type": "stream",
     "text": [
      "SVM Class Wise Accuracy :  [0.95348837 0.98130841 1.         1.         0.         1.\n",
      " 0.11764706 0.28571429 1.         0.66993464 1.         0.\n",
      " 0.66666667 0.8898917  0.         0.875      1.         0.875\n",
      " 0.98780488 0.73972603]\n",
      "SVM Time :  153.45718549999583\n"
     ]
    },
    {
     "name": "stderr",
     "output_type": "stream",
     "text": [
      "C:\\Users\\sali85\\Anaconda3\\lib\\site-packages\\sklearn\\metrics\\_classification.py:1221: UndefinedMetricWarning: Precision is ill-defined and being set to 0.0 in labels with no predicted samples. Use `zero_division` parameter to control this behavior.\n",
      "  _warn_prf(average, modifier, msg_start, len(result))\n",
      "C:\\Users\\sali85\\Anaconda3\\lib\\site-packages\\sklearn\\metrics\\_classification.py:1221: UndefinedMetricWarning: Recall is ill-defined and being set to 0.0 in labels with no true samples. Use `zero_division` parameter to control this behavior.\n",
      "  _warn_prf(average, modifier, msg_start, len(result))\n",
      "<ipython-input-42-273c3866d82e>:130: RuntimeWarning: invalid value encountered in true_divide\n",
      "  print(\"NB Class Wise Accuracy : \",confuse.diagonal()/confuse.sum(axis=1))\n"
     ]
    },
    {
     "name": "stdout",
     "output_type": "stream",
     "text": [
      "NB Class Wise Accuracy :  [1.         0.92241379 0.66666667 0.96153846 0.95652174 0.09090909\n",
      " 0.17073171 0.2        0.78095238 1.         0.         0.33333333\n",
      " 0.2985348         nan 0.71428571 0.77777778 0.99342105        nan\n",
      " 0.84511785]\n",
      "NB Time :  7.799423199998273\n"
     ]
    },
    {
     "name": "stderr",
     "output_type": "stream",
     "text": [
      "C:\\Users\\sali85\\Anaconda3\\lib\\site-packages\\sklearn\\metrics\\_classification.py:1221: UndefinedMetricWarning: Precision is ill-defined and being set to 0.0 in labels with no predicted samples. Use `zero_division` parameter to control this behavior.\n",
      "  _warn_prf(average, modifier, msg_start, len(result))\n",
      "C:\\Users\\sali85\\Anaconda3\\lib\\site-packages\\sklearn\\metrics\\_classification.py:1221: UndefinedMetricWarning: Recall is ill-defined and being set to 0.0 in labels with no true samples. Use `zero_division` parameter to control this behavior.\n",
      "  _warn_prf(average, modifier, msg_start, len(result))\n",
      "<ipython-input-42-273c3866d82e>:174: RuntimeWarning: invalid value encountered in true_divide\n",
      "  print(\"MLP Class Wise Accuracy : \",confuse.diagonal()/confuse.sum(axis=1))\n"
     ]
    },
    {
     "name": "stdout",
     "output_type": "stream",
     "text": [
      "MLP Class Wise Accuracy :  [0.92307692 0.93965517 0.33333333 0.96153846        nan 0.9673913\n",
      " 0.09090909 0.29268293        nan 0.         0.68253968 0.\n",
      " 0.         0.5        0.84065934 1.         0.77777778 0.99342105\n",
      " 0.88215488]\n"
     ]
    },
    {
     "name": "stderr",
     "output_type": "stream",
     "text": [
      "C:\\Users\\sali85\\Anaconda3\\lib\\site-packages\\sklearn\\metrics\\_classification.py:1221: UndefinedMetricWarning: Precision is ill-defined and being set to 0.0 in labels with no predicted samples. Use `zero_division` parameter to control this behavior.\n",
      "  _warn_prf(average, modifier, msg_start, len(result))\n"
     ]
    },
    {
     "name": "stdout",
     "output_type": "stream",
     "text": [
      "MLP Time :  81.11917540000286\n",
      "KNN Class Wise Accuracy :  [0.79487179 0.94827586 0.         1.         1.         0.\n",
      " 0.24390244 0.         0.72698413 1.         0.         0.5\n",
      " 0.69230769 1.         0.44444444 0.97368421 0.8989899 ]\n",
      "KNN Time :  58.52300980000291\n"
     ]
    },
    {
     "name": "stderr",
     "output_type": "stream",
     "text": [
      "C:\\Users\\sali85\\Anaconda3\\lib\\site-packages\\sklearn\\metrics\\_classification.py:1221: UndefinedMetricWarning: Precision is ill-defined and being set to 0.0 in labels with no predicted samples. Use `zero_division` parameter to control this behavior.\n",
      "  _warn_prf(average, modifier, msg_start, len(result))\n"
     ]
    },
    {
     "name": "stdout",
     "output_type": "stream",
     "text": [
      "RF Class Wise Accuracy :  [0.97435897 0.98275862 0.66666667 1.         1.         0.\n",
      " 0.26829268 1.         0.64761905 1.         0.         0.5\n",
      " 0.87728938 1.         1.         1.         0.83838384]\n",
      "RF Time :  13.484551699999429\n"
     ]
    },
    {
     "name": "stderr",
     "output_type": "stream",
     "text": [
      "C:\\Users\\sali85\\Anaconda3\\lib\\site-packages\\sklearn\\metrics\\_classification.py:1221: UndefinedMetricWarning: Precision is ill-defined and being set to 0.0 in labels with no predicted samples. Use `zero_division` parameter to control this behavior.\n",
      "  _warn_prf(average, modifier, msg_start, len(result))\n"
     ]
    },
    {
     "name": "stdout",
     "output_type": "stream",
     "text": [
      "LR Class Wise Accuracy :  [0.94871795 0.96551724 1.         1.         1.         0.\n",
      " 0.34146341 1.         0.65714286 1.         0.         0.5\n",
      " 0.88644689 1.         1.         1.         0.84175084]\n",
      "LR Time :  62.08304639999551\n"
     ]
    },
    {
     "name": "stderr",
     "output_type": "stream",
     "text": [
      "C:\\Users\\sali85\\Anaconda3\\lib\\site-packages\\sklearn\\metrics\\_classification.py:1221: UndefinedMetricWarning: Precision is ill-defined and being set to 0.0 in labels with no predicted samples. Use `zero_division` parameter to control this behavior.\n",
      "  _warn_prf(average, modifier, msg_start, len(result))\n",
      "C:\\Users\\sali85\\Anaconda3\\lib\\site-packages\\sklearn\\metrics\\_classification.py:1221: UndefinedMetricWarning: Recall is ill-defined and being set to 0.0 in labels with no true samples. Use `zero_division` parameter to control this behavior.\n",
      "  _warn_prf(average, modifier, msg_start, len(result))\n",
      "<ipython-input-42-273c3866d82e>:321: RuntimeWarning: invalid value encountered in true_divide\n",
      "  print(\"DT Class Wise Accuracy : \",confuse.diagonal()/confuse.sum(axis=1))\n"
     ]
    },
    {
     "name": "stdout",
     "output_type": "stream",
     "text": [
      "DT Class Wise Accuracy :  [0.82051282 0.93103448 0.66666667 1.         0.98913043 0.\n",
      " 0.29268293 1.         0.62222222 1.         0.         0.5\n",
      " 0.86630037        nan 0.71428571 0.77777778 0.98026316 0.8047138 ]\n",
      "DT Time :  6.662034999993921\n"
     ]
    },
    {
     "name": "stderr",
     "output_type": "stream",
     "text": [
      "C:\\Users\\sali85\\Anaconda3\\lib\\site-packages\\sklearn\\metrics\\_classification.py:1221: UndefinedMetricWarning: Precision is ill-defined and being set to 0.0 in labels with no predicted samples. Use `zero_division` parameter to control this behavior.\n",
      "  _warn_prf(average, modifier, msg_start, len(result))\n",
      "C:\\Users\\sali85\\Anaconda3\\lib\\site-packages\\sklearn\\metrics\\_classification.py:1221: UndefinedMetricWarning: Recall is ill-defined and being set to 0.0 in labels with no true samples. Use `zero_division` parameter to control this behavior.\n",
      "  _warn_prf(average, modifier, msg_start, len(result))\n",
      "<ipython-input-42-273c3866d82e>:93: RuntimeWarning: invalid value encountered in true_divide\n",
      "  print(\"SVM Class Wise Accuracy : \",confuse.diagonal()/confuse.sum(axis=1))\n"
     ]
    },
    {
     "name": "stdout",
     "output_type": "stream",
     "text": [
      "SVM Class Wise Accuracy :  [0.97435897 0.98275862 1.         1.         1.         0.\n",
      " 0.34146341 1.         0.61904762 1.         0.         0.5\n",
      " 0.87912088        nan 1.         1.         1.         0.83838384]\n",
      "SVM Time :  145.62727160000213\n"
     ]
    },
    {
     "name": "stderr",
     "output_type": "stream",
     "text": [
      "C:\\Users\\sali85\\Anaconda3\\lib\\site-packages\\sklearn\\metrics\\_classification.py:1221: UndefinedMetricWarning: Precision is ill-defined and being set to 0.0 in labels with no predicted samples. Use `zero_division` parameter to control this behavior.\n",
      "  _warn_prf(average, modifier, msg_start, len(result))\n"
     ]
    },
    {
     "name": "stdout",
     "output_type": "stream",
     "text": [
      "NB Class Wise Accuracy :  [1.         1.         1.         1.         0.92631579 0.15384615\n",
      " 0.20930233 1.         0.9201278  1.         0.33333333 0.25668449\n",
      " 0.         0.33333333 1.         0.95092025 0.         0.82711864]\n",
      "NB Time :  8.226271100000304\n"
     ]
    },
    {
     "name": "stderr",
     "output_type": "stream",
     "text": [
      "C:\\Users\\sali85\\Anaconda3\\lib\\site-packages\\sklearn\\metrics\\_classification.py:1221: UndefinedMetricWarning: Precision is ill-defined and being set to 0.0 in labels with no predicted samples. Use `zero_division` parameter to control this behavior.\n",
      "  _warn_prf(average, modifier, msg_start, len(result))\n",
      "C:\\Users\\sali85\\Anaconda3\\lib\\site-packages\\sklearn\\metrics\\_classification.py:1221: UndefinedMetricWarning: Recall is ill-defined and being set to 0.0 in labels with no true samples. Use `zero_division` parameter to control this behavior.\n",
      "  _warn_prf(average, modifier, msg_start, len(result))\n",
      "<ipython-input-42-273c3866d82e>:174: RuntimeWarning: invalid value encountered in true_divide\n",
      "  print(\"MLP Class Wise Accuracy : \",confuse.diagonal()/confuse.sum(axis=1))\n"
     ]
    },
    {
     "name": "stdout",
     "output_type": "stream",
     "text": [
      "MLP Class Wise Accuracy :  [0.73913043 0.98876404 1.         1.                nan 0.97894737\n",
      " 0.07692308 0.25581395 1.         0.70926518 1.         0.55555556\n",
      " 0.84848485 0.         0.33333333 0.66666667 0.96932515 0.\n",
      " 0.85762712]\n"
     ]
    },
    {
     "name": "stderr",
     "output_type": "stream",
     "text": [
      "C:\\Users\\sali85\\Anaconda3\\lib\\site-packages\\sklearn\\metrics\\_classification.py:1221: UndefinedMetricWarning: Precision is ill-defined and being set to 0.0 in labels with no predicted samples. Use `zero_division` parameter to control this behavior.\n",
      "  _warn_prf(average, modifier, msg_start, len(result))\n"
     ]
    },
    {
     "name": "stdout",
     "output_type": "stream",
     "text": [
      "MLP Time :  54.34536820000358\n",
      "KNN Class Wise Accuracy :  [0.84782609 0.96629213 0.33333333 1.         0.98947368 0.\n",
      " 0.3255814  1.         0.65495208 1.         0.66666667 0.78966132\n",
      " 0.         0.66666667 1.         0.96932515 0.         0.81355932]\n",
      "KNN Time :  56.37722239999857\n"
     ]
    },
    {
     "name": "stderr",
     "output_type": "stream",
     "text": [
      "C:\\Users\\sali85\\Anaconda3\\lib\\site-packages\\sklearn\\metrics\\_classification.py:1221: UndefinedMetricWarning: Precision is ill-defined and being set to 0.0 in labels with no predicted samples. Use `zero_division` parameter to control this behavior.\n",
      "  _warn_prf(average, modifier, msg_start, len(result))\n"
     ]
    },
    {
     "name": "stdout",
     "output_type": "stream",
     "text": [
      "RF Class Wise Accuracy :  [1.         1.         1.         1.         0.97894737 0.07692308\n",
      " 0.27906977 1.         0.67092652 1.         0.66666667 0.86096257\n",
      " 0.         0.66666667 1.         0.97546012 0.         0.86440678]\n",
      "RF Time :  14.072123799996916\n"
     ]
    },
    {
     "name": "stderr",
     "output_type": "stream",
     "text": [
      "C:\\Users\\sali85\\Anaconda3\\lib\\site-packages\\sklearn\\metrics\\_classification.py:1221: UndefinedMetricWarning: Precision is ill-defined and being set to 0.0 in labels with no predicted samples. Use `zero_division` parameter to control this behavior.\n",
      "  _warn_prf(average, modifier, msg_start, len(result))\n"
     ]
    },
    {
     "name": "stdout",
     "output_type": "stream",
     "text": [
      "LR Class Wise Accuracy :  [1.         1.         1.         1.         0.98947368 0.07692308\n",
      " 0.37209302 1.         0.68370607 1.         0.66666667 0.89839572\n",
      " 0.         1.         1.         0.96932515 0.         0.82711864]\n",
      "LR Time :  65.48867900000187\n"
     ]
    },
    {
     "name": "stderr",
     "output_type": "stream",
     "text": [
      "C:\\Users\\sali85\\Anaconda3\\lib\\site-packages\\sklearn\\metrics\\_classification.py:1221: UndefinedMetricWarning: Precision is ill-defined and being set to 0.0 in labels with no predicted samples. Use `zero_division` parameter to control this behavior.\n",
      "  _warn_prf(average, modifier, msg_start, len(result))\n",
      "C:\\Users\\sali85\\Anaconda3\\lib\\site-packages\\sklearn\\metrics\\_classification.py:1221: UndefinedMetricWarning: Recall is ill-defined and being set to 0.0 in labels with no true samples. Use `zero_division` parameter to control this behavior.\n",
      "  _warn_prf(average, modifier, msg_start, len(result))\n",
      "<ipython-input-42-273c3866d82e>:321: RuntimeWarning: invalid value encountered in true_divide\n",
      "  print(\"DT Class Wise Accuracy : \",confuse.diagonal()/confuse.sum(axis=1))\n"
     ]
    },
    {
     "name": "stdout",
     "output_type": "stream",
     "text": [
      "DT Class Wise Accuracy :  [0.7826087  0.95505618 1.         1.         0.97894737 0.07692308\n",
      " 0.34883721        nan 0.66666667 0.67731629 1.                nan\n",
      " 0.55555556 0.81461676 0.         0.66666667 0.33333333 0.93865031\n",
      " 0.         0.85762712]\n",
      "DT Time :  6.824319600003946\n"
     ]
    },
    {
     "name": "stderr",
     "output_type": "stream",
     "text": [
      "C:\\Users\\sali85\\Anaconda3\\lib\\site-packages\\sklearn\\metrics\\_classification.py:1221: UndefinedMetricWarning: Precision is ill-defined and being set to 0.0 in labels with no predicted samples. Use `zero_division` parameter to control this behavior.\n",
      "  _warn_prf(average, modifier, msg_start, len(result))\n"
     ]
    },
    {
     "name": "stdout",
     "output_type": "stream",
     "text": [
      "SVM Class Wise Accuracy :  [1.         1.         1.         1.         0.97894737 0.07692308\n",
      " 0.39534884 1.         0.65495208 1.         0.66666667 0.84848485\n",
      " 0.         0.66666667 1.         0.96932515 0.         0.86440678]\n",
      "SVM Time :  147.5404675000027\n"
     ]
    },
    {
     "name": "stderr",
     "output_type": "stream",
     "text": [
      "C:\\Users\\sali85\\Anaconda3\\lib\\site-packages\\sklearn\\metrics\\_classification.py:1221: UndefinedMetricWarning: Precision is ill-defined and being set to 0.0 in labels with no predicted samples. Use `zero_division` parameter to control this behavior.\n",
      "  _warn_prf(average, modifier, msg_start, len(result))\n"
     ]
    },
    {
     "name": "stdout",
     "output_type": "stream",
     "text": [
      "NB Class Wise Accuracy :  [1.         1.         0.         0.9375     0.94623656 0.18181818\n",
      " 0.13888889 1.         0.90460526 0.75       0.26553672 0.\n",
      " 0.625      0.         0.57142857 0.97159091 0.         0.83      ]\n",
      "NB Time :  7.897762000000512\n"
     ]
    },
    {
     "name": "stderr",
     "output_type": "stream",
     "text": [
      "C:\\Users\\sali85\\Anaconda3\\lib\\site-packages\\sklearn\\metrics\\_classification.py:1221: UndefinedMetricWarning: Precision is ill-defined and being set to 0.0 in labels with no predicted samples. Use `zero_division` parameter to control this behavior.\n",
      "  _warn_prf(average, modifier, msg_start, len(result))\n"
     ]
    },
    {
     "name": "stdout",
     "output_type": "stream",
     "text": [
      "MLP Class Wise Accuracy :  [0.8627451  0.97142857 0.         0.875      0.97849462 0.09090909\n",
      " 0.19444444 1.         0.76644737 0.75       0.83615819 0.\n",
      " 0.875      0.         0.57142857 0.98295455 0.         0.75      ]\n"
     ]
    },
    {
     "name": "stderr",
     "output_type": "stream",
     "text": [
      "C:\\Users\\sali85\\Anaconda3\\lib\\site-packages\\sklearn\\metrics\\_classification.py:1221: UndefinedMetricWarning: Precision is ill-defined and being set to 0.0 in labels with no predicted samples. Use `zero_division` parameter to control this behavior.\n",
      "  _warn_prf(average, modifier, msg_start, len(result))\n"
     ]
    },
    {
     "name": "stdout",
     "output_type": "stream",
     "text": [
      "MLP Time :  69.90478730000177\n",
      "KNN Class Wise Accuracy :  [0.7254902  0.97142857 1.         0.90625    0.96774194 0.\n",
      " 0.16666667 1.         0.74671053 0.875      0.77212806 0.\n",
      " 0.875      0.         0.71428571 0.99431818 0.         0.76333333]\n",
      "KNN Time :  53.299780200002715\n"
     ]
    },
    {
     "name": "stderr",
     "output_type": "stream",
     "text": [
      "C:\\Users\\sali85\\Anaconda3\\lib\\site-packages\\sklearn\\metrics\\_classification.py:1221: UndefinedMetricWarning: Precision is ill-defined and being set to 0.0 in labels with no predicted samples. Use `zero_division` parameter to control this behavior.\n",
      "  _warn_prf(average, modifier, msg_start, len(result))\n"
     ]
    },
    {
     "name": "stdout",
     "output_type": "stream",
     "text": [
      "RF Class Wise Accuracy :  [0.94117647 1.         1.         1.         0.98924731 0.09090909\n",
      " 0.16666667 1.         0.68092105 0.75       0.89077213 0.\n",
      " 1.         1.         0.85714286 0.99431818 0.         0.76666667]\n",
      "RF Time :  13.213049899997714\n"
     ]
    },
    {
     "name": "stderr",
     "output_type": "stream",
     "text": [
      "C:\\Users\\sali85\\Anaconda3\\lib\\site-packages\\sklearn\\metrics\\_classification.py:1221: UndefinedMetricWarning: Precision is ill-defined and being set to 0.0 in labels with no predicted samples. Use `zero_division` parameter to control this behavior.\n",
      "  _warn_prf(average, modifier, msg_start, len(result))\n"
     ]
    },
    {
     "name": "stdout",
     "output_type": "stream",
     "text": [
      "LR Class Wise Accuracy :  [0.92156863 1.         1.         1.         1.         0.09090909\n",
      " 0.30555556 1.         0.66118421 1.         0.90772128 0.\n",
      " 0.875      1.         0.85714286 0.98863636 0.         0.79666667]\n",
      "LR Time :  61.634684900003776\n"
     ]
    },
    {
     "name": "stderr",
     "output_type": "stream",
     "text": [
      "C:\\Users\\sali85\\Anaconda3\\lib\\site-packages\\sklearn\\metrics\\_classification.py:1221: UndefinedMetricWarning: Precision is ill-defined and being set to 0.0 in labels with no predicted samples. Use `zero_division` parameter to control this behavior.\n",
      "  _warn_prf(average, modifier, msg_start, len(result))\n",
      "C:\\Users\\sali85\\Anaconda3\\lib\\site-packages\\sklearn\\metrics\\_classification.py:1221: UndefinedMetricWarning: Recall is ill-defined and being set to 0.0 in labels with no true samples. Use `zero_division` parameter to control this behavior.\n",
      "  _warn_prf(average, modifier, msg_start, len(result))\n",
      "<ipython-input-42-273c3866d82e>:321: RuntimeWarning: invalid value encountered in true_divide\n",
      "  print(\"DT Class Wise Accuracy : \",confuse.diagonal()/confuse.sum(axis=1))\n"
     ]
    },
    {
     "name": "stdout",
     "output_type": "stream",
     "text": [
      "DT Class Wise Accuracy :  [0.76470588 0.96190476 0.         1.         0.98924731 0.09090909\n",
      " 0.25       0.5        0.63486842        nan 1.         0.84934087\n",
      " 0.         0.875      0.         0.71428571 0.97727273        nan\n",
      " 0.         0.78333333]\n",
      "DT Time :  6.752103999999235\n"
     ]
    },
    {
     "name": "stderr",
     "output_type": "stream",
     "text": [
      "C:\\Users\\sali85\\Anaconda3\\lib\\site-packages\\sklearn\\metrics\\_classification.py:1221: UndefinedMetricWarning: Precision is ill-defined and being set to 0.0 in labels with no predicted samples. Use `zero_division` parameter to control this behavior.\n",
      "  _warn_prf(average, modifier, msg_start, len(result))\n"
     ]
    },
    {
     "name": "stdout",
     "output_type": "stream",
     "text": [
      "SVM Class Wise Accuracy :  [0.94117647 1.         1.         1.         1.         0.09090909\n",
      " 0.33333333 1.         0.63815789 1.         0.92090395 0.\n",
      " 0.875      1.         0.85714286 0.98863636 0.         0.74666667]\n",
      "SVM Time :  157.1981336999961\n"
     ]
    },
    {
     "name": "stderr",
     "output_type": "stream",
     "text": [
      "C:\\Users\\sali85\\Anaconda3\\lib\\site-packages\\sklearn\\metrics\\_classification.py:1221: UndefinedMetricWarning: Precision is ill-defined and being set to 0.0 in labels with no predicted samples. Use `zero_division` parameter to control this behavior.\n",
      "  _warn_prf(average, modifier, msg_start, len(result))\n",
      "C:\\Users\\sali85\\Anaconda3\\lib\\site-packages\\sklearn\\metrics\\_classification.py:1221: UndefinedMetricWarning: Recall is ill-defined and being set to 0.0 in labels with no true samples. Use `zero_division` parameter to control this behavior.\n",
      "  _warn_prf(average, modifier, msg_start, len(result))\n",
      "<ipython-input-42-273c3866d82e>:130: RuntimeWarning: invalid value encountered in true_divide\n",
      "  print(\"NB Class Wise Accuracy : \",confuse.diagonal()/confuse.sum(axis=1))\n"
     ]
    },
    {
     "name": "stdout",
     "output_type": "stream",
     "text": [
      "NB Class Wise Accuracy :  [1.         0.97115385 0.66666667 1.         0.         0.95833333\n",
      " 0.25       0.24390244 1.         0.79813665 0.         0.5\n",
      " 0.23529412        nan 0.66666667 0.         0.71428571 0.98013245\n",
      "        nan 0.7987013 ]\n",
      "NB Time :  7.706099899995024\n"
     ]
    },
    {
     "name": "stderr",
     "output_type": "stream",
     "text": [
      "C:\\Users\\sali85\\Anaconda3\\lib\\site-packages\\sklearn\\metrics\\_classification.py:1221: UndefinedMetricWarning: Precision is ill-defined and being set to 0.0 in labels with no predicted samples. Use `zero_division` parameter to control this behavior.\n",
      "  _warn_prf(average, modifier, msg_start, len(result))\n"
     ]
    },
    {
     "name": "stdout",
     "output_type": "stream",
     "text": [
      "MLP Class Wise Accuracy :  [0.86956522 0.95192308 1.         1.         0.         0.97916667\n",
      " 0.125      0.24390244 0.         0.82608696 0.         0.5\n",
      " 0.68198529 0.66666667 0.         0.71428571 0.99337748 0.83116883]\n",
      "MLP Time :  51.293974699998216\n"
     ]
    },
    {
     "name": "stderr",
     "output_type": "stream",
     "text": [
      "C:\\Users\\sali85\\Anaconda3\\lib\\site-packages\\sklearn\\metrics\\_classification.py:1221: UndefinedMetricWarning: Precision is ill-defined and being set to 0.0 in labels with no predicted samples. Use `zero_division` parameter to control this behavior.\n",
      "  _warn_prf(average, modifier, msg_start, len(result))\n"
     ]
    },
    {
     "name": "stdout",
     "output_type": "stream",
     "text": [
      "KNN Class Wise Accuracy :  [0.69565217 0.99038462 0.         1.         0.         0.96875\n",
      " 0.         0.31707317 1.         0.66459627 0.         0.75\n",
      " 0.74632353 0.66666667 0.         0.71428571 0.99337748 0.81818182]\n",
      "KNN Time :  58.05207419999351\n"
     ]
    },
    {
     "name": "stderr",
     "output_type": "stream",
     "text": [
      "C:\\Users\\sali85\\Anaconda3\\lib\\site-packages\\sklearn\\metrics\\_classification.py:1221: UndefinedMetricWarning: Precision is ill-defined and being set to 0.0 in labels with no predicted samples. Use `zero_division` parameter to control this behavior.\n",
      "  _warn_prf(average, modifier, msg_start, len(result))\n"
     ]
    },
    {
     "name": "stdout",
     "output_type": "stream",
     "text": [
      "RF Class Wise Accuracy :  [0.95652174 1.         1.         1.         0.         0.98958333\n",
      " 0.125      0.17073171 1.         0.72670807 0.         0.75\n",
      " 0.86764706 0.66666667 1.         0.85714286 0.99337748 0.81493506]\n",
      "RF Time :  13.295939499999804\n"
     ]
    },
    {
     "name": "stderr",
     "output_type": "stream",
     "text": [
      "C:\\Users\\sali85\\Anaconda3\\lib\\site-packages\\sklearn\\metrics\\_classification.py:1221: UndefinedMetricWarning: Precision is ill-defined and being set to 0.0 in labels with no predicted samples. Use `zero_division` parameter to control this behavior.\n",
      "  _warn_prf(average, modifier, msg_start, len(result))\n"
     ]
    },
    {
     "name": "stdout",
     "output_type": "stream",
     "text": [
      "LR Class Wise Accuracy :  [0.95652174 0.98076923 1.         1.         0.         1.\n",
      " 0.125      0.29268293 1.         0.72670807 0.         1.\n",
      " 0.87132353 0.66666667 1.         0.85714286 0.99337748 0.84415584]\n",
      "LR Time :  62.48512350000237\n"
     ]
    },
    {
     "name": "stderr",
     "output_type": "stream",
     "text": [
      "C:\\Users\\sali85\\Anaconda3\\lib\\site-packages\\sklearn\\metrics\\_classification.py:1221: UndefinedMetricWarning: Precision is ill-defined and being set to 0.0 in labels with no predicted samples. Use `zero_division` parameter to control this behavior.\n",
      "  _warn_prf(average, modifier, msg_start, len(result))\n",
      "C:\\Users\\sali85\\Anaconda3\\lib\\site-packages\\sklearn\\metrics\\_classification.py:1221: UndefinedMetricWarning: Recall is ill-defined and being set to 0.0 in labels with no true samples. Use `zero_division` parameter to control this behavior.\n",
      "  _warn_prf(average, modifier, msg_start, len(result))\n",
      "<ipython-input-42-273c3866d82e>:321: RuntimeWarning: invalid value encountered in true_divide\n",
      "  print(\"DT Class Wise Accuracy : \",confuse.diagonal()/confuse.sum(axis=1))\n"
     ]
    },
    {
     "name": "stdout",
     "output_type": "stream",
     "text": [
      "DT Class Wise Accuracy :  [0.82608696 0.95192308 1.         0.96       0.         0.96875\n",
      " 0.125      0.29268293 1.         0.68322981 1.         0.75\n",
      " 0.84375           nan 0.66666667 1.         0.71428571 0.98675497\n",
      " 0.82792208]\n",
      "DT Time :  6.867823799999314\n"
     ]
    },
    {
     "name": "stderr",
     "output_type": "stream",
     "text": [
      "C:\\Users\\sali85\\Anaconda3\\lib\\site-packages\\sklearn\\metrics\\_classification.py:1221: UndefinedMetricWarning: Precision is ill-defined and being set to 0.0 in labels with no predicted samples. Use `zero_division` parameter to control this behavior.\n",
      "  _warn_prf(average, modifier, msg_start, len(result))\n",
      "C:\\Users\\sali85\\Anaconda3\\lib\\site-packages\\sklearn\\metrics\\_classification.py:1221: UndefinedMetricWarning: Recall is ill-defined and being set to 0.0 in labels with no true samples. Use `zero_division` parameter to control this behavior.\n",
      "  _warn_prf(average, modifier, msg_start, len(result))\n",
      "<ipython-input-42-273c3866d82e>:93: RuntimeWarning: invalid value encountered in true_divide\n",
      "  print(\"SVM Class Wise Accuracy : \",confuse.diagonal()/confuse.sum(axis=1))\n"
     ]
    },
    {
     "name": "stdout",
     "output_type": "stream",
     "text": [
      "SVM Class Wise Accuracy :  [0.95652174 0.98076923 1.         1.         0.         1.\n",
      " 0.125      0.26829268 1.         0.70807453 0.         1.\n",
      " 0.86764706        nan 0.66666667 1.         0.85714286 0.99337748\n",
      " 0.8474026 ]\n",
      "SVM Time :  161.3796050000019\n"
     ]
    },
    {
     "name": "stderr",
     "output_type": "stream",
     "text": [
      "C:\\Users\\sali85\\Anaconda3\\lib\\site-packages\\sklearn\\metrics\\_classification.py:1221: UndefinedMetricWarning: Precision is ill-defined and being set to 0.0 in labels with no predicted samples. Use `zero_division` parameter to control this behavior.\n",
      "  _warn_prf(average, modifier, msg_start, len(result))\n",
      "C:\\Users\\sali85\\Anaconda3\\lib\\site-packages\\sklearn\\metrics\\_classification.py:1221: UndefinedMetricWarning: Recall is ill-defined and being set to 0.0 in labels with no true samples. Use `zero_division` parameter to control this behavior.\n",
      "  _warn_prf(average, modifier, msg_start, len(result))\n",
      "<ipython-input-42-273c3866d82e>:130: RuntimeWarning: invalid value encountered in true_divide\n",
      "  print(\"NB Class Wise Accuracy : \",confuse.diagonal()/confuse.sum(axis=1))\n"
     ]
    },
    {
     "name": "stdout",
     "output_type": "stream",
     "text": [
      "NB Class Wise Accuracy :  [0.97959184 0.99115044 0.5        0.9047619  0.         0.90721649\n",
      " 0.09090909 0.18181818 1.         0.80769231 1.         0.\n",
      " 0.75       0.25272727        nan 0.85714286 0.83333333 0.98837209\n",
      " 0.                nan 0.83038869]\n",
      "NB Time :  7.662007300001278\n"
     ]
    },
    {
     "name": "stderr",
     "output_type": "stream",
     "text": [
      "C:\\Users\\sali85\\Anaconda3\\lib\\site-packages\\sklearn\\metrics\\_classification.py:1221: UndefinedMetricWarning: Precision is ill-defined and being set to 0.0 in labels with no predicted samples. Use `zero_division` parameter to control this behavior.\n",
      "  _warn_prf(average, modifier, msg_start, len(result))\n",
      "C:\\Users\\sali85\\Anaconda3\\lib\\site-packages\\sklearn\\metrics\\_classification.py:1221: UndefinedMetricWarning: Recall is ill-defined and being set to 0.0 in labels with no true samples. Use `zero_division` parameter to control this behavior.\n",
      "  _warn_prf(average, modifier, msg_start, len(result))\n",
      "<ipython-input-42-273c3866d82e>:174: RuntimeWarning: invalid value encountered in true_divide\n",
      "  print(\"MLP Class Wise Accuracy : \",confuse.diagonal()/confuse.sum(axis=1))\n"
     ]
    },
    {
     "name": "stdout",
     "output_type": "stream",
     "text": [
      "MLP Class Wise Accuracy :  [0.79591837 0.99115044 0.5        0.9047619  0.         0.95876289\n",
      " 0.         0.27272727 0.         0.66346154 1.         0.\n",
      " 0.75       0.86727273        nan 0.85714286 0.83333333 1.\n",
      " 0.         0.85159011]\n",
      "MLP Time :  61.82223360000353\n"
     ]
    },
    {
     "name": "stderr",
     "output_type": "stream",
     "text": [
      "C:\\Users\\sali85\\Anaconda3\\lib\\site-packages\\sklearn\\metrics\\_classification.py:1221: UndefinedMetricWarning: Precision is ill-defined and being set to 0.0 in labels with no predicted samples. Use `zero_division` parameter to control this behavior.\n",
      "  _warn_prf(average, modifier, msg_start, len(result))\n"
     ]
    },
    {
     "name": "stdout",
     "output_type": "stream",
     "text": [
      "KNN Class Wise Accuracy :  [0.73469388 0.99115044 0.         1.         0.         0.98969072\n",
      " 0.         0.18181818 1.         0.70833333 1.         0.\n",
      " 0.75       0.77636364 1.         0.83333333 1.         0.\n",
      " 0.81625442]\n",
      "KNN Time :  62.19489320000139\n"
     ]
    },
    {
     "name": "stderr",
     "output_type": "stream",
     "text": [
      "C:\\Users\\sali85\\Anaconda3\\lib\\site-packages\\sklearn\\metrics\\_classification.py:1221: UndefinedMetricWarning: Precision is ill-defined and being set to 0.0 in labels with no predicted samples. Use `zero_division` parameter to control this behavior.\n",
      "  _warn_prf(average, modifier, msg_start, len(result))\n"
     ]
    },
    {
     "name": "stdout",
     "output_type": "stream",
     "text": [
      "RF Class Wise Accuracy :  [0.87755102 1.         0.5        1.         0.         0.96907216\n",
      " 0.         0.15151515 1.         0.65384615 1.         0.\n",
      " 0.75       0.88       1.         1.         1.         0.\n",
      " 0.79151943]\n",
      "RF Time :  12.828493100001651\n"
     ]
    },
    {
     "name": "stderr",
     "output_type": "stream",
     "text": [
      "C:\\Users\\sali85\\Anaconda3\\lib\\site-packages\\sklearn\\metrics\\_classification.py:1221: UndefinedMetricWarning: Precision is ill-defined and being set to 0.0 in labels with no predicted samples. Use `zero_division` parameter to control this behavior.\n",
      "  _warn_prf(average, modifier, msg_start, len(result))\n"
     ]
    },
    {
     "name": "stdout",
     "output_type": "stream",
     "text": [
      "LR Class Wise Accuracy :  [0.79591837 1.         0.5        1.         0.         0.97938144\n",
      " 0.         0.21212121 1.         0.65705128 1.         0.\n",
      " 1.         0.89636364 0.85714286 1.         0.99418605 0.\n",
      " 0.83038869]\n",
      "LR Time :  59.883955099998275\n"
     ]
    },
    {
     "name": "stderr",
     "output_type": "stream",
     "text": [
      "C:\\Users\\sali85\\Anaconda3\\lib\\site-packages\\sklearn\\metrics\\_classification.py:1221: UndefinedMetricWarning: Precision is ill-defined and being set to 0.0 in labels with no predicted samples. Use `zero_division` parameter to control this behavior.\n",
      "  _warn_prf(average, modifier, msg_start, len(result))\n",
      "C:\\Users\\sali85\\Anaconda3\\lib\\site-packages\\sklearn\\metrics\\_classification.py:1221: UndefinedMetricWarning: Recall is ill-defined and being set to 0.0 in labels with no true samples. Use `zero_division` parameter to control this behavior.\n",
      "  _warn_prf(average, modifier, msg_start, len(result))\n",
      "<ipython-input-42-273c3866d82e>:321: RuntimeWarning: invalid value encountered in true_divide\n",
      "  print(\"DT Class Wise Accuracy : \",confuse.diagonal()/confuse.sum(axis=1))\n"
     ]
    },
    {
     "name": "stdout",
     "output_type": "stream",
     "text": [
      "DT Class Wise Accuracy :  [0.65306122 0.96460177 0.5        1.         0.         0.95876289\n",
      " 0.         0.24242424 1.         0.61858974 1.         0.\n",
      " 0.75       0.86181818        nan 0.85714286 1.         0.98255814\n",
      " 0.         0.80565371]\n",
      "DT Time :  7.232274300004065\n"
     ]
    },
    {
     "name": "stderr",
     "output_type": "stream",
     "text": [
      "C:\\Users\\sali85\\Anaconda3\\lib\\site-packages\\sklearn\\metrics\\_classification.py:1221: UndefinedMetricWarning: Precision is ill-defined and being set to 0.0 in labels with no predicted samples. Use `zero_division` parameter to control this behavior.\n",
      "  _warn_prf(average, modifier, msg_start, len(result))\n"
     ]
    },
    {
     "name": "stdout",
     "output_type": "stream",
     "text": [
      "SVM Class Wise Accuracy :  [0.91836735 1.         0.5        1.         0.         0.97938144\n",
      " 0.09090909 0.27272727 1.         0.63461538 1.         0.\n",
      " 1.         0.89818182 0.85714286 1.         0.99418605 0.\n",
      " 0.81625442]\n",
      "SVM Time :  155.1829291000031\n"
     ]
    },
    {
     "name": "stderr",
     "output_type": "stream",
     "text": [
      "C:\\Users\\sali85\\Anaconda3\\lib\\site-packages\\sklearn\\metrics\\_classification.py:1221: UndefinedMetricWarning: Precision is ill-defined and being set to 0.0 in labels with no predicted samples. Use `zero_division` parameter to control this behavior.\n",
      "  _warn_prf(average, modifier, msg_start, len(result))\n"
     ]
    },
    {
     "name": "stdout",
     "output_type": "stream",
     "text": [
      "NB Class Wise Accuracy :  [0.97916667 0.97142857 1.         1.         0.         0.95744681\n",
      " 0.08333333 0.21428571 0.90654206 1.         0.4        0.26887661\n",
      " 0.         0.55555556 0.71428571 0.98387097 0.         0.83032491]\n",
      "NB Time :  7.545099599999958\n"
     ]
    },
    {
     "name": "stderr",
     "output_type": "stream",
     "text": [
      "C:\\Users\\sali85\\Anaconda3\\lib\\site-packages\\sklearn\\metrics\\_classification.py:1221: UndefinedMetricWarning: Precision is ill-defined and being set to 0.0 in labels with no predicted samples. Use `zero_division` parameter to control this behavior.\n",
      "  _warn_prf(average, modifier, msg_start, len(result))\n",
      "C:\\Users\\sali85\\Anaconda3\\lib\\site-packages\\sklearn\\metrics\\_classification.py:1221: UndefinedMetricWarning: Recall is ill-defined and being set to 0.0 in labels with no true samples. Use `zero_division` parameter to control this behavior.\n",
      "  _warn_prf(average, modifier, msg_start, len(result))\n",
      "<ipython-input-42-273c3866d82e>:174: RuntimeWarning: invalid value encountered in true_divide\n",
      "  print(\"MLP Class Wise Accuracy : \",confuse.diagonal()/confuse.sum(axis=1))\n"
     ]
    },
    {
     "name": "stdout",
     "output_type": "stream",
     "text": [
      "MLP Class Wise Accuracy :  [0.875      0.98095238 1.         1.         0.         0.9893617\n",
      " 0.         0.17857143        nan 0.69158879 1.         1.\n",
      " 0.90239411 0.         0.88888889 0.71428571 0.99462366 0.\n",
      " 0.72924188]\n"
     ]
    },
    {
     "name": "stderr",
     "output_type": "stream",
     "text": [
      "C:\\Users\\sali85\\Anaconda3\\lib\\site-packages\\sklearn\\metrics\\_classification.py:1221: UndefinedMetricWarning: Precision is ill-defined and being set to 0.0 in labels with no predicted samples. Use `zero_division` parameter to control this behavior.\n",
      "  _warn_prf(average, modifier, msg_start, len(result))\n"
     ]
    },
    {
     "name": "stdout",
     "output_type": "stream",
     "text": [
      "MLP Time :  59.23369040000398\n",
      "KNN Class Wise Accuracy :  [0.70833333 0.98095238 1.         1.         0.         1.\n",
      " 0.         0.25       0.61682243 1.         1.         0.84714549\n",
      " 0.         0.88888889 0.71428571 0.97311828 0.         0.78700361]\n",
      "KNN Time :  59.14507099999901\n"
     ]
    },
    {
     "name": "stderr",
     "output_type": "stream",
     "text": [
      "C:\\Users\\sali85\\Anaconda3\\lib\\site-packages\\sklearn\\metrics\\_classification.py:1221: UndefinedMetricWarning: Precision is ill-defined and being set to 0.0 in labels with no predicted samples. Use `zero_division` parameter to control this behavior.\n",
      "  _warn_prf(average, modifier, msg_start, len(result))\n"
     ]
    },
    {
     "name": "stdout",
     "output_type": "stream",
     "text": [
      "RF Class Wise Accuracy :  [0.95833333 1.         1.         1.         0.         0.9893617\n",
      " 0.         0.17857143 0.6728972  1.         1.         0.89502762\n",
      " 0.         0.88888889 0.85714286 0.99462366 0.         0.73646209]\n",
      "RF Time :  13.602120000003197\n"
     ]
    },
    {
     "name": "stderr",
     "output_type": "stream",
     "text": [
      "C:\\Users\\sali85\\Anaconda3\\lib\\site-packages\\sklearn\\metrics\\_classification.py:1221: UndefinedMetricWarning: Precision is ill-defined and being set to 0.0 in labels with no predicted samples. Use `zero_division` parameter to control this behavior.\n",
      "  _warn_prf(average, modifier, msg_start, len(result))\n"
     ]
    },
    {
     "name": "stdout",
     "output_type": "stream",
     "text": [
      "LR Class Wise Accuracy :  [0.89583333 1.         1.         1.         0.         1.\n",
      " 0.08333333 0.35714286 0.66978193 1.         1.         0.88213628\n",
      " 0.         0.88888889 1.         0.99462366 0.         0.80866426]\n",
      "LR Time :  58.97399020000012\n"
     ]
    },
    {
     "name": "stderr",
     "output_type": "stream",
     "text": [
      "C:\\Users\\sali85\\Anaconda3\\lib\\site-packages\\sklearn\\metrics\\_classification.py:1221: UndefinedMetricWarning: Precision is ill-defined and being set to 0.0 in labels with no predicted samples. Use `zero_division` parameter to control this behavior.\n",
      "  _warn_prf(average, modifier, msg_start, len(result))\n",
      "C:\\Users\\sali85\\Anaconda3\\lib\\site-packages\\sklearn\\metrics\\_classification.py:1221: UndefinedMetricWarning: Recall is ill-defined and being set to 0.0 in labels with no true samples. Use `zero_division` parameter to control this behavior.\n",
      "  _warn_prf(average, modifier, msg_start, len(result))\n",
      "<ipython-input-42-273c3866d82e>:321: RuntimeWarning: invalid value encountered in true_divide\n",
      "  print(\"DT Class Wise Accuracy : \",confuse.diagonal()/confuse.sum(axis=1))\n"
     ]
    },
    {
     "name": "stdout",
     "output_type": "stream",
     "text": [
      "DT Class Wise Accuracy :  [0.89583333 0.99047619 1.         1.         0.         0.96808511\n",
      " 0.         0.28571429 0.66978193 1.                nan 1.\n",
      " 0.86924494 0.         0.66666667 0.71428571 0.96774194        nan\n",
      " 0.         0.73285199]\n",
      "DT Time :  7.409421399999701\n"
     ]
    },
    {
     "name": "stderr",
     "output_type": "stream",
     "text": [
      "C:\\Users\\sali85\\Anaconda3\\lib\\site-packages\\sklearn\\metrics\\_classification.py:1221: UndefinedMetricWarning: Precision is ill-defined and being set to 0.0 in labels with no predicted samples. Use `zero_division` parameter to control this behavior.\n",
      "  _warn_prf(average, modifier, msg_start, len(result))\n"
     ]
    },
    {
     "name": "stdout",
     "output_type": "stream",
     "text": [
      "SVM Class Wise Accuracy :  [0.95833333 1.         1.         1.         0.         1.\n",
      " 0.08333333 0.32142857 0.66978193 1.         1.         0.86187845\n",
      " 0.         0.88888889 1.         0.99462366 0.         0.80866426]\n",
      "SVM Time :  153.85316690000036\n"
     ]
    },
    {
     "name": "stderr",
     "output_type": "stream",
     "text": [
      "C:\\Users\\sali85\\Anaconda3\\lib\\site-packages\\sklearn\\metrics\\_classification.py:1221: UndefinedMetricWarning: Precision is ill-defined and being set to 0.0 in labels with no predicted samples. Use `zero_division` parameter to control this behavior.\n",
      "  _warn_prf(average, modifier, msg_start, len(result))\n",
      "C:\\Users\\sali85\\Anaconda3\\lib\\site-packages\\sklearn\\metrics\\_classification.py:1221: UndefinedMetricWarning: Recall is ill-defined and being set to 0.0 in labels with no true samples. Use `zero_division` parameter to control this behavior.\n",
      "  _warn_prf(average, modifier, msg_start, len(result))\n",
      "<ipython-input-42-273c3866d82e>:130: RuntimeWarning: invalid value encountered in true_divide\n",
      "  print(\"NB Class Wise Accuracy : \",confuse.diagonal()/confuse.sum(axis=1))\n"
     ]
    },
    {
     "name": "stdout",
     "output_type": "stream",
     "text": [
      "NB Class Wise Accuracy :  [1.         0.96907216 1.         0.86956522 0.95192308 0.\n",
      " 0.13333333 0.         1.         0.87658228 1.         0.\n",
      " 0.23956443 0.         0.55555556 0.         0.66666667 0.9704142\n",
      " 0.                nan 0.81533101]\n",
      "NB Time :  7.931703000002017\n"
     ]
    },
    {
     "name": "stderr",
     "output_type": "stream",
     "text": [
      "C:\\Users\\sali85\\Anaconda3\\lib\\site-packages\\sklearn\\metrics\\_classification.py:1221: UndefinedMetricWarning: Precision is ill-defined and being set to 0.0 in labels with no predicted samples. Use `zero_division` parameter to control this behavior.\n",
      "  _warn_prf(average, modifier, msg_start, len(result))\n"
     ]
    },
    {
     "name": "stdout",
     "output_type": "stream",
     "text": [
      "MLP Class Wise Accuracy :  [0.925      0.97938144 1.         1.         0.96153846 0.\n",
      " 0.26666667 0.         1.         0.7721519  1.         0.75\n",
      " 0.75317604 0.         0.55555556 0.         0.66666667 1.\n",
      " 0.         0.8641115 ]\n",
      "MLP Time :  58.63600029999361\n"
     ]
    },
    {
     "name": "stderr",
     "output_type": "stream",
     "text": [
      "C:\\Users\\sali85\\Anaconda3\\lib\\site-packages\\sklearn\\metrics\\_classification.py:1221: UndefinedMetricWarning: Precision is ill-defined and being set to 0.0 in labels with no predicted samples. Use `zero_division` parameter to control this behavior.\n",
      "  _warn_prf(average, modifier, msg_start, len(result))\n"
     ]
    },
    {
     "name": "stdout",
     "output_type": "stream",
     "text": [
      "KNN Class Wise Accuracy :  [0.75       0.96907216 0.5        1.         0.96153846 0.\n",
      " 0.28888889 0.         1.         0.60759494 1.         1.\n",
      " 0.8892922  0.         0.77777778 0.         0.66666667 1.\n",
      " 0.         0.80487805]\n",
      "KNN Time :  59.01760239999567\n"
     ]
    },
    {
     "name": "stderr",
     "output_type": "stream",
     "text": [
      "C:\\Users\\sali85\\Anaconda3\\lib\\site-packages\\sklearn\\metrics\\_classification.py:1221: UndefinedMetricWarning: Precision is ill-defined and being set to 0.0 in labels with no predicted samples. Use `zero_division` parameter to control this behavior.\n",
      "  _warn_prf(average, modifier, msg_start, len(result))\n"
     ]
    },
    {
     "name": "stdout",
     "output_type": "stream",
     "text": [
      "RF Class Wise Accuracy :  [1.         1.         1.         1.         0.97115385 0.\n",
      " 0.2        0.         1.         0.66139241 1.         1.\n",
      " 0.90744102 0.         0.77777778 1.         0.66666667 1.\n",
      " 0.         0.77351916]\n",
      "RF Time :  13.631036600003426\n"
     ]
    },
    {
     "name": "stderr",
     "output_type": "stream",
     "text": [
      "C:\\Users\\sali85\\Anaconda3\\lib\\site-packages\\sklearn\\metrics\\_classification.py:1221: UndefinedMetricWarning: Precision is ill-defined and being set to 0.0 in labels with no predicted samples. Use `zero_division` parameter to control this behavior.\n",
      "  _warn_prf(average, modifier, msg_start, len(result))\n"
     ]
    },
    {
     "name": "stdout",
     "output_type": "stream",
     "text": [
      "LR Class Wise Accuracy :  [1.         1.         1.         1.         1.         0.\n",
      " 0.31111111 0.         1.         0.63924051 1.         1.\n",
      " 0.91288566 0.         0.77777778 1.         0.83333333 1.\n",
      " 0.         0.79094077]\n",
      "LR Time :  61.783686700000544\n"
     ]
    },
    {
     "name": "stderr",
     "output_type": "stream",
     "text": [
      "C:\\Users\\sali85\\Anaconda3\\lib\\site-packages\\sklearn\\metrics\\_classification.py:1221: UndefinedMetricWarning: Precision is ill-defined and being set to 0.0 in labels with no predicted samples. Use `zero_division` parameter to control this behavior.\n",
      "  _warn_prf(average, modifier, msg_start, len(result))\n",
      "C:\\Users\\sali85\\Anaconda3\\lib\\site-packages\\sklearn\\metrics\\_classification.py:1221: UndefinedMetricWarning: Recall is ill-defined and being set to 0.0 in labels with no true samples. Use `zero_division` parameter to control this behavior.\n",
      "  _warn_prf(average, modifier, msg_start, len(result))\n",
      "<ipython-input-42-273c3866d82e>:321: RuntimeWarning: invalid value encountered in true_divide\n",
      "  print(\"DT Class Wise Accuracy : \",confuse.diagonal()/confuse.sum(axis=1))\n"
     ]
    },
    {
     "name": "stdout",
     "output_type": "stream",
     "text": [
      "DT Class Wise Accuracy :  [0.775      0.93814433 1.         0.95652174        nan 0.98076923\n",
      " 0.         0.26666667 0.         1.         0.64556962 1.\n",
      " 0.75       0.86569873 0.         0.77777778 1.         0.83333333\n",
      " 0.99408284 0.         0.75958188]\n",
      "DT Time :  6.757666599994991\n"
     ]
    },
    {
     "name": "stderr",
     "output_type": "stream",
     "text": [
      "C:\\Users\\sali85\\Anaconda3\\lib\\site-packages\\sklearn\\metrics\\_classification.py:1221: UndefinedMetricWarning: Precision is ill-defined and being set to 0.0 in labels with no predicted samples. Use `zero_division` parameter to control this behavior.\n",
      "  _warn_prf(average, modifier, msg_start, len(result))\n"
     ]
    },
    {
     "name": "stdout",
     "output_type": "stream",
     "text": [
      "SVM Class Wise Accuracy :  [0.975      0.98969072 1.         1.         0.98076923 0.\n",
      " 0.31111111 0.         1.         0.64240506 1.         1.\n",
      " 0.89655172 0.         0.77777778 1.         0.83333333 1.\n",
      " 0.         0.7804878 ]\n",
      "SVM Time :  154.38344090000464\n"
     ]
    },
    {
     "name": "stderr",
     "output_type": "stream",
     "text": [
      "C:\\Users\\sali85\\Anaconda3\\lib\\site-packages\\sklearn\\metrics\\_classification.py:1221: UndefinedMetricWarning: Precision is ill-defined and being set to 0.0 in labels with no predicted samples. Use `zero_division` parameter to control this behavior.\n",
      "  _warn_prf(average, modifier, msg_start, len(result))\n",
      "C:\\Users\\sali85\\Anaconda3\\lib\\site-packages\\sklearn\\metrics\\_classification.py:1221: UndefinedMetricWarning: Recall is ill-defined and being set to 0.0 in labels with no true samples. Use `zero_division` parameter to control this behavior.\n",
      "  _warn_prf(average, modifier, msg_start, len(result))\n",
      "<ipython-input-42-273c3866d82e>:130: RuntimeWarning: invalid value encountered in true_divide\n",
      "  print(\"NB Class Wise Accuracy : \",confuse.diagonal()/confuse.sum(axis=1))\n"
     ]
    },
    {
     "name": "stdout",
     "output_type": "stream",
     "text": [
      "NB Class Wise Accuracy :  [0.98245614 0.92523364 1.         1.         0.97727273 0.11111111\n",
      " 0.24       1.         0.77708978 1.         0.75       0.21142857\n",
      "        nan 0.83333333 0.         0.8        0.99435028 0.\n",
      " 0.80666667]\n",
      "NB Time :  8.391106600000057\n"
     ]
    },
    {
     "name": "stderr",
     "output_type": "stream",
     "text": [
      "C:\\Users\\sali85\\Anaconda3\\lib\\site-packages\\sklearn\\metrics\\_classification.py:1221: UndefinedMetricWarning: Precision is ill-defined and being set to 0.0 in labels with no predicted samples. Use `zero_division` parameter to control this behavior.\n",
      "  _warn_prf(average, modifier, msg_start, len(result))\n",
      "C:\\Users\\sali85\\Anaconda3\\lib\\site-packages\\sklearn\\metrics\\_classification.py:1221: UndefinedMetricWarning: Recall is ill-defined and being set to 0.0 in labels with no true samples. Use `zero_division` parameter to control this behavior.\n",
      "  _warn_prf(average, modifier, msg_start, len(result))\n",
      "<ipython-input-42-273c3866d82e>:174: RuntimeWarning: invalid value encountered in true_divide\n",
      "  print(\"MLP Class Wise Accuracy : \",confuse.diagonal()/confuse.sum(axis=1))\n"
     ]
    },
    {
     "name": "stdout",
     "output_type": "stream",
     "text": [
      "MLP Class Wise Accuracy :  [0.77192982 0.92523364 1.         1.         0.97727273 0.\n",
      " 0.24       1.         0.89164087 0.         0.5        0.61333333\n",
      "        nan 0.83333333 0.         0.8        1.         0.\n",
      " 0.83      ]\n"
     ]
    },
    {
     "name": "stderr",
     "output_type": "stream",
     "text": [
      "C:\\Users\\sali85\\Anaconda3\\lib\\site-packages\\sklearn\\metrics\\_classification.py:1221: UndefinedMetricWarning: Precision is ill-defined and being set to 0.0 in labels with no predicted samples. Use `zero_division` parameter to control this behavior.\n",
      "  _warn_prf(average, modifier, msg_start, len(result))\n"
     ]
    },
    {
     "name": "stdout",
     "output_type": "stream",
     "text": [
      "MLP Time :  65.00633800000651\n",
      "KNN Class Wise Accuracy :  [0.73684211 0.90654206 0.5        1.         0.98863636 0.11111111\n",
      " 0.32       1.         0.65634675 0.         0.75       0.71428571\n",
      " 1.         0.         0.8        0.98870056 0.         0.82333333]\n",
      "KNN Time :  56.402499399999215\n"
     ]
    },
    {
     "name": "stderr",
     "output_type": "stream",
     "text": [
      "C:\\Users\\sali85\\Anaconda3\\lib\\site-packages\\sklearn\\metrics\\_classification.py:1221: UndefinedMetricWarning: Precision is ill-defined and being set to 0.0 in labels with no predicted samples. Use `zero_division` parameter to control this behavior.\n",
      "  _warn_prf(average, modifier, msg_start, len(result))\n"
     ]
    },
    {
     "name": "stdout",
     "output_type": "stream",
     "text": [
      "RF Class Wise Accuracy :  [0.94736842 0.97196262 1.         1.         1.         0.\n",
      " 0.4        1.         0.64705882 1.         0.75       0.85333333\n",
      " 0.83333333 1.         1.         1.         0.         0.79333333]\n",
      "RF Time :  13.134946600002877\n"
     ]
    },
    {
     "name": "stderr",
     "output_type": "stream",
     "text": [
      "C:\\Users\\sali85\\Anaconda3\\lib\\site-packages\\sklearn\\metrics\\_classification.py:1221: UndefinedMetricWarning: Precision is ill-defined and being set to 0.0 in labels with no predicted samples. Use `zero_division` parameter to control this behavior.\n",
      "  _warn_prf(average, modifier, msg_start, len(result))\n"
     ]
    },
    {
     "name": "stdout",
     "output_type": "stream",
     "text": [
      "LR Class Wise Accuracy :  [0.89473684 1.         1.         1.         1.         0.\n",
      " 0.48       1.         0.64705882 1.         0.75       0.85714286\n",
      " 0.83333333 1.         1.         1.         0.         0.82666667]\n",
      "LR Time :  62.29944689999684\n"
     ]
    },
    {
     "name": "stderr",
     "output_type": "stream",
     "text": [
      "C:\\Users\\sali85\\Anaconda3\\lib\\site-packages\\sklearn\\metrics\\_classification.py:1221: UndefinedMetricWarning: Precision is ill-defined and being set to 0.0 in labels with no predicted samples. Use `zero_division` parameter to control this behavior.\n",
      "  _warn_prf(average, modifier, msg_start, len(result))\n"
     ]
    },
    {
     "name": "stdout",
     "output_type": "stream",
     "text": [
      "DT Class Wise Accuracy :  [0.75438596 0.92523364 1.         1.         0.98863636 0.11111111\n",
      " 0.44       0.5        0.6377709  1.         0.125      0.79809524\n",
      " 0.83333333 0.         0.8        0.97740113 0.         0.81666667]\n",
      "DT Time :  6.805621799998335\n"
     ]
    },
    {
     "name": "stderr",
     "output_type": "stream",
     "text": [
      "C:\\Users\\sali85\\Anaconda3\\lib\\site-packages\\sklearn\\metrics\\_classification.py:1221: UndefinedMetricWarning: Precision is ill-defined and being set to 0.0 in labels with no predicted samples. Use `zero_division` parameter to control this behavior.\n",
      "  _warn_prf(average, modifier, msg_start, len(result))\n",
      "C:\\Users\\sali85\\Anaconda3\\lib\\site-packages\\sklearn\\metrics\\_classification.py:1221: UndefinedMetricWarning: Recall is ill-defined and being set to 0.0 in labels with no true samples. Use `zero_division` parameter to control this behavior.\n",
      "  _warn_prf(average, modifier, msg_start, len(result))\n",
      "<ipython-input-42-273c3866d82e>:93: RuntimeWarning: invalid value encountered in true_divide\n",
      "  print(\"SVM Class Wise Accuracy : \",confuse.diagonal()/confuse.sum(axis=1))\n"
     ]
    },
    {
     "name": "stdout",
     "output_type": "stream",
     "text": [
      "SVM Class Wise Accuracy :  [0.94736842 0.97196262 1.         1.         1.         0.\n",
      " 0.44       1.         0.61609907 1.         0.75       0.83809524\n",
      "        nan 0.83333333 1.         1.         1.         0.\n",
      " 0.83      ]\n",
      "SVM Time :  151.9023881999965\n"
     ]
    },
    {
     "name": "stderr",
     "output_type": "stream",
     "text": [
      "C:\\Users\\sali85\\Anaconda3\\lib\\site-packages\\sklearn\\metrics\\_classification.py:1221: UndefinedMetricWarning: Precision is ill-defined and being set to 0.0 in labels with no predicted samples. Use `zero_division` parameter to control this behavior.\n",
      "  _warn_prf(average, modifier, msg_start, len(result))\n",
      "C:\\Users\\sali85\\Anaconda3\\lib\\site-packages\\sklearn\\metrics\\_classification.py:1221: UndefinedMetricWarning: Recall is ill-defined and being set to 0.0 in labels with no true samples. Use `zero_division` parameter to control this behavior.\n",
      "  _warn_prf(average, modifier, msg_start, len(result))\n",
      "<ipython-input-42-273c3866d82e>:130: RuntimeWarning: invalid value encountered in true_divide\n",
      "  print(\"NB Class Wise Accuracy : \",confuse.diagonal()/confuse.sum(axis=1))\n"
     ]
    },
    {
     "name": "stdout",
     "output_type": "stream",
     "text": [
      "NB Class Wise Accuracy :  [1.         0.97247706 1.         1.         0.925      0.07692308\n",
      " 0.16129032 1.         0.89180328 1.         0.         0.4\n",
      " 0.2354049  0.         0.58333333 0.         0.7        0.98136646\n",
      "        nan 0.85626911]\n",
      "NB Time :  7.802283199998783\n"
     ]
    },
    {
     "name": "stderr",
     "output_type": "stream",
     "text": [
      "C:\\Users\\sali85\\Anaconda3\\lib\\site-packages\\sklearn\\metrics\\_classification.py:1221: UndefinedMetricWarning: Precision is ill-defined and being set to 0.0 in labels with no predicted samples. Use `zero_division` parameter to control this behavior.\n",
      "  _warn_prf(average, modifier, msg_start, len(result))\n",
      "C:\\Users\\sali85\\Anaconda3\\lib\\site-packages\\sklearn\\metrics\\_classification.py:1221: UndefinedMetricWarning: Recall is ill-defined and being set to 0.0 in labels with no true samples. Use `zero_division` parameter to control this behavior.\n",
      "  _warn_prf(average, modifier, msg_start, len(result))\n",
      "<ipython-input-42-273c3866d82e>:174: RuntimeWarning: invalid value encountered in true_divide\n",
      "  print(\"MLP Class Wise Accuracy : \",confuse.diagonal()/confuse.sum(axis=1))\n"
     ]
    },
    {
     "name": "stdout",
     "output_type": "stream",
     "text": [
      "MLP Class Wise Accuracy :  [0.89130435 0.97247706 0.         1.         0.975      0.07692308\n",
      " 0.32258065 0.         0.83934426 0.         0.         0.8\n",
      " 0.66101695 0.         0.83333333 0.         0.7        1.\n",
      "        nan 0.84097859]\n"
     ]
    },
    {
     "name": "stderr",
     "output_type": "stream",
     "text": [
      "C:\\Users\\sali85\\Anaconda3\\lib\\site-packages\\sklearn\\metrics\\_classification.py:1221: UndefinedMetricWarning: Precision is ill-defined and being set to 0.0 in labels with no predicted samples. Use `zero_division` parameter to control this behavior.\n",
      "  _warn_prf(average, modifier, msg_start, len(result))\n"
     ]
    },
    {
     "name": "stdout",
     "output_type": "stream",
     "text": [
      "MLP Time :  55.84571970000252\n",
      "KNN Class Wise Accuracy :  [0.73913043 0.99082569 0.33333333 1.         0.975      0.\n",
      " 0.22580645 1.         0.6557377  1.         0.         0.8\n",
      " 0.88888889 0.         0.58333333 0.         0.7        0.99378882\n",
      " 0.73700306]\n",
      "KNN Time :  63.25476090000302\n"
     ]
    },
    {
     "name": "stderr",
     "output_type": "stream",
     "text": [
      "C:\\Users\\sali85\\Anaconda3\\lib\\site-packages\\sklearn\\metrics\\_classification.py:1221: UndefinedMetricWarning: Precision is ill-defined and being set to 0.0 in labels with no predicted samples. Use `zero_division` parameter to control this behavior.\n",
      "  _warn_prf(average, modifier, msg_start, len(result))\n"
     ]
    },
    {
     "name": "stdout",
     "output_type": "stream",
     "text": [
      "RF Class Wise Accuracy :  [0.97826087 1.         1.         1.         0.9875     0.\n",
      " 0.29032258 1.         0.68852459 1.         0.         0.8\n",
      " 0.83615819 0.         1.         1.         0.8        0.99378882\n",
      " 0.8470948 ]\n",
      "RF Time :  13.356753800006118\n"
     ]
    },
    {
     "name": "stderr",
     "output_type": "stream",
     "text": [
      "C:\\Users\\sali85\\Anaconda3\\lib\\site-packages\\sklearn\\metrics\\_classification.py:1221: UndefinedMetricWarning: Precision is ill-defined and being set to 0.0 in labels with no predicted samples. Use `zero_division` parameter to control this behavior.\n",
      "  _warn_prf(average, modifier, msg_start, len(result))\n"
     ]
    },
    {
     "name": "stdout",
     "output_type": "stream",
     "text": [
      "LR Class Wise Accuracy :  [0.97826087 1.         1.         1.         1.         0.\n",
      " 0.32258065 1.         0.67540984 1.         0.         1.\n",
      " 0.83804143 0.         0.83333333 1.         0.9        0.99378882\n",
      " 0.87461774]\n",
      "LR Time :  65.45858920000319\n"
     ]
    },
    {
     "name": "stderr",
     "output_type": "stream",
     "text": [
      "C:\\Users\\sali85\\Anaconda3\\lib\\site-packages\\sklearn\\metrics\\_classification.py:1221: UndefinedMetricWarning: Precision is ill-defined and being set to 0.0 in labels with no predicted samples. Use `zero_division` parameter to control this behavior.\n",
      "  _warn_prf(average, modifier, msg_start, len(result))\n",
      "C:\\Users\\sali85\\Anaconda3\\lib\\site-packages\\sklearn\\metrics\\_classification.py:1221: UndefinedMetricWarning: Recall is ill-defined and being set to 0.0 in labels with no true samples. Use `zero_division` parameter to control this behavior.\n",
      "  _warn_prf(average, modifier, msg_start, len(result))\n",
      "<ipython-input-42-273c3866d82e>:321: RuntimeWarning: invalid value encountered in true_divide\n",
      "  print(\"DT Class Wise Accuracy : \",confuse.diagonal()/confuse.sum(axis=1))\n"
     ]
    },
    {
     "name": "stdout",
     "output_type": "stream",
     "text": [
      "DT Class Wise Accuracy :  [0.84782609 0.9266055  1.         0.93103448        nan 0.9625\n",
      " 0.         0.41935484 1.         0.66885246 0.         0.\n",
      " 0.8        0.79849341 0.         0.66666667 1.         0.9\n",
      " 0.98757764 0.85015291]\n",
      "DT Time :  6.826256599997578\n"
     ]
    },
    {
     "name": "stderr",
     "output_type": "stream",
     "text": [
      "C:\\Users\\sali85\\Anaconda3\\lib\\site-packages\\sklearn\\metrics\\_classification.py:1221: UndefinedMetricWarning: Precision is ill-defined and being set to 0.0 in labels with no predicted samples. Use `zero_division` parameter to control this behavior.\n",
      "  _warn_prf(average, modifier, msg_start, len(result))\n"
     ]
    },
    {
     "name": "stdout",
     "output_type": "stream",
     "text": [
      "SVM Class Wise Accuracy :  [0.97826087 1.         1.         1.         1.         0.\n",
      " 0.32258065 1.         0.68852459 1.         0.         1.\n",
      " 0.83615819 0.         0.83333333 1.         0.8        0.99378882\n",
      " 0.83792049]\n",
      "SVM Time :  157.31869770000048\n"
     ]
    },
    {
     "name": "stderr",
     "output_type": "stream",
     "text": [
      "C:\\Users\\sali85\\Anaconda3\\lib\\site-packages\\sklearn\\metrics\\_classification.py:1221: UndefinedMetricWarning: Precision is ill-defined and being set to 0.0 in labels with no predicted samples. Use `zero_division` parameter to control this behavior.\n",
      "  _warn_prf(average, modifier, msg_start, len(result))\n",
      "C:\\Users\\sali85\\Anaconda3\\lib\\site-packages\\sklearn\\metrics\\_classification.py:1221: UndefinedMetricWarning: Recall is ill-defined and being set to 0.0 in labels with no true samples. Use `zero_division` parameter to control this behavior.\n",
      "  _warn_prf(average, modifier, msg_start, len(result))\n",
      "<ipython-input-42-273c3866d82e>:130: RuntimeWarning: invalid value encountered in true_divide\n",
      "  print(\"NB Class Wise Accuracy : \",confuse.diagonal()/confuse.sum(axis=1))\n"
     ]
    },
    {
     "name": "stdout",
     "output_type": "stream",
     "text": [
      "NB Class Wise Accuracy :  [0.97674419 0.95       0.66666667 1.         0.         0.92783505\n",
      " 0.14285714 0.19444444 1.         0.79938272 1.         1.\n",
      " 0.28176796        nan 0.57142857 0.         0.77777778 0.97740113\n",
      " 0.         0.86891386]\n",
      "NB Time :  7.709614999999758\n"
     ]
    },
    {
     "name": "stderr",
     "output_type": "stream",
     "text": [
      "C:\\Users\\sali85\\Anaconda3\\lib\\site-packages\\sklearn\\metrics\\_classification.py:1221: UndefinedMetricWarning: Precision is ill-defined and being set to 0.0 in labels with no predicted samples. Use `zero_division` parameter to control this behavior.\n",
      "  _warn_prf(average, modifier, msg_start, len(result))\n"
     ]
    },
    {
     "name": "stdout",
     "output_type": "stream",
     "text": [
      "MLP Class Wise Accuracy :  [0.81395349 0.95       0.66666667 0.94736842 0.         0.97938144\n",
      " 0.14285714 0.19444444 1.         0.63580247 1.         1.\n",
      " 0.87661142 0.85714286 0.         1.         0.98870056 0.\n",
      " 0.88014981]\n"
     ]
    },
    {
     "name": "stderr",
     "output_type": "stream",
     "text": [
      "C:\\Users\\sali85\\Anaconda3\\lib\\site-packages\\sklearn\\metrics\\_classification.py:1221: UndefinedMetricWarning: Precision is ill-defined and being set to 0.0 in labels with no predicted samples. Use `zero_division` parameter to control this behavior.\n",
      "  _warn_prf(average, modifier, msg_start, len(result))\n"
     ]
    },
    {
     "name": "stdout",
     "output_type": "stream",
     "text": [
      "MLP Time :  60.268409500000416\n",
      "KNN Class Wise Accuracy :  [0.8372093  0.95833333 0.33333333 1.         0.         0.95876289\n",
      " 0.         0.27777778 1.         0.74074074 1.         1.\n",
      " 0.76427256 0.85714286 0.         0.77777778 0.99435028 0.\n",
      " 0.81273408]\n",
      "KNN Time :  61.135308600001736\n"
     ]
    },
    {
     "name": "stderr",
     "output_type": "stream",
     "text": [
      "C:\\Users\\sali85\\Anaconda3\\lib\\site-packages\\sklearn\\metrics\\_classification.py:1221: UndefinedMetricWarning: Precision is ill-defined and being set to 0.0 in labels with no predicted samples. Use `zero_division` parameter to control this behavior.\n",
      "  _warn_prf(average, modifier, msg_start, len(result))\n"
     ]
    },
    {
     "name": "stdout",
     "output_type": "stream",
     "text": [
      "RF Class Wise Accuracy :  [0.90697674 0.975      0.66666667 1.         0.         0.97938144\n",
      " 0.14285714 0.19444444 1.         0.69444444 1.         1.\n",
      " 0.86740331 1.         1.         0.77777778 0.99435028 0.\n",
      " 0.8576779 ]\n",
      "RF Time :  13.531265400000848\n"
     ]
    },
    {
     "name": "stderr",
     "output_type": "stream",
     "text": [
      "C:\\Users\\sali85\\Anaconda3\\lib\\site-packages\\sklearn\\metrics\\_classification.py:1221: UndefinedMetricWarning: Precision is ill-defined and being set to 0.0 in labels with no predicted samples. Use `zero_division` parameter to control this behavior.\n",
      "  _warn_prf(average, modifier, msg_start, len(result))\n"
     ]
    },
    {
     "name": "stdout",
     "output_type": "stream",
     "text": [
      "LR Class Wise Accuracy :  [0.90697674 1.         1.         1.         0.         1.\n",
      " 0.21428571 0.22222222 1.         0.69753086 1.         1.\n",
      " 0.90791897 0.85714286 1.         1.         0.99435028 0.\n",
      " 0.83146067]\n",
      "LR Time :  61.289896899994346\n"
     ]
    },
    {
     "name": "stderr",
     "output_type": "stream",
     "text": [
      "C:\\Users\\sali85\\Anaconda3\\lib\\site-packages\\sklearn\\metrics\\_classification.py:1221: UndefinedMetricWarning: Precision is ill-defined and being set to 0.0 in labels with no predicted samples. Use `zero_division` parameter to control this behavior.\n",
      "  _warn_prf(average, modifier, msg_start, len(result))\n",
      "C:\\Users\\sali85\\Anaconda3\\lib\\site-packages\\sklearn\\metrics\\_classification.py:1221: UndefinedMetricWarning: Recall is ill-defined and being set to 0.0 in labels with no true samples. Use `zero_division` parameter to control this behavior.\n",
      "  _warn_prf(average, modifier, msg_start, len(result))\n",
      "<ipython-input-42-273c3866d82e>:321: RuntimeWarning: invalid value encountered in true_divide\n",
      "  print(\"DT Class Wise Accuracy : \",confuse.diagonal()/confuse.sum(axis=1))\n"
     ]
    },
    {
     "name": "stdout",
     "output_type": "stream",
     "text": [
      "DT Class Wise Accuracy :  [0.74418605 0.99166667 1.         1.         0.         0.97938144\n",
      " 0.14285714 0.25       0.5        0.68209877 1.         0.66666667\n",
      " 0.82872928        nan 0.85714286 1.         0.77777778 0.98870056\n",
      "        nan 0.         0.80898876]\n",
      "DT Time :  6.559793300002639\n"
     ]
    },
    {
     "name": "stderr",
     "output_type": "stream",
     "text": [
      "C:\\Users\\sali85\\Anaconda3\\lib\\site-packages\\sklearn\\metrics\\_classification.py:1221: UndefinedMetricWarning: Precision is ill-defined and being set to 0.0 in labels with no predicted samples. Use `zero_division` parameter to control this behavior.\n",
      "  _warn_prf(average, modifier, msg_start, len(result))\n",
      "C:\\Users\\sali85\\Anaconda3\\lib\\site-packages\\sklearn\\metrics\\_classification.py:1221: UndefinedMetricWarning: Recall is ill-defined and being set to 0.0 in labels with no true samples. Use `zero_division` parameter to control this behavior.\n",
      "  _warn_prf(average, modifier, msg_start, len(result))\n",
      "<ipython-input-42-273c3866d82e>:93: RuntimeWarning: invalid value encountered in true_divide\n",
      "  print(\"SVM Class Wise Accuracy : \",confuse.diagonal()/confuse.sum(axis=1))\n"
     ]
    },
    {
     "name": "stdout",
     "output_type": "stream",
     "text": [
      "SVM Class Wise Accuracy :  [0.90697674 1.         1.         1.         0.         1.\n",
      " 0.14285714 0.33333333 1.         0.66975309 1.         1.\n",
      " 0.89502762        nan 0.85714286 1.         0.77777778 0.99435028\n",
      " 0.         0.82397004]\n",
      "SVM Time :  161.29036580000684\n"
     ]
    },
    {
     "name": "stderr",
     "output_type": "stream",
     "text": [
      "C:\\Users\\sali85\\Anaconda3\\lib\\site-packages\\sklearn\\metrics\\_classification.py:1221: UndefinedMetricWarning: Precision is ill-defined and being set to 0.0 in labels with no predicted samples. Use `zero_division` parameter to control this behavior.\n",
      "  _warn_prf(average, modifier, msg_start, len(result))\n",
      "C:\\Users\\sali85\\Anaconda3\\lib\\site-packages\\sklearn\\metrics\\_classification.py:1221: UndefinedMetricWarning: Recall is ill-defined and being set to 0.0 in labels with no true samples. Use `zero_division` parameter to control this behavior.\n",
      "  _warn_prf(average, modifier, msg_start, len(result))\n",
      "<ipython-input-42-273c3866d82e>:130: RuntimeWarning: invalid value encountered in true_divide\n",
      "  print(\"NB Class Wise Accuracy : \",confuse.diagonal()/confuse.sum(axis=1))\n"
     ]
    },
    {
     "name": "stdout",
     "output_type": "stream",
     "text": [
      "NB Class Wise Accuracy :  [1.         0.97391304 1.         0.         0.97333333 0.\n",
      " 0.3125     1.         0.82154882 1.         0.42857143 0.24293785\n",
      " 0.         0.88888889 0.4        0.98876404 0.                nan\n",
      " 0.88307692]\n",
      "NB Time :  7.071976799998083\n"
     ]
    },
    {
     "name": "stderr",
     "output_type": "stream",
     "text": [
      "C:\\Users\\sali85\\Anaconda3\\lib\\site-packages\\sklearn\\metrics\\_classification.py:1221: UndefinedMetricWarning: Precision is ill-defined and being set to 0.0 in labels with no predicted samples. Use `zero_division` parameter to control this behavior.\n",
      "  _warn_prf(average, modifier, msg_start, len(result))\n",
      "C:\\Users\\sali85\\Anaconda3\\lib\\site-packages\\sklearn\\metrics\\_classification.py:1221: UndefinedMetricWarning: Recall is ill-defined and being set to 0.0 in labels with no true samples. Use `zero_division` parameter to control this behavior.\n",
      "  _warn_prf(average, modifier, msg_start, len(result))\n",
      "<ipython-input-42-273c3866d82e>:174: RuntimeWarning: invalid value encountered in true_divide\n",
      "  print(\"MLP Class Wise Accuracy : \",confuse.diagonal()/confuse.sum(axis=1))\n"
     ]
    },
    {
     "name": "stdout",
     "output_type": "stream",
     "text": [
      "MLP Class Wise Accuracy :  [0.93877551 0.97391304        nan 1.         0.         1.\n",
      " 0.         0.4375     1.         0.73737374 1.         0.28571429\n",
      " 0.68926554 0.         1.         0.8        0.99438202 0.\n",
      " 0.93846154]\n"
     ]
    },
    {
     "name": "stderr",
     "output_type": "stream",
     "text": [
      "C:\\Users\\sali85\\Anaconda3\\lib\\site-packages\\sklearn\\metrics\\_classification.py:1221: UndefinedMetricWarning: Precision is ill-defined and being set to 0.0 in labels with no predicted samples. Use `zero_division` parameter to control this behavior.\n",
      "  _warn_prf(average, modifier, msg_start, len(result))\n",
      "C:\\Users\\sali85\\Anaconda3\\lib\\site-packages\\sklearn\\metrics\\_classification.py:1221: UndefinedMetricWarning: Recall is ill-defined and being set to 0.0 in labels with no true samples. Use `zero_division` parameter to control this behavior.\n",
      "  _warn_prf(average, modifier, msg_start, len(result))\n",
      "<ipython-input-42-273c3866d82e>:210: RuntimeWarning: invalid value encountered in true_divide\n",
      "  print(\"KNN Class Wise Accuracy : \",confuse.diagonal()/confuse.sum(axis=1))\n"
     ]
    },
    {
     "name": "stdout",
     "output_type": "stream",
     "text": [
      "MLP Time :  53.30241730000125\n",
      "KNN Class Wise Accuracy :  [0.79591837 0.96521739        nan 1.         0.         0.98666667\n",
      " 0.         0.28125    1.         0.75420875 1.         0.71428571\n",
      " 0.72504708 0.         0.11111111 0.6        0.99438202 0.\n",
      " 0.86153846]\n",
      "KNN Time :  56.91186010000092\n"
     ]
    },
    {
     "name": "stderr",
     "output_type": "stream",
     "text": [
      "C:\\Users\\sali85\\Anaconda3\\lib\\site-packages\\sklearn\\metrics\\_classification.py:1221: UndefinedMetricWarning: Precision is ill-defined and being set to 0.0 in labels with no predicted samples. Use `zero_division` parameter to control this behavior.\n",
      "  _warn_prf(average, modifier, msg_start, len(result))\n",
      "C:\\Users\\sali85\\Anaconda3\\lib\\site-packages\\sklearn\\metrics\\_classification.py:1221: UndefinedMetricWarning: Recall is ill-defined and being set to 0.0 in labels with no true samples. Use `zero_division` parameter to control this behavior.\n",
      "  _warn_prf(average, modifier, msg_start, len(result))\n",
      "<ipython-input-42-273c3866d82e>:249: RuntimeWarning: invalid value encountered in true_divide\n",
      "  print(\"RF Class Wise Accuracy : \",confuse.diagonal()/confuse.sum(axis=1))\n"
     ]
    },
    {
     "name": "stdout",
     "output_type": "stream",
     "text": [
      "RF Class Wise Accuracy :  [1.         0.9826087         nan 1.         0.         1.\n",
      " 0.         0.3125     1.         0.71717172 1.         0.71428571\n",
      " 0.86440678 0.         1.         0.8        0.99438202 0.\n",
      " 0.82461538]\n",
      "RF Time :  13.556907599995611\n"
     ]
    },
    {
     "name": "stderr",
     "output_type": "stream",
     "text": [
      "C:\\Users\\sali85\\Anaconda3\\lib\\site-packages\\sklearn\\metrics\\_classification.py:1221: UndefinedMetricWarning: Precision is ill-defined and being set to 0.0 in labels with no predicted samples. Use `zero_division` parameter to control this behavior.\n",
      "  _warn_prf(average, modifier, msg_start, len(result))\n",
      "C:\\Users\\sali85\\Anaconda3\\lib\\site-packages\\sklearn\\metrics\\_classification.py:1221: UndefinedMetricWarning: Recall is ill-defined and being set to 0.0 in labels with no true samples. Use `zero_division` parameter to control this behavior.\n",
      "  _warn_prf(average, modifier, msg_start, len(result))\n",
      "<ipython-input-42-273c3866d82e>:285: RuntimeWarning: invalid value encountered in true_divide\n",
      "  print(\"LR Class Wise Accuracy : \",confuse.diagonal()/confuse.sum(axis=1))\n"
     ]
    },
    {
     "name": "stdout",
     "output_type": "stream",
     "text": [
      "LR Class Wise Accuracy :  [0.97959184 0.9826087         nan 1.         0.         1.\n",
      " 0.         0.40625    1.         0.65656566 1.         0.71428571\n",
      " 0.87193974 0.         1.         1.         0.99438202 0.\n",
      " 0.84615385]\n",
      "LR Time :  65.81644840000081\n"
     ]
    },
    {
     "name": "stderr",
     "output_type": "stream",
     "text": [
      "C:\\Users\\sali85\\Anaconda3\\lib\\site-packages\\sklearn\\metrics\\_classification.py:1221: UndefinedMetricWarning: Precision is ill-defined and being set to 0.0 in labels with no predicted samples. Use `zero_division` parameter to control this behavior.\n",
      "  _warn_prf(average, modifier, msg_start, len(result))\n",
      "C:\\Users\\sali85\\Anaconda3\\lib\\site-packages\\sklearn\\metrics\\_classification.py:1221: UndefinedMetricWarning: Recall is ill-defined and being set to 0.0 in labels with no true samples. Use `zero_division` parameter to control this behavior.\n",
      "  _warn_prf(average, modifier, msg_start, len(result))\n",
      "<ipython-input-42-273c3866d82e>:321: RuntimeWarning: invalid value encountered in true_divide\n",
      "  print(\"DT Class Wise Accuracy : \",confuse.diagonal()/confuse.sum(axis=1))\n"
     ]
    },
    {
     "name": "stdout",
     "output_type": "stream",
     "text": [
      "DT Class Wise Accuracy :  [0.79591837 0.9826087         nan 1.         0.         0.90666667\n",
      " 0.07142857 0.375             nan 1.         0.69023569 1.\n",
      " 0.42857143 0.81920904 0.         1.         0.4        0.96067416\n",
      " 0.         0.78461538]\n",
      "DT Time :  6.971753199999512\n"
     ]
    },
    {
     "name": "stderr",
     "output_type": "stream",
     "text": [
      "C:\\Users\\sali85\\Anaconda3\\lib\\site-packages\\sklearn\\metrics\\_classification.py:1221: UndefinedMetricWarning: Precision is ill-defined and being set to 0.0 in labels with no predicted samples. Use `zero_division` parameter to control this behavior.\n",
      "  _warn_prf(average, modifier, msg_start, len(result))\n",
      "C:\\Users\\sali85\\Anaconda3\\lib\\site-packages\\sklearn\\metrics\\_classification.py:1221: UndefinedMetricWarning: Recall is ill-defined and being set to 0.0 in labels with no true samples. Use `zero_division` parameter to control this behavior.\n",
      "  _warn_prf(average, modifier, msg_start, len(result))\n",
      "<ipython-input-42-273c3866d82e>:93: RuntimeWarning: invalid value encountered in true_divide\n",
      "  print(\"SVM Class Wise Accuracy : \",confuse.diagonal()/confuse.sum(axis=1))\n"
     ]
    },
    {
     "name": "stdout",
     "output_type": "stream",
     "text": [
      "SVM Class Wise Accuracy :  [1.         0.9826087         nan 1.         0.         1.\n",
      " 0.         0.4375     1.         0.66666667 1.         0.71428571\n",
      " 0.85499058 0.         1.         1.         0.99438202 0.\n",
      " 0.83692308]\n",
      "SVM Time :  149.6555456999995\n"
     ]
    },
    {
     "name": "stderr",
     "output_type": "stream",
     "text": [
      "C:\\Users\\sali85\\Anaconda3\\lib\\site-packages\\sklearn\\metrics\\_classification.py:1221: UndefinedMetricWarning: Precision is ill-defined and being set to 0.0 in labels with no predicted samples. Use `zero_division` parameter to control this behavior.\n",
      "  _warn_prf(average, modifier, msg_start, len(result))\n",
      "C:\\Users\\sali85\\Anaconda3\\lib\\site-packages\\sklearn\\metrics\\_classification.py:1221: UndefinedMetricWarning: Recall is ill-defined and being set to 0.0 in labels with no true samples. Use `zero_division` parameter to control this behavior.\n",
      "  _warn_prf(average, modifier, msg_start, len(result))\n",
      "<ipython-input-42-273c3866d82e>:130: RuntimeWarning: invalid value encountered in true_divide\n",
      "  print(\"NB Class Wise Accuracy : \",confuse.diagonal()/confuse.sum(axis=1))\n"
     ]
    },
    {
     "name": "stdout",
     "output_type": "stream",
     "text": [
      "NB Class Wise Accuracy :  [1.         0.95726496 0.66666667 0.93103448 0.         0.95454545\n",
      " 0.09090909 0.14705882 1.         0.85714286 1.         0.\n",
      " 0.25478927        nan 0.83333333 0.         0.84615385 0.9704142\n",
      " 0.         0.8       ]\n",
      "NB Time :  7.244701999996323\n"
     ]
    },
    {
     "name": "stderr",
     "output_type": "stream",
     "text": [
      "C:\\Users\\sali85\\Anaconda3\\lib\\site-packages\\sklearn\\metrics\\_classification.py:1221: UndefinedMetricWarning: Precision is ill-defined and being set to 0.0 in labels with no predicted samples. Use `zero_division` parameter to control this behavior.\n",
      "  _warn_prf(average, modifier, msg_start, len(result))\n"
     ]
    },
    {
     "name": "stdout",
     "output_type": "stream",
     "text": [
      "MLP Class Wise Accuracy :  [0.90196078 0.95726496 0.         0.93103448 0.         1.\n",
      " 0.         0.26470588 1.         0.6744186  0.         0.\n",
      " 0.89846743 1.         0.         0.84615385 0.99408284 0.\n",
      " 0.73015873]\n"
     ]
    },
    {
     "name": "stderr",
     "output_type": "stream",
     "text": [
      "C:\\Users\\sali85\\Anaconda3\\lib\\site-packages\\sklearn\\metrics\\_classification.py:1221: UndefinedMetricWarning: Precision is ill-defined and being set to 0.0 in labels with no predicted samples. Use `zero_division` parameter to control this behavior.\n",
      "  _warn_prf(average, modifier, msg_start, len(result))\n"
     ]
    },
    {
     "name": "stdout",
     "output_type": "stream",
     "text": [
      "MLP Time :  57.39897939999355\n",
      "KNN Class Wise Accuracy :  [0.74509804 0.95726496 0.         1.         0.         1.\n",
      " 0.         0.23529412 1.         0.67774086 1.         1.\n",
      " 0.78927203 1.         0.         0.61538462 1.         0.\n",
      " 0.75873016]\n",
      "KNN Time :  62.69922609999776\n"
     ]
    },
    {
     "name": "stderr",
     "output_type": "stream",
     "text": [
      "C:\\Users\\sali85\\Anaconda3\\lib\\site-packages\\sklearn\\metrics\\_classification.py:1221: UndefinedMetricWarning: Precision is ill-defined and being set to 0.0 in labels with no predicted samples. Use `zero_division` parameter to control this behavior.\n",
      "  _warn_prf(average, modifier, msg_start, len(result))\n"
     ]
    },
    {
     "name": "stdout",
     "output_type": "stream",
     "text": [
      "RF Class Wise Accuracy :  [0.94117647 0.98290598 0.66666667 1.         0.         0.98863636\n",
      " 0.09090909 0.17647059 1.         0.65448505 1.         1.\n",
      " 0.88505747 1.         0.         0.92307692 0.98816568 0.\n",
      " 0.76825397]\n",
      "RF Time :  12.87179489999835\n"
     ]
    },
    {
     "name": "stderr",
     "output_type": "stream",
     "text": [
      "C:\\Users\\sali85\\Anaconda3\\lib\\site-packages\\sklearn\\metrics\\_classification.py:1221: UndefinedMetricWarning: Precision is ill-defined and being set to 0.0 in labels with no predicted samples. Use `zero_division` parameter to control this behavior.\n",
      "  _warn_prf(average, modifier, msg_start, len(result))\n"
     ]
    },
    {
     "name": "stdout",
     "output_type": "stream",
     "text": [
      "LR Class Wise Accuracy :  [0.94117647 0.98290598 1.         1.         0.         1.\n",
      " 0.09090909 0.23529412 1.         0.63122924 1.         1.\n",
      " 0.89846743 1.         0.         0.92307692 0.98816568 0.\n",
      " 0.7968254 ]\n",
      "LR Time :  59.41668099999515\n"
     ]
    },
    {
     "name": "stderr",
     "output_type": "stream",
     "text": [
      "C:\\Users\\sali85\\Anaconda3\\lib\\site-packages\\sklearn\\metrics\\_classification.py:1221: UndefinedMetricWarning: Precision is ill-defined and being set to 0.0 in labels with no predicted samples. Use `zero_division` parameter to control this behavior.\n",
      "  _warn_prf(average, modifier, msg_start, len(result))\n"
     ]
    },
    {
     "name": "stdout",
     "output_type": "stream",
     "text": [
      "DT Class Wise Accuracy :  [0.88235294 0.93162393 1.         0.89655172 0.         0.98863636\n",
      " 0.09090909 0.20588235 1.         0.6179402  1.         1.\n",
      " 0.84482759 1.         0.         0.76923077 0.9704142  0.\n",
      " 0.76190476]\n",
      "DT Time :  8.12939650000044\n"
     ]
    },
    {
     "name": "stderr",
     "output_type": "stream",
     "text": [
      "C:\\Users\\sali85\\Anaconda3\\lib\\site-packages\\sklearn\\metrics\\_classification.py:1221: UndefinedMetricWarning: Precision is ill-defined and being set to 0.0 in labels with no predicted samples. Use `zero_division` parameter to control this behavior.\n",
      "  _warn_prf(average, modifier, msg_start, len(result))\n",
      "C:\\Users\\sali85\\Anaconda3\\lib\\site-packages\\sklearn\\metrics\\_classification.py:1221: UndefinedMetricWarning: Recall is ill-defined and being set to 0.0 in labels with no true samples. Use `zero_division` parameter to control this behavior.\n",
      "  _warn_prf(average, modifier, msg_start, len(result))\n",
      "<ipython-input-42-273c3866d82e>:93: RuntimeWarning: invalid value encountered in true_divide\n",
      "  print(\"SVM Class Wise Accuracy : \",confuse.diagonal()/confuse.sum(axis=1))\n"
     ]
    },
    {
     "name": "stdout",
     "output_type": "stream",
     "text": [
      "SVM Class Wise Accuracy :  [0.96078431 0.98290598 1.         1.         0.         1.\n",
      " 0.09090909 0.20588235 1.         0.64119601 1.         1.\n",
      " 0.89272031        nan 1.         0.         0.92307692 0.98816568\n",
      " 0.         0.77777778]\n",
      "SVM Time :  150.90711900000315\n"
     ]
    },
    {
     "name": "stderr",
     "output_type": "stream",
     "text": [
      "C:\\Users\\sali85\\Anaconda3\\lib\\site-packages\\sklearn\\metrics\\_classification.py:1221: UndefinedMetricWarning: Precision is ill-defined and being set to 0.0 in labels with no predicted samples. Use `zero_division` parameter to control this behavior.\n",
      "  _warn_prf(average, modifier, msg_start, len(result))\n"
     ]
    },
    {
     "name": "stdout",
     "output_type": "stream",
     "text": [
      "NB Class Wise Accuracy :  [0.98181818 0.96363636 0.66666667 0.9047619  0.94117647 0.\n",
      " 0.23684211 1.         0.910299   0.66666667 0.4        0.27173913\n",
      " 0.         0.5        0.         0.625      0.97575758 0.\n",
      " 0.         0.81418919]\n",
      "NB Time :  7.126160499996331\n"
     ]
    },
    {
     "name": "stderr",
     "output_type": "stream",
     "text": [
      "C:\\Users\\sali85\\Anaconda3\\lib\\site-packages\\sklearn\\metrics\\_classification.py:1221: UndefinedMetricWarning: Precision is ill-defined and being set to 0.0 in labels with no predicted samples. Use `zero_division` parameter to control this behavior.\n",
      "  _warn_prf(average, modifier, msg_start, len(result))\n",
      "C:\\Users\\sali85\\Anaconda3\\lib\\site-packages\\sklearn\\metrics\\_classification.py:1221: UndefinedMetricWarning: Recall is ill-defined and being set to 0.0 in labels with no true samples. Use `zero_division` parameter to control this behavior.\n",
      "  _warn_prf(average, modifier, msg_start, len(result))\n",
      "<ipython-input-42-273c3866d82e>:174: RuntimeWarning: invalid value encountered in true_divide\n",
      "  print(\"MLP Class Wise Accuracy : \",confuse.diagonal()/confuse.sum(axis=1))\n"
     ]
    },
    {
     "name": "stdout",
     "output_type": "stream",
     "text": [
      "MLP Class Wise Accuracy :  [0.83636364 0.99090909 0.66666667 0.9047619         nan 0.98823529\n",
      " 0.15384615 0.10526316 1.         0.67774086 1.         0.4\n",
      " 0.92934783 0.         0.83333333 0.         0.625      1.\n",
      " 0.         0.         0.74662162]\n",
      "MLP Time :  76.94248940000398\n"
     ]
    },
    {
     "name": "stderr",
     "output_type": "stream",
     "text": [
      "C:\\Users\\sali85\\Anaconda3\\lib\\site-packages\\sklearn\\metrics\\_classification.py:1221: UndefinedMetricWarning: Precision is ill-defined and being set to 0.0 in labels with no predicted samples. Use `zero_division` parameter to control this behavior.\n",
      "  _warn_prf(average, modifier, msg_start, len(result))\n"
     ]
    },
    {
     "name": "stdout",
     "output_type": "stream",
     "text": [
      "KNN Class Wise Accuracy :  [0.70909091 0.97272727 0.         1.         1.         0.\n",
      " 0.18421053 1.         0.73089701 0.         0.4        0.80253623\n",
      " 0.         0.83333333 0.         0.875      1.         0.\n",
      " 0.         0.83445946]\n",
      "KNN Time :  44.611625000005006\n"
     ]
    },
    {
     "name": "stderr",
     "output_type": "stream",
     "text": [
      "C:\\Users\\sali85\\Anaconda3\\lib\\site-packages\\sklearn\\metrics\\_classification.py:1221: UndefinedMetricWarning: Precision is ill-defined and being set to 0.0 in labels with no predicted samples. Use `zero_division` parameter to control this behavior.\n",
      "  _warn_prf(average, modifier, msg_start, len(result))\n"
     ]
    },
    {
     "name": "stdout",
     "output_type": "stream",
     "text": [
      "RF Class Wise Accuracy :  [0.92727273 1.         0.66666667 1.         0.98823529 0.\n",
      " 0.21052632 1.         0.6744186  1.         0.4        0.86594203\n",
      " 0.         0.83333333 1.         1.         1.         0.\n",
      " 0.         0.84121622]\n",
      "RF Time :  7.600063500001852\n"
     ]
    },
    {
     "name": "stderr",
     "output_type": "stream",
     "text": [
      "C:\\Users\\sali85\\Anaconda3\\lib\\site-packages\\sklearn\\metrics\\_classification.py:1221: UndefinedMetricWarning: Precision is ill-defined and being set to 0.0 in labels with no predicted samples. Use `zero_division` parameter to control this behavior.\n",
      "  _warn_prf(average, modifier, msg_start, len(result))\n"
     ]
    },
    {
     "name": "stdout",
     "output_type": "stream",
     "text": [
      "LR Class Wise Accuracy :  [0.92727273 1.         1.         1.         1.         0.\n",
      " 0.28947368 1.         0.67774086 1.         0.4        0.91123188\n",
      " 0.         0.83333333 1.         0.875      1.         0.\n",
      " 0.         0.80743243]\n",
      "LR Time :  32.34725699999399\n"
     ]
    },
    {
     "name": "stderr",
     "output_type": "stream",
     "text": [
      "C:\\Users\\sali85\\Anaconda3\\lib\\site-packages\\sklearn\\metrics\\_classification.py:1221: UndefinedMetricWarning: Precision is ill-defined and being set to 0.0 in labels with no predicted samples. Use `zero_division` parameter to control this behavior.\n",
      "  _warn_prf(average, modifier, msg_start, len(result))\n",
      "C:\\Users\\sali85\\Anaconda3\\lib\\site-packages\\sklearn\\metrics\\_classification.py:1221: UndefinedMetricWarning: Recall is ill-defined and being set to 0.0 in labels with no true samples. Use `zero_division` parameter to control this behavior.\n",
      "  _warn_prf(average, modifier, msg_start, len(result))\n",
      "<ipython-input-42-273c3866d82e>:321: RuntimeWarning: invalid value encountered in true_divide\n",
      "  print(\"DT Class Wise Accuracy : \",confuse.diagonal()/confuse.sum(axis=1))\n"
     ]
    },
    {
     "name": "stdout",
     "output_type": "stream",
     "text": [
      "DT Class Wise Accuracy :  [0.83636364 0.96363636 0.66666667 0.95238095 0.98823529 0.\n",
      " 0.36842105 0.5        0.66777409 1.                nan 0.4\n",
      " 0.82971014 0.         0.5        1.         0.875      0.98181818\n",
      " 0.         0.         0.83445946]\n",
      "DT Time :  3.6329049999985727\n"
     ]
    },
    {
     "name": "stderr",
     "output_type": "stream",
     "text": [
      "C:\\Users\\sali85\\Anaconda3\\lib\\site-packages\\sklearn\\metrics\\_classification.py:1221: UndefinedMetricWarning: Precision is ill-defined and being set to 0.0 in labels with no predicted samples. Use `zero_division` parameter to control this behavior.\n",
      "  _warn_prf(average, modifier, msg_start, len(result))\n"
     ]
    },
    {
     "name": "stdout",
     "output_type": "stream",
     "text": [
      "SVM Class Wise Accuracy :  [0.92727273 1.         1.         1.         1.         0.15384615\n",
      " 0.23684211 1.         0.65448505 1.         0.4        0.87862319\n",
      " 0.         0.83333333 1.         1.         1.         0.\n",
      " 0.         0.84459459]\n",
      "SVM Time :  110.25610489999963\n"
     ]
    },
    {
     "name": "stderr",
     "output_type": "stream",
     "text": [
      "C:\\Users\\sali85\\Anaconda3\\lib\\site-packages\\sklearn\\metrics\\_classification.py:1221: UndefinedMetricWarning: Precision is ill-defined and being set to 0.0 in labels with no predicted samples. Use `zero_division` parameter to control this behavior.\n",
      "  _warn_prf(average, modifier, msg_start, len(result))\n",
      "C:\\Users\\sali85\\Anaconda3\\lib\\site-packages\\sklearn\\metrics\\_classification.py:1221: UndefinedMetricWarning: Recall is ill-defined and being set to 0.0 in labels with no true samples. Use `zero_division` parameter to control this behavior.\n",
      "  _warn_prf(average, modifier, msg_start, len(result))\n",
      "<ipython-input-42-273c3866d82e>:130: RuntimeWarning: invalid value encountered in true_divide\n",
      "  print(\"NB Class Wise Accuracy : \",confuse.diagonal()/confuse.sum(axis=1))\n"
     ]
    },
    {
     "name": "stdout",
     "output_type": "stream",
     "text": [
      "NB Class Wise Accuracy :  [0.97916667 0.96116505 0.         0.88       0.         0.95959596\n",
      " 0.07142857 0.11111111 0.         1.         0.87658228 1.\n",
      " 0.         0.75       0.27221172 0.         0.44444444 0.88888889\n",
      " 0.98895028        nan 0.82746479]\n",
      "NB Time :  4.658173600000737\n"
     ]
    },
    {
     "name": "stderr",
     "output_type": "stream",
     "text": [
      "C:\\Users\\sali85\\Anaconda3\\lib\\site-packages\\sklearn\\metrics\\_classification.py:1221: UndefinedMetricWarning: Precision is ill-defined and being set to 0.0 in labels with no predicted samples. Use `zero_division` parameter to control this behavior.\n",
      "  _warn_prf(average, modifier, msg_start, len(result))\n"
     ]
    },
    {
     "name": "stdout",
     "output_type": "stream",
     "text": [
      "MLP Class Wise Accuracy :  [0.89583333 0.97087379 0.         1.         0.         0.97979798\n",
      " 0.07142857 0.19444444 0.         1.         0.66455696 1.\n",
      " 0.         0.75       0.86956522 0.         0.88888889 0.88888889\n",
      " 0.98342541 0.85211268]\n",
      "MLP Time :  32.619800000000396\n"
     ]
    },
    {
     "name": "stderr",
     "output_type": "stream",
     "text": [
      "C:\\Users\\sali85\\Anaconda3\\lib\\site-packages\\sklearn\\metrics\\_classification.py:1221: UndefinedMetricWarning: Precision is ill-defined and being set to 0.0 in labels with no predicted samples. Use `zero_division` parameter to control this behavior.\n",
      "  _warn_prf(average, modifier, msg_start, len(result))\n"
     ]
    },
    {
     "name": "stdout",
     "output_type": "stream",
     "text": [
      "KNN Class Wise Accuracy :  [0.5625     0.93203883 0.         1.         0.         0.97979798\n",
      " 0.         0.13888889 0.         1.         0.67405063 0.\n",
      " 0.         0.75       0.73534972 0.         0.44444444 1.\n",
      " 0.98895028 0.8415493 ]\n",
      "KNN Time :  34.37901609999972\n"
     ]
    },
    {
     "name": "stderr",
     "output_type": "stream",
     "text": [
      "C:\\Users\\sali85\\Anaconda3\\lib\\site-packages\\sklearn\\metrics\\_classification.py:1221: UndefinedMetricWarning: Precision is ill-defined and being set to 0.0 in labels with no predicted samples. Use `zero_division` parameter to control this behavior.\n",
      "  _warn_prf(average, modifier, msg_start, len(result))\n"
     ]
    },
    {
     "name": "stdout",
     "output_type": "stream",
     "text": [
      "RF Class Wise Accuracy :  [0.9375     1.         0.         1.         0.         0.98989899\n",
      " 0.07142857 0.22222222 0.         1.         0.69620253 1.\n",
      " 0.         0.75       0.86956522 0.         0.88888889 1.\n",
      " 0.99447514 0.83450704]\n",
      "RF Time :  7.440645799993945\n"
     ]
    },
    {
     "name": "stderr",
     "output_type": "stream",
     "text": [
      "C:\\Users\\sali85\\Anaconda3\\lib\\site-packages\\sklearn\\metrics\\_classification.py:1221: UndefinedMetricWarning: Precision is ill-defined and being set to 0.0 in labels with no predicted samples. Use `zero_division` parameter to control this behavior.\n",
      "  _warn_prf(average, modifier, msg_start, len(result))\n"
     ]
    },
    {
     "name": "stdout",
     "output_type": "stream",
     "text": [
      "LR Class Wise Accuracy :  [0.91666667 1.         0.         1.         0.         1.\n",
      " 0.07142857 0.27777778 0.         1.         0.68987342 1.\n",
      " 0.         0.75       0.86767486 0.         1.         1.\n",
      " 0.99447514 0.8556338 ]\n",
      "LR Time :  31.091757499998494\n"
     ]
    },
    {
     "name": "stderr",
     "output_type": "stream",
     "text": [
      "C:\\Users\\sali85\\Anaconda3\\lib\\site-packages\\sklearn\\metrics\\_classification.py:1221: UndefinedMetricWarning: Precision is ill-defined and being set to 0.0 in labels with no predicted samples. Use `zero_division` parameter to control this behavior.\n",
      "  _warn_prf(average, modifier, msg_start, len(result))\n",
      "C:\\Users\\sali85\\Anaconda3\\lib\\site-packages\\sklearn\\metrics\\_classification.py:1221: UndefinedMetricWarning: Recall is ill-defined and being set to 0.0 in labels with no true samples. Use `zero_division` parameter to control this behavior.\n",
      "  _warn_prf(average, modifier, msg_start, len(result))\n",
      "<ipython-input-42-273c3866d82e>:321: RuntimeWarning: invalid value encountered in true_divide\n",
      "  print(\"DT Class Wise Accuracy : \",confuse.diagonal()/confuse.sum(axis=1))\n"
     ]
    },
    {
     "name": "stdout",
     "output_type": "stream",
     "text": [
      "DT Class Wise Accuracy :  [0.83333333 0.95145631 0.         1.         0.         1.\n",
      " 0.07142857 0.30555556 0.         1.         0.69303797 1.\n",
      " 0.         0.75       0.82797732 0.         0.88888889 0.77777778\n",
      " 0.97790055        nan 0.83450704]\n",
      "DT Time :  3.6524514999982785\n"
     ]
    },
    {
     "name": "stderr",
     "output_type": "stream",
     "text": [
      "C:\\Users\\sali85\\Anaconda3\\lib\\site-packages\\sklearn\\metrics\\_classification.py:1221: UndefinedMetricWarning: Precision is ill-defined and being set to 0.0 in labels with no predicted samples. Use `zero_division` parameter to control this behavior.\n",
      "  _warn_prf(average, modifier, msg_start, len(result))\n"
     ]
    },
    {
     "name": "stdout",
     "output_type": "stream",
     "text": [
      "SVM Class Wise Accuracy :  [0.9375     1.         0.         1.         0.         1.\n",
      " 0.07142857 0.30555556 0.         1.         0.66455696 1.\n",
      " 0.         0.75       0.85255198 0.         0.88888889 1.\n",
      " 0.99447514 0.8556338 ]\n",
      "SVM Time :  2515.7797967000006\n"
     ]
    },
    {
     "name": "stderr",
     "output_type": "stream",
     "text": [
      "C:\\Users\\sali85\\Anaconda3\\lib\\site-packages\\sklearn\\metrics\\_classification.py:1221: UndefinedMetricWarning: Precision is ill-defined and being set to 0.0 in labels with no predicted samples. Use `zero_division` parameter to control this behavior.\n",
      "  _warn_prf(average, modifier, msg_start, len(result))\n",
      "C:\\Users\\sali85\\Anaconda3\\lib\\site-packages\\sklearn\\metrics\\_classification.py:1221: UndefinedMetricWarning: Recall is ill-defined and being set to 0.0 in labels with no true samples. Use `zero_division` parameter to control this behavior.\n",
      "  _warn_prf(average, modifier, msg_start, len(result))\n",
      "<ipython-input-42-273c3866d82e>:130: RuntimeWarning: invalid value encountered in true_divide\n",
      "  print(\"NB Class Wise Accuracy : \",confuse.diagonal()/confuse.sum(axis=1))\n"
     ]
    },
    {
     "name": "stdout",
     "output_type": "stream",
     "text": [
      "NB Class Wise Accuracy :  [1.         0.98       0.5        1.         0.93055556 0.14285714\n",
      " 0.2173913  1.         0.84210526 1.         0.         0.5\n",
      " 0.26325088        nan 0.5        0.         0.5        0.99390244\n",
      "        nan 0.84193548]\n",
      "NB Time :  6.159292299998924\n"
     ]
    },
    {
     "name": "stderr",
     "output_type": "stream",
     "text": [
      "C:\\Users\\sali85\\Anaconda3\\lib\\site-packages\\sklearn\\metrics\\_classification.py:1221: UndefinedMetricWarning: Precision is ill-defined and being set to 0.0 in labels with no predicted samples. Use `zero_division` parameter to control this behavior.\n",
      "  _warn_prf(average, modifier, msg_start, len(result))\n",
      "C:\\Users\\sali85\\Anaconda3\\lib\\site-packages\\sklearn\\metrics\\_classification.py:1221: UndefinedMetricWarning: Recall is ill-defined and being set to 0.0 in labels with no true samples. Use `zero_division` parameter to control this behavior.\n",
      "  _warn_prf(average, modifier, msg_start, len(result))\n",
      "<ipython-input-42-273c3866d82e>:174: RuntimeWarning: invalid value encountered in true_divide\n",
      "  print(\"MLP Class Wise Accuracy : \",confuse.diagonal()/confuse.sum(axis=1))\n"
     ]
    },
    {
     "name": "stdout",
     "output_type": "stream",
     "text": [
      "MLP Class Wise Accuracy :  [0.93023256 0.94       0.5        0.92592593 1.         0.07142857\n",
      " 0.17391304        nan 1.         0.77960526 1.         0.\n",
      " 0.5        0.76855124 0.75       0.         0.5        1.\n",
      " 0.86451613]\n",
      "MLP Time :  45.733551900004386\n"
     ]
    },
    {
     "name": "stderr",
     "output_type": "stream",
     "text": [
      "C:\\Users\\sali85\\Anaconda3\\lib\\site-packages\\sklearn\\metrics\\_classification.py:1221: UndefinedMetricWarning: Precision is ill-defined and being set to 0.0 in labels with no predicted samples. Use `zero_division` parameter to control this behavior.\n",
      "  _warn_prf(average, modifier, msg_start, len(result))\n"
     ]
    },
    {
     "name": "stdout",
     "output_type": "stream",
     "text": [
      "KNN Class Wise Accuracy :  [0.74418605 0.99       0.         1.         0.95833333 0.07142857\n",
      " 0.15217391 1.         0.73026316 1.         0.         0.75\n",
      " 0.77385159 1.         0.         0.5        0.97560976 0.82580645]\n",
      "KNN Time :  47.28027750000183\n"
     ]
    },
    {
     "name": "stderr",
     "output_type": "stream",
     "text": [
      "C:\\Users\\sali85\\Anaconda3\\lib\\site-packages\\sklearn\\metrics\\_classification.py:1221: UndefinedMetricWarning: Precision is ill-defined and being set to 0.0 in labels with no predicted samples. Use `zero_division` parameter to control this behavior.\n",
      "  _warn_prf(average, modifier, msg_start, len(result))\n",
      "C:\\Users\\sali85\\Anaconda3\\lib\\site-packages\\sklearn\\metrics\\_classification.py:1221: UndefinedMetricWarning: Recall is ill-defined and being set to 0.0 in labels with no true samples. Use `zero_division` parameter to control this behavior.\n",
      "  _warn_prf(average, modifier, msg_start, len(result))\n",
      "<ipython-input-42-273c3866d82e>:249: RuntimeWarning: invalid value encountered in true_divide\n",
      "  print(\"RF Class Wise Accuracy : \",confuse.diagonal()/confuse.sum(axis=1))\n"
     ]
    },
    {
     "name": "stdout",
     "output_type": "stream",
     "text": [
      "RF Class Wise Accuracy :  [1.         1.         0.5        1.         0.98611111 0.07142857\n",
      " 0.17391304        nan 1.         0.6875     1.         0.\n",
      " 0.75       0.8639576  0.75       0.         0.83333333 1.\n",
      " 0.85806452]\n",
      "RF Time :  12.09874889999628\n"
     ]
    },
    {
     "name": "stderr",
     "output_type": "stream",
     "text": [
      "C:\\Users\\sali85\\Anaconda3\\lib\\site-packages\\sklearn\\metrics\\_classification.py:1221: UndefinedMetricWarning: Precision is ill-defined and being set to 0.0 in labels with no predicted samples. Use `zero_division` parameter to control this behavior.\n",
      "  _warn_prf(average, modifier, msg_start, len(result))\n"
     ]
    },
    {
     "name": "stdout",
     "output_type": "stream",
     "text": [
      "LR Class Wise Accuracy :  [0.93023256 1.         1.         1.         1.         0.07142857\n",
      " 0.23913043 1.         0.67105263 1.         0.         1.\n",
      " 0.86749117 0.75       0.         1.         1.         0.87096774]\n",
      "LR Time :  30.481308100002934\n"
     ]
    },
    {
     "name": "stderr",
     "output_type": "stream",
     "text": [
      "C:\\Users\\sali85\\Anaconda3\\lib\\site-packages\\sklearn\\metrics\\_classification.py:1221: UndefinedMetricWarning: Precision is ill-defined and being set to 0.0 in labels with no predicted samples. Use `zero_division` parameter to control this behavior.\n",
      "  _warn_prf(average, modifier, msg_start, len(result))\n",
      "C:\\Users\\sali85\\Anaconda3\\lib\\site-packages\\sklearn\\metrics\\_classification.py:1221: UndefinedMetricWarning: Recall is ill-defined and being set to 0.0 in labels with no true samples. Use `zero_division` parameter to control this behavior.\n",
      "  _warn_prf(average, modifier, msg_start, len(result))\n",
      "<ipython-input-42-273c3866d82e>:321: RuntimeWarning: invalid value encountered in true_divide\n",
      "  print(\"DT Class Wise Accuracy : \",confuse.diagonal()/confuse.sum(axis=1))\n"
     ]
    },
    {
     "name": "stdout",
     "output_type": "stream",
     "text": [
      "DT Class Wise Accuracy :  [0.79069767 0.97       0.5        0.96296296        nan 0.98611111\n",
      " 0.07142857 0.23913043 1.         0.66447368 1.         0.\n",
      " 0.75       0.8180212  0.75       0.         0.5        0.99390244\n",
      "        nan 0.84516129]\n",
      "DT Time :  5.826781200004916\n"
     ]
    },
    {
     "name": "stderr",
     "output_type": "stream",
     "text": [
      "C:\\Users\\sali85\\Anaconda3\\lib\\site-packages\\sklearn\\metrics\\_classification.py:1221: UndefinedMetricWarning: Precision is ill-defined and being set to 0.0 in labels with no predicted samples. Use `zero_division` parameter to control this behavior.\n",
      "  _warn_prf(average, modifier, msg_start, len(result))\n",
      "C:\\Users\\sali85\\Anaconda3\\lib\\site-packages\\sklearn\\metrics\\_classification.py:1221: UndefinedMetricWarning: Recall is ill-defined and being set to 0.0 in labels with no true samples. Use `zero_division` parameter to control this behavior.\n",
      "  _warn_prf(average, modifier, msg_start, len(result))\n",
      "<ipython-input-42-273c3866d82e>:93: RuntimeWarning: invalid value encountered in true_divide\n",
      "  print(\"SVM Class Wise Accuracy : \",confuse.diagonal()/confuse.sum(axis=1))\n"
     ]
    },
    {
     "name": "stdout",
     "output_type": "stream",
     "text": [
      "SVM Class Wise Accuracy :  [0.90697674 1.         1.         1.         1.         0.14285714\n",
      " 0.26086957 1.         0.63815789 1.         0.         1.\n",
      " 0.85159011        nan 0.75       0.         1.         1.\n",
      " 0.87096774]\n",
      "SVM Time :  129.6405919999961\n"
     ]
    },
    {
     "name": "stderr",
     "output_type": "stream",
     "text": [
      "C:\\Users\\sali85\\Anaconda3\\lib\\site-packages\\sklearn\\metrics\\_classification.py:1221: UndefinedMetricWarning: Precision is ill-defined and being set to 0.0 in labels with no predicted samples. Use `zero_division` parameter to control this behavior.\n",
      "  _warn_prf(average, modifier, msg_start, len(result))\n",
      "C:\\Users\\sali85\\Anaconda3\\lib\\site-packages\\sklearn\\metrics\\_classification.py:1221: UndefinedMetricWarning: Recall is ill-defined and being set to 0.0 in labels with no true samples. Use `zero_division` parameter to control this behavior.\n",
      "  _warn_prf(average, modifier, msg_start, len(result))\n",
      "<ipython-input-42-273c3866d82e>:130: RuntimeWarning: invalid value encountered in true_divide\n",
      "  print(\"NB Class Wise Accuracy : \",confuse.diagonal()/confuse.sum(axis=1))\n"
     ]
    },
    {
     "name": "stdout",
     "output_type": "stream",
     "text": [
      "NB Class Wise Accuracy :  [0.97826087 0.95495495 0.33333333 1.         0.93333333 0.16666667\n",
      " 0.33333333 1.         0.83809524 1.         0.         0.625\n",
      " 0.2614841         nan 0.66666667 1.         0.97402597 0.\n",
      " 0.         0.84353741]\n",
      "NB Time :  5.9006861000016215\n"
     ]
    },
    {
     "name": "stderr",
     "output_type": "stream",
     "text": [
      "C:\\Users\\sali85\\Anaconda3\\lib\\site-packages\\sklearn\\metrics\\_classification.py:1221: UndefinedMetricWarning: Precision is ill-defined and being set to 0.0 in labels with no predicted samples. Use `zero_division` parameter to control this behavior.\n",
      "  _warn_prf(average, modifier, msg_start, len(result))\n"
     ]
    },
    {
     "name": "stdout",
     "output_type": "stream",
     "text": [
      "MLP Class Wise Accuracy :  [0.86956522 0.97297297 0.33333333 1.         1.         0.08333333\n",
      " 0.3        1.         0.72063492 1.         0.         0.625\n",
      " 0.83922261 1.         1.         0.99350649 0.         0.\n",
      " 0.85034014]\n",
      "MLP Time :  30.733270400000038\n"
     ]
    },
    {
     "name": "stderr",
     "output_type": "stream",
     "text": [
      "C:\\Users\\sali85\\Anaconda3\\lib\\site-packages\\sklearn\\metrics\\_classification.py:1221: UndefinedMetricWarning: Precision is ill-defined and being set to 0.0 in labels with no predicted samples. Use `zero_division` parameter to control this behavior.\n",
      "  _warn_prf(average, modifier, msg_start, len(result))\n"
     ]
    },
    {
     "name": "stdout",
     "output_type": "stream",
     "text": [
      "KNN Class Wise Accuracy :  [0.69565217 0.95495495 0.         1.         1.         0.\n",
      " 0.26666667 1.         0.7968254  1.         0.         0.75\n",
      " 0.73674912 0.66666667 1.         0.98051948 0.         0.\n",
      " 0.81292517]\n",
      "KNN Time :  45.790802099996654\n"
     ]
    },
    {
     "name": "stderr",
     "output_type": "stream",
     "text": [
      "C:\\Users\\sali85\\Anaconda3\\lib\\site-packages\\sklearn\\metrics\\_classification.py:1221: UndefinedMetricWarning: Precision is ill-defined and being set to 0.0 in labels with no predicted samples. Use `zero_division` parameter to control this behavior.\n",
      "  _warn_prf(average, modifier, msg_start, len(result))\n",
      "C:\\Users\\sali85\\Anaconda3\\lib\\site-packages\\sklearn\\metrics\\_classification.py:1221: UndefinedMetricWarning: Recall is ill-defined and being set to 0.0 in labels with no true samples. Use `zero_division` parameter to control this behavior.\n",
      "  _warn_prf(average, modifier, msg_start, len(result))\n",
      "<ipython-input-42-273c3866d82e>:249: RuntimeWarning: invalid value encountered in true_divide\n",
      "  print(\"RF Class Wise Accuracy : \",confuse.diagonal()/confuse.sum(axis=1))\n"
     ]
    },
    {
     "name": "stdout",
     "output_type": "stream",
     "text": [
      "RF Class Wise Accuracy :  [0.93478261 1.         0.33333333 1.         0.97777778 0.08333333\n",
      " 0.3        1.         0.67936508 1.         0.         0.75\n",
      " 0.88515901        nan 0.66666667 1.         0.99350649 0.\n",
      " 0.         0.7755102 ]\n",
      "RF Time :  11.856890700000804\n"
     ]
    },
    {
     "name": "stderr",
     "output_type": "stream",
     "text": [
      "C:\\Users\\sali85\\Anaconda3\\lib\\site-packages\\sklearn\\metrics\\_classification.py:1221: UndefinedMetricWarning: Precision is ill-defined and being set to 0.0 in labels with no predicted samples. Use `zero_division` parameter to control this behavior.\n",
      "  _warn_prf(average, modifier, msg_start, len(result))\n"
     ]
    },
    {
     "name": "stdout",
     "output_type": "stream",
     "text": [
      "LR Class Wise Accuracy :  [0.91304348 1.         0.33333333 1.         1.         0.08333333\n",
      " 0.4        1.         0.66666667 1.         0.         0.875\n",
      " 0.8639576  0.66666667 1.         0.99350649 0.         0.\n",
      " 0.8707483 ]\n",
      "LR Time :  30.23524929999985\n"
     ]
    },
    {
     "name": "stderr",
     "output_type": "stream",
     "text": [
      "C:\\Users\\sali85\\Anaconda3\\lib\\site-packages\\sklearn\\metrics\\_classification.py:1221: UndefinedMetricWarning: Precision is ill-defined and being set to 0.0 in labels with no predicted samples. Use `zero_division` parameter to control this behavior.\n",
      "  _warn_prf(average, modifier, msg_start, len(result))\n"
     ]
    },
    {
     "name": "stdout",
     "output_type": "stream",
     "text": [
      "DT Class Wise Accuracy :  [0.69565217 0.93693694 0.33333333 0.96153846 0.96666667 0.08333333\n",
      " 0.43333333 1.         0.62222222 0.5        0.         0.75\n",
      " 0.84275618 0.66666667 1.         0.98701299 0.         0.\n",
      " 0.76530612]\n",
      "DT Time :  5.686990199996217\n"
     ]
    },
    {
     "name": "stderr",
     "output_type": "stream",
     "text": [
      "C:\\Users\\sali85\\Anaconda3\\lib\\site-packages\\sklearn\\metrics\\_classification.py:1221: UndefinedMetricWarning: Precision is ill-defined and being set to 0.0 in labels with no predicted samples. Use `zero_division` parameter to control this behavior.\n",
      "  _warn_prf(average, modifier, msg_start, len(result))\n",
      "C:\\Users\\sali85\\Anaconda3\\lib\\site-packages\\sklearn\\metrics\\_classification.py:1221: UndefinedMetricWarning: Recall is ill-defined and being set to 0.0 in labels with no true samples. Use `zero_division` parameter to control this behavior.\n",
      "  _warn_prf(average, modifier, msg_start, len(result))\n",
      "<ipython-input-42-273c3866d82e>:93: RuntimeWarning: invalid value encountered in true_divide\n",
      "  print(\"SVM Class Wise Accuracy : \",confuse.diagonal()/confuse.sum(axis=1))\n"
     ]
    },
    {
     "name": "stdout",
     "output_type": "stream",
     "text": [
      "SVM Class Wise Accuracy :  [0.95652174 1.         0.33333333 1.         0.98888889 0.08333333\n",
      " 0.43333333 1.         0.65396825 1.         0.         0.875\n",
      " 0.86219081        nan 0.66666667 1.         0.99350649 0.\n",
      " 0.         0.79251701]\n",
      "SVM Time :  128.89534039999853\n"
     ]
    },
    {
     "name": "stderr",
     "output_type": "stream",
     "text": [
      "C:\\Users\\sali85\\Anaconda3\\lib\\site-packages\\sklearn\\metrics\\_classification.py:1221: UndefinedMetricWarning: Precision is ill-defined and being set to 0.0 in labels with no predicted samples. Use `zero_division` parameter to control this behavior.\n",
      "  _warn_prf(average, modifier, msg_start, len(result))\n",
      "C:\\Users\\sali85\\Anaconda3\\lib\\site-packages\\sklearn\\metrics\\_classification.py:1221: UndefinedMetricWarning: Recall is ill-defined and being set to 0.0 in labels with no true samples. Use `zero_division` parameter to control this behavior.\n",
      "  _warn_prf(average, modifier, msg_start, len(result))\n",
      "<ipython-input-42-273c3866d82e>:130: RuntimeWarning: invalid value encountered in true_divide\n",
      "  print(\"NB Class Wise Accuracy : \",confuse.diagonal()/confuse.sum(axis=1))\n"
     ]
    },
    {
     "name": "stdout",
     "output_type": "stream",
     "text": [
      "NB Class Wise Accuracy :  [1.         0.96190476 0.66666667 1.         0.96341463 0.09090909\n",
      " 0.         0.         1.         0.81528662 1.         0.\n",
      " 0.66666667 0.26211849        nan 0.25       0.66666667 0.98907104\n",
      " 0.         0.         0.85069444]\n",
      "NB Time :  5.554702000001271\n"
     ]
    },
    {
     "name": "stderr",
     "output_type": "stream",
     "text": [
      "C:\\Users\\sali85\\Anaconda3\\lib\\site-packages\\sklearn\\metrics\\_classification.py:1221: UndefinedMetricWarning: Precision is ill-defined and being set to 0.0 in labels with no predicted samples. Use `zero_division` parameter to control this behavior.\n",
      "  _warn_prf(average, modifier, msg_start, len(result))\n"
     ]
    },
    {
     "name": "stdout",
     "output_type": "stream",
     "text": [
      "MLP Class Wise Accuracy :  [0.88       0.97142857 0.66666667 0.95238095 0.98780488 0.09090909\n",
      " 0.21875    0.         1.         0.84394904 1.         0.\n",
      " 0.66666667 0.77558348 0.75       0.83333333 1.         0.\n",
      " 0.         0.75347222]\n",
      "MLP Time :  41.949529000004986\n"
     ]
    },
    {
     "name": "stderr",
     "output_type": "stream",
     "text": [
      "C:\\Users\\sali85\\Anaconda3\\lib\\site-packages\\sklearn\\metrics\\_classification.py:1221: UndefinedMetricWarning: Precision is ill-defined and being set to 0.0 in labels with no predicted samples. Use `zero_division` parameter to control this behavior.\n",
      "  _warn_prf(average, modifier, msg_start, len(result))\n"
     ]
    },
    {
     "name": "stdout",
     "output_type": "stream",
     "text": [
      "KNN Class Wise Accuracy :  [0.82       0.96190476 0.33333333 1.         0.93902439 0.\n",
      " 0.25       0.         1.         0.7388535  1.         0.\n",
      " 0.66666667 0.80251346 1.         0.66666667 1.         0.\n",
      " 0.         0.74305556]\n",
      "KNN Time :  48.48282690000633\n"
     ]
    },
    {
     "name": "stderr",
     "output_type": "stream",
     "text": [
      "C:\\Users\\sali85\\Anaconda3\\lib\\site-packages\\sklearn\\metrics\\_classification.py:1221: UndefinedMetricWarning: Precision is ill-defined and being set to 0.0 in labels with no predicted samples. Use `zero_division` parameter to control this behavior.\n",
      "  _warn_prf(average, modifier, msg_start, len(result))\n"
     ]
    },
    {
     "name": "stdout",
     "output_type": "stream",
     "text": [
      "RF Class Wise Accuracy :  [0.96       1.         1.         1.         0.98780488 0.09090909\n",
      " 0.1875     0.         1.         0.67515924 1.         0.\n",
      " 0.66666667 0.88689408 1.         0.83333333 1.         0.\n",
      " 0.         0.79513889]\n",
      "RF Time :  11.489726799998607\n"
     ]
    },
    {
     "name": "stderr",
     "output_type": "stream",
     "text": [
      "C:\\Users\\sali85\\Anaconda3\\lib\\site-packages\\sklearn\\metrics\\_classification.py:1221: UndefinedMetricWarning: Precision is ill-defined and being set to 0.0 in labels with no predicted samples. Use `zero_division` parameter to control this behavior.\n",
      "  _warn_prf(average, modifier, msg_start, len(result))\n"
     ]
    },
    {
     "name": "stdout",
     "output_type": "stream",
     "text": [
      "LR Class Wise Accuracy :  [0.94       1.         1.         1.         1.         0.09090909\n",
      " 0.25       0.         1.         0.67197452 1.         0.\n",
      " 1.         0.92818671 0.75       0.83333333 1.         0.\n",
      " 0.         0.75      ]\n",
      "LR Time :  33.36512760000187\n"
     ]
    },
    {
     "name": "stderr",
     "output_type": "stream",
     "text": [
      "C:\\Users\\sali85\\Anaconda3\\lib\\site-packages\\sklearn\\metrics\\_classification.py:1221: UndefinedMetricWarning: Precision is ill-defined and being set to 0.0 in labels with no predicted samples. Use `zero_division` parameter to control this behavior.\n",
      "  _warn_prf(average, modifier, msg_start, len(result))\n",
      "C:\\Users\\sali85\\Anaconda3\\lib\\site-packages\\sklearn\\metrics\\_classification.py:1221: UndefinedMetricWarning: Recall is ill-defined and being set to 0.0 in labels with no true samples. Use `zero_division` parameter to control this behavior.\n",
      "  _warn_prf(average, modifier, msg_start, len(result))\n",
      "<ipython-input-42-273c3866d82e>:321: RuntimeWarning: invalid value encountered in true_divide\n",
      "  print(\"DT Class Wise Accuracy : \",confuse.diagonal()/confuse.sum(axis=1))\n"
     ]
    },
    {
     "name": "stdout",
     "output_type": "stream",
     "text": [
      "DT Class Wise Accuracy :  [0.84       0.97142857 0.66666667 0.95238095 0.97560976 0.09090909\n",
      " 0.15625    0.         0.66666667 0.65605096 1.         0.\n",
      " 1.         0.88689408        nan 0.75       0.66666667 0.98907104\n",
      " 0.         0.         0.74652778]\n",
      "DT Time :  5.764036700005818\n"
     ]
    },
    {
     "name": "stderr",
     "output_type": "stream",
     "text": [
      "C:\\Users\\sali85\\Anaconda3\\lib\\site-packages\\sklearn\\metrics\\_classification.py:1221: UndefinedMetricWarning: Precision is ill-defined and being set to 0.0 in labels with no predicted samples. Use `zero_division` parameter to control this behavior.\n",
      "  _warn_prf(average, modifier, msg_start, len(result))\n",
      "C:\\Users\\sali85\\Anaconda3\\lib\\site-packages\\sklearn\\metrics\\_classification.py:1221: UndefinedMetricWarning: Recall is ill-defined and being set to 0.0 in labels with no true samples. Use `zero_division` parameter to control this behavior.\n",
      "  _warn_prf(average, modifier, msg_start, len(result))\n",
      "<ipython-input-42-273c3866d82e>:93: RuntimeWarning: invalid value encountered in true_divide\n",
      "  print(\"SVM Class Wise Accuracy : \",confuse.diagonal()/confuse.sum(axis=1))\n"
     ]
    },
    {
     "name": "stdout",
     "output_type": "stream",
     "text": [
      "SVM Class Wise Accuracy :  [0.96       1.         1.         1.         1.         0.09090909\n",
      " 0.21875    0.         1.         0.6433121  1.         0.\n",
      " 1.         0.91561939        nan 0.75       0.83333333 1.\n",
      " 0.         0.         0.74305556]\n",
      "SVM Time :  133.4026082000055\n"
     ]
    },
    {
     "name": "stderr",
     "output_type": "stream",
     "text": [
      "C:\\Users\\sali85\\Anaconda3\\lib\\site-packages\\sklearn\\metrics\\_classification.py:1221: UndefinedMetricWarning: Precision is ill-defined and being set to 0.0 in labels with no predicted samples. Use `zero_division` parameter to control this behavior.\n",
      "  _warn_prf(average, modifier, msg_start, len(result))\n",
      "C:\\Users\\sali85\\Anaconda3\\lib\\site-packages\\sklearn\\metrics\\_classification.py:1221: UndefinedMetricWarning: Recall is ill-defined and being set to 0.0 in labels with no true samples. Use `zero_division` parameter to control this behavior.\n",
      "  _warn_prf(average, modifier, msg_start, len(result))\n",
      "<ipython-input-42-273c3866d82e>:130: RuntimeWarning: invalid value encountered in true_divide\n",
      "  print(\"NB Class Wise Accuracy : \",confuse.diagonal()/confuse.sum(axis=1))\n"
     ]
    },
    {
     "name": "stdout",
     "output_type": "stream",
     "text": [
      "NB Class Wise Accuracy :  [0.98039216 0.97115385 0.5        0.96       0.96703297 0.1\n",
      " 0.16666667 1.         0.80622837 0.         0.5        0.24862888\n",
      "        nan 0.63636364 0.8        1.                nan 0.83125   ]\n",
      "NB Time :  6.233283800000208\n"
     ]
    },
    {
     "name": "stderr",
     "output_type": "stream",
     "text": [
      "C:\\Users\\sali85\\Anaconda3\\lib\\site-packages\\sklearn\\metrics\\_classification.py:1221: UndefinedMetricWarning: Precision is ill-defined and being set to 0.0 in labels with no predicted samples. Use `zero_division` parameter to control this behavior.\n",
      "  _warn_prf(average, modifier, msg_start, len(result))\n"
     ]
    },
    {
     "name": "stdout",
     "output_type": "stream",
     "text": [
      "MLP Class Wise Accuracy :  [0.84313725 0.97115385 0.         1.         1.         0.\n",
      " 0.25       0.         0.66089965 0.         0.5        0.85009141\n",
      " 0.27272727 0.8        1.         0.8625    ]\n",
      "MLP Time :  34.80706739999732\n"
     ]
    },
    {
     "name": "stderr",
     "output_type": "stream",
     "text": [
      "C:\\Users\\sali85\\Anaconda3\\lib\\site-packages\\sklearn\\metrics\\_classification.py:1221: UndefinedMetricWarning: Precision is ill-defined and being set to 0.0 in labels with no predicted samples. Use `zero_division` parameter to control this behavior.\n",
      "  _warn_prf(average, modifier, msg_start, len(result))\n"
     ]
    },
    {
     "name": "stdout",
     "output_type": "stream",
     "text": [
      "KNN Class Wise Accuracy :  [0.70588235 0.98076923 0.5        1.         1.         0.1\n",
      " 0.16666667 1.         0.80276817 0.         0.75       0.68921389\n",
      " 0.27272727 1.         0.99393939 0.7625    ]\n",
      "KNN Time :  44.06999250000081\n"
     ]
    },
    {
     "name": "stderr",
     "output_type": "stream",
     "text": [
      "C:\\Users\\sali85\\Anaconda3\\lib\\site-packages\\sklearn\\metrics\\_classification.py:1221: UndefinedMetricWarning: Precision is ill-defined and being set to 0.0 in labels with no predicted samples. Use `zero_division` parameter to control this behavior.\n",
      "  _warn_prf(average, modifier, msg_start, len(result))\n"
     ]
    },
    {
     "name": "stdout",
     "output_type": "stream",
     "text": [
      "RF Class Wise Accuracy :  [0.8627451  1.         0.5        1.         1.         0.\n",
      " 0.25       1.         0.6816609  0.         0.75       0.83729433\n",
      " 0.72727273 1.         1.         0.85      ]\n",
      "RF Time :  11.117171300000336\n"
     ]
    },
    {
     "name": "stderr",
     "output_type": "stream",
     "text": [
      "C:\\Users\\sali85\\Anaconda3\\lib\\site-packages\\sklearn\\metrics\\_classification.py:1221: UndefinedMetricWarning: Precision is ill-defined and being set to 0.0 in labels with no predicted samples. Use `zero_division` parameter to control this behavior.\n",
      "  _warn_prf(average, modifier, msg_start, len(result))\n"
     ]
    },
    {
     "name": "stdout",
     "output_type": "stream",
     "text": [
      "LR Class Wise Accuracy :  [0.8627451  1.         1.         1.         1.         0.\n",
      " 0.30555556 1.         0.65397924 0.         0.75       0.84826325\n",
      " 0.72727273 1.         1.         0.871875  ]\n",
      "LR Time :  43.123667300002126\n"
     ]
    },
    {
     "name": "stderr",
     "output_type": "stream",
     "text": [
      "C:\\Users\\sali85\\Anaconda3\\lib\\site-packages\\sklearn\\metrics\\_classification.py:1221: UndefinedMetricWarning: Precision is ill-defined and being set to 0.0 in labels with no predicted samples. Use `zero_division` parameter to control this behavior.\n",
      "  _warn_prf(average, modifier, msg_start, len(result))\n",
      "C:\\Users\\sali85\\Anaconda3\\lib\\site-packages\\sklearn\\metrics\\_classification.py:1221: UndefinedMetricWarning: Recall is ill-defined and being set to 0.0 in labels with no true samples. Use `zero_division` parameter to control this behavior.\n",
      "  _warn_prf(average, modifier, msg_start, len(result))\n",
      "<ipython-input-42-273c3866d82e>:321: RuntimeWarning: invalid value encountered in true_divide\n",
      "  print(\"DT Class Wise Accuracy : \",confuse.diagonal()/confuse.sum(axis=1))\n"
     ]
    },
    {
     "name": "stdout",
     "output_type": "stream",
     "text": [
      "DT Class Wise Accuracy :  [0.8627451  0.98076923 1.         1.         1.         0.\n",
      " 0.25              nan 1.         0.66089965        nan 0.\n",
      " 0.75       0.81352834 0.72727273 0.8        0.95757576 0.853125  ]\n",
      "DT Time :  5.824012500001118\n"
     ]
    },
    {
     "name": "stderr",
     "output_type": "stream",
     "text": [
      "C:\\Users\\sali85\\Anaconda3\\lib\\site-packages\\sklearn\\metrics\\_classification.py:1221: UndefinedMetricWarning: Precision is ill-defined and being set to 0.0 in labels with no predicted samples. Use `zero_division` parameter to control this behavior.\n",
      "  _warn_prf(average, modifier, msg_start, len(result))\n",
      "C:\\Users\\sali85\\Anaconda3\\lib\\site-packages\\sklearn\\metrics\\_classification.py:1221: UndefinedMetricWarning: Recall is ill-defined and being set to 0.0 in labels with no true samples. Use `zero_division` parameter to control this behavior.\n",
      "  _warn_prf(average, modifier, msg_start, len(result))\n",
      "<ipython-input-42-273c3866d82e>:93: RuntimeWarning: invalid value encountered in true_divide\n",
      "  print(\"SVM Class Wise Accuracy : \",confuse.diagonal()/confuse.sum(axis=1))\n"
     ]
    },
    {
     "name": "stdout",
     "output_type": "stream",
     "text": [
      "SVM Class Wise Accuracy :  [0.8627451  1.         1.         1.         1.         0.1\n",
      " 0.33333333 1.         0.6366782  0.         0.75       0.8464351\n",
      "        nan 0.72727273 1.         1.         0.871875  ]\n",
      "SVM Time :  135.1940770000001\n"
     ]
    },
    {
     "name": "stderr",
     "output_type": "stream",
     "text": [
      "C:\\Users\\sali85\\Anaconda3\\lib\\site-packages\\sklearn\\metrics\\_classification.py:1221: UndefinedMetricWarning: Precision is ill-defined and being set to 0.0 in labels with no predicted samples. Use `zero_division` parameter to control this behavior.\n",
      "  _warn_prf(average, modifier, msg_start, len(result))\n"
     ]
    },
    {
     "name": "stdout",
     "output_type": "stream",
     "text": [
      "NB Class Wise Accuracy :  [1.         0.94782609 0.66666667 1.         1.         0.08333333\n",
      " 0.17647059 0.         1.         0.88498403 0.75       0.29038113\n",
      " 0.         0.71428571 0.83333333 0.96363636 0.         0.82410423]\n",
      "NB Time :  6.059582499998214\n"
     ]
    },
    {
     "name": "stderr",
     "output_type": "stream",
     "text": [
      "C:\\Users\\sali85\\Anaconda3\\lib\\site-packages\\sklearn\\metrics\\_classification.py:1221: UndefinedMetricWarning: Precision is ill-defined and being set to 0.0 in labels with no predicted samples. Use `zero_division` parameter to control this behavior.\n",
      "  _warn_prf(average, modifier, msg_start, len(result))\n"
     ]
    },
    {
     "name": "stdout",
     "output_type": "stream",
     "text": [
      "MLP Class Wise Accuracy :  [0.91666667 0.95652174 0.66666667 1.         0.98734177 0.08333333\n",
      " 0.47058824 0.         1.         0.77955272 0.         0.69328494\n",
      " 0.         0.85714286 1.         0.98787879 0.         0.91205212]\n",
      "MLP Time :  66.8773274999985\n"
     ]
    },
    {
     "name": "stderr",
     "output_type": "stream",
     "text": [
      "C:\\Users\\sali85\\Anaconda3\\lib\\site-packages\\sklearn\\metrics\\_classification.py:1221: UndefinedMetricWarning: Precision is ill-defined and being set to 0.0 in labels with no predicted samples. Use `zero_division` parameter to control this behavior.\n",
      "  _warn_prf(average, modifier, msg_start, len(result))\n"
     ]
    },
    {
     "name": "stdout",
     "output_type": "stream",
     "text": [
      "KNN Class Wise Accuracy :  [0.83333333 0.9826087  0.         1.         1.         0.08333333\n",
      " 0.32352941 0.         1.         0.69648562 1.         0.75862069\n",
      " 0.         0.57142857 0.83333333 0.98787879 0.         0.82736156]\n",
      "KNN Time :  43.49430069999653\n"
     ]
    },
    {
     "name": "stderr",
     "output_type": "stream",
     "text": [
      "C:\\Users\\sali85\\Anaconda3\\lib\\site-packages\\sklearn\\metrics\\_classification.py:1221: UndefinedMetricWarning: Precision is ill-defined and being set to 0.0 in labels with no predicted samples. Use `zero_division` parameter to control this behavior.\n",
      "  _warn_prf(average, modifier, msg_start, len(result))\n"
     ]
    },
    {
     "name": "stdout",
     "output_type": "stream",
     "text": [
      "RF Class Wise Accuracy :  [1.         0.9826087  1.         1.         1.         0.\n",
      " 0.35294118 0.         1.         0.68370607 1.         0.91288566\n",
      " 0.         1.         0.83333333 0.99393939 0.         0.72964169]\n",
      "RF Time :  11.453038499996183\n"
     ]
    },
    {
     "name": "stderr",
     "output_type": "stream",
     "text": [
      "C:\\Users\\sali85\\Anaconda3\\lib\\site-packages\\sklearn\\metrics\\_classification.py:1221: UndefinedMetricWarning: Precision is ill-defined and being set to 0.0 in labels with no predicted samples. Use `zero_division` parameter to control this behavior.\n",
      "  _warn_prf(average, modifier, msg_start, len(result))\n"
     ]
    },
    {
     "name": "stdout",
     "output_type": "stream",
     "text": [
      "LR Class Wise Accuracy :  [1.         0.9826087  1.         1.         1.         0.\n",
      " 0.41176471 0.         1.         0.61022364 1.         0.93466425\n",
      " 0.         0.85714286 1.         0.99393939 0.         0.74918567]\n",
      "LR Time :  32.02540749999753\n"
     ]
    },
    {
     "name": "stderr",
     "output_type": "stream",
     "text": [
      "C:\\Users\\sali85\\Anaconda3\\lib\\site-packages\\sklearn\\metrics\\_classification.py:1221: UndefinedMetricWarning: Precision is ill-defined and being set to 0.0 in labels with no predicted samples. Use `zero_division` parameter to control this behavior.\n",
      "  _warn_prf(average, modifier, msg_start, len(result))\n",
      "C:\\Users\\sali85\\Anaconda3\\lib\\site-packages\\sklearn\\metrics\\_classification.py:1221: UndefinedMetricWarning: Recall is ill-defined and being set to 0.0 in labels with no true samples. Use `zero_division` parameter to control this behavior.\n",
      "  _warn_prf(average, modifier, msg_start, len(result))\n",
      "<ipython-input-42-273c3866d82e>:321: RuntimeWarning: invalid value encountered in true_divide\n",
      "  print(\"DT Class Wise Accuracy : \",confuse.diagonal()/confuse.sum(axis=1))\n"
     ]
    },
    {
     "name": "stdout",
     "output_type": "stream",
     "text": [
      "DT Class Wise Accuracy :  [0.91666667 0.94782609 1.         0.94736842        nan 1.\n",
      " 0.         0.32352941 0.         1.         0.67412141 1.\n",
      " 0.89473684 0.         1.         0.83333333 0.98787879 0.\n",
      " 0.73615635]\n",
      "DT Time :  5.5528736999985995\n"
     ]
    },
    {
     "name": "stderr",
     "output_type": "stream",
     "text": [
      "C:\\Users\\sali85\\Anaconda3\\lib\\site-packages\\sklearn\\metrics\\_classification.py:1221: UndefinedMetricWarning: Precision is ill-defined and being set to 0.0 in labels with no predicted samples. Use `zero_division` parameter to control this behavior.\n",
      "  _warn_prf(average, modifier, msg_start, len(result))\n"
     ]
    },
    {
     "name": "stdout",
     "output_type": "stream",
     "text": [
      "SVM Class Wise Accuracy :  [1.         0.9826087  1.         1.         1.         0.08333333\n",
      " 0.32352941 0.         1.         0.6485623  1.         0.91288566\n",
      " 0.         0.85714286 1.         0.99393939 0.         0.73289902]\n",
      "SVM Time :  120.48265740000352\n"
     ]
    },
    {
     "name": "stderr",
     "output_type": "stream",
     "text": [
      "C:\\Users\\sali85\\Anaconda3\\lib\\site-packages\\sklearn\\metrics\\_classification.py:1221: UndefinedMetricWarning: Precision is ill-defined and being set to 0.0 in labels with no predicted samples. Use `zero_division` parameter to control this behavior.\n",
      "  _warn_prf(average, modifier, msg_start, len(result))\n"
     ]
    },
    {
     "name": "stdout",
     "output_type": "stream",
     "text": [
      "NB Class Wise Accuracy :  [0.97368421 0.97435897 0.33333333 0.95833333 0.         0.98795181\n",
      " 0.15384615 0.1875     1.         0.86601307 1.         0.6\n",
      " 0.27338129 0.         1.         0.         0.875      0.98136646\n",
      " 0.         0.         0.79867987]\n",
      "NB Time :  5.723277500001132\n"
     ]
    },
    {
     "name": "stderr",
     "output_type": "stream",
     "text": [
      "C:\\Users\\sali85\\Anaconda3\\lib\\site-packages\\sklearn\\metrics\\_classification.py:1221: UndefinedMetricWarning: Precision is ill-defined and being set to 0.0 in labels with no predicted samples. Use `zero_division` parameter to control this behavior.\n",
      "  _warn_prf(average, modifier, msg_start, len(result))\n",
      "C:\\Users\\sali85\\Anaconda3\\lib\\site-packages\\sklearn\\metrics\\_classification.py:1221: UndefinedMetricWarning: Recall is ill-defined and being set to 0.0 in labels with no true samples. Use `zero_division` parameter to control this behavior.\n",
      "  _warn_prf(average, modifier, msg_start, len(result))\n",
      "<ipython-input-42-273c3866d82e>:174: RuntimeWarning: invalid value encountered in true_divide\n",
      "  print(\"MLP Class Wise Accuracy : \",confuse.diagonal()/confuse.sum(axis=1))\n"
     ]
    },
    {
     "name": "stdout",
     "output_type": "stream",
     "text": [
      "MLP Class Wise Accuracy :  [0.84210526 0.98290598 0.         1.         0.         1.\n",
      " 0.15384615 0.34375    0.         0.61764706 1.                nan\n",
      " 1.         0.92086331 0.         1.         0.         1.\n",
      " 0.99378882 0.         0.         0.71287129]\n",
      "MLP Time :  35.17723040000419\n"
     ]
    },
    {
     "name": "stderr",
     "output_type": "stream",
     "text": [
      "C:\\Users\\sali85\\Anaconda3\\lib\\site-packages\\sklearn\\metrics\\_classification.py:1221: UndefinedMetricWarning: Precision is ill-defined and being set to 0.0 in labels with no predicted samples. Use `zero_division` parameter to control this behavior.\n",
      "  _warn_prf(average, modifier, msg_start, len(result))\n"
     ]
    },
    {
     "name": "stdout",
     "output_type": "stream",
     "text": [
      "KNN Class Wise Accuracy :  [0.76315789 0.96581197 0.         1.         0.         1.\n",
      " 0.         0.3125     1.         0.57843137 1.         1.\n",
      " 0.89928058 0.         0.125      0.         1.         0.99378882\n",
      " 0.         0.         0.70957096]\n",
      "KNN Time :  45.97469170000113\n"
     ]
    },
    {
     "name": "stderr",
     "output_type": "stream",
     "text": [
      "C:\\Users\\sali85\\Anaconda3\\lib\\site-packages\\sklearn\\metrics\\_classification.py:1221: UndefinedMetricWarning: Precision is ill-defined and being set to 0.0 in labels with no predicted samples. Use `zero_division` parameter to control this behavior.\n",
      "  _warn_prf(average, modifier, msg_start, len(result))\n"
     ]
    },
    {
     "name": "stdout",
     "output_type": "stream",
     "text": [
      "RF Class Wise Accuracy :  [0.94736842 0.98290598 0.33333333 1.         0.         1.\n",
      " 0.07692308 0.28125    1.         0.66339869 1.         1.\n",
      " 0.88309353 0.         1.         1.         1.         0.99378882\n",
      " 0.         0.         0.74257426]\n",
      "RF Time :  11.589425999998639\n"
     ]
    },
    {
     "name": "stderr",
     "output_type": "stream",
     "text": [
      "C:\\Users\\sali85\\Anaconda3\\lib\\site-packages\\sklearn\\metrics\\_classification.py:1221: UndefinedMetricWarning: Precision is ill-defined and being set to 0.0 in labels with no predicted samples. Use `zero_division` parameter to control this behavior.\n",
      "  _warn_prf(average, modifier, msg_start, len(result))\n"
     ]
    },
    {
     "name": "stdout",
     "output_type": "stream",
     "text": [
      "LR Class Wise Accuracy :  [0.94736842 1.         0.33333333 1.         0.         1.\n",
      " 0.07692308 0.4375     1.         0.64052288 1.         1.\n",
      " 0.86870504 0.         1.         1.         1.         0.99378882\n",
      " 0.         0.         0.83828383]\n",
      "LR Time :  32.11657739999646\n"
     ]
    },
    {
     "name": "stderr",
     "output_type": "stream",
     "text": [
      "C:\\Users\\sali85\\Anaconda3\\lib\\site-packages\\sklearn\\metrics\\_classification.py:1221: UndefinedMetricWarning: Precision is ill-defined and being set to 0.0 in labels with no predicted samples. Use `zero_division` parameter to control this behavior.\n",
      "  _warn_prf(average, modifier, msg_start, len(result))\n"
     ]
    },
    {
     "name": "stdout",
     "output_type": "stream",
     "text": [
      "DT Class Wise Accuracy :  [0.84210526 0.98290598 0.33333333 0.95833333 0.         1.\n",
      " 0.07692308 0.3125     1.         0.62745098 1.         0.6\n",
      " 0.85791367 0.         1.         0.         0.875      0.99378882\n",
      " 0.         0.         0.73927393]\n",
      "DT Time :  5.5174539999934495\n"
     ]
    },
    {
     "name": "stderr",
     "output_type": "stream",
     "text": [
      "C:\\Users\\sali85\\Anaconda3\\lib\\site-packages\\sklearn\\metrics\\_classification.py:1221: UndefinedMetricWarning: Precision is ill-defined and being set to 0.0 in labels with no predicted samples. Use `zero_division` parameter to control this behavior.\n",
      "  _warn_prf(average, modifier, msg_start, len(result))\n"
     ]
    },
    {
     "name": "stdout",
     "output_type": "stream",
     "text": [
      "SVM Class Wise Accuracy :  [0.97368421 1.         0.66666667 1.         0.         1.\n",
      " 0.07692308 0.375      1.         0.62091503 1.         1.\n",
      " 0.8705036  0.         1.         1.         1.         0.99378882\n",
      " 0.         0.         0.8019802 ]\n",
      "SVM Time :  119.2087354000032\n"
     ]
    },
    {
     "name": "stderr",
     "output_type": "stream",
     "text": [
      "C:\\Users\\sali85\\Anaconda3\\lib\\site-packages\\sklearn\\metrics\\_classification.py:1221: UndefinedMetricWarning: Precision is ill-defined and being set to 0.0 in labels with no predicted samples. Use `zero_division` parameter to control this behavior.\n",
      "  _warn_prf(average, modifier, msg_start, len(result))\n",
      "C:\\Users\\sali85\\Anaconda3\\lib\\site-packages\\sklearn\\metrics\\_classification.py:1221: UndefinedMetricWarning: Recall is ill-defined and being set to 0.0 in labels with no true samples. Use `zero_division` parameter to control this behavior.\n",
      "  _warn_prf(average, modifier, msg_start, len(result))\n",
      "<ipython-input-42-273c3866d82e>:130: RuntimeWarning: invalid value encountered in true_divide\n",
      "  print(\"NB Class Wise Accuracy : \",confuse.diagonal()/confuse.sum(axis=1))\n"
     ]
    },
    {
     "name": "stdout",
     "output_type": "stream",
     "text": [
      "NB Class Wise Accuracy :  [1.         0.984      0.         0.92592593 0.96551724 0.\n",
      " 0.17073171 1.         0.77399381 1.         0.         1.\n",
      " 0.24587156        nan 0.33333333 0.         1.         0.96363636\n",
      "        nan 0.84397163]\n",
      "NB Time :  6.14935400000104\n"
     ]
    },
    {
     "name": "stderr",
     "output_type": "stream",
     "text": [
      "C:\\Users\\sali85\\Anaconda3\\lib\\site-packages\\sklearn\\metrics\\_classification.py:1221: UndefinedMetricWarning: Precision is ill-defined and being set to 0.0 in labels with no predicted samples. Use `zero_division` parameter to control this behavior.\n",
      "  _warn_prf(average, modifier, msg_start, len(result))\n"
     ]
    },
    {
     "name": "stdout",
     "output_type": "stream",
     "text": [
      "MLP Class Wise Accuracy :  [0.9047619  0.968      0.         1.         0.98850575 0.\n",
      " 0.09756098 1.         0.77089783 0.         0.         1.\n",
      " 0.80366972 0.66666667 0.         0.83333333 1.         0.79787234]\n",
      "MLP Time :  42.3885408999995\n"
     ]
    },
    {
     "name": "stderr",
     "output_type": "stream",
     "text": [
      "C:\\Users\\sali85\\Anaconda3\\lib\\site-packages\\sklearn\\metrics\\_classification.py:1221: UndefinedMetricWarning: Precision is ill-defined and being set to 0.0 in labels with no predicted samples. Use `zero_division` parameter to control this behavior.\n",
      "  _warn_prf(average, modifier, msg_start, len(result))\n"
     ]
    },
    {
     "name": "stdout",
     "output_type": "stream",
     "text": [
      "KNN Class Wise Accuracy :  [0.71428571 0.968      0.         1.         1.         0.07692308\n",
      " 0.19512195 1.         0.57275542 1.         0.         1.\n",
      " 0.86055046 1.         0.         1.         0.99393939 0.84042553]\n",
      "KNN Time :  45.32123280000087\n"
     ]
    },
    {
     "name": "stderr",
     "output_type": "stream",
     "text": [
      "C:\\Users\\sali85\\Anaconda3\\lib\\site-packages\\sklearn\\metrics\\_classification.py:1221: UndefinedMetricWarning: Precision is ill-defined and being set to 0.0 in labels with no predicted samples. Use `zero_division` parameter to control this behavior.\n",
      "  _warn_prf(average, modifier, msg_start, len(result))\n"
     ]
    },
    {
     "name": "stdout",
     "output_type": "stream",
     "text": [
      "RF Class Wise Accuracy :  [0.97619048 1.         0.         1.         1.         0.\n",
      " 0.19512195 1.         0.65944272 1.         0.         1.\n",
      " 0.86422018 1.         0.         1.         1.         0.80141844]\n",
      "RF Time :  12.480269899999257\n"
     ]
    },
    {
     "name": "stderr",
     "output_type": "stream",
     "text": [
      "C:\\Users\\sali85\\Anaconda3\\lib\\site-packages\\sklearn\\metrics\\_classification.py:1221: UndefinedMetricWarning: Precision is ill-defined and being set to 0.0 in labels with no predicted samples. Use `zero_division` parameter to control this behavior.\n",
      "  _warn_prf(average, modifier, msg_start, len(result))\n"
     ]
    },
    {
     "name": "stdout",
     "output_type": "stream",
     "text": [
      "LR Class Wise Accuracy :  [0.97619048 1.         0.         1.         1.         0.\n",
      " 0.24390244 1.         0.625387   1.         0.         1.\n",
      " 0.85688073 0.66666667 0.         1.         1.         0.88297872]\n",
      "LR Time :  33.206157300002815\n"
     ]
    },
    {
     "name": "stderr",
     "output_type": "stream",
     "text": [
      "C:\\Users\\sali85\\Anaconda3\\lib\\site-packages\\sklearn\\metrics\\_classification.py:1221: UndefinedMetricWarning: Precision is ill-defined and being set to 0.0 in labels with no predicted samples. Use `zero_division` parameter to control this behavior.\n",
      "  _warn_prf(average, modifier, msg_start, len(result))\n",
      "C:\\Users\\sali85\\Anaconda3\\lib\\site-packages\\sklearn\\metrics\\_classification.py:1221: UndefinedMetricWarning: Recall is ill-defined and being set to 0.0 in labels with no true samples. Use `zero_division` parameter to control this behavior.\n",
      "  _warn_prf(average, modifier, msg_start, len(result))\n",
      "<ipython-input-42-273c3866d82e>:321: RuntimeWarning: invalid value encountered in true_divide\n",
      "  print(\"DT Class Wise Accuracy : \",confuse.diagonal()/confuse.sum(axis=1))\n"
     ]
    },
    {
     "name": "stdout",
     "output_type": "stream",
     "text": [
      "DT Class Wise Accuracy :  [0.83333333 0.944      0.         1.         0.98850575 0.\n",
      " 0.26829268        nan 1.         0.66563467 1.         0.\n",
      " 1.         0.8293578         nan 1.         0.         1.\n",
      " 0.98181818 0.81205674]\n",
      "DT Time :  5.713342900002317\n"
     ]
    },
    {
     "name": "stderr",
     "output_type": "stream",
     "text": [
      "C:\\Users\\sali85\\Anaconda3\\lib\\site-packages\\sklearn\\metrics\\_classification.py:1221: UndefinedMetricWarning: Precision is ill-defined and being set to 0.0 in labels with no predicted samples. Use `zero_division` parameter to control this behavior.\n",
      "  _warn_prf(average, modifier, msg_start, len(result))\n",
      "C:\\Users\\sali85\\Anaconda3\\lib\\site-packages\\sklearn\\metrics\\_classification.py:1221: UndefinedMetricWarning: Recall is ill-defined and being set to 0.0 in labels with no true samples. Use `zero_division` parameter to control this behavior.\n",
      "  _warn_prf(average, modifier, msg_start, len(result))\n",
      "<ipython-input-42-273c3866d82e>:93: RuntimeWarning: invalid value encountered in true_divide\n",
      "  print(\"SVM Class Wise Accuracy : \",confuse.diagonal()/confuse.sum(axis=1))\n"
     ]
    },
    {
     "name": "stdout",
     "output_type": "stream",
     "text": [
      "SVM Class Wise Accuracy :  [0.97619048 1.         0.         1.         1.         0.\n",
      " 0.26829268 1.         0.59133127 1.         0.         1.\n",
      " 0.84587156        nan 0.66666667 0.         1.         1.\n",
      " 0.87588652]\n",
      "SVM Time :  128.36396960000275\n"
     ]
    },
    {
     "name": "stderr",
     "output_type": "stream",
     "text": [
      "C:\\Users\\sali85\\Anaconda3\\lib\\site-packages\\sklearn\\metrics\\_classification.py:1221: UndefinedMetricWarning: Precision is ill-defined and being set to 0.0 in labels with no predicted samples. Use `zero_division` parameter to control this behavior.\n",
      "  _warn_prf(average, modifier, msg_start, len(result))\n",
      "C:\\Users\\sali85\\Anaconda3\\lib\\site-packages\\sklearn\\metrics\\_classification.py:1221: UndefinedMetricWarning: Recall is ill-defined and being set to 0.0 in labels with no true samples. Use `zero_division` parameter to control this behavior.\n",
      "  _warn_prf(average, modifier, msg_start, len(result))\n",
      "<ipython-input-42-273c3866d82e>:130: RuntimeWarning: invalid value encountered in true_divide\n",
      "  print(\"NB Class Wise Accuracy : \",confuse.diagonal()/confuse.sum(axis=1))\n"
     ]
    },
    {
     "name": "stdout",
     "output_type": "stream",
     "text": [
      "NB Class Wise Accuracy :  [0.96       0.98969072 1.         0.94736842 0.         0.97619048\n",
      " 0.         0.11111111 1.         0.8044164  1.         0.66666667\n",
      " 0.23214286        nan 0.71428571 0.66666667 0.98224852        nan\n",
      " 0.85618729]\n",
      "NB Time :  6.010697900004743\n"
     ]
    },
    {
     "name": "stderr",
     "output_type": "stream",
     "text": [
      "C:\\Users\\sali85\\Anaconda3\\lib\\site-packages\\sklearn\\metrics\\_classification.py:1221: UndefinedMetricWarning: Precision is ill-defined and being set to 0.0 in labels with no predicted samples. Use `zero_division` parameter to control this behavior.\n",
      "  _warn_prf(average, modifier, msg_start, len(result))\n"
     ]
    },
    {
     "name": "stdout",
     "output_type": "stream",
     "text": [
      "MLP Class Wise Accuracy :  [0.92       0.91752577 0.5        1.         0.         0.98809524\n",
      " 0.         0.13888889 0.         0.69400631 0.         0.\n",
      " 0.75892857 0.71428571 0.         0.98816568 0.92976589]\n",
      "MLP Time :  53.68101009999373\n"
     ]
    },
    {
     "name": "stderr",
     "output_type": "stream",
     "text": [
      "C:\\Users\\sali85\\Anaconda3\\lib\\site-packages\\sklearn\\metrics\\_classification.py:1221: UndefinedMetricWarning: Precision is ill-defined and being set to 0.0 in labels with no predicted samples. Use `zero_division` parameter to control this behavior.\n",
      "  _warn_prf(average, modifier, msg_start, len(result))\n"
     ]
    },
    {
     "name": "stdout",
     "output_type": "stream",
     "text": [
      "KNN Class Wise Accuracy :  [0.7        0.95876289 0.5        1.         0.         1.\n",
      " 0.         0.25       1.         0.59621451 1.         0.66666667\n",
      " 0.85357143 1.         1.         0.98816568 0.80602007]\n",
      "KNN Time :  47.87889510000241\n"
     ]
    },
    {
     "name": "stderr",
     "output_type": "stream",
     "text": [
      "C:\\Users\\sali85\\Anaconda3\\lib\\site-packages\\sklearn\\metrics\\_classification.py:1221: UndefinedMetricWarning: Precision is ill-defined and being set to 0.0 in labels with no predicted samples. Use `zero_division` parameter to control this behavior.\n",
      "  _warn_prf(average, modifier, msg_start, len(result))\n"
     ]
    },
    {
     "name": "stdout",
     "output_type": "stream",
     "text": [
      "RF Class Wise Accuracy :  [0.94       1.         1.         1.         0.         1.\n",
      " 0.         0.25       1.         0.67507886 1.         0.66666667\n",
      " 0.89464286 0.85714286 1.         0.99408284 0.75919732]\n",
      "RF Time :  12.036429599997064\n"
     ]
    },
    {
     "name": "stderr",
     "output_type": "stream",
     "text": [
      "C:\\Users\\sali85\\Anaconda3\\lib\\site-packages\\sklearn\\metrics\\_classification.py:1221: UndefinedMetricWarning: Precision is ill-defined and being set to 0.0 in labels with no predicted samples. Use `zero_division` parameter to control this behavior.\n",
      "  _warn_prf(average, modifier, msg_start, len(result))\n",
      "C:\\Users\\sali85\\Anaconda3\\lib\\site-packages\\sklearn\\metrics\\_classification.py:1221: UndefinedMetricWarning: Recall is ill-defined and being set to 0.0 in labels with no true samples. Use `zero_division` parameter to control this behavior.\n",
      "  _warn_prf(average, modifier, msg_start, len(result))\n",
      "<ipython-input-42-273c3866d82e>:285: RuntimeWarning: invalid value encountered in true_divide\n",
      "  print(\"LR Class Wise Accuracy : \",confuse.diagonal()/confuse.sum(axis=1))\n"
     ]
    },
    {
     "name": "stdout",
     "output_type": "stream",
     "text": [
      "LR Class Wise Accuracy :  [0.94       1.         1.         1.         0.         1.\n",
      " 0.         0.38888889 1.         0.65615142 1.         0.66666667\n",
      " 0.89107143        nan 0.85714286 1.         0.99408284 0.83946488]\n",
      "LR Time :  31.706607400003122\n"
     ]
    },
    {
     "name": "stderr",
     "output_type": "stream",
     "text": [
      "C:\\Users\\sali85\\Anaconda3\\lib\\site-packages\\sklearn\\metrics\\_classification.py:1221: UndefinedMetricWarning: Precision is ill-defined and being set to 0.0 in labels with no predicted samples. Use `zero_division` parameter to control this behavior.\n",
      "  _warn_prf(average, modifier, msg_start, len(result))\n",
      "C:\\Users\\sali85\\Anaconda3\\lib\\site-packages\\sklearn\\metrics\\_classification.py:1221: UndefinedMetricWarning: Recall is ill-defined and being set to 0.0 in labels with no true samples. Use `zero_division` parameter to control this behavior.\n",
      "  _warn_prf(average, modifier, msg_start, len(result))\n",
      "<ipython-input-42-273c3866d82e>:321: RuntimeWarning: invalid value encountered in true_divide\n",
      "  print(\"DT Class Wise Accuracy : \",confuse.diagonal()/confuse.sum(axis=1))\n"
     ]
    },
    {
     "name": "stdout",
     "output_type": "stream",
     "text": [
      "DT Class Wise Accuracy :  [0.7        0.92783505 1.         1.         0.         1.\n",
      " 0.         0.33333333 0.5        0.67507886 1.         1.\n",
      " 0.87321429        nan 0.85714286 0.83333333 0.98224852 0.75919732]\n",
      "DT Time :  5.665889399999287\n"
     ]
    },
    {
     "name": "stderr",
     "output_type": "stream",
     "text": [
      "C:\\Users\\sali85\\Anaconda3\\lib\\site-packages\\sklearn\\metrics\\_classification.py:1221: UndefinedMetricWarning: Precision is ill-defined and being set to 0.0 in labels with no predicted samples. Use `zero_division` parameter to control this behavior.\n",
      "  _warn_prf(average, modifier, msg_start, len(result))\n",
      "C:\\Users\\sali85\\Anaconda3\\lib\\site-packages\\sklearn\\metrics\\_classification.py:1221: UndefinedMetricWarning: Recall is ill-defined and being set to 0.0 in labels with no true samples. Use `zero_division` parameter to control this behavior.\n",
      "  _warn_prf(average, modifier, msg_start, len(result))\n",
      "<ipython-input-42-273c3866d82e>:93: RuntimeWarning: invalid value encountered in true_divide\n",
      "  print(\"SVM Class Wise Accuracy : \",confuse.diagonal()/confuse.sum(axis=1))\n"
     ]
    },
    {
     "name": "stdout",
     "output_type": "stream",
     "text": [
      "SVM Class Wise Accuracy :  [0.96       0.96907216 1.         1.         0.         1.\n",
      " 0.         0.36111111 1.         0.65930599 1.         1.\n",
      " 0.90357143        nan 0.85714286 1.         0.99408284 0.76923077]\n",
      "SVM Time :  129.76490009999543\n"
     ]
    },
    {
     "name": "stderr",
     "output_type": "stream",
     "text": [
      "C:\\Users\\sali85\\Anaconda3\\lib\\site-packages\\sklearn\\metrics\\_classification.py:1221: UndefinedMetricWarning: Precision is ill-defined and being set to 0.0 in labels with no predicted samples. Use `zero_division` parameter to control this behavior.\n",
      "  _warn_prf(average, modifier, msg_start, len(result))\n",
      "C:\\Users\\sali85\\Anaconda3\\lib\\site-packages\\sklearn\\metrics\\_classification.py:1221: UndefinedMetricWarning: Recall is ill-defined and being set to 0.0 in labels with no true samples. Use `zero_division` parameter to control this behavior.\n",
      "  _warn_prf(average, modifier, msg_start, len(result))\n",
      "<ipython-input-42-273c3866d82e>:130: RuntimeWarning: invalid value encountered in true_divide\n",
      "  print(\"NB Class Wise Accuracy : \",confuse.diagonal()/confuse.sum(axis=1))\n"
     ]
    },
    {
     "name": "stdout",
     "output_type": "stream",
     "text": [
      "NB Class Wise Accuracy :  [0.97916667 0.98214286 1.         1.         0.94623656 0.\n",
      " 0.11111111 0.         1.         0.82943144 1.         0.2\n",
      " 0.23443223        nan 0.25       0.83333333 0.97590361        nan\n",
      " 0.84466019]\n",
      "NB Time :  5.913515099993674\n"
     ]
    },
    {
     "name": "stderr",
     "output_type": "stream",
     "text": [
      "C:\\Users\\sali85\\Anaconda3\\lib\\site-packages\\sklearn\\metrics\\_classification.py:1221: UndefinedMetricWarning: Precision is ill-defined and being set to 0.0 in labels with no predicted samples. Use `zero_division` parameter to control this behavior.\n",
      "  _warn_prf(average, modifier, msg_start, len(result))\n"
     ]
    },
    {
     "name": "stdout",
     "output_type": "stream",
     "text": [
      "MLP Class Wise Accuracy :  [0.83333333 0.99107143 1.         1.         0.95698925 0.09090909\n",
      " 0.19444444 0.         1.         0.78595318 1.         0.6\n",
      " 0.66849817 0.75       0.66666667 0.9939759  0.96116505]\n",
      "MLP Time :  42.59751750000578\n"
     ]
    },
    {
     "name": "stderr",
     "output_type": "stream",
     "text": [
      "C:\\Users\\sali85\\Anaconda3\\lib\\site-packages\\sklearn\\metrics\\_classification.py:1221: UndefinedMetricWarning: Precision is ill-defined and being set to 0.0 in labels with no predicted samples. Use `zero_division` parameter to control this behavior.\n",
      "  _warn_prf(average, modifier, msg_start, len(result))\n"
     ]
    },
    {
     "name": "stdout",
     "output_type": "stream",
     "text": [
      "KNN Class Wise Accuracy :  [0.8125     0.97321429 1.         1.         1.         0.09090909\n",
      " 0.22222222 0.         1.         0.68561873 1.         0.8\n",
      " 0.78205128 0.75       1.         0.97590361 0.82847896]\n",
      "KNN Time :  45.066302799998084\n"
     ]
    },
    {
     "name": "stderr",
     "output_type": "stream",
     "text": [
      "C:\\Users\\sali85\\Anaconda3\\lib\\site-packages\\sklearn\\metrics\\_classification.py:1221: UndefinedMetricWarning: Precision is ill-defined and being set to 0.0 in labels with no predicted samples. Use `zero_division` parameter to control this behavior.\n",
      "  _warn_prf(average, modifier, msg_start, len(result))\n"
     ]
    },
    {
     "name": "stdout",
     "output_type": "stream",
     "text": [
      "RF Class Wise Accuracy :  [0.95833333 1.         1.         1.         0.97849462 0.\n",
      " 0.22222222 0.         1.         0.72575251 1.         0.8\n",
      " 0.86813187 0.75       1.         0.9939759  0.802589  ]\n",
      "RF Time :  11.696722500004398\n"
     ]
    },
    {
     "name": "stderr",
     "output_type": "stream",
     "text": [
      "C:\\Users\\sali85\\Anaconda3\\lib\\site-packages\\sklearn\\metrics\\_classification.py:1221: UndefinedMetricWarning: Precision is ill-defined and being set to 0.0 in labels with no predicted samples. Use `zero_division` parameter to control this behavior.\n",
      "  _warn_prf(average, modifier, msg_start, len(result))\n"
     ]
    },
    {
     "name": "stdout",
     "output_type": "stream",
     "text": [
      "LR Class Wise Accuracy :  [0.95833333 1.         1.         1.         1.         0.\n",
      " 0.36111111 0.         1.         0.7090301  1.         0.8\n",
      " 0.86080586 1.         1.         0.9939759  0.89320388]\n",
      "LR Time :  34.928277300001355\n"
     ]
    },
    {
     "name": "stderr",
     "output_type": "stream",
     "text": [
      "C:\\Users\\sali85\\Anaconda3\\lib\\site-packages\\sklearn\\metrics\\_classification.py:1221: UndefinedMetricWarning: Precision is ill-defined and being set to 0.0 in labels with no predicted samples. Use `zero_division` parameter to control this behavior.\n",
      "  _warn_prf(average, modifier, msg_start, len(result))\n",
      "C:\\Users\\sali85\\Anaconda3\\lib\\site-packages\\sklearn\\metrics\\_classification.py:1221: UndefinedMetricWarning: Recall is ill-defined and being set to 0.0 in labels with no true samples. Use `zero_division` parameter to control this behavior.\n",
      "  _warn_prf(average, modifier, msg_start, len(result))\n",
      "<ipython-input-42-273c3866d82e>:321: RuntimeWarning: invalid value encountered in true_divide\n",
      "  print(\"DT Class Wise Accuracy : \",confuse.diagonal()/confuse.sum(axis=1))\n"
     ]
    }
   ],
   "source": [
    "import timeit\n",
    "\n",
    "# print(\"Accuracy   Precision   Recall   F1 (weighted)   F1 (Macro)   F1 (Micro)   ROC AUC\")\n",
    "svm_table = []\n",
    "gauu_nb_table = []\n",
    "mlp_table = []\n",
    "knn_table = []\n",
    "rf_table = []\n",
    "lr_table = []\n",
    "dt_table = []\n",
    "\n",
    "total_splits = 200\n",
    "from sklearn.model_selection import ShuffleSplit # or StratifiedShuffleSplit\n",
    "sss = ShuffleSplit(n_splits=total_splits, test_size=0.3)\n",
    "\n",
    "for w in range(total_splits):\n",
    "\n",
    "    sss.get_n_splits(X, y)\n",
    "    train_index, test_index = next(sss.split(X, y)) \n",
    "\n",
    "    X_train, X_test = X[train_index], X[test_index]\n",
    "    y_train, y_test = y[train_index], y[test_index]\n",
    "\n",
    "    start = timeit.default_timer()\n",
    "    gauu_nb_return = gaus_nb_fun(X_train,y_train,X_test,y_test)\n",
    "    stop = timeit.default_timer()\n",
    "    print(\"NB Time : \", stop - start) \n",
    "\n",
    "    start = timeit.default_timer()\n",
    "    mlp_return = mlp_fun(X_train,y_train,X_test,y_test)\n",
    "    stop = timeit.default_timer()\n",
    "    print(\"MLP Time : \", stop - start) \n",
    "\n",
    "    start = timeit.default_timer()\n",
    "    knn_return = knn_fun(X_train,y_train,X_test,y_test)\n",
    "    stop = timeit.default_timer()\n",
    "    print(\"KNN Time : \", stop - start) \n",
    "\n",
    "    start = timeit.default_timer()\n",
    "    rf_return = rf_fun(X_train,y_train,X_test,y_test)\n",
    "    stop = timeit.default_timer()\n",
    "    print(\"RF Time : \", stop - start) \n",
    "\n",
    "    start = timeit.default_timer()\n",
    "    lr_return = lr_fun(X_train,y_train,X_test,y_test)\n",
    "    stop = timeit.default_timer()\n",
    "    print(\"LR Time : \", stop - start) \n",
    "\n",
    "    start = timeit.default_timer()\n",
    "    dt_return = fun_decision_tree(X_train,y_train,X_test,y_test)\n",
    "    stop = timeit.default_timer()\n",
    "    print(\"DT Time : \", stop - start) \n",
    "\n",
    "    start = timeit.default_timer()\n",
    "    svm_return = svm_fun(X_train,y_train,X_test,y_test)\n",
    "    stop = timeit.default_timer()\n",
    "    print(\"SVM Time : \", stop - start) \n",
    "\n",
    "    gauu_nb_table.append(gauu_nb_return)\n",
    "    mlp_table.append(mlp_return)\n",
    "    knn_table.append(knn_return)\n",
    "    rf_table.append(rf_return)\n",
    "    lr_table.append(lr_return)\n",
    "    dt_table.append(dt_return)\n",
    "    svm_table.append(svm_return)\n",
    "\n",
    "svm_table_final = DataFrame(svm_table, columns=[\"Accuracy\",\"Precision\",\"Recall\",\n",
    "                                                \"F1 (weighted)\",\"F1 (Macro)\",\"F1 (Micro)\",\"ROC AUC\"])\n",
    "gauu_nb_table_final = DataFrame(gauu_nb_table, columns=[\"Accuracy\",\"Precision\",\"Recall\",\n",
    "                                                \"F1 (weighted)\",\"F1 (Macro)\",\"F1 (Micro)\",\"ROC AUC\"])\n",
    "mlp_table_final = DataFrame(mlp_table, columns=[\"Accuracy\",\"Precision\",\"Recall\",\n",
    "                                                \"F1 (weighted)\",\"F1 (Macro)\",\"F1 (Micro)\",\"ROC AUC\"])\n",
    "knn_table_final = DataFrame(knn_table, columns=[\"Accuracy\",\"Precision\",\"Recall\",\n",
    "                                                \"F1 (weighted)\",\"F1 (Macro)\",\"F1 (Micro)\",\"ROC AUC\"])\n",
    "rf_table_final = DataFrame(rf_table, columns=[\"Accuracy\",\"Precision\",\"Recall\",\n",
    "                                                \"F1 (weighted)\",\"F1 (Macro)\",\"F1 (Micro)\",\"ROC AUC\"])\n",
    "lr_table_final = DataFrame(lr_table, columns=[\"Accuracy\",\"Precision\",\"Recall\",\n",
    "                                                \"F1 (weighted)\",\"F1 (Macro)\",\"F1 (Micro)\",\"ROC AUC\"])\n",
    "\n",
    "dt_table_final = DataFrame(dt_table, columns=[\"Accuracy\",\"Precision\",\"Recall\",\n",
    "                                                \"F1 (weighted)\",\"F1 (Macro)\",\"F1 (Micro)\",\"ROC AUC\"])\n",
    "\n",
    "\n"
   ]
  },
  {
   "cell_type": "code",
   "execution_count": null,
   "metadata": {},
   "outputs": [],
   "source": [
    "#taking average of all k-fold performance values\n",
    "final_mean_mat = []\n",
    "\n",
    "final_mean_mat.append(np.transpose((list(svm_table_final.mean()))))\n",
    "final_mean_mat.append(np.transpose((list(gauu_nb_table_final.mean()))))\n",
    "final_mean_mat.append(np.transpose((list(mlp_table_final.mean()))))\n",
    "final_mean_mat.append(np.transpose((list(knn_table_final.mean()))))\n",
    "final_mean_mat.append(np.transpose((list(rf_table_final.mean()))))\n",
    "final_mean_mat.append(np.transpose((list(lr_table_final.mean()))))\n",
    "final_mean_mat.append(np.transpose((list(dt_table_final.mean()))))\n",
    "\n",
    "final_avg_mat = DataFrame(final_mean_mat,columns=[\"Accuracy\",\"Precision\",\"Recall\",\n",
    "                                                \"F1 (weighted)\",\"F1 (Macro)\",\"F1 (Micro)\",\"ROC AUC\"], \n",
    "                          index=[\"SVM\",\"NB\",\"MLP\",\"KNN\",\"RF\",\"LR\",\"DT\"])\n",
    "\n",
    "final_avg_mat"
   ]
  },
  {
   "cell_type": "code",
   "execution_count": null,
   "metadata": {},
   "outputs": [],
   "source": [
    "#taking average of all k-fold performance values\n",
    "final_mean_mat = []\n",
    "\n",
    "final_mean_mat.append(np.transpose((list(svm_table_final.max()))))\n",
    "final_mean_mat.append(np.transpose((list(gauu_nb_table_final.max()))))\n",
    "final_mean_mat.append(np.transpose((list(mlp_table_final.max()))))\n",
    "final_mean_mat.append(np.transpose((list(knn_table_final.max()))))\n",
    "final_mean_mat.append(np.transpose((list(rf_table_final.max()))))\n",
    "final_mean_mat.append(np.transpose((list(lr_table_final.max()))))\n",
    "final_mean_mat.append(np.transpose((list(dt_table_final.max()))))\n",
    "\n",
    "final_avg_mat = DataFrame(final_mean_mat,columns=[\"Accuracy\",\"Precision\",\"Recall\",\n",
    "                                                \"F1 (weighted)\",\"F1 (Macro)\",\"F1 (Micro)\",\"ROC AUC\"], \n",
    "                          index=[\"SVM\",\"NB\",\"MLP\",\"KNN\",\"RF\",\"LR\",\"DT\"])\n",
    "\n",
    "final_avg_mat"
   ]
  },
  {
   "cell_type": "code",
   "execution_count": null,
   "metadata": {},
   "outputs": [],
   "source": []
  },
  {
   "cell_type": "code",
   "execution_count": null,
   "metadata": {},
   "outputs": [],
   "source": []
  }
 ],
 "metadata": {
  "kernelspec": {
   "display_name": "Python 3",
   "language": "python",
   "name": "python3"
  },
  "language_info": {
   "codemirror_mode": {
    "name": "ipython",
    "version": 3
   },
   "file_extension": ".py",
   "mimetype": "text/x-python",
   "name": "python",
   "nbconvert_exporter": "python",
   "pygments_lexer": "ipython3",
   "version": "3.8.5"
  }
 },
 "nbformat": 4,
 "nbformat_minor": 4
}
